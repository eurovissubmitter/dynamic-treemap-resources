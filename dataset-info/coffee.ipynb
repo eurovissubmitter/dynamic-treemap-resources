{
 "cells": [
  {
   "cell_type": "markdown",
   "metadata": {
    "papermill": {
     "duration": 0.0003,
     "end_time": "2017-11-12T14:14:09.519252",
     "exception": false,
     "start_time": "2017-11-12T14:14:09.518952",
     "status": "completed"
    },
    "tags": []
   },
   "source": [
    "# Dataset analysis\n",
    "To generate results for every dataset in the `dataset` folder, run:\n",
    "```\n",
    "for dataset in $(find dataset/* -maxdepth 0 -type d); do papermill dataset-info/DatasetBase.ipynb dataset-info/$(basename $dataset).ipynb -p input_dir $dataset; done\n",
    "```"
   ]
  },
  {
   "cell_type": "code",
   "execution_count": 1,
   "metadata": {
    "papermill": {
     "duration": 0.600603,
     "end_time": "2017-11-12T14:14:10.132447",
     "exception": false,
     "start_time": "2017-11-12T14:14:09.531844",
     "status": "completed"
    },
    "tags": []
   },
   "outputs": [],
   "source": [
    "import matplotlib.pyplot as plt\n",
    "import re, os\n",
    "import papermill as pm\n",
    "%matplotlib inline"
   ]
  },
  {
   "cell_type": "code",
   "execution_count": 2,
   "metadata": {
    "papermill": {
     "duration": 0.022663,
     "end_time": "2017-11-12T14:14:10.155287",
     "exception": false,
     "start_time": "2017-11-12T14:14:10.132624",
     "status": "completed"
    },
    "tags": [
     "parameters"
    ]
   },
   "outputs": [],
   "source": [
    "# Parameters\n",
    "input_dir = \"dataset/coffee\"\n"
   ]
  },
  {
   "cell_type": "code",
   "execution_count": 3,
   "metadata": {
    "papermill": {
     "duration": 0.022597,
     "end_time": "2017-11-12T14:14:10.177971",
     "exception": false,
     "start_time": "2017-11-12T14:14:10.155374",
     "status": "completed"
    },
    "tags": []
   },
   "outputs": [],
   "source": [
    "# Make a regex to extract dataset name\n",
    "import re\n",
    "\n",
    "matchObj = re.match( r'.*/(.*)', input_dir, re.M|re.I)\n",
    "if matchObj:\n",
    "    dataset_id = matchObj.group(1)\n",
    "    dataset_id"
   ]
  },
  {
   "cell_type": "code",
   "execution_count": 4,
   "metadata": {
    "papermill": {
     "duration": 0.016971,
     "end_time": "2017-11-12T14:14:10.195028",
     "exception": false,
     "start_time": "2017-11-12T14:14:10.178057",
     "status": "completed"
    },
    "tags": []
   },
   "outputs": [],
   "source": [
    "def natural_sort(l):\n",
    "    convert = lambda text: int(text) if text.isdigit() else text.lower()\n",
    "    alphanum_key = lambda key: [convert(c) for c in re.split('([0-9]+)', key)]\n",
    "    return sorted(l, key=alphanum_key)"
   ]
  },
  {
   "cell_type": "code",
   "execution_count": 5,
   "metadata": {
    "papermill": {
     "duration": 0.027252,
     "end_time": "2017-11-12T14:14:10.222369",
     "exception": false,
     "start_time": "2017-11-12T14:14:10.195117",
     "status": "completed"
    },
    "tags": []
   },
   "outputs": [
    {
     "data": {
      "text/plain": [
       "['dataset/coffee/coffee.1.csv',\n",
       " 'dataset/coffee/coffee.2.csv',\n",
       " 'dataset/coffee/coffee.3.csv',\n",
       " 'dataset/coffee/coffee.4.csv',\n",
       " 'dataset/coffee/coffee.5.csv']"
      ]
     },
     "execution_count": 5,
     "metadata": {},
     "output_type": "execute_result"
    }
   ],
   "source": [
    "# List files in input_dir in natural order\n",
    "files = [os.path.join(input_dir, f) for f in os.listdir(input_dir) if os.path.isfile(os.path.join(input_dir, f))]\n",
    "files = natural_sort(files)\n",
    "files[0:5]"
   ]
  },
  {
   "cell_type": "code",
   "execution_count": 6,
   "metadata": {
    "papermill": {
     "duration": 0.06244,
     "end_time": "2017-11-12T14:14:10.285061",
     "exception": false,
     "start_time": "2017-11-12T14:14:10.222621",
     "status": "completed"
    },
    "tags": []
   },
   "outputs": [],
   "source": [
    "import pandas as pd\n",
    "n_revisions = len(files)\n",
    "dfs = [pd.read_csv(file) for file in files]"
   ]
  },
  {
   "cell_type": "code",
   "execution_count": 7,
   "metadata": {
    "papermill": {
     "duration": 0.018957,
     "end_time": "2017-11-12T14:14:10.304211",
     "exception": false,
     "start_time": "2017-11-12T14:14:10.285254",
     "status": "completed"
    },
    "tags": []
   },
   "outputs": [
    {
     "data": {
      "text/html": [
       "<div>\n",
       "<style scoped>\n",
       "    .dataframe tbody tr th:only-of-type {\n",
       "        vertical-align: middle;\n",
       "    }\n",
       "\n",
       "    .dataframe tbody tr th {\n",
       "        vertical-align: top;\n",
       "    }\n",
       "\n",
       "    .dataframe thead th {\n",
       "        text-align: right;\n",
       "    }\n",
       "</style>\n",
       "<table border=\"1\" class=\"dataframe\">\n",
       "  <thead>\n",
       "    <tr style=\"text-align: right;\">\n",
       "      <th></th>\n",
       "      <th>id</th>\n",
       "      <th>weight</th>\n",
       "    </tr>\n",
       "  </thead>\n",
       "  <tbody>\n",
       "    <tr>\n",
       "      <th>0</th>\n",
       "      <td>AustraliaandNewZealand/NZL</td>\n",
       "      <td>22731179.0</td>\n",
       "    </tr>\n",
       "    <tr>\n",
       "      <th>1</th>\n",
       "      <td>Asia/EasternAsia/CHN</td>\n",
       "      <td>17189981.0</td>\n",
       "    </tr>\n",
       "    <tr>\n",
       "      <th>2</th>\n",
       "      <td>Asia/EasternAsia/JPN</td>\n",
       "      <td>932472258.0</td>\n",
       "    </tr>\n",
       "    <tr>\n",
       "      <th>3</th>\n",
       "      <td>Asia/EasternAsia/KOR</td>\n",
       "      <td>146452704.0</td>\n",
       "    </tr>\n",
       "    <tr>\n",
       "      <th>4</th>\n",
       "      <td>Europe/EasternEurope/BGR</td>\n",
       "      <td>4583072.0</td>\n",
       "    </tr>\n",
       "  </tbody>\n",
       "</table>\n",
       "</div>"
      ],
      "text/plain": [
       "                           id       weight\n",
       "0  AustraliaandNewZealand/NZL   22731179.0\n",
       "1        Asia/EasternAsia/CHN   17189981.0\n",
       "2        Asia/EasternAsia/JPN  932472258.0\n",
       "3        Asia/EasternAsia/KOR  146452704.0\n",
       "4    Europe/EasternEurope/BGR    4583072.0"
      ]
     },
     "execution_count": 7,
     "metadata": {},
     "output_type": "execute_result"
    }
   ],
   "source": [
    "dfs[0].head()"
   ]
  },
  {
   "cell_type": "code",
   "execution_count": 8,
   "metadata": {
    "papermill": {
     "duration": 0.073558,
     "end_time": "2017-11-12T14:14:10.377848",
     "exception": false,
     "start_time": "2017-11-12T14:14:10.304290",
     "status": "completed"
    },
    "tags": []
   },
   "outputs": [],
   "source": [
    "from functools import reduce\n",
    "# Outer join of files  \n",
    "df_full = reduce((lambda x, y: pd.merge(x, y, how='outer', on='id')), dfs)"
   ]
  },
  {
   "cell_type": "code",
   "execution_count": 9,
   "metadata": {
    "papermill": {
     "duration": 0.024454,
     "end_time": "2017-11-12T14:14:10.402394",
     "exception": false,
     "start_time": "2017-11-12T14:14:10.377940",
     "status": "completed"
    },
    "tags": []
   },
   "outputs": [],
   "source": [
    "# Rename columns\n",
    "df_full.columns = ['id'] + ['t'+str(i) for i in range(df_full.shape[1]-1)]"
   ]
  },
  {
   "cell_type": "code",
   "execution_count": 10,
   "metadata": {
    "papermill": {
     "duration": 0.054531,
     "end_time": "2017-11-12T14:14:10.457253",
     "exception": false,
     "start_time": "2017-11-12T14:14:10.402722",
     "status": "completed"
    },
    "scrolled": true,
    "tags": []
   },
   "outputs": [
    {
     "data": {
      "text/html": [
       "<div>\n",
       "<style scoped>\n",
       "    .dataframe tbody tr th:only-of-type {\n",
       "        vertical-align: middle;\n",
       "    }\n",
       "\n",
       "    .dataframe tbody tr th {\n",
       "        vertical-align: top;\n",
       "    }\n",
       "\n",
       "    .dataframe thead th {\n",
       "        text-align: right;\n",
       "    }\n",
       "</style>\n",
       "<table border=\"1\" class=\"dataframe\">\n",
       "  <thead>\n",
       "    <tr style=\"text-align: right;\">\n",
       "      <th></th>\n",
       "      <th>id</th>\n",
       "      <th>t0</th>\n",
       "      <th>t1</th>\n",
       "      <th>t2</th>\n",
       "      <th>t3</th>\n",
       "      <th>t4</th>\n",
       "      <th>t5</th>\n",
       "      <th>t6</th>\n",
       "      <th>t7</th>\n",
       "      <th>t8</th>\n",
       "      <th>...</th>\n",
       "      <th>t10</th>\n",
       "      <th>t11</th>\n",
       "      <th>t12</th>\n",
       "      <th>t13</th>\n",
       "      <th>t14</th>\n",
       "      <th>t15</th>\n",
       "      <th>t16</th>\n",
       "      <th>t17</th>\n",
       "      <th>t18</th>\n",
       "      <th>t19</th>\n",
       "    </tr>\n",
       "  </thead>\n",
       "  <tbody>\n",
       "    <tr>\n",
       "      <th>0</th>\n",
       "      <td>AustraliaandNewZealand/NZL</td>\n",
       "      <td>22731179.0</td>\n",
       "      <td>2.790736e+07</td>\n",
       "      <td>2.742980e+07</td>\n",
       "      <td>17820580.0</td>\n",
       "      <td>14665387.0</td>\n",
       "      <td>14275778.0</td>\n",
       "      <td>12971535.0</td>\n",
       "      <td>15256936.0</td>\n",
       "      <td>16811201.0</td>\n",
       "      <td>...</td>\n",
       "      <td>2.636522e+07</td>\n",
       "      <td>3.250612e+07</td>\n",
       "      <td>3.523147e+07</td>\n",
       "      <td>3.849006e+07</td>\n",
       "      <td>4.311444e+07</td>\n",
       "      <td>6.152294e+07</td>\n",
       "      <td>6.324000e+07</td>\n",
       "      <td>5.966927e+07</td>\n",
       "      <td>6.316032e+07</td>\n",
       "      <td>6.637117e+07</td>\n",
       "    </tr>\n",
       "    <tr>\n",
       "      <th>1</th>\n",
       "      <td>Asia/EasternAsia/CHN</td>\n",
       "      <td>17189981.0</td>\n",
       "      <td>2.655893e+06</td>\n",
       "      <td>1.122358e+07</td>\n",
       "      <td>8144980.0</td>\n",
       "      <td>6181860.0</td>\n",
       "      <td>7170866.0</td>\n",
       "      <td>8457177.0</td>\n",
       "      <td>14757626.0</td>\n",
       "      <td>16149269.0</td>\n",
       "      <td>...</td>\n",
       "      <td>3.589895e+07</td>\n",
       "      <td>4.828909e+07</td>\n",
       "      <td>6.533132e+07</td>\n",
       "      <td>5.090778e+07</td>\n",
       "      <td>7.043464e+07</td>\n",
       "      <td>1.298490e+08</td>\n",
       "      <td>1.687712e+08</td>\n",
       "      <td>1.426619e+08</td>\n",
       "      <td>1.874586e+08</td>\n",
       "      <td>2.289138e+08</td>\n",
       "    </tr>\n",
       "    <tr>\n",
       "      <th>2</th>\n",
       "      <td>Asia/EasternAsia/JPN</td>\n",
       "      <td>932472258.0</td>\n",
       "      <td>1.095095e+09</td>\n",
       "      <td>1.047752e+09</td>\n",
       "      <td>863589147.0</td>\n",
       "      <td>809752599.0</td>\n",
       "      <td>576164353.0</td>\n",
       "      <td>563311536.0</td>\n",
       "      <td>577332751.0</td>\n",
       "      <td>673546557.0</td>\n",
       "      <td>...</td>\n",
       "      <td>1.021725e+09</td>\n",
       "      <td>1.066638e+09</td>\n",
       "      <td>1.267087e+09</td>\n",
       "      <td>1.152705e+09</td>\n",
       "      <td>1.405815e+09</td>\n",
       "      <td>2.059155e+09</td>\n",
       "      <td>1.698682e+09</td>\n",
       "      <td>1.586001e+09</td>\n",
       "      <td>1.442251e+09</td>\n",
       "      <td>1.581142e+09</td>\n",
       "    </tr>\n",
       "    <tr>\n",
       "      <th>3</th>\n",
       "      <td>Asia/EasternAsia/KOR</td>\n",
       "      <td>146452704.0</td>\n",
       "      <td>2.080117e+08</td>\n",
       "      <td>1.584533e+08</td>\n",
       "      <td>125355612.0</td>\n",
       "      <td>112532933.0</td>\n",
       "      <td>72249310.0</td>\n",
       "      <td>71422975.0</td>\n",
       "      <td>78597216.0</td>\n",
       "      <td>96073660.0</td>\n",
       "      <td>...</td>\n",
       "      <td>1.627364e+08</td>\n",
       "      <td>2.039336e+08</td>\n",
       "      <td>2.892545e+08</td>\n",
       "      <td>2.762836e+08</td>\n",
       "      <td>3.716120e+08</td>\n",
       "      <td>6.186261e+08</td>\n",
       "      <td>4.772063e+08</td>\n",
       "      <td>4.154791e+08</td>\n",
       "      <td>5.272869e+08</td>\n",
       "      <td>5.470540e+08</td>\n",
       "    </tr>\n",
       "    <tr>\n",
       "      <th>4</th>\n",
       "      <td>Europe/EasternEurope/BGR</td>\n",
       "      <td>4583072.0</td>\n",
       "      <td>5.817127e+06</td>\n",
       "      <td>8.136724e+06</td>\n",
       "      <td>10565989.0</td>\n",
       "      <td>12777611.0</td>\n",
       "      <td>13677407.0</td>\n",
       "      <td>12552077.0</td>\n",
       "      <td>18134648.0</td>\n",
       "      <td>20953004.0</td>\n",
       "      <td>...</td>\n",
       "      <td>3.339414e+07</td>\n",
       "      <td>4.380478e+07</td>\n",
       "      <td>8.584996e+07</td>\n",
       "      <td>7.816552e+07</td>\n",
       "      <td>7.986276e+07</td>\n",
       "      <td>9.529468e+07</td>\n",
       "      <td>1.134244e+08</td>\n",
       "      <td>1.065520e+08</td>\n",
       "      <td>1.109398e+08</td>\n",
       "      <td>1.174178e+08</td>\n",
       "    </tr>\n",
       "  </tbody>\n",
       "</table>\n",
       "<p>5 rows × 21 columns</p>\n",
       "</div>"
      ],
      "text/plain": [
       "                           id           t0            t1            t2  \\\n",
       "0  AustraliaandNewZealand/NZL   22731179.0  2.790736e+07  2.742980e+07   \n",
       "1        Asia/EasternAsia/CHN   17189981.0  2.655893e+06  1.122358e+07   \n",
       "2        Asia/EasternAsia/JPN  932472258.0  1.095095e+09  1.047752e+09   \n",
       "3        Asia/EasternAsia/KOR  146452704.0  2.080117e+08  1.584533e+08   \n",
       "4    Europe/EasternEurope/BGR    4583072.0  5.817127e+06  8.136724e+06   \n",
       "\n",
       "            t3           t4           t5           t6           t7  \\\n",
       "0   17820580.0   14665387.0   14275778.0   12971535.0   15256936.0   \n",
       "1    8144980.0    6181860.0    7170866.0    8457177.0   14757626.0   \n",
       "2  863589147.0  809752599.0  576164353.0  563311536.0  577332751.0   \n",
       "3  125355612.0  112532933.0   72249310.0   71422975.0   78597216.0   \n",
       "4   10565989.0   12777611.0   13677407.0   12552077.0   18134648.0   \n",
       "\n",
       "            t8      ...                t10           t11           t12  \\\n",
       "0   16811201.0      ...       2.636522e+07  3.250612e+07  3.523147e+07   \n",
       "1   16149269.0      ...       3.589895e+07  4.828909e+07  6.533132e+07   \n",
       "2  673546557.0      ...       1.021725e+09  1.066638e+09  1.267087e+09   \n",
       "3   96073660.0      ...       1.627364e+08  2.039336e+08  2.892545e+08   \n",
       "4   20953004.0      ...       3.339414e+07  4.380478e+07  8.584996e+07   \n",
       "\n",
       "            t13           t14           t15           t16           t17  \\\n",
       "0  3.849006e+07  4.311444e+07  6.152294e+07  6.324000e+07  5.966927e+07   \n",
       "1  5.090778e+07  7.043464e+07  1.298490e+08  1.687712e+08  1.426619e+08   \n",
       "2  1.152705e+09  1.405815e+09  2.059155e+09  1.698682e+09  1.586001e+09   \n",
       "3  2.762836e+08  3.716120e+08  6.186261e+08  4.772063e+08  4.154791e+08   \n",
       "4  7.816552e+07  7.986276e+07  9.529468e+07  1.134244e+08  1.065520e+08   \n",
       "\n",
       "            t18           t19  \n",
       "0  6.316032e+07  6.637117e+07  \n",
       "1  1.874586e+08  2.289138e+08  \n",
       "2  1.442251e+09  1.581142e+09  \n",
       "3  5.272869e+08  5.470540e+08  \n",
       "4  1.109398e+08  1.174178e+08  \n",
       "\n",
       "[5 rows x 21 columns]"
      ]
     },
     "execution_count": 10,
     "metadata": {},
     "output_type": "execute_result"
    }
   ],
   "source": [
    "df_full.head()"
   ]
  },
  {
   "cell_type": "code",
   "execution_count": 11,
   "metadata": {
    "papermill": {
     "duration": 0.376766,
     "end_time": "2017-11-12T14:14:10.834101",
     "exception": false,
     "start_time": "2017-11-12T14:14:10.457335",
     "status": "completed"
    },
    "tags": []
   },
   "outputs": [],
   "source": [
    "from collections import defaultdict\n",
    "import networkx as nx\n",
    "\n",
    "FILE_MARKER = '<files>'\n",
    "\n",
    "def attach(branch, trunk):\n",
    "    parts = branch.split('/', 1)\n",
    "    if len(parts) == 1:  # branch is a file\n",
    "        trunk[FILE_MARKER].append(parts[0])\n",
    "    else:\n",
    "        node, others = parts\n",
    "        if node not in trunk:\n",
    "            trunk[node] = defaultdict(dict, ((FILE_MARKER, []),))\n",
    "        attach(others, trunk[node])\n",
    "\n",
    "def build_adjacency_list(d, id, result):\n",
    "    for key in d.keys():\n",
    "        if key != FILE_MARKER:\n",
    "            result.append((id, id + key))\n",
    "            build_adjacency_list(d[key], id + key, result)\n",
    "        else:\n",
    "            for file in d[key]:\n",
    "                result.append((id, id + file))\n",
    "\n",
    "        \n",
    "def plot_tree(id_list):\n",
    "    \n",
    "    keys = sorted(id_list)\n",
    "\n",
    "    main_dict = defaultdict(dict, ((FILE_MARKER, []),))\n",
    "    for line in keys:\n",
    "        attach(line, main_dict)\n",
    "\n",
    "    # _create adjacency list\n",
    "    result = []\n",
    "    build_adjacency_list(main_dict, \"ROOT\", result)\n",
    "\n",
    "    G = nx.DiGraph()\n",
    "    G.add_edges_from(result)\n",
    "    # write dot file to use with graphviz\n",
    "    # run \"dot -_tpng test.dot >test.png\"\n",
    "    # nx.nx_agraph.write_dot(_g, 'test.dot')\n",
    "\n",
    "    # same layout using matplotlib with no labels\n",
    "    pos = nx.nx_agraph.graphviz_layout(G, prog='dot')\n",
    "    nx.draw(G, pos, with_labels=False, arrows=False, node_size=2)\n",
    "\n"
   ]
  },
  {
   "cell_type": "markdown",
   "metadata": {
    "papermill": {
     "duration": 1.6e-05,
     "end_time": "2017-11-12T14:14:10.834292",
     "exception": false,
     "start_time": "2017-11-12T14:14:10.834276",
     "status": "completed"
    },
    "tags": []
   },
   "source": [
    "## Union tree of all revisions"
   ]
  },
  {
   "cell_type": "code",
   "execution_count": 12,
   "metadata": {
    "papermill": {
     "duration": 0.309621,
     "end_time": "2017-11-12T14:14:11.162224",
     "exception": false,
     "start_time": "2017-11-12T14:14:10.852603",
     "status": "completed"
    },
    "scrolled": true,
    "tags": []
   },
   "outputs": [
    {
     "data": {
      "image/png": "[encoded data removed]",
      "text/plain": [
       "<matplotlib.figure.Figure at 0x7fd82bff8630>"
      ]
     },
     "metadata": {},
     "output_type": "display_data"
    }
   ],
   "source": [
    "tree_fig = plt.figure(0)\n",
    "tree_fig.suptitle(dataset_id)\n",
    "plt.axis('off')\n",
    "plot_tree(df_full['id'].tolist())\n",
    "#pm.display('tree', tree_fig)\n",
    "\n"
   ]
  },
  {
   "cell_type": "markdown",
   "metadata": {
    "papermill": {
     "duration": 2e-05,
     "end_time": "2017-11-12T14:14:11.162532",
     "exception": false,
     "start_time": "2017-11-12T14:14:11.162512",
     "status": "completed"
    },
    "tags": []
   },
   "source": [
    "# Evolution"
   ]
  },
  {
   "cell_type": "markdown",
   "metadata": {
    "papermill": {
     "duration": 2.4e-05,
     "end_time": "2017-11-12T14:14:11.183384",
     "exception": false,
     "start_time": "2017-11-12T14:14:11.183360",
     "status": "completed"
    },
    "tags": []
   },
   "source": [
    "## Items count"
   ]
  },
  {
   "cell_type": "code",
   "execution_count": 13,
   "metadata": {
    "papermill": {
     "duration": 0.248885,
     "end_time": "2017-11-12T14:14:11.464576",
     "exception": false,
     "start_time": "2017-11-12T14:14:11.215691",
     "status": "completed"
    },
    "tags": []
   },
   "outputs": [
    {
     "data": {
      "image/png": "[encoded data removed]",
      "text/plain": [
       "<matplotlib.figure.Figure at 0x7fd8265cb470>"
      ]
     },
     "metadata": {},
     "output_type": "display_data"
    }
   ],
   "source": [
    "def plot_item_count():\n",
    "    n_items = [len(df) for df in dfs]\n",
    "    plt.plot(n_items)\n",
    "\n",
    "fig = plt.figure()\n",
    "fig.suptitle(\"Item count\")\n",
    "plt.ylabel('Number of items')\n",
    "plt.xlabel('Revision')\n",
    "\n",
    "plot_item_count()"
   ]
  },
  {
   "cell_type": "markdown",
   "metadata": {
    "papermill": {
     "duration": 1.6e-05,
     "end_time": "2017-11-12T14:14:11.464782",
     "exception": false,
     "start_time": "2017-11-12T14:14:11.464766",
     "status": "completed"
    },
    "tags": []
   },
   "source": [
    "## Weight count"
   ]
  },
  {
   "cell_type": "code",
   "execution_count": 14,
   "metadata": {
    "papermill": {
     "duration": 0.255371,
     "end_time": "2017-11-12T14:14:11.749649",
     "exception": false,
     "start_time": "2017-11-12T14:14:11.494278",
     "status": "completed"
    },
    "tags": []
   },
   "outputs": [
    {
     "data": {
      "image/png": "[encoded data removed]",
      "text/plain": [
       "<matplotlib.figure.Figure at 0x7fd826568ac8>"
      ]
     },
     "metadata": {},
     "output_type": "display_data"
    }
   ],
   "source": [
    "def plot_weight():\n",
    "    total_weight = [sum(df['weight']) for df in dfs]\n",
    "    plt.plot(total_weight)\n",
    "\n",
    "fig = plt.figure()\n",
    "fig.suptitle(\"Weight evolution\")\n",
    "plt.ylabel('Total weight')\n",
    "plt.xlabel('Revision')\n",
    "plot_weight()"
   ]
  },
  {
   "cell_type": "markdown",
   "metadata": {
    "papermill": {
     "duration": 3.2e-05,
     "end_time": "2017-11-12T14:14:11.749880",
     "exception": false,
     "start_time": "2017-11-12T14:14:11.749848",
     "status": "completed"
    },
    "tags": []
   },
   "source": [
    "## Addition and removal of items"
   ]
  },
  {
   "cell_type": "code",
   "execution_count": 15,
   "metadata": {
    "papermill": {
     "duration": 0.045686,
     "end_time": "2017-11-12T14:14:11.813031",
     "exception": false,
     "start_time": "2017-11-12T14:14:11.767345",
     "status": "completed"
    },
    "tags": []
   },
   "outputs": [
    {
     "data": {
      "text/html": [
       "<div>\n",
       "<style scoped>\n",
       "    .dataframe tbody tr th:only-of-type {\n",
       "        vertical-align: middle;\n",
       "    }\n",
       "\n",
       "    .dataframe tbody tr th {\n",
       "        vertical-align: top;\n",
       "    }\n",
       "\n",
       "    .dataframe thead th {\n",
       "        text-align: right;\n",
       "    }\n",
       "</style>\n",
       "<table border=\"1\" class=\"dataframe\">\n",
       "  <thead>\n",
       "    <tr style=\"text-align: right;\">\n",
       "      <th></th>\n",
       "      <th>id</th>\n",
       "      <th>weight_x</th>\n",
       "      <th>weight_y</th>\n",
       "      <th>_merge</th>\n",
       "    </tr>\n",
       "  </thead>\n",
       "  <tbody>\n",
       "  </tbody>\n",
       "</table>\n",
       "</div>"
      ],
      "text/plain": [
       "Empty DataFrame\n",
       "Columns: [id, weight_x, weight_y, _merge]\n",
       "Index: []"
      ]
     },
     "execution_count": 15,
     "metadata": {},
     "output_type": "execute_result"
    }
   ],
   "source": [
    "# How to find removals\n",
    "pd.merge(dfs[0], dfs[1], on='id', how='outer', indicator=True).query('_merge==\"left_only\"')"
   ]
  },
  {
   "cell_type": "code",
   "execution_count": 16,
   "metadata": {
    "papermill": {
     "duration": 0.032487,
     "end_time": "2017-11-12T14:14:11.845608",
     "exception": false,
     "start_time": "2017-11-12T14:14:11.813121",
     "status": "completed"
    },
    "tags": []
   },
   "outputs": [
    {
     "data": {
      "text/html": [
       "<div>\n",
       "<style scoped>\n",
       "    .dataframe tbody tr th:only-of-type {\n",
       "        vertical-align: middle;\n",
       "    }\n",
       "\n",
       "    .dataframe tbody tr th {\n",
       "        vertical-align: top;\n",
       "    }\n",
       "\n",
       "    .dataframe thead th {\n",
       "        text-align: right;\n",
       "    }\n",
       "</style>\n",
       "<table border=\"1\" class=\"dataframe\">\n",
       "  <thead>\n",
       "    <tr style=\"text-align: right;\">\n",
       "      <th></th>\n",
       "      <th>id</th>\n",
       "      <th>weight_x</th>\n",
       "      <th>weight_y</th>\n",
       "      <th>_merge</th>\n",
       "    </tr>\n",
       "  </thead>\n",
       "  <tbody>\n",
       "  </tbody>\n",
       "</table>\n",
       "</div>"
      ],
      "text/plain": [
       "Empty DataFrame\n",
       "Columns: [id, weight_x, weight_y, _merge]\n",
       "Index: []"
      ]
     },
     "execution_count": 16,
     "metadata": {},
     "output_type": "execute_result"
    }
   ],
   "source": [
    "# How to find additions\n",
    "pd.merge(dfs[0], dfs[1], on='id', how='outer', indicator=True).query('_merge==\"right_only\"')\n",
    "# len(pd.merge...) to get the number of additions/deletions"
   ]
  },
  {
   "cell_type": "code",
   "execution_count": 17,
   "metadata": {
    "papermill": {
     "duration": 0.611775,
     "end_time": "2017-11-12T14:14:12.457472",
     "exception": false,
     "start_time": "2017-11-12T14:14:11.845697",
     "status": "completed"
    },
    "tags": []
   },
   "outputs": [
    {
     "data": {
      "text/plain": [
       "<matplotlib.text.Text at 0x7fd8264b5898>"
      ]
     },
     "execution_count": 17,
     "metadata": {},
     "output_type": "execute_result"
    },
    {
     "data": {
      "image/png": "[encoded data removed]",
      "text/plain": [
       "<matplotlib.figure.Figure at 0x7fd826533b38>"
      ]
     },
     "metadata": {},
     "output_type": "display_data"
    }
   ],
   "source": [
    "fig, ax = plt.subplots()\n",
    "\n",
    "n_additions = []\n",
    "n_removals = []\n",
    "for i in range(1, n_revisions):\n",
    "    n_additions.append(\n",
    "        len(pd.merge(dfs[i-1], dfs[i], on='id', how='outer', indicator=True)\n",
    "            .query('_merge==\"right_only\"')))\n",
    "    n_removals.append(\n",
    "        -len(pd.merge(dfs[i-1], dfs[i], on='id', how='outer', indicator=True)\n",
    "            .query('_merge==\"left_only\"')))\n",
    "x = range(0, n_revisions - 1)\n",
    "ax.bar(x ,n_additions, width=1, color='b')\n",
    "ax.bar(x, n_removals, width=1, color='r')\n",
    "\n",
    "fig.suptitle(\"Item change evolution\")\n",
    "plt.ylabel('Removals - Additions')\n",
    "plt.xlabel('Revision')\n",
    "\n"
   ]
  },
  {
   "cell_type": "markdown",
   "metadata": {
    "papermill": {
     "duration": 1.4e-05,
     "end_time": "2017-11-12T14:14:12.457652",
     "exception": false,
     "start_time": "2017-11-12T14:14:12.457638",
     "status": "completed"
    },
    "tags": []
   },
   "source": [
    "## Sum of cell's change in weight (stability)"
   ]
  },
  {
   "cell_type": "code",
   "execution_count": 18,
   "metadata": {
    "papermill": {
     "duration": 0.194686,
     "end_time": "2017-11-12T14:14:12.671547",
     "exception": false,
     "start_time": "2017-11-12T14:14:12.476861",
     "status": "completed"
    },
    "tags": []
   },
   "outputs": [
    {
     "data": {
      "text/plain": [
       "<matplotlib.text.Text at 0x7fd826421be0>"
      ]
     },
     "execution_count": 18,
     "metadata": {},
     "output_type": "execute_result"
    },
    {
     "data": {
      "image/png": "[encoded data removed]",
      "text/plain": [
       "<matplotlib.figure.Figure at 0x7fd8264b5be0>"
      ]
     },
     "metadata": {},
     "output_type": "display_data"
    }
   ],
   "source": [
    "fig = plt.figure()\n",
    "change = [0.0] * n_revisions\n",
    "for index, row in df_full.fillna(0).iterrows():\n",
    "    for j in range (2, len(row)):\n",
    "        change[j-1] += abs(row[j] - row[j-1])\n",
    "\n",
    "plt.plot(change)\n",
    "fig.suptitle(\"Instability\")\n",
    "plt.ylabel('Weight change')\n",
    "plt.xlabel('Revision')\n",
    "    "
   ]
  }
 ],
 "metadata": {
  "celltoolbar": "Tags",
  "kernelspec": {
   "display_name": "Python 2",
   "language": "python",
   "name": "python2"
  },
  "language_info": {
   "codemirror_mode": {
    "name": "ipython",
    "version": 3
   },
   "file_extension": ".py",
   "mimetype": "text/x-python",
   "name": "python",
   "nbconvert_exporter": "python",
   "pygments_lexer": "ipython3",
   "version": "3.5.2"
  },
  "papermill": {
   "duration": 5.446717,
   "end_time": "2017-11-12T14:14:13.924071",
   "environment_variables": {},
   "exception": false,
   "output_path": "dataset-info/coffee.ipynb",
   "parameters": {
    "input_dir": "dataset/coffee"
   },
   "start_time": "2017-11-12T14:14:08.477354",
   "version": "0.10.0"
  }
 },
 "nbformat": 4,
 "nbformat_minor": 1
}