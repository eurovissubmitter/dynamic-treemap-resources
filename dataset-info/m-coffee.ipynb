{
 "cells": [
  {
   "cell_type": "markdown",
   "metadata": {
    "papermill": {
     "duration": 0.000248,
     "end_time": "2017-11-12T19:47:12.787328",
     "exception": false,
     "start_time": "2017-11-12T19:47:12.787080",
     "status": "completed"
    },
    "tags": []
   },
   "source": [
    "# Dataset analysis\n",
    "To generate results for every dataset in the `dataset` folder, run:\n",
    "```\n",
    "for dataset in $(find dataset/* -maxdepth 0 -type d); do papermill dataset-info/DatasetBase.ipynb dataset-info/$(basename $dataset).ipynb -p input_dir $dataset; done\n",
    "```"
   ]
  },
  {
   "cell_type": "code",
   "execution_count": 1,
   "metadata": {
    "papermill": {
     "duration": 0.578128,
     "end_time": "2017-11-12T19:47:13.374932",
     "exception": false,
     "start_time": "2017-11-12T19:47:12.796804",
     "status": "completed"
    },
    "tags": []
   },
   "outputs": [],
   "source": [
    "import matplotlib.pyplot as plt\n",
    "import re, os\n",
    "import papermill as pm\n",
    "%matplotlib inline"
   ]
  },
  {
   "cell_type": "code",
   "execution_count": 2,
   "metadata": {
    "papermill": {
     "duration": 0.016893,
     "end_time": "2017-11-12T19:47:13.392026",
     "exception": false,
     "start_time": "2017-11-12T19:47:13.375133",
     "status": "completed"
    },
    "tags": [
     "parameters"
    ]
   },
   "outputs": [],
   "source": [
    "# Parameters\n",
    "input_dir = \"dataset/m-coffee\"\n"
   ]
  },
  {
   "cell_type": "code",
   "execution_count": 3,
   "metadata": {
    "papermill": {
     "duration": 0.022642,
     "end_time": "2017-11-12T19:47:13.414873",
     "exception": false,
     "start_time": "2017-11-12T19:47:13.392231",
     "status": "completed"
    },
    "tags": []
   },
   "outputs": [],
   "source": [
    "# Make a regex to extract dataset name\n",
    "import re\n",
    "\n",
    "matchObj = re.match( r'.*/(.*)', input_dir, re.M|re.I)\n",
    "if matchObj:\n",
    "    dataset_id = matchObj.group(1)\n",
    "    dataset_id"
   ]
  },
  {
   "cell_type": "code",
   "execution_count": 4,
   "metadata": {
    "papermill": {
     "duration": 0.016747,
     "end_time": "2017-11-12T19:47:13.431708",
     "exception": false,
     "start_time": "2017-11-12T19:47:13.414961",
     "status": "completed"
    },
    "tags": []
   },
   "outputs": [],
   "source": [
    "def natural_sort(l):\n",
    "    convert = lambda text: int(text) if text.isdigit() else text.lower()\n",
    "    alphanum_key = lambda key: [convert(c) for c in re.split('([0-9]+)', key)]\n",
    "    return sorted(l, key=alphanum_key)"
   ]
  },
  {
   "cell_type": "code",
   "execution_count": 5,
   "metadata": {
    "papermill": {
     "duration": 0.019252,
     "end_time": "2017-11-12T19:47:13.451048",
     "exception": false,
     "start_time": "2017-11-12T19:47:13.431796",
     "status": "completed"
    },
    "tags": []
   },
   "outputs": [
    {
     "data": {
      "text/plain": [
       "['dataset/m-coffee/coffee.1.csv',\n",
       " 'dataset/m-coffee/coffee.2.csv',\n",
       " 'dataset/m-coffee/coffee.3.csv',\n",
       " 'dataset/m-coffee/coffee.4.csv',\n",
       " 'dataset/m-coffee/coffee.5.csv']"
      ]
     },
     "execution_count": 5,
     "metadata": {},
     "output_type": "execute_result"
    }
   ],
   "source": [
    "# List files in input_dir in natural order\n",
    "files = [os.path.join(input_dir, f) for f in os.listdir(input_dir) if os.path.isfile(os.path.join(input_dir, f))]\n",
    "files = natural_sort(files)\n",
    "files[0:5]"
   ]
  },
  {
   "cell_type": "code",
   "execution_count": 6,
   "metadata": {
    "papermill": {
     "duration": 0.045694,
     "end_time": "2017-11-12T19:47:13.497028",
     "exception": false,
     "start_time": "2017-11-12T19:47:13.451334",
     "status": "completed"
    },
    "tags": []
   },
   "outputs": [],
   "source": [
    "import pandas as pd\n",
    "n_revisions = len(files)\n",
    "dfs = [pd.read_csv(file) for file in files]"
   ]
  },
  {
   "cell_type": "code",
   "execution_count": 7,
   "metadata": {
    "papermill": {
     "duration": 0.024614,
     "end_time": "2017-11-12T19:47:13.521870",
     "exception": false,
     "start_time": "2017-11-12T19:47:13.497256",
     "status": "completed"
    },
    "tags": []
   },
   "outputs": [
    {
     "data": {
      "text/html": [
       "<div>\n",
       "<style scoped>\n",
       "    .dataframe tbody tr th:only-of-type {\n",
       "        vertical-align: middle;\n",
       "    }\n",
       "\n",
       "    .dataframe tbody tr th {\n",
       "        vertical-align: top;\n",
       "    }\n",
       "\n",
       "    .dataframe thead th {\n",
       "        text-align: right;\n",
       "    }\n",
       "</style>\n",
       "<table border=\"1\" class=\"dataframe\">\n",
       "  <thead>\n",
       "    <tr style=\"text-align: right;\">\n",
       "      <th></th>\n",
       "      <th>id</th>\n",
       "      <th>weight</th>\n",
       "    </tr>\n",
       "  </thead>\n",
       "  <tbody>\n",
       "    <tr>\n",
       "      <th>0</th>\n",
       "      <td>AustraliaandNewZealand/NZL</td>\n",
       "      <td>22731179.0</td>\n",
       "    </tr>\n",
       "    <tr>\n",
       "      <th>1</th>\n",
       "      <td>Asia/EasternAsia/CHN</td>\n",
       "      <td>17189981.0</td>\n",
       "    </tr>\n",
       "    <tr>\n",
       "      <th>2</th>\n",
       "      <td>Asia/EasternAsia/JPN</td>\n",
       "      <td>932472258.0</td>\n",
       "    </tr>\n",
       "    <tr>\n",
       "      <th>3</th>\n",
       "      <td>Asia/EasternAsia/KOR</td>\n",
       "      <td>146452704.0</td>\n",
       "    </tr>\n",
       "    <tr>\n",
       "      <th>4</th>\n",
       "      <td>Europe/EasternEurope/BGR</td>\n",
       "      <td>4583072.0</td>\n",
       "    </tr>\n",
       "  </tbody>\n",
       "</table>\n",
       "</div>"
      ],
      "text/plain": [
       "                           id       weight\n",
       "0  AustraliaandNewZealand/NZL   22731179.0\n",
       "1        Asia/EasternAsia/CHN   17189981.0\n",
       "2        Asia/EasternAsia/JPN  932472258.0\n",
       "3        Asia/EasternAsia/KOR  146452704.0\n",
       "4    Europe/EasternEurope/BGR    4583072.0"
      ]
     },
     "execution_count": 7,
     "metadata": {},
     "output_type": "execute_result"
    }
   ],
   "source": [
    "dfs[0].head()"
   ]
  },
  {
   "cell_type": "code",
   "execution_count": 8,
   "metadata": {
    "papermill": {
     "duration": 0.068472,
     "end_time": "2017-11-12T19:47:13.590529",
     "exception": false,
     "start_time": "2017-11-12T19:47:13.522057",
     "status": "completed"
    },
    "tags": []
   },
   "outputs": [],
   "source": [
    "from functools import reduce\n",
    "# Outer join of files  \n",
    "df_full = reduce((lambda x, y: pd.merge(x, y, how='outer', on='id')), dfs)"
   ]
  },
  {
   "cell_type": "code",
   "execution_count": 9,
   "metadata": {
    "papermill": {
     "duration": 0.017074,
     "end_time": "2017-11-12T19:47:13.607695",
     "exception": false,
     "start_time": "2017-11-12T19:47:13.590621",
     "status": "completed"
    },
    "tags": []
   },
   "outputs": [],
   "source": [
    "# Rename columns\n",
    "df_full.columns = ['id'] + ['t'+str(i) for i in range(df_full.shape[1]-1)]"
   ]
  },
  {
   "cell_type": "code",
   "execution_count": 10,
   "metadata": {
    "papermill": {
     "duration": 0.046614,
     "end_time": "2017-11-12T19:47:13.654610",
     "exception": false,
     "start_time": "2017-11-12T19:47:13.607996",
     "status": "completed"
    },
    "scrolled": true,
    "tags": []
   },
   "outputs": [
    {
     "data": {
      "text/html": [
       "<div>\n",
       "<style scoped>\n",
       "    .dataframe tbody tr th:only-of-type {\n",
       "        vertical-align: middle;\n",
       "    }\n",
       "\n",
       "    .dataframe tbody tr th {\n",
       "        vertical-align: top;\n",
       "    }\n",
       "\n",
       "    .dataframe thead th {\n",
       "        text-align: right;\n",
       "    }\n",
       "</style>\n",
       "<table border=\"1\" class=\"dataframe\">\n",
       "  <thead>\n",
       "    <tr style=\"text-align: right;\">\n",
       "      <th></th>\n",
       "      <th>id</th>\n",
       "      <th>t0</th>\n",
       "      <th>t1</th>\n",
       "      <th>t2</th>\n",
       "      <th>t3</th>\n",
       "      <th>t4</th>\n",
       "      <th>t5</th>\n",
       "      <th>t6</th>\n",
       "      <th>t7</th>\n",
       "      <th>t8</th>\n",
       "      <th>...</th>\n",
       "      <th>t10</th>\n",
       "      <th>t11</th>\n",
       "      <th>t12</th>\n",
       "      <th>t13</th>\n",
       "      <th>t14</th>\n",
       "      <th>t15</th>\n",
       "      <th>t16</th>\n",
       "      <th>t17</th>\n",
       "      <th>t18</th>\n",
       "      <th>t19</th>\n",
       "    </tr>\n",
       "  </thead>\n",
       "  <tbody>\n",
       "    <tr>\n",
       "      <th>0</th>\n",
       "      <td>AustraliaandNewZealand/NZL</td>\n",
       "      <td>22731179.0</td>\n",
       "      <td>2.790736e+07</td>\n",
       "      <td>2.742980e+07</td>\n",
       "      <td>17820580.0</td>\n",
       "      <td>14665387.0</td>\n",
       "      <td>14275778.0</td>\n",
       "      <td>12971535.0</td>\n",
       "      <td>15256936.0</td>\n",
       "      <td>16811201.0</td>\n",
       "      <td>...</td>\n",
       "      <td>2.636522e+07</td>\n",
       "      <td>3.250612e+07</td>\n",
       "      <td>3.523147e+07</td>\n",
       "      <td>3.849006e+07</td>\n",
       "      <td>4.311444e+07</td>\n",
       "      <td>6.152294e+07</td>\n",
       "      <td>6.324000e+07</td>\n",
       "      <td>5.966927e+07</td>\n",
       "      <td>6.316032e+07</td>\n",
       "      <td>6.637117e+07</td>\n",
       "    </tr>\n",
       "    <tr>\n",
       "      <th>1</th>\n",
       "      <td>Asia/EasternAsia/CHN</td>\n",
       "      <td>17189981.0</td>\n",
       "      <td>2.655893e+06</td>\n",
       "      <td>1.122358e+07</td>\n",
       "      <td>8144980.0</td>\n",
       "      <td>6181860.0</td>\n",
       "      <td>7170866.0</td>\n",
       "      <td>8457177.0</td>\n",
       "      <td>14757626.0</td>\n",
       "      <td>16149269.0</td>\n",
       "      <td>...</td>\n",
       "      <td>3.589895e+07</td>\n",
       "      <td>4.828909e+07</td>\n",
       "      <td>6.533132e+07</td>\n",
       "      <td>5.090778e+07</td>\n",
       "      <td>7.043464e+07</td>\n",
       "      <td>1.298490e+08</td>\n",
       "      <td>1.687712e+08</td>\n",
       "      <td>1.426619e+08</td>\n",
       "      <td>1.874586e+08</td>\n",
       "      <td>2.289138e+08</td>\n",
       "    </tr>\n",
       "    <tr>\n",
       "      <th>2</th>\n",
       "      <td>Asia/EasternAsia/JPN</td>\n",
       "      <td>932472258.0</td>\n",
       "      <td>1.095095e+09</td>\n",
       "      <td>1.047752e+09</td>\n",
       "      <td>863589147.0</td>\n",
       "      <td>809752599.0</td>\n",
       "      <td>576164353.0</td>\n",
       "      <td>563311536.0</td>\n",
       "      <td>577332751.0</td>\n",
       "      <td>673546557.0</td>\n",
       "      <td>...</td>\n",
       "      <td>1.021725e+09</td>\n",
       "      <td>1.066638e+09</td>\n",
       "      <td>1.267087e+09</td>\n",
       "      <td>1.152705e+09</td>\n",
       "      <td>1.405815e+09</td>\n",
       "      <td>2.059155e+09</td>\n",
       "      <td>1.698682e+09</td>\n",
       "      <td>1.586001e+09</td>\n",
       "      <td>1.442251e+09</td>\n",
       "      <td>1.581142e+09</td>\n",
       "    </tr>\n",
       "    <tr>\n",
       "      <th>3</th>\n",
       "      <td>Asia/EasternAsia/KOR</td>\n",
       "      <td>146452704.0</td>\n",
       "      <td>2.080117e+08</td>\n",
       "      <td>1.584533e+08</td>\n",
       "      <td>125355612.0</td>\n",
       "      <td>112532933.0</td>\n",
       "      <td>72249310.0</td>\n",
       "      <td>71422975.0</td>\n",
       "      <td>78597216.0</td>\n",
       "      <td>96073660.0</td>\n",
       "      <td>...</td>\n",
       "      <td>1.627364e+08</td>\n",
       "      <td>2.039336e+08</td>\n",
       "      <td>2.892545e+08</td>\n",
       "      <td>2.762836e+08</td>\n",
       "      <td>3.716120e+08</td>\n",
       "      <td>6.186261e+08</td>\n",
       "      <td>4.772063e+08</td>\n",
       "      <td>4.154791e+08</td>\n",
       "      <td>5.272869e+08</td>\n",
       "      <td>5.470540e+08</td>\n",
       "    </tr>\n",
       "    <tr>\n",
       "      <th>4</th>\n",
       "      <td>Europe/EasternEurope/BGR</td>\n",
       "      <td>4583072.0</td>\n",
       "      <td>5.817127e+06</td>\n",
       "      <td>8.136724e+06</td>\n",
       "      <td>10565989.0</td>\n",
       "      <td>12777611.0</td>\n",
       "      <td>13677407.0</td>\n",
       "      <td>12552077.0</td>\n",
       "      <td>18134648.0</td>\n",
       "      <td>20953004.0</td>\n",
       "      <td>...</td>\n",
       "      <td>3.339414e+07</td>\n",
       "      <td>4.380478e+07</td>\n",
       "      <td>8.584996e+07</td>\n",
       "      <td>7.816552e+07</td>\n",
       "      <td>7.986276e+07</td>\n",
       "      <td>9.529468e+07</td>\n",
       "      <td>1.134244e+08</td>\n",
       "      <td>1.065520e+08</td>\n",
       "      <td>1.109398e+08</td>\n",
       "      <td>1.174178e+08</td>\n",
       "    </tr>\n",
       "  </tbody>\n",
       "</table>\n",
       "<p>5 rows × 21 columns</p>\n",
       "</div>"
      ],
      "text/plain": [
       "                           id           t0            t1            t2  \\\n",
       "0  AustraliaandNewZealand/NZL   22731179.0  2.790736e+07  2.742980e+07   \n",
       "1        Asia/EasternAsia/CHN   17189981.0  2.655893e+06  1.122358e+07   \n",
       "2        Asia/EasternAsia/JPN  932472258.0  1.095095e+09  1.047752e+09   \n",
       "3        Asia/EasternAsia/KOR  146452704.0  2.080117e+08  1.584533e+08   \n",
       "4    Europe/EasternEurope/BGR    4583072.0  5.817127e+06  8.136724e+06   \n",
       "\n",
       "            t3           t4           t5           t6           t7  \\\n",
       "0   17820580.0   14665387.0   14275778.0   12971535.0   15256936.0   \n",
       "1    8144980.0    6181860.0    7170866.0    8457177.0   14757626.0   \n",
       "2  863589147.0  809752599.0  576164353.0  563311536.0  577332751.0   \n",
       "3  125355612.0  112532933.0   72249310.0   71422975.0   78597216.0   \n",
       "4   10565989.0   12777611.0   13677407.0   12552077.0   18134648.0   \n",
       "\n",
       "            t8      ...                t10           t11           t12  \\\n",
       "0   16811201.0      ...       2.636522e+07  3.250612e+07  3.523147e+07   \n",
       "1   16149269.0      ...       3.589895e+07  4.828909e+07  6.533132e+07   \n",
       "2  673546557.0      ...       1.021725e+09  1.066638e+09  1.267087e+09   \n",
       "3   96073660.0      ...       1.627364e+08  2.039336e+08  2.892545e+08   \n",
       "4   20953004.0      ...       3.339414e+07  4.380478e+07  8.584996e+07   \n",
       "\n",
       "            t13           t14           t15           t16           t17  \\\n",
       "0  3.849006e+07  4.311444e+07  6.152294e+07  6.324000e+07  5.966927e+07   \n",
       "1  5.090778e+07  7.043464e+07  1.298490e+08  1.687712e+08  1.426619e+08   \n",
       "2  1.152705e+09  1.405815e+09  2.059155e+09  1.698682e+09  1.586001e+09   \n",
       "3  2.762836e+08  3.716120e+08  6.186261e+08  4.772063e+08  4.154791e+08   \n",
       "4  7.816552e+07  7.986276e+07  9.529468e+07  1.134244e+08  1.065520e+08   \n",
       "\n",
       "            t18           t19  \n",
       "0  6.316032e+07  6.637117e+07  \n",
       "1  1.874586e+08  2.289138e+08  \n",
       "2  1.442251e+09  1.581142e+09  \n",
       "3  5.272869e+08  5.470540e+08  \n",
       "4  1.109398e+08  1.174178e+08  \n",
       "\n",
       "[5 rows x 21 columns]"
      ]
     },
     "execution_count": 10,
     "metadata": {},
     "output_type": "execute_result"
    }
   ],
   "source": [
    "df_full.head()"
   ]
  },
  {
   "cell_type": "code",
   "execution_count": 11,
   "metadata": {
    "papermill": {
     "duration": 0.287643,
     "end_time": "2017-11-12T19:47:13.942334",
     "exception": false,
     "start_time": "2017-11-12T19:47:13.654691",
     "status": "completed"
    },
    "tags": []
   },
   "outputs": [],
   "source": [
    "from collections import defaultdict\n",
    "import networkx as nx\n",
    "\n",
    "FILE_MARKER = '<files>'\n",
    "\n",
    "def attach(branch, trunk):\n",
    "    parts = branch.split('/', 1)\n",
    "    if len(parts) == 1:  # branch is a file\n",
    "        trunk[FILE_MARKER].append(parts[0])\n",
    "    else:\n",
    "        node, others = parts\n",
    "        if node not in trunk:\n",
    "            trunk[node] = defaultdict(dict, ((FILE_MARKER, []),))\n",
    "        attach(others, trunk[node])\n",
    "\n",
    "def build_adjacency_list(d, id, result):\n",
    "    for key in d.keys():\n",
    "        if key != FILE_MARKER:\n",
    "            result.append((id, id + key))\n",
    "            build_adjacency_list(d[key], id + key, result)\n",
    "        else:\n",
    "            for file in d[key]:\n",
    "                result.append((id, id + file))\n",
    "\n",
    "        \n",
    "def plot_tree(id_list):\n",
    "    \n",
    "    keys = sorted(id_list)\n",
    "\n",
    "    main_dict = defaultdict(dict, ((FILE_MARKER, []),))\n",
    "    for line in keys:\n",
    "        attach(line, main_dict)\n",
    "\n",
    "    # _create adjacency list\n",
    "    result = []\n",
    "    build_adjacency_list(main_dict, \"ROOT\", result)\n",
    "\n",
    "    G = nx.DiGraph()\n",
    "    G.add_edges_from(result)\n",
    "    # write dot file to use with graphviz\n",
    "    # run \"dot -_tpng test.dot >test.png\"\n",
    "    # nx.nx_agraph.write_dot(_g, 'test.dot')\n",
    "\n",
    "    # same layout using matplotlib with no labels\n",
    "    pos = nx.nx_agraph.graphviz_layout(G, prog='dot')\n",
    "    nx.draw(G, pos, with_labels=False, arrows=False, node_size=2)\n",
    "\n"
   ]
  },
  {
   "cell_type": "markdown",
   "metadata": {
    "papermill": {
     "duration": 1.7e-05,
     "end_time": "2017-11-12T19:47:13.942529",
     "exception": false,
     "start_time": "2017-11-12T19:47:13.942512",
     "status": "completed"
    },
    "tags": []
   },
   "source": [
    "## Union tree of all revisions"
   ]
  },
  {
   "cell_type": "code",
   "execution_count": 12,
   "metadata": {
    "papermill": {
     "duration": 0.279057,
     "end_time": "2017-11-12T19:47:14.240011",
     "exception": false,
     "start_time": "2017-11-12T19:47:13.960954",
     "status": "completed"
    },
    "scrolled": true,
    "tags": []
   },
   "outputs": [
    {
     "data": {
      "image/png": "[encoded data removed]",
      "text/plain": [
       "<matplotlib.figure.Figure at 0x7f3d72674828>"
      ]
     },
     "metadata": {},
     "output_type": "display_data"
    }
   ],
   "source": [
    "tree_fig = plt.figure(0)\n",
    "tree_fig.suptitle(dataset_id)\n",
    "plt.axis('off')\n",
    "plot_tree(df_full['id'].tolist())\n",
    "#pm.display('tree', tree_fig)\n",
    "\n"
   ]
  },
  {
   "cell_type": "markdown",
   "metadata": {
    "papermill": {
     "duration": 3e-05,
     "end_time": "2017-11-12T19:47:14.240319",
     "exception": false,
     "start_time": "2017-11-12T19:47:14.240289",
     "status": "completed"
    },
    "tags": []
   },
   "source": [
    "# Evolution"
   ]
  },
  {
   "cell_type": "markdown",
   "metadata": {
    "papermill": {
     "duration": 3.2e-05,
     "end_time": "2017-11-12T19:47:14.272148",
     "exception": false,
     "start_time": "2017-11-12T19:47:14.272116",
     "status": "completed"
    },
    "tags": []
   },
   "source": [
    "## Items count"
   ]
  },
  {
   "cell_type": "code",
   "execution_count": 13,
   "metadata": {
    "papermill": {
     "duration": 0.191968,
     "end_time": "2017-11-12T19:47:14.495431",
     "exception": false,
     "start_time": "2017-11-12T19:47:14.303463",
     "status": "completed"
    },
    "tags": []
   },
   "outputs": [
    {
     "data": {
      "image/png": "[encoded data removed]",
      "text/plain": [
       "<matplotlib.figure.Figure at 0x7f3d72674cc0>"
      ]
     },
     "metadata": {},
     "output_type": "display_data"
    }
   ],
   "source": [
    "def plot_item_count():\n",
    "    n_items = [len(df) for df in dfs]\n",
    "    plt.plot(n_items)\n",
    "\n",
    "fig = plt.figure()\n",
    "fig.suptitle(\"Item count\")\n",
    "plt.ylabel('Number of items')\n",
    "plt.xlabel('Revision')\n",
    "\n",
    "plot_item_count()"
   ]
  },
  {
   "cell_type": "markdown",
   "metadata": {
    "papermill": {
     "duration": 1.7e-05,
     "end_time": "2017-11-12T19:47:14.495621",
     "exception": false,
     "start_time": "2017-11-12T19:47:14.495604",
     "status": "completed"
    },
    "tags": []
   },
   "source": [
    "## Weight count"
   ]
  },
  {
   "cell_type": "code",
   "execution_count": 14,
   "metadata": {
    "papermill": {
     "duration": 0.158324,
     "end_time": "2017-11-12T19:47:14.669574",
     "exception": false,
     "start_time": "2017-11-12T19:47:14.511250",
     "status": "completed"
    },
    "tags": []
   },
   "outputs": [
    {
     "data": {
      "image/png": "[encoded data removed]",
      "text/plain": [
       "<matplotlib.figure.Figure at 0x7f3d6cbebcf8>"
      ]
     },
     "metadata": {},
     "output_type": "display_data"
    }
   ],
   "source": [
    "def plot_weight():\n",
    "    total_weight = [sum(df['weight']) for df in dfs]\n",
    "    plt.plot(total_weight)\n",
    "\n",
    "fig = plt.figure()\n",
    "fig.suptitle(\"Weight evolution\")\n",
    "plt.ylabel('Total weight')\n",
    "plt.xlabel('Revision')\n",
    "plot_weight()"
   ]
  },
  {
   "cell_type": "markdown",
   "metadata": {
    "papermill": {
     "duration": 2.4e-05,
     "end_time": "2017-11-12T19:47:14.669780",
     "exception": false,
     "start_time": "2017-11-12T19:47:14.669756",
     "status": "completed"
    },
    "tags": []
   },
   "source": [
    "## Addition and removal of items"
   ]
  },
  {
   "cell_type": "code",
   "execution_count": 15,
   "metadata": {
    "papermill": {
     "duration": 0.042019,
     "end_time": "2017-11-12T19:47:14.728342",
     "exception": false,
     "start_time": "2017-11-12T19:47:14.686323",
     "status": "completed"
    },
    "tags": []
   },
   "outputs": [
    {
     "data": {
      "text/html": [
       "<div>\n",
       "<style scoped>\n",
       "    .dataframe tbody tr th:only-of-type {\n",
       "        vertical-align: middle;\n",
       "    }\n",
       "\n",
       "    .dataframe tbody tr th {\n",
       "        vertical-align: top;\n",
       "    }\n",
       "\n",
       "    .dataframe thead th {\n",
       "        text-align: right;\n",
       "    }\n",
       "</style>\n",
       "<table border=\"1\" class=\"dataframe\">\n",
       "  <thead>\n",
       "    <tr style=\"text-align: right;\">\n",
       "      <th></th>\n",
       "      <th>id</th>\n",
       "      <th>weight_x</th>\n",
       "      <th>weight_y</th>\n",
       "      <th>_merge</th>\n",
       "    </tr>\n",
       "  </thead>\n",
       "  <tbody>\n",
       "  </tbody>\n",
       "</table>\n",
       "</div>"
      ],
      "text/plain": [
       "Empty DataFrame\n",
       "Columns: [id, weight_x, weight_y, _merge]\n",
       "Index: []"
      ]
     },
     "execution_count": 15,
     "metadata": {},
     "output_type": "execute_result"
    }
   ],
   "source": [
    "# How to find removals\n",
    "pd.merge(dfs[0], dfs[1], on='id', how='outer', indicator=True).query('_merge==\"left_only\"')"
   ]
  },
  {
   "cell_type": "code",
   "execution_count": 16,
   "metadata": {
    "papermill": {
     "duration": 0.038403,
     "end_time": "2017-11-12T19:47:14.766833",
     "exception": false,
     "start_time": "2017-11-12T19:47:14.728430",
     "status": "completed"
    },
    "tags": []
   },
   "outputs": [
    {
     "data": {
      "text/html": [
       "<div>\n",
       "<style scoped>\n",
       "    .dataframe tbody tr th:only-of-type {\n",
       "        vertical-align: middle;\n",
       "    }\n",
       "\n",
       "    .dataframe tbody tr th {\n",
       "        vertical-align: top;\n",
       "    }\n",
       "\n",
       "    .dataframe thead th {\n",
       "        text-align: right;\n",
       "    }\n",
       "</style>\n",
       "<table border=\"1\" class=\"dataframe\">\n",
       "  <thead>\n",
       "    <tr style=\"text-align: right;\">\n",
       "      <th></th>\n",
       "      <th>id</th>\n",
       "      <th>weight_x</th>\n",
       "      <th>weight_y</th>\n",
       "      <th>_merge</th>\n",
       "    </tr>\n",
       "  </thead>\n",
       "  <tbody>\n",
       "  </tbody>\n",
       "</table>\n",
       "</div>"
      ],
      "text/plain": [
       "Empty DataFrame\n",
       "Columns: [id, weight_x, weight_y, _merge]\n",
       "Index: []"
      ]
     },
     "execution_count": 16,
     "metadata": {},
     "output_type": "execute_result"
    }
   ],
   "source": [
    "# How to find additions\n",
    "pd.merge(dfs[0], dfs[1], on='id', how='outer', indicator=True).query('_merge==\"right_only\"')\n",
    "# len(pd.merge...) to get the number of additions/deletions"
   ]
  },
  {
   "cell_type": "code",
   "execution_count": 17,
   "metadata": {
    "papermill": {
     "duration": 0.587749,
     "end_time": "2017-11-12T19:47:15.354675",
     "exception": false,
     "start_time": "2017-11-12T19:47:14.766926",
     "status": "completed"
    },
    "tags": []
   },
   "outputs": [
    {
     "data": {
      "text/plain": [
       "<matplotlib.text.Text at 0x7f3d6cb21be0>"
      ]
     },
     "execution_count": 17,
     "metadata": {},
     "output_type": "execute_result"
    },
    {
     "data": {
      "image/png": "[encoded data removed]",
      "text/plain": [
       "<matplotlib.figure.Figure at 0x7f3d6cbcd828>"
      ]
     },
     "metadata": {},
     "output_type": "display_data"
    }
   ],
   "source": [
    "fig, ax = plt.subplots()\n",
    "\n",
    "n_additions = []\n",
    "n_removals = []\n",
    "for i in range(1, n_revisions):\n",
    "    n_additions.append(\n",
    "        len(pd.merge(dfs[i-1], dfs[i], on='id', how='outer', indicator=True)\n",
    "            .query('_merge==\"right_only\"')))\n",
    "    n_removals.append(\n",
    "        -len(pd.merge(dfs[i-1], dfs[i], on='id', how='outer', indicator=True)\n",
    "            .query('_merge==\"left_only\"')))\n",
    "x = range(0, n_revisions - 1)\n",
    "ax.bar(x ,n_additions, width=1, color='b')\n",
    "ax.bar(x, n_removals, width=1, color='r')\n",
    "\n",
    "fig.suptitle(\"Item change evolution\")\n",
    "plt.ylabel('Removals - Additions')\n",
    "plt.xlabel('Revision')\n",
    "\n"
   ]
  },
  {
   "cell_type": "markdown",
   "metadata": {
    "papermill": {
     "duration": 2.2e-05,
     "end_time": "2017-11-12T19:47:15.354879",
     "exception": false,
     "start_time": "2017-11-12T19:47:15.354857",
     "status": "completed"
    },
    "tags": []
   },
   "source": [
    "## Sum of cell's change in weight (stability)"
   ]
  },
  {
   "cell_type": "code",
   "execution_count": 18,
   "metadata": {
    "papermill": {
     "duration": 0.181039,
     "end_time": "2017-11-12T19:47:15.554983",
     "exception": false,
     "start_time": "2017-11-12T19:47:15.373944",
     "status": "completed"
    },
    "tags": []
   },
   "outputs": [
    {
     "data": {
      "text/plain": [
       "<matplotlib.text.Text at 0x7f3d6ca6ff60>"
      ]
     },
     "execution_count": 18,
     "metadata": {},
     "output_type": "execute_result"
    },
    {
     "data": {
      "image/png": "[encoded data removed]",
      "text/plain": [
       "<matplotlib.figure.Figure at 0x7f3d6cbd8b38>"
      ]
     },
     "metadata": {},
     "output_type": "display_data"
    }
   ],
   "source": [
    "fig = plt.figure()\n",
    "change = [0.0] * n_revisions\n",
    "for index, row in df_full.fillna(0).iterrows():\n",
    "    for j in range (2, len(row)):\n",
    "        change[j-1] += abs(row[j] - row[j-1])\n",
    "\n",
    "plt.plot(change)\n",
    "fig.suptitle(\"Instability\")\n",
    "plt.ylabel('Weight change')\n",
    "plt.xlabel('Revision')\n",
    "    "
   ]
  }
 ],
 "metadata": {
  "celltoolbar": "Tags",
  "kernelspec": {
   "display_name": "Python 2",
   "language": "python",
   "name": "python2"
  },
  "language_info": {
   "codemirror_mode": {
    "name": "ipython",
    "version": 3
   },
   "file_extension": ".py",
   "mimetype": "text/x-python",
   "name": "python",
   "nbconvert_exporter": "python",
   "pygments_lexer": "ipython3",
   "version": "3.5.2"
  },
  "papermill": {
   "duration": 4.432561,
   "end_time": "2017-11-12T19:47:16.415602",
   "environment_variables": {},
   "exception": false,
   "output_path": "dataset-info/m-coffee.ipynb",
   "parameters": {
    "input_dir": "dataset/m-coffee"
   },
   "start_time": "2017-11-12T19:47:11.983041",
   "version": "0.10.0"
  }
 },
 "nbformat": 4,
 "nbformat_minor": 1
}