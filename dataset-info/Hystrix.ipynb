{
 "cells": [
  {
   "cell_type": "markdown",
   "metadata": {
    "papermill": {
     "duration": 0.000574,
     "end_time": "2017-11-12T19:45:52.340784",
     "exception": false,
     "start_time": "2017-11-12T19:45:52.340210",
     "status": "completed"
    },
    "tags": []
   },
   "source": [
    "# Dataset analysis\n",
    "To generate results for every dataset in the `dataset` folder, run:\n",
    "```\n",
    "for dataset in $(find dataset/* -maxdepth 0 -type d); do papermill dataset-info/DatasetBase.ipynb dataset-info/$(basename $dataset).ipynb -p input_dir $dataset; done\n",
    "```"
   ]
  },
  {
   "cell_type": "code",
   "execution_count": 1,
   "metadata": {
    "papermill": {
     "duration": 0.594636,
     "end_time": "2017-11-12T19:45:52.949250",
     "exception": false,
     "start_time": "2017-11-12T19:45:52.354614",
     "status": "completed"
    },
    "tags": []
   },
   "outputs": [],
   "source": [
    "import matplotlib.pyplot as plt\n",
    "import re, os\n",
    "import papermill as pm\n",
    "%matplotlib inline"
   ]
  },
  {
   "cell_type": "code",
   "execution_count": 2,
   "metadata": {
    "papermill": {
     "duration": 0.023203,
     "end_time": "2017-11-12T19:45:52.972625",
     "exception": false,
     "start_time": "2017-11-12T19:45:52.949422",
     "status": "completed"
    },
    "tags": [
     "parameters"
    ]
   },
   "outputs": [],
   "source": [
    "# Parameters\n",
    "input_dir = \"dataset/Hystrix\"\n"
   ]
  },
  {
   "cell_type": "code",
   "execution_count": 3,
   "metadata": {
    "papermill": {
     "duration": 0.021176,
     "end_time": "2017-11-12T19:45:52.994054",
     "exception": false,
     "start_time": "2017-11-12T19:45:52.972878",
     "status": "completed"
    },
    "tags": []
   },
   "outputs": [],
   "source": [
    "# Make a regex to extract dataset name\n",
    "import re\n",
    "\n",
    "matchObj = re.match( r'.*/(.*)', input_dir, re.M|re.I)\n",
    "if matchObj:\n",
    "    dataset_id = matchObj.group(1)\n",
    "    dataset_id"
   ]
  },
  {
   "cell_type": "code",
   "execution_count": 4,
   "metadata": {
    "papermill": {
     "duration": 0.016401,
     "end_time": "2017-11-12T19:45:53.010544",
     "exception": false,
     "start_time": "2017-11-12T19:45:52.994143",
     "status": "completed"
    },
    "tags": []
   },
   "outputs": [],
   "source": [
    "def natural_sort(l):\n",
    "    convert = lambda text: int(text) if text.isdigit() else text.lower()\n",
    "    alphanum_key = lambda key: [convert(c) for c in re.split('([0-9]+)', key)]\n",
    "    return sorted(l, key=alphanum_key)"
   ]
  },
  {
   "cell_type": "code",
   "execution_count": 5,
   "metadata": {
    "papermill": {
     "duration": 0.022717,
     "end_time": "2017-11-12T19:45:53.033503",
     "exception": false,
     "start_time": "2017-11-12T19:45:53.010786",
     "status": "completed"
    },
    "tags": []
   },
   "outputs": [
    {
     "data": {
      "text/plain": [
       "['dataset/Hystrix/2012_03_18_697fd66aae9beed107e13f49a741455f1d9d8dd9.csv',\n",
       " 'dataset/Hystrix/2012_04_13_bf5b268244d4eea430049627a734b3fa19307b3e.csv',\n",
       " 'dataset/Hystrix/2012_08_31_ddedbd72afbfbd786614983f3ffbc10e1522c6ec.csv',\n",
       " 'dataset/Hystrix/2012_09_24_a8674db7d92f5a6669b8f373205cfef52b995ba9.csv',\n",
       " 'dataset/Hystrix/2012_10_23_1cbb4d6dbe34998f4caa2cbe52c59abc8e0e4886.csv']"
      ]
     },
     "execution_count": 5,
     "metadata": {},
     "output_type": "execute_result"
    }
   ],
   "source": [
    "# List files in input_dir in natural order\n",
    "files = [os.path.join(input_dir, f) for f in os.listdir(input_dir) if os.path.isfile(os.path.join(input_dir, f))]\n",
    "files = natural_sort(files)\n",
    "files[0:5]"
   ]
  },
  {
   "cell_type": "code",
   "execution_count": 6,
   "metadata": {
    "papermill": {
     "duration": 0.169511,
     "end_time": "2017-11-12T19:45:53.203106",
     "exception": false,
     "start_time": "2017-11-12T19:45:53.033595",
     "status": "completed"
    },
    "tags": []
   },
   "outputs": [],
   "source": [
    "import pandas as pd\n",
    "n_revisions = len(files)\n",
    "dfs = [pd.read_csv(file) for file in files]"
   ]
  },
  {
   "cell_type": "code",
   "execution_count": 7,
   "metadata": {
    "papermill": {
     "duration": 0.01995,
     "end_time": "2017-11-12T19:45:53.223228",
     "exception": false,
     "start_time": "2017-11-12T19:45:53.203278",
     "status": "completed"
    },
    "tags": []
   },
   "outputs": [
    {
     "data": {
      "text/html": [
       "<div>\n",
       "<style scoped>\n",
       "    .dataframe tbody tr th:only-of-type {\n",
       "        vertical-align: middle;\n",
       "    }\n",
       "\n",
       "    .dataframe tbody tr th {\n",
       "        vertical-align: top;\n",
       "    }\n",
       "\n",
       "    .dataframe thead th {\n",
       "        text-align: right;\n",
       "    }\n",
       "</style>\n",
       "<table border=\"1\" class=\"dataframe\">\n",
       "  <thead>\n",
       "    <tr style=\"text-align: right;\">\n",
       "      <th></th>\n",
       "      <th>id</th>\n",
       "      <th>weight</th>\n",
       "    </tr>\n",
       "  </thead>\n",
       "  <tbody>\n",
       "    <tr>\n",
       "      <th>0</th>\n",
       "      <td>adlew</td>\n",
       "      <td>164</td>\n",
       "    </tr>\n",
       "    <tr>\n",
       "      <th>1</th>\n",
       "      <td>dequality/checkstyle.xml</td>\n",
       "      <td>188</td>\n",
       "    </tr>\n",
       "    <tr>\n",
       "      <th>2</th>\n",
       "      <td>adlew.bat</td>\n",
       "      <td>90</td>\n",
       "    </tr>\n",
       "    <tr>\n",
       "      <th>3</th>\n",
       "      <td>mplate-client/src/main/java/com/netflix/templa...</td>\n",
       "      <td>36</td>\n",
       "    </tr>\n",
       "    <tr>\n",
       "      <th>4</th>\n",
       "      <td>mplate-server/src/main/webapp/WEB-INF/web.xml</td>\n",
       "      <td>25</td>\n",
       "    </tr>\n",
       "  </tbody>\n",
       "</table>\n",
       "</div>"
      ],
      "text/plain": [
       "                                                  id  weight\n",
       "0                                              adlew     164\n",
       "1                           dequality/checkstyle.xml     188\n",
       "2                                          adlew.bat      90\n",
       "3  mplate-client/src/main/java/com/netflix/templa...      36\n",
       "4      mplate-server/src/main/webapp/WEB-INF/web.xml      25"
      ]
     },
     "execution_count": 7,
     "metadata": {},
     "output_type": "execute_result"
    }
   ],
   "source": [
    "dfs[0].head()"
   ]
  },
  {
   "cell_type": "code",
   "execution_count": 8,
   "metadata": {
    "papermill": {
     "duration": 0.296903,
     "end_time": "2017-11-12T19:45:53.520215",
     "exception": false,
     "start_time": "2017-11-12T19:45:53.223312",
     "status": "completed"
    },
    "tags": []
   },
   "outputs": [],
   "source": [
    "from functools import reduce\n",
    "# Outer join of files  \n",
    "df_full = reduce((lambda x, y: pd.merge(x, y, how='outer', on='id')), dfs)"
   ]
  },
  {
   "cell_type": "code",
   "execution_count": 9,
   "metadata": {
    "papermill": {
     "duration": 0.023186,
     "end_time": "2017-11-12T19:45:53.543607",
     "exception": false,
     "start_time": "2017-11-12T19:45:53.520421",
     "status": "completed"
    },
    "tags": []
   },
   "outputs": [],
   "source": [
    "# Rename columns\n",
    "df_full.columns = ['id'] + ['t'+str(i) for i in range(df_full.shape[1]-1)]"
   ]
  },
  {
   "cell_type": "code",
   "execution_count": 10,
   "metadata": {
    "papermill": {
     "duration": 0.041151,
     "end_time": "2017-11-12T19:45:53.585158",
     "exception": false,
     "start_time": "2017-11-12T19:45:53.544007",
     "status": "completed"
    },
    "scrolled": true,
    "tags": []
   },
   "outputs": [
    {
     "data": {
      "text/html": [
       "<div>\n",
       "<style scoped>\n",
       "    .dataframe tbody tr th:only-of-type {\n",
       "        vertical-align: middle;\n",
       "    }\n",
       "\n",
       "    .dataframe tbody tr th {\n",
       "        vertical-align: top;\n",
       "    }\n",
       "\n",
       "    .dataframe thead th {\n",
       "        text-align: right;\n",
       "    }\n",
       "</style>\n",
       "<table border=\"1\" class=\"dataframe\">\n",
       "  <thead>\n",
       "    <tr style=\"text-align: right;\">\n",
       "      <th></th>\n",
       "      <th>id</th>\n",
       "      <th>t0</th>\n",
       "      <th>t1</th>\n",
       "      <th>t2</th>\n",
       "      <th>t3</th>\n",
       "      <th>t4</th>\n",
       "      <th>t5</th>\n",
       "      <th>t6</th>\n",
       "      <th>t7</th>\n",
       "      <th>t8</th>\n",
       "      <th>...</th>\n",
       "      <th>t51</th>\n",
       "      <th>t52</th>\n",
       "      <th>t53</th>\n",
       "      <th>t54</th>\n",
       "      <th>t55</th>\n",
       "      <th>t56</th>\n",
       "      <th>t57</th>\n",
       "      <th>t58</th>\n",
       "      <th>t59</th>\n",
       "      <th>t60</th>\n",
       "    </tr>\n",
       "  </thead>\n",
       "  <tbody>\n",
       "    <tr>\n",
       "      <th>0</th>\n",
       "      <td>adlew</td>\n",
       "      <td>164.0</td>\n",
       "      <td>164.0</td>\n",
       "      <td>164.0</td>\n",
       "      <td>164.0</td>\n",
       "      <td>164.0</td>\n",
       "      <td>164.0</td>\n",
       "      <td>164.0</td>\n",
       "      <td>164.0</td>\n",
       "      <td>164.0</td>\n",
       "      <td>...</td>\n",
       "      <td>164.0</td>\n",
       "      <td>164.0</td>\n",
       "      <td>164.0</td>\n",
       "      <td>164.0</td>\n",
       "      <td>164.0</td>\n",
       "      <td>164.0</td>\n",
       "      <td>164.0</td>\n",
       "      <td>164.0</td>\n",
       "      <td>164.0</td>\n",
       "      <td>164.0</td>\n",
       "    </tr>\n",
       "    <tr>\n",
       "      <th>1</th>\n",
       "      <td>dequality/checkstyle.xml</td>\n",
       "      <td>188.0</td>\n",
       "      <td>189.0</td>\n",
       "      <td>189.0</td>\n",
       "      <td>189.0</td>\n",
       "      <td>189.0</td>\n",
       "      <td>189.0</td>\n",
       "      <td>189.0</td>\n",
       "      <td>189.0</td>\n",
       "      <td>189.0</td>\n",
       "      <td>...</td>\n",
       "      <td>188.0</td>\n",
       "      <td>188.0</td>\n",
       "      <td>188.0</td>\n",
       "      <td>188.0</td>\n",
       "      <td>188.0</td>\n",
       "      <td>188.0</td>\n",
       "      <td>188.0</td>\n",
       "      <td>188.0</td>\n",
       "      <td>188.0</td>\n",
       "      <td>188.0</td>\n",
       "    </tr>\n",
       "    <tr>\n",
       "      <th>2</th>\n",
       "      <td>adlew.bat</td>\n",
       "      <td>90.0</td>\n",
       "      <td>90.0</td>\n",
       "      <td>90.0</td>\n",
       "      <td>90.0</td>\n",
       "      <td>90.0</td>\n",
       "      <td>90.0</td>\n",
       "      <td>90.0</td>\n",
       "      <td>90.0</td>\n",
       "      <td>90.0</td>\n",
       "      <td>...</td>\n",
       "      <td>90.0</td>\n",
       "      <td>90.0</td>\n",
       "      <td>90.0</td>\n",
       "      <td>90.0</td>\n",
       "      <td>90.0</td>\n",
       "      <td>90.0</td>\n",
       "      <td>90.0</td>\n",
       "      <td>90.0</td>\n",
       "      <td>90.0</td>\n",
       "      <td>90.0</td>\n",
       "    </tr>\n",
       "    <tr>\n",
       "      <th>3</th>\n",
       "      <td>mplate-client/src/main/java/com/netflix/templa...</td>\n",
       "      <td>36.0</td>\n",
       "      <td>NaN</td>\n",
       "      <td>NaN</td>\n",
       "      <td>NaN</td>\n",
       "      <td>NaN</td>\n",
       "      <td>NaN</td>\n",
       "      <td>NaN</td>\n",
       "      <td>NaN</td>\n",
       "      <td>NaN</td>\n",
       "      <td>...</td>\n",
       "      <td>NaN</td>\n",
       "      <td>NaN</td>\n",
       "      <td>NaN</td>\n",
       "      <td>NaN</td>\n",
       "      <td>NaN</td>\n",
       "      <td>NaN</td>\n",
       "      <td>NaN</td>\n",
       "      <td>NaN</td>\n",
       "      <td>NaN</td>\n",
       "      <td>NaN</td>\n",
       "    </tr>\n",
       "    <tr>\n",
       "      <th>4</th>\n",
       "      <td>mplate-server/src/main/webapp/WEB-INF/web.xml</td>\n",
       "      <td>25.0</td>\n",
       "      <td>NaN</td>\n",
       "      <td>NaN</td>\n",
       "      <td>NaN</td>\n",
       "      <td>NaN</td>\n",
       "      <td>NaN</td>\n",
       "      <td>NaN</td>\n",
       "      <td>NaN</td>\n",
       "      <td>NaN</td>\n",
       "      <td>...</td>\n",
       "      <td>NaN</td>\n",
       "      <td>NaN</td>\n",
       "      <td>NaN</td>\n",
       "      <td>NaN</td>\n",
       "      <td>NaN</td>\n",
       "      <td>NaN</td>\n",
       "      <td>NaN</td>\n",
       "      <td>NaN</td>\n",
       "      <td>NaN</td>\n",
       "      <td>NaN</td>\n",
       "    </tr>\n",
       "  </tbody>\n",
       "</table>\n",
       "<p>5 rows × 62 columns</p>\n",
       "</div>"
      ],
      "text/plain": [
       "                                                  id     t0     t1     t2  \\\n",
       "0                                              adlew  164.0  164.0  164.0   \n",
       "1                           dequality/checkstyle.xml  188.0  189.0  189.0   \n",
       "2                                          adlew.bat   90.0   90.0   90.0   \n",
       "3  mplate-client/src/main/java/com/netflix/templa...   36.0    NaN    NaN   \n",
       "4      mplate-server/src/main/webapp/WEB-INF/web.xml   25.0    NaN    NaN   \n",
       "\n",
       "      t3     t4     t5     t6     t7     t8  ...      t51    t52    t53  \\\n",
       "0  164.0  164.0  164.0  164.0  164.0  164.0  ...    164.0  164.0  164.0   \n",
       "1  189.0  189.0  189.0  189.0  189.0  189.0  ...    188.0  188.0  188.0   \n",
       "2   90.0   90.0   90.0   90.0   90.0   90.0  ...     90.0   90.0   90.0   \n",
       "3    NaN    NaN    NaN    NaN    NaN    NaN  ...      NaN    NaN    NaN   \n",
       "4    NaN    NaN    NaN    NaN    NaN    NaN  ...      NaN    NaN    NaN   \n",
       "\n",
       "     t54    t55    t56    t57    t58    t59    t60  \n",
       "0  164.0  164.0  164.0  164.0  164.0  164.0  164.0  \n",
       "1  188.0  188.0  188.0  188.0  188.0  188.0  188.0  \n",
       "2   90.0   90.0   90.0   90.0   90.0   90.0   90.0  \n",
       "3    NaN    NaN    NaN    NaN    NaN    NaN    NaN  \n",
       "4    NaN    NaN    NaN    NaN    NaN    NaN    NaN  \n",
       "\n",
       "[5 rows x 62 columns]"
      ]
     },
     "execution_count": 10,
     "metadata": {},
     "output_type": "execute_result"
    }
   ],
   "source": [
    "df_full.head()"
   ]
  },
  {
   "cell_type": "code",
   "execution_count": 11,
   "metadata": {
    "papermill": {
     "duration": 0.314948,
     "end_time": "2017-11-12T19:45:53.900190",
     "exception": false,
     "start_time": "2017-11-12T19:45:53.585242",
     "status": "completed"
    },
    "tags": []
   },
   "outputs": [],
   "source": [
    "from collections import defaultdict\n",
    "import networkx as nx\n",
    "\n",
    "FILE_MARKER = '<files>'\n",
    "\n",
    "def attach(branch, trunk):\n",
    "    parts = branch.split('/', 1)\n",
    "    if len(parts) == 1:  # branch is a file\n",
    "        trunk[FILE_MARKER].append(parts[0])\n",
    "    else:\n",
    "        node, others = parts\n",
    "        if node not in trunk:\n",
    "            trunk[node] = defaultdict(dict, ((FILE_MARKER, []),))\n",
    "        attach(others, trunk[node])\n",
    "\n",
    "def build_adjacency_list(d, id, result):\n",
    "    for key in d.keys():\n",
    "        if key != FILE_MARKER:\n",
    "            result.append((id, id + key))\n",
    "            build_adjacency_list(d[key], id + key, result)\n",
    "        else:\n",
    "            for file in d[key]:\n",
    "                result.append((id, id + file))\n",
    "\n",
    "        \n",
    "def plot_tree(id_list):\n",
    "    \n",
    "    keys = sorted(id_list)\n",
    "\n",
    "    main_dict = defaultdict(dict, ((FILE_MARKER, []),))\n",
    "    for line in keys:\n",
    "        attach(line, main_dict)\n",
    "\n",
    "    # _create adjacency list\n",
    "    result = []\n",
    "    build_adjacency_list(main_dict, \"ROOT\", result)\n",
    "\n",
    "    G = nx.DiGraph()\n",
    "    G.add_edges_from(result)\n",
    "    # write dot file to use with graphviz\n",
    "    # run \"dot -_tpng test.dot >test.png\"\n",
    "    # nx.nx_agraph.write_dot(_g, 'test.dot')\n",
    "\n",
    "    # same layout using matplotlib with no labels\n",
    "    pos = nx.nx_agraph.graphviz_layout(G, prog='dot')\n",
    "    nx.draw(G, pos, with_labels=False, arrows=False, node_size=2)\n",
    "\n"
   ]
  },
  {
   "cell_type": "markdown",
   "metadata": {
    "papermill": {
     "duration": 1.8e-05,
     "end_time": "2017-11-12T19:45:53.900395",
     "exception": false,
     "start_time": "2017-11-12T19:45:53.900377",
     "status": "completed"
    },
    "tags": []
   },
   "source": [
    "## Union tree of all revisions"
   ]
  },
  {
   "cell_type": "code",
   "execution_count": 12,
   "metadata": {
    "papermill": {
     "duration": 0.67107,
     "end_time": "2017-11-12T19:45:54.589207",
     "exception": false,
     "start_time": "2017-11-12T19:45:53.918137",
     "status": "completed"
    },
    "scrolled": true,
    "tags": []
   },
   "outputs": [
    {
     "data": {
      "image/png": "[encoded data removed]",
      "text/plain": [
       "<matplotlib.figure.Figure at 0x7f2c4c5f02e8>"
      ]
     },
     "metadata": {},
     "output_type": "display_data"
    }
   ],
   "source": [
    "tree_fig = plt.figure(0)\n",
    "tree_fig.suptitle(dataset_id)\n",
    "plt.axis('off')\n",
    "plot_tree(df_full['id'].tolist())\n",
    "#pm.display('tree', tree_fig)\n",
    "\n"
   ]
  },
  {
   "cell_type": "markdown",
   "metadata": {
    "papermill": {
     "duration": 1.6e-05,
     "end_time": "2017-11-12T19:45:54.589403",
     "exception": false,
     "start_time": "2017-11-12T19:45:54.589387",
     "status": "completed"
    },
    "tags": []
   },
   "source": [
    "# Evolution"
   ]
  },
  {
   "cell_type": "markdown",
   "metadata": {
    "papermill": {
     "duration": 2e-05,
     "end_time": "2017-11-12T19:45:54.604591",
     "exception": false,
     "start_time": "2017-11-12T19:45:54.604571",
     "status": "completed"
    },
    "tags": []
   },
   "source": [
    "## Items count"
   ]
  },
  {
   "cell_type": "code",
   "execution_count": 13,
   "metadata": {
    "papermill": {
     "duration": 0.172872,
     "end_time": "2017-11-12T19:45:54.793876",
     "exception": false,
     "start_time": "2017-11-12T19:45:54.621004",
     "status": "completed"
    },
    "tags": []
   },
   "outputs": [
    {
     "data": {
      "image/png": "[encoded data removed]",
      "text/plain": [
       "<matplotlib.figure.Figure at 0x7f2c4818a278>"
      ]
     },
     "metadata": {},
     "output_type": "display_data"
    }
   ],
   "source": [
    "def plot_item_count():\n",
    "    n_items = [len(df) for df in dfs]\n",
    "    plt.plot(n_items)\n",
    "\n",
    "fig = plt.figure()\n",
    "fig.suptitle(\"Item count\")\n",
    "plt.ylabel('Number of items')\n",
    "plt.xlabel('Revision')\n",
    "\n",
    "plot_item_count()"
   ]
  },
  {
   "cell_type": "markdown",
   "metadata": {
    "papermill": {
     "duration": 1.7e-05,
     "end_time": "2017-11-12T19:45:54.794057",
     "exception": false,
     "start_time": "2017-11-12T19:45:54.794040",
     "status": "completed"
    },
    "tags": []
   },
   "source": [
    "## Weight count"
   ]
  },
  {
   "cell_type": "code",
   "execution_count": 14,
   "metadata": {
    "papermill": {
     "duration": 0.182596,
     "end_time": "2017-11-12T19:45:54.993374",
     "exception": false,
     "start_time": "2017-11-12T19:45:54.810778",
     "status": "completed"
    },
    "tags": []
   },
   "outputs": [
    {
     "data": {
      "image/png": "[encoded data removed]",
      "text/plain": [
       "<matplotlib.figure.Figure at 0x7f2c48231048>"
      ]
     },
     "metadata": {},
     "output_type": "display_data"
    }
   ],
   "source": [
    "def plot_weight():\n",
    "    total_weight = [sum(df['weight']) for df in dfs]\n",
    "    plt.plot(total_weight)\n",
    "\n",
    "fig = plt.figure()\n",
    "fig.suptitle(\"Weight evolution\")\n",
    "plt.ylabel('Total weight')\n",
    "plt.xlabel('Revision')\n",
    "plot_weight()"
   ]
  },
  {
   "cell_type": "markdown",
   "metadata": {
    "papermill": {
     "duration": 1.4e-05,
     "end_time": "2017-11-12T19:45:54.993560",
     "exception": false,
     "start_time": "2017-11-12T19:45:54.993546",
     "status": "completed"
    },
    "tags": []
   },
   "source": [
    "## Addition and removal of items"
   ]
  },
  {
   "cell_type": "code",
   "execution_count": 15,
   "metadata": {
    "papermill": {
     "duration": 0.047504,
     "end_time": "2017-11-12T19:45:55.058869",
     "exception": false,
     "start_time": "2017-11-12T19:45:55.011365",
     "status": "completed"
    },
    "tags": []
   },
   "outputs": [
    {
     "data": {
      "text/html": [
       "<div>\n",
       "<style scoped>\n",
       "    .dataframe tbody tr th:only-of-type {\n",
       "        vertical-align: middle;\n",
       "    }\n",
       "\n",
       "    .dataframe tbody tr th {\n",
       "        vertical-align: top;\n",
       "    }\n",
       "\n",
       "    .dataframe thead th {\n",
       "        text-align: right;\n",
       "    }\n",
       "</style>\n",
       "<table border=\"1\" class=\"dataframe\">\n",
       "  <thead>\n",
       "    <tr style=\"text-align: right;\">\n",
       "      <th></th>\n",
       "      <th>id</th>\n",
       "      <th>weight_x</th>\n",
       "      <th>weight_y</th>\n",
       "      <th>_merge</th>\n",
       "    </tr>\n",
       "  </thead>\n",
       "  <tbody>\n",
       "    <tr>\n",
       "      <th>3</th>\n",
       "      <td>mplate-client/src/main/java/com/netflix/templa...</td>\n",
       "      <td>36</td>\n",
       "      <td>NaN</td>\n",
       "      <td>left_only</td>\n",
       "    </tr>\n",
       "    <tr>\n",
       "      <th>4</th>\n",
       "      <td>mplate-server/src/main/webapp/WEB-INF/web.xml</td>\n",
       "      <td>25</td>\n",
       "      <td>NaN</td>\n",
       "      <td>left_only</td>\n",
       "    </tr>\n",
       "    <tr>\n",
       "      <th>5</th>\n",
       "      <td>mplate-server/src/main/java/com/netflix/templa...</td>\n",
       "      <td>26</td>\n",
       "      <td>NaN</td>\n",
       "      <td>left_only</td>\n",
       "    </tr>\n",
       "    <tr>\n",
       "      <th>6</th>\n",
       "      <td>mplate-client/src/main/java/com/netflix/templa...</td>\n",
       "      <td>25</td>\n",
       "      <td>NaN</td>\n",
       "      <td>left_only</td>\n",
       "    </tr>\n",
       "    <tr>\n",
       "      <th>7</th>\n",
       "      <td>mplate-client/src/main/java/com/netflix/templa...</td>\n",
       "      <td>6</td>\n",
       "      <td>NaN</td>\n",
       "      <td>left_only</td>\n",
       "    </tr>\n",
       "  </tbody>\n",
       "</table>\n",
       "</div>"
      ],
      "text/plain": [
       "                                                  id  weight_x  weight_y  \\\n",
       "3  mplate-client/src/main/java/com/netflix/templa...        36       NaN   \n",
       "4      mplate-server/src/main/webapp/WEB-INF/web.xml        25       NaN   \n",
       "5  mplate-server/src/main/java/com/netflix/templa...        26       NaN   \n",
       "6  mplate-client/src/main/java/com/netflix/templa...        25       NaN   \n",
       "7  mplate-client/src/main/java/com/netflix/templa...         6       NaN   \n",
       "\n",
       "      _merge  \n",
       "3  left_only  \n",
       "4  left_only  \n",
       "5  left_only  \n",
       "6  left_only  \n",
       "7  left_only  "
      ]
     },
     "execution_count": 15,
     "metadata": {},
     "output_type": "execute_result"
    }
   ],
   "source": [
    "# How to find removals\n",
    "pd.merge(dfs[0], dfs[1], on='id', how='outer', indicator=True).query('_merge==\"left_only\"')"
   ]
  },
  {
   "cell_type": "code",
   "execution_count": 16,
   "metadata": {
    "papermill": {
     "duration": 0.040352,
     "end_time": "2017-11-12T19:45:55.099307",
     "exception": false,
     "start_time": "2017-11-12T19:45:55.058955",
     "status": "completed"
    },
    "tags": []
   },
   "outputs": [
    {
     "data": {
      "text/html": [
       "<div>\n",
       "<style scoped>\n",
       "    .dataframe tbody tr th:only-of-type {\n",
       "        vertical-align: middle;\n",
       "    }\n",
       "\n",
       "    .dataframe tbody tr th {\n",
       "        vertical-align: top;\n",
       "    }\n",
       "\n",
       "    .dataframe thead th {\n",
       "        text-align: right;\n",
       "    }\n",
       "</style>\n",
       "<table border=\"1\" class=\"dataframe\">\n",
       "  <thead>\n",
       "    <tr style=\"text-align: right;\">\n",
       "      <th></th>\n",
       "      <th>id</th>\n",
       "      <th>weight_x</th>\n",
       "      <th>weight_y</th>\n",
       "      <th>_merge</th>\n",
       "    </tr>\n",
       "  </thead>\n",
       "  <tbody>\n",
       "  </tbody>\n",
       "</table>\n",
       "</div>"
      ],
      "text/plain": [
       "Empty DataFrame\n",
       "Columns: [id, weight_x, weight_y, _merge]\n",
       "Index: []"
      ]
     },
     "execution_count": 16,
     "metadata": {},
     "output_type": "execute_result"
    }
   ],
   "source": [
    "# How to find additions\n",
    "pd.merge(dfs[0], dfs[1], on='id', how='outer', indicator=True).query('_merge==\"right_only\"')\n",
    "# len(pd.merge...) to get the number of additions/deletions"
   ]
  },
  {
   "cell_type": "code",
   "execution_count": 17,
   "metadata": {
    "papermill": {
     "duration": 1.671285,
     "end_time": "2017-11-12T19:45:56.770761",
     "exception": false,
     "start_time": "2017-11-12T19:45:55.099476",
     "status": "completed"
    },
    "tags": []
   },
   "outputs": [
    {
     "data": {
      "text/plain": [
       "<matplotlib.text.Text at 0x7f2c46a4f390>"
      ]
     },
     "execution_count": 17,
     "metadata": {},
     "output_type": "execute_result"
    },
    {
     "data": {
      "image/png": "[encoded data removed]",
      "text/plain": [
       "<matplotlib.figure.Figure at 0x7f2c46aa89e8>"
      ]
     },
     "metadata": {},
     "output_type": "display_data"
    }
   ],
   "source": [
    "fig, ax = plt.subplots()\n",
    "\n",
    "n_additions = []\n",
    "n_removals = []\n",
    "for i in range(1, n_revisions):\n",
    "    n_additions.append(\n",
    "        len(pd.merge(dfs[i-1], dfs[i], on='id', how='outer', indicator=True)\n",
    "            .query('_merge==\"right_only\"')))\n",
    "    n_removals.append(\n",
    "        -len(pd.merge(dfs[i-1], dfs[i], on='id', how='outer', indicator=True)\n",
    "            .query('_merge==\"left_only\"')))\n",
    "x = range(0, n_revisions - 1)\n",
    "ax.bar(x ,n_additions, width=1, color='b')\n",
    "ax.bar(x, n_removals, width=1, color='r')\n",
    "\n",
    "fig.suptitle(\"Item change evolution\")\n",
    "plt.ylabel('Removals - Additions')\n",
    "plt.xlabel('Revision')\n",
    "\n"
   ]
  },
  {
   "cell_type": "markdown",
   "metadata": {
    "papermill": {
     "duration": 1.3e-05,
     "end_time": "2017-11-12T19:45:56.770865",
     "exception": false,
     "start_time": "2017-11-12T19:45:56.770852",
     "status": "completed"
    },
    "tags": []
   },
   "source": [
    "## Sum of cell's change in weight (stability)"
   ]
  },
  {
   "cell_type": "code",
   "execution_count": 18,
   "metadata": {
    "papermill": {
     "duration": 0.992877,
     "end_time": "2017-11-12T19:45:57.782333",
     "exception": false,
     "start_time": "2017-11-12T19:45:56.789456",
     "status": "completed"
    },
    "tags": []
   },
   "outputs": [
    {
     "data": {
      "text/plain": [
       "<matplotlib.text.Text at 0x7f2c4822c978>"
      ]
     },
     "execution_count": 18,
     "metadata": {},
     "output_type": "execute_result"
    },
    {
     "data": {
      "image/png": "[encoded data removed]",
      "text/plain": [
       "<matplotlib.figure.Figure at 0x7f2c46a5bc18>"
      ]
     },
     "metadata": {},
     "output_type": "display_data"
    }
   ],
   "source": [
    "fig = plt.figure()\n",
    "change = [0.0] * n_revisions\n",
    "for index, row in df_full.fillna(0).iterrows():\n",
    "    for j in range (2, len(row)):\n",
    "        change[j-1] += abs(row[j] - row[j-1])\n",
    "\n",
    "plt.plot(change)\n",
    "fig.suptitle(\"Instability\")\n",
    "plt.ylabel('Weight change')\n",
    "plt.xlabel('Revision')\n",
    "    "
   ]
  }
 ],
 "metadata": {
  "celltoolbar": "Tags",
  "kernelspec": {
   "display_name": "Python 2",
   "language": "python",
   "name": "python2"
  },
  "language_info": {
   "codemirror_mode": {
    "name": "ipython",
    "version": 3
   },
   "file_extension": ".py",
   "mimetype": "text/x-python",
   "name": "python",
   "nbconvert_exporter": "python",
   "pygments_lexer": "ipython3",
   "version": "3.5.2"
  },
  "papermill": {
   "duration": 7.535806,
   "end_time": "2017-11-12T19:45:58.989429",
   "environment_variables": {},
   "exception": false,
   "output_path": "dataset-info/Hystrix.ipynb",
   "parameters": {
    "input_dir": "dataset/Hystrix"
   },
   "start_time": "2017-11-12T19:45:51.453623",
   "version": "0.10.0"
  }
 },
 "nbformat": 4,
 "nbformat_minor": 1
}