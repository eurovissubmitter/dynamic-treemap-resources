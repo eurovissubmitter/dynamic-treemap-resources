{
 "cells": [
  {
   "cell_type": "markdown",
   "metadata": {
    "papermill": {
     "duration": 0.001167,
     "end_time": "2017-11-12T14:20:29.929748",
     "exception": false,
     "start_time": "2017-11-12T14:20:29.928581",
     "status": "completed"
    },
    "tags": []
   },
   "source": [
    "# Dataset analysis\n",
    "To generate results for every dataset in the `dataset` folder, run:\n",
    "```\n",
    "for dataset in $(find dataset/* -maxdepth 0 -type d); do papermill dataset-info/DatasetBase.ipynb dataset-info/$(basename $dataset).ipynb -p input_dir $dataset; done\n",
    "```"
   ]
  },
  {
   "cell_type": "code",
   "execution_count": 1,
   "metadata": {
    "papermill": {
     "duration": 0.713204,
     "end_time": "2017-11-12T14:20:30.657256",
     "exception": false,
     "start_time": "2017-11-12T14:20:29.944052",
     "status": "completed"
    },
    "tags": []
   },
   "outputs": [],
   "source": [
    "import matplotlib.pyplot as plt\n",
    "import re, os\n",
    "import papermill as pm\n",
    "%matplotlib inline"
   ]
  },
  {
   "cell_type": "code",
   "execution_count": 2,
   "metadata": {
    "papermill": {
     "duration": 0.03425,
     "end_time": "2017-11-12T14:20:30.691787",
     "exception": false,
     "start_time": "2017-11-12T14:20:30.657537",
     "status": "completed"
    },
    "tags": [
     "parameters"
    ]
   },
   "outputs": [],
   "source": [
    "# Parameters\n",
    "input_dir = \"dataset/OptiKey\"\n"
   ]
  },
  {
   "cell_type": "code",
   "execution_count": 3,
   "metadata": {
    "papermill": {
     "duration": 0.028526,
     "end_time": "2017-11-12T14:20:30.720762",
     "exception": false,
     "start_time": "2017-11-12T14:20:30.692236",
     "status": "completed"
    },
    "tags": []
   },
   "outputs": [],
   "source": [
    "# Make a regex to extract dataset name\n",
    "import re\n",
    "\n",
    "matchObj = re.match( r'.*/(.*)', input_dir, re.M|re.I)\n",
    "if matchObj:\n",
    "    dataset_id = matchObj.group(1)\n",
    "    dataset_id"
   ]
  },
  {
   "cell_type": "code",
   "execution_count": 4,
   "metadata": {
    "papermill": {
     "duration": 0.020438,
     "end_time": "2017-11-12T14:20:30.741294",
     "exception": false,
     "start_time": "2017-11-12T14:20:30.720856",
     "status": "completed"
    },
    "tags": []
   },
   "outputs": [],
   "source": [
    "def natural_sort(l):\n",
    "    convert = lambda text: int(text) if text.isdigit() else text.lower()\n",
    "    alphanum_key = lambda key: [convert(c) for c in re.split('([0-9]+)', key)]\n",
    "    return sorted(l, key=alphanum_key)"
   ]
  },
  {
   "cell_type": "code",
   "execution_count": 5,
   "metadata": {
    "papermill": {
     "duration": 0.019217,
     "end_time": "2017-11-12T14:20:30.761081",
     "exception": false,
     "start_time": "2017-11-12T14:20:30.741864",
     "status": "completed"
    },
    "tags": []
   },
   "outputs": [
    {
     "data": {
      "text/plain": [
       "['dataset/OptiKey/2014_07_31_6d1b9e040f40f1119c2e51a2ac93dde2ed404c7e.csv',\n",
       " 'dataset/OptiKey/2014_08_30_eb9fe8cd1d7b18d24052f0fe97dfa1e3729570c0.csv',\n",
       " 'dataset/OptiKey/2014_09_24_311f5f888a1d297d1aea17613e7eba3d4c25b061.csv',\n",
       " 'dataset/OptiKey/2014_10_31_9aa9ac773b9e44b3e52a2d1f735061cc503dc50c.csv',\n",
       " 'dataset/OptiKey/2014_11_30_3a125afc21d9da7326090fe90c6e4488fc3aff6c.csv']"
      ]
     },
     "execution_count": 5,
     "metadata": {},
     "output_type": "execute_result"
    }
   ],
   "source": [
    "# List files in input_dir in natural order\n",
    "files = [os.path.join(input_dir, f) for f in os.listdir(input_dir) if os.path.isfile(os.path.join(input_dir, f))]\n",
    "files = natural_sort(files)\n",
    "files[0:5]"
   ]
  },
  {
   "cell_type": "code",
   "execution_count": 6,
   "metadata": {
    "papermill": {
     "duration": 0.141411,
     "end_time": "2017-11-12T14:20:30.902663",
     "exception": false,
     "start_time": "2017-11-12T14:20:30.761252",
     "status": "completed"
    },
    "tags": []
   },
   "outputs": [],
   "source": [
    "import pandas as pd\n",
    "n_revisions = len(files)\n",
    "dfs = [pd.read_csv(file) for file in files]"
   ]
  },
  {
   "cell_type": "code",
   "execution_count": 7,
   "metadata": {
    "papermill": {
     "duration": 0.03703,
     "end_time": "2017-11-12T14:20:30.939839",
     "exception": false,
     "start_time": "2017-11-12T14:20:30.902809",
     "status": "completed"
    },
    "tags": []
   },
   "outputs": [
    {
     "data": {
      "text/html": [
       "<div>\n",
       "<style scoped>\n",
       "    .dataframe tbody tr th:only-of-type {\n",
       "        vertical-align: middle;\n",
       "    }\n",
       "\n",
       "    .dataframe tbody tr th {\n",
       "        vertical-align: top;\n",
       "    }\n",
       "\n",
       "    .dataframe thead th {\n",
       "        text-align: right;\n",
       "    }\n",
       "</style>\n",
       "<table border=\"1\" class=\"dataframe\">\n",
       "  <thead>\n",
       "    <tr style=\"text-align: right;\">\n",
       "      <th></th>\n",
       "      <th>id</th>\n",
       "      <th>weight</th>\n",
       "    </tr>\n",
       "  </thead>\n",
       "  <tbody>\n",
       "    <tr>\n",
       "      <th>0</th>\n",
       "      <td>ckages/log4net.2.0.3/lib/net40-full/log4net.xml</td>\n",
       "      <td>31814</td>\n",
       "    </tr>\n",
       "    <tr>\n",
       "      <th>1</th>\n",
       "      <td>ckages/log4net.2.0.3/lib/net40-client/log4net.xml</td>\n",
       "      <td>31609</td>\n",
       "    </tr>\n",
       "    <tr>\n",
       "      <th>2</th>\n",
       "      <td>ckages/log4net.2.0.3/lib/net20-full/log4net.xml</td>\n",
       "      <td>30771</td>\n",
       "    </tr>\n",
       "    <tr>\n",
       "      <th>3</th>\n",
       "      <td>ckages/log4net.2.0.3/lib/net11-full/log4net.xml</td>\n",
       "      <td>30548</td>\n",
       "    </tr>\n",
       "    <tr>\n",
       "      <th>4</th>\n",
       "      <td>ckages/log4net.2.0.3/lib/net10-full/log4net.xml</td>\n",
       "      <td>30525</td>\n",
       "    </tr>\n",
       "  </tbody>\n",
       "</table>\n",
       "</div>"
      ],
      "text/plain": [
       "                                                  id  weight\n",
       "0    ckages/log4net.2.0.3/lib/net40-full/log4net.xml   31814\n",
       "1  ckages/log4net.2.0.3/lib/net40-client/log4net.xml   31609\n",
       "2    ckages/log4net.2.0.3/lib/net20-full/log4net.xml   30771\n",
       "3    ckages/log4net.2.0.3/lib/net11-full/log4net.xml   30548\n",
       "4    ckages/log4net.2.0.3/lib/net10-full/log4net.xml   30525"
      ]
     },
     "execution_count": 7,
     "metadata": {},
     "output_type": "execute_result"
    }
   ],
   "source": [
    "dfs[0].head()"
   ]
  },
  {
   "cell_type": "code",
   "execution_count": 8,
   "metadata": {
    "papermill": {
     "duration": 0.321256,
     "end_time": "2017-11-12T14:20:31.261288",
     "exception": false,
     "start_time": "2017-11-12T14:20:30.940032",
     "status": "completed"
    },
    "tags": []
   },
   "outputs": [],
   "source": [
    "from functools import reduce\n",
    "# Outer join of files  \n",
    "df_full = reduce((lambda x, y: pd.merge(x, y, how='outer', on='id')), dfs)"
   ]
  },
  {
   "cell_type": "code",
   "execution_count": 9,
   "metadata": {
    "papermill": {
     "duration": 0.024763,
     "end_time": "2017-11-12T14:20:31.286142",
     "exception": false,
     "start_time": "2017-11-12T14:20:31.261379",
     "status": "completed"
    },
    "tags": []
   },
   "outputs": [],
   "source": [
    "# Rename columns\n",
    "df_full.columns = ['id'] + ['t'+str(i) for i in range(df_full.shape[1]-1)]"
   ]
  },
  {
   "cell_type": "code",
   "execution_count": 10,
   "metadata": {
    "papermill": {
     "duration": 0.085234,
     "end_time": "2017-11-12T14:20:31.371550",
     "exception": false,
     "start_time": "2017-11-12T14:20:31.286316",
     "status": "completed"
    },
    "scrolled": true,
    "tags": []
   },
   "outputs": [
    {
     "data": {
      "text/html": [
       "<div>\n",
       "<style scoped>\n",
       "    .dataframe tbody tr th:only-of-type {\n",
       "        vertical-align: middle;\n",
       "    }\n",
       "\n",
       "    .dataframe tbody tr th {\n",
       "        vertical-align: top;\n",
       "    }\n",
       "\n",
       "    .dataframe thead th {\n",
       "        text-align: right;\n",
       "    }\n",
       "</style>\n",
       "<table border=\"1\" class=\"dataframe\">\n",
       "  <thead>\n",
       "    <tr style=\"text-align: right;\">\n",
       "      <th></th>\n",
       "      <th>id</th>\n",
       "      <th>t0</th>\n",
       "      <th>t1</th>\n",
       "      <th>t2</th>\n",
       "      <th>t3</th>\n",
       "      <th>t4</th>\n",
       "      <th>t5</th>\n",
       "      <th>t6</th>\n",
       "      <th>t7</th>\n",
       "      <th>t8</th>\n",
       "      <th>...</th>\n",
       "      <th>t26</th>\n",
       "      <th>t27</th>\n",
       "      <th>t28</th>\n",
       "      <th>t29</th>\n",
       "      <th>t30</th>\n",
       "      <th>t31</th>\n",
       "      <th>t32</th>\n",
       "      <th>t33</th>\n",
       "      <th>t34</th>\n",
       "      <th>t35</th>\n",
       "    </tr>\n",
       "  </thead>\n",
       "  <tbody>\n",
       "    <tr>\n",
       "      <th>0</th>\n",
       "      <td>ckages/log4net.2.0.3/lib/net40-full/log4net.xml</td>\n",
       "      <td>31814.0</td>\n",
       "      <td>31814.0</td>\n",
       "      <td>31814.0</td>\n",
       "      <td>31814.0</td>\n",
       "      <td>31814.0</td>\n",
       "      <td>31814.0</td>\n",
       "      <td>NaN</td>\n",
       "      <td>NaN</td>\n",
       "      <td>NaN</td>\n",
       "      <td>...</td>\n",
       "      <td>NaN</td>\n",
       "      <td>NaN</td>\n",
       "      <td>NaN</td>\n",
       "      <td>NaN</td>\n",
       "      <td>NaN</td>\n",
       "      <td>NaN</td>\n",
       "      <td>NaN</td>\n",
       "      <td>NaN</td>\n",
       "      <td>NaN</td>\n",
       "      <td>NaN</td>\n",
       "    </tr>\n",
       "    <tr>\n",
       "      <th>1</th>\n",
       "      <td>ckages/log4net.2.0.3/lib/net40-client/log4net.xml</td>\n",
       "      <td>31609.0</td>\n",
       "      <td>31609.0</td>\n",
       "      <td>31609.0</td>\n",
       "      <td>31609.0</td>\n",
       "      <td>31609.0</td>\n",
       "      <td>31609.0</td>\n",
       "      <td>NaN</td>\n",
       "      <td>NaN</td>\n",
       "      <td>NaN</td>\n",
       "      <td>...</td>\n",
       "      <td>NaN</td>\n",
       "      <td>NaN</td>\n",
       "      <td>NaN</td>\n",
       "      <td>NaN</td>\n",
       "      <td>NaN</td>\n",
       "      <td>NaN</td>\n",
       "      <td>NaN</td>\n",
       "      <td>NaN</td>\n",
       "      <td>NaN</td>\n",
       "      <td>NaN</td>\n",
       "    </tr>\n",
       "    <tr>\n",
       "      <th>2</th>\n",
       "      <td>ckages/log4net.2.0.3/lib/net20-full/log4net.xml</td>\n",
       "      <td>30771.0</td>\n",
       "      <td>30771.0</td>\n",
       "      <td>30771.0</td>\n",
       "      <td>30771.0</td>\n",
       "      <td>30771.0</td>\n",
       "      <td>30771.0</td>\n",
       "      <td>NaN</td>\n",
       "      <td>NaN</td>\n",
       "      <td>NaN</td>\n",
       "      <td>...</td>\n",
       "      <td>NaN</td>\n",
       "      <td>NaN</td>\n",
       "      <td>NaN</td>\n",
       "      <td>NaN</td>\n",
       "      <td>NaN</td>\n",
       "      <td>NaN</td>\n",
       "      <td>NaN</td>\n",
       "      <td>NaN</td>\n",
       "      <td>NaN</td>\n",
       "      <td>NaN</td>\n",
       "    </tr>\n",
       "    <tr>\n",
       "      <th>3</th>\n",
       "      <td>ckages/log4net.2.0.3/lib/net11-full/log4net.xml</td>\n",
       "      <td>30548.0</td>\n",
       "      <td>30548.0</td>\n",
       "      <td>30548.0</td>\n",
       "      <td>30548.0</td>\n",
       "      <td>30548.0</td>\n",
       "      <td>30548.0</td>\n",
       "      <td>NaN</td>\n",
       "      <td>NaN</td>\n",
       "      <td>NaN</td>\n",
       "      <td>...</td>\n",
       "      <td>NaN</td>\n",
       "      <td>NaN</td>\n",
       "      <td>NaN</td>\n",
       "      <td>NaN</td>\n",
       "      <td>NaN</td>\n",
       "      <td>NaN</td>\n",
       "      <td>NaN</td>\n",
       "      <td>NaN</td>\n",
       "      <td>NaN</td>\n",
       "      <td>NaN</td>\n",
       "    </tr>\n",
       "    <tr>\n",
       "      <th>4</th>\n",
       "      <td>ckages/log4net.2.0.3/lib/net10-full/log4net.xml</td>\n",
       "      <td>30525.0</td>\n",
       "      <td>30525.0</td>\n",
       "      <td>30525.0</td>\n",
       "      <td>30525.0</td>\n",
       "      <td>30525.0</td>\n",
       "      <td>30525.0</td>\n",
       "      <td>NaN</td>\n",
       "      <td>NaN</td>\n",
       "      <td>NaN</td>\n",
       "      <td>...</td>\n",
       "      <td>NaN</td>\n",
       "      <td>NaN</td>\n",
       "      <td>NaN</td>\n",
       "      <td>NaN</td>\n",
       "      <td>NaN</td>\n",
       "      <td>NaN</td>\n",
       "      <td>NaN</td>\n",
       "      <td>NaN</td>\n",
       "      <td>NaN</td>\n",
       "      <td>NaN</td>\n",
       "    </tr>\n",
       "  </tbody>\n",
       "</table>\n",
       "<p>5 rows × 37 columns</p>\n",
       "</div>"
      ],
      "text/plain": [
       "                                                  id       t0       t1  \\\n",
       "0    ckages/log4net.2.0.3/lib/net40-full/log4net.xml  31814.0  31814.0   \n",
       "1  ckages/log4net.2.0.3/lib/net40-client/log4net.xml  31609.0  31609.0   \n",
       "2    ckages/log4net.2.0.3/lib/net20-full/log4net.xml  30771.0  30771.0   \n",
       "3    ckages/log4net.2.0.3/lib/net11-full/log4net.xml  30548.0  30548.0   \n",
       "4    ckages/log4net.2.0.3/lib/net10-full/log4net.xml  30525.0  30525.0   \n",
       "\n",
       "        t2       t3       t4       t5  t6  t7  t8 ...   t26  t27  t28  t29  \\\n",
       "0  31814.0  31814.0  31814.0  31814.0 NaN NaN NaN ...   NaN  NaN  NaN  NaN   \n",
       "1  31609.0  31609.0  31609.0  31609.0 NaN NaN NaN ...   NaN  NaN  NaN  NaN   \n",
       "2  30771.0  30771.0  30771.0  30771.0 NaN NaN NaN ...   NaN  NaN  NaN  NaN   \n",
       "3  30548.0  30548.0  30548.0  30548.0 NaN NaN NaN ...   NaN  NaN  NaN  NaN   \n",
       "4  30525.0  30525.0  30525.0  30525.0 NaN NaN NaN ...   NaN  NaN  NaN  NaN   \n",
       "\n",
       "   t30  t31  t32  t33  t34  t35  \n",
       "0  NaN  NaN  NaN  NaN  NaN  NaN  \n",
       "1  NaN  NaN  NaN  NaN  NaN  NaN  \n",
       "2  NaN  NaN  NaN  NaN  NaN  NaN  \n",
       "3  NaN  NaN  NaN  NaN  NaN  NaN  \n",
       "4  NaN  NaN  NaN  NaN  NaN  NaN  \n",
       "\n",
       "[5 rows x 37 columns]"
      ]
     },
     "execution_count": 10,
     "metadata": {},
     "output_type": "execute_result"
    }
   ],
   "source": [
    "df_full.head()"
   ]
  },
  {
   "cell_type": "code",
   "execution_count": 11,
   "metadata": {
    "papermill": {
     "duration": 0.420077,
     "end_time": "2017-11-12T14:20:31.791785",
     "exception": false,
     "start_time": "2017-11-12T14:20:31.371708",
     "status": "completed"
    },
    "tags": []
   },
   "outputs": [],
   "source": [
    "from collections import defaultdict\n",
    "import networkx as nx\n",
    "\n",
    "FILE_MARKER = '<files>'\n",
    "\n",
    "def attach(branch, trunk):\n",
    "    parts = branch.split('/', 1)\n",
    "    if len(parts) == 1:  # branch is a file\n",
    "        trunk[FILE_MARKER].append(parts[0])\n",
    "    else:\n",
    "        node, others = parts\n",
    "        if node not in trunk:\n",
    "            trunk[node] = defaultdict(dict, ((FILE_MARKER, []),))\n",
    "        attach(others, trunk[node])\n",
    "\n",
    "def build_adjacency_list(d, id, result):\n",
    "    for key in d.keys():\n",
    "        if key != FILE_MARKER:\n",
    "            result.append((id, id + key))\n",
    "            build_adjacency_list(d[key], id + key, result)\n",
    "        else:\n",
    "            for file in d[key]:\n",
    "                result.append((id, id + file))\n",
    "\n",
    "        \n",
    "def plot_tree(id_list):\n",
    "    \n",
    "    keys = sorted(id_list)\n",
    "\n",
    "    main_dict = defaultdict(dict, ((FILE_MARKER, []),))\n",
    "    for line in keys:\n",
    "        attach(line, main_dict)\n",
    "\n",
    "    # _create adjacency list\n",
    "    result = []\n",
    "    build_adjacency_list(main_dict, \"ROOT\", result)\n",
    "\n",
    "    G = nx.DiGraph()\n",
    "    G.add_edges_from(result)\n",
    "    # write dot file to use with graphviz\n",
    "    # run \"dot -_tpng test.dot >test.png\"\n",
    "    # nx.nx_agraph.write_dot(_g, 'test.dot')\n",
    "\n",
    "    # same layout using matplotlib with no labels\n",
    "    pos = nx.nx_agraph.graphviz_layout(G, prog='dot')\n",
    "    nx.draw(G, pos, with_labels=False, arrows=False, node_size=2)\n",
    "\n"
   ]
  },
  {
   "cell_type": "markdown",
   "metadata": {
    "papermill": {
     "duration": 2.7e-05,
     "end_time": "2017-11-12T14:20:31.792067",
     "exception": false,
     "start_time": "2017-11-12T14:20:31.792040",
     "status": "completed"
    },
    "tags": []
   },
   "source": [
    "## Union tree of all revisions"
   ]
  },
  {
   "cell_type": "code",
   "execution_count": 12,
   "metadata": {
    "papermill": {
     "duration": 0.913331,
     "end_time": "2017-11-12T14:20:32.726562",
     "exception": false,
     "start_time": "2017-11-12T14:20:31.813231",
     "status": "completed"
    },
    "scrolled": true,
    "tags": []
   },
   "outputs": [
    {
     "data": {
      "image/png": "[encoded data removed]",
      "text/plain": [
       "<matplotlib.figure.Figure at 0x7f86df257d30>"
      ]
     },
     "metadata": {},
     "output_type": "display_data"
    }
   ],
   "source": [
    "tree_fig = plt.figure(0)\n",
    "tree_fig.suptitle(dataset_id)\n",
    "plt.axis('off')\n",
    "plot_tree(df_full['id'].tolist())\n",
    "#pm.display('tree', tree_fig)\n",
    "\n"
   ]
  },
  {
   "cell_type": "markdown",
   "metadata": {
    "papermill": {
     "duration": 2e-05,
     "end_time": "2017-11-12T14:20:32.726754",
     "exception": false,
     "start_time": "2017-11-12T14:20:32.726734",
     "status": "completed"
    },
    "tags": []
   },
   "source": [
    "# Evolution"
   ]
  },
  {
   "cell_type": "markdown",
   "metadata": {
    "papermill": {
     "duration": 2.1e-05,
     "end_time": "2017-11-12T14:20:32.745661",
     "exception": false,
     "start_time": "2017-11-12T14:20:32.745640",
     "status": "completed"
    },
    "tags": []
   },
   "source": [
    "## Items count"
   ]
  },
  {
   "cell_type": "code",
   "execution_count": 13,
   "metadata": {
    "papermill": {
     "duration": 0.21892,
     "end_time": "2017-11-12T14:20:32.983201",
     "exception": false,
     "start_time": "2017-11-12T14:20:32.764281",
     "status": "completed"
    },
    "tags": []
   },
   "outputs": [
    {
     "data": {
      "image/png": "[encoded data removed]",
      "text/plain": [
       "<matplotlib.figure.Figure at 0x7f86d975a550>"
      ]
     },
     "metadata": {},
     "output_type": "display_data"
    }
   ],
   "source": [
    "def plot_item_count():\n",
    "    n_items = [len(df) for df in dfs]\n",
    "    plt.plot(n_items)\n",
    "\n",
    "fig = plt.figure()\n",
    "fig.suptitle(\"Item count\")\n",
    "plt.ylabel('Number of items')\n",
    "plt.xlabel('Revision')\n",
    "\n",
    "plot_item_count()"
   ]
  },
  {
   "cell_type": "markdown",
   "metadata": {
    "papermill": {
     "duration": 2.5e-05,
     "end_time": "2017-11-12T14:20:32.983426",
     "exception": false,
     "start_time": "2017-11-12T14:20:32.983401",
     "status": "completed"
    },
    "tags": []
   },
   "source": [
    "## Weight count"
   ]
  },
  {
   "cell_type": "code",
   "execution_count": 14,
   "metadata": {
    "papermill": {
     "duration": 0.198212,
     "end_time": "2017-11-12T14:20:33.213146",
     "exception": false,
     "start_time": "2017-11-12T14:20:33.014934",
     "status": "completed"
    },
    "tags": []
   },
   "outputs": [
    {
     "data": {
      "image/png": "[encoded data removed]",
      "text/plain": [
       "<matplotlib.figure.Figure at 0x7f86dae772b0>"
      ]
     },
     "metadata": {},
     "output_type": "display_data"
    }
   ],
   "source": [
    "def plot_weight():\n",
    "    total_weight = [sum(df['weight']) for df in dfs]\n",
    "    plt.plot(total_weight)\n",
    "\n",
    "fig = plt.figure()\n",
    "fig.suptitle(\"Weight evolution\")\n",
    "plt.ylabel('Total weight')\n",
    "plt.xlabel('Revision')\n",
    "plot_weight()"
   ]
  },
  {
   "cell_type": "markdown",
   "metadata": {
    "papermill": {
     "duration": 3.5e-05,
     "end_time": "2017-11-12T14:20:33.213405",
     "exception": false,
     "start_time": "2017-11-12T14:20:33.213370",
     "status": "completed"
    },
    "tags": []
   },
   "source": [
    "## Addition and removal of items"
   ]
  },
  {
   "cell_type": "code",
   "execution_count": 15,
   "metadata": {
    "papermill": {
     "duration": 0.052356,
     "end_time": "2017-11-12T14:20:33.288164",
     "exception": false,
     "start_time": "2017-11-12T14:20:33.235808",
     "status": "completed"
    },
    "tags": []
   },
   "outputs": [
    {
     "data": {
      "text/html": [
       "<div>\n",
       "<style scoped>\n",
       "    .dataframe tbody tr th:only-of-type {\n",
       "        vertical-align: middle;\n",
       "    }\n",
       "\n",
       "    .dataframe tbody tr th {\n",
       "        vertical-align: top;\n",
       "    }\n",
       "\n",
       "    .dataframe thead th {\n",
       "        text-align: right;\n",
       "    }\n",
       "</style>\n",
       "<table border=\"1\" class=\"dataframe\">\n",
       "  <thead>\n",
       "    <tr style=\"text-align: right;\">\n",
       "      <th></th>\n",
       "      <th>id</th>\n",
       "      <th>weight_x</th>\n",
       "      <th>weight_y</th>\n",
       "      <th>_merge</th>\n",
       "    </tr>\n",
       "  </thead>\n",
       "  <tbody>\n",
       "    <tr>\n",
       "      <th>15</th>\n",
       "      <td>c/UI/Views/SampleKeyboardView.xaml</td>\n",
       "      <td>719.0</td>\n",
       "      <td>NaN</td>\n",
       "      <td>left_only</td>\n",
       "    </tr>\n",
       "    <tr>\n",
       "      <th>16</th>\n",
       "      <td>c/Models/ObservableDictionary.cs</td>\n",
       "      <td>864.0</td>\n",
       "      <td>NaN</td>\n",
       "      <td>left_only</td>\n",
       "    </tr>\n",
       "    <tr>\n",
       "      <th>23</th>\n",
       "      <td>c/UI/Views/Keyboards/Alpha_English.xaml</td>\n",
       "      <td>375.0</td>\n",
       "      <td>NaN</td>\n",
       "      <td>left_only</td>\n",
       "    </tr>\n",
       "    <tr>\n",
       "      <th>36</th>\n",
       "      <td>c/UI/Styles/Key.xaml</td>\n",
       "      <td>253.0</td>\n",
       "      <td>NaN</td>\n",
       "      <td>left_only</td>\n",
       "    </tr>\n",
       "    <tr>\n",
       "      <th>42</th>\n",
       "      <td>c/UI/Views/Keyboards/Publish_English.xaml</td>\n",
       "      <td>149.0</td>\n",
       "      <td>NaN</td>\n",
       "      <td>left_only</td>\n",
       "    </tr>\n",
       "    <tr>\n",
       "      <th>48</th>\n",
       "      <td>c/UI/Styles/CircularProgressBar.xaml</td>\n",
       "      <td>124.0</td>\n",
       "      <td>NaN</td>\n",
       "      <td>left_only</td>\n",
       "    </tr>\n",
       "    <tr>\n",
       "      <th>58</th>\n",
       "      <td>c/UI/Utilities/ThemeSelector.cs</td>\n",
       "      <td>69.0</td>\n",
       "      <td>NaN</td>\n",
       "      <td>left_only</td>\n",
       "    </tr>\n",
       "    <tr>\n",
       "      <th>61</th>\n",
       "      <td>c/UI/Views/SampleKeyboardView.xaml.cs</td>\n",
       "      <td>55.0</td>\n",
       "      <td>NaN</td>\n",
       "      <td>left_only</td>\n",
       "    </tr>\n",
       "    <tr>\n",
       "      <th>69</th>\n",
       "      <td>c/Resources/Themes/Sense_Light.xaml</td>\n",
       "      <td>38.0</td>\n",
       "      <td>NaN</td>\n",
       "      <td>left_only</td>\n",
       "    </tr>\n",
       "    <tr>\n",
       "      <th>70</th>\n",
       "      <td>c/Resources/Themes/Sense_Dark.xaml</td>\n",
       "      <td>39.0</td>\n",
       "      <td>NaN</td>\n",
       "      <td>left_only</td>\n",
       "    </tr>\n",
       "    <tr>\n",
       "      <th>71</th>\n",
       "      <td>c/UI/ValueConverters/DictionaryAndKeyCombiner.cs</td>\n",
       "      <td>33.0</td>\n",
       "      <td>NaN</td>\n",
       "      <td>left_only</td>\n",
       "    </tr>\n",
       "    <tr>\n",
       "      <th>82</th>\n",
       "      <td>c/UI/ValueConverters/AllValuesAreEqual.cs</td>\n",
       "      <td>20.0</td>\n",
       "      <td>NaN</td>\n",
       "      <td>left_only</td>\n",
       "    </tr>\n",
       "    <tr>\n",
       "      <th>85</th>\n",
       "      <td>c/UI/Windows/SampleKeyboardWindow.xaml</td>\n",
       "      <td>16.0</td>\n",
       "      <td>NaN</td>\n",
       "      <td>left_only</td>\n",
       "    </tr>\n",
       "    <tr>\n",
       "      <th>89</th>\n",
       "      <td>c/UI/Behaviours/AlwaysOnTopBehavior.cs</td>\n",
       "      <td>20.0</td>\n",
       "      <td>NaN</td>\n",
       "      <td>left_only</td>\n",
       "    </tr>\n",
       "    <tr>\n",
       "      <th>91</th>\n",
       "      <td>c/UI/Views/Keyboards/Alpha_English.xaml.cs</td>\n",
       "      <td>15.0</td>\n",
       "      <td>NaN</td>\n",
       "      <td>left_only</td>\n",
       "    </tr>\n",
       "    <tr>\n",
       "      <th>93</th>\n",
       "      <td>c/UI/Views/Keyboards/Publish_English.xaml.cs</td>\n",
       "      <td>15.0</td>\n",
       "      <td>NaN</td>\n",
       "      <td>left_only</td>\n",
       "    </tr>\n",
       "    <tr>\n",
       "      <th>94</th>\n",
       "      <td>c/UI/Windows/SampleKeyboardWindow.xaml.cs</td>\n",
       "      <td>15.0</td>\n",
       "      <td>NaN</td>\n",
       "      <td>left_only</td>\n",
       "    </tr>\n",
       "    <tr>\n",
       "      <th>95</th>\n",
       "      <td>c/Resources/Themes/Colours/Sense.xaml</td>\n",
       "      <td>10.0</td>\n",
       "      <td>NaN</td>\n",
       "      <td>left_only</td>\n",
       "    </tr>\n",
       "    <tr>\n",
       "      <th>107</th>\n",
       "      <td>c/Observables/TriggerSignalSources/IFixationSo...</td>\n",
       "      <td>6.0</td>\n",
       "      <td>NaN</td>\n",
       "      <td>left_only</td>\n",
       "    </tr>\n",
       "  </tbody>\n",
       "</table>\n",
       "</div>"
      ],
      "text/plain": [
       "                                                    id  weight_x  weight_y  \\\n",
       "15                  c/UI/Views/SampleKeyboardView.xaml     719.0       NaN   \n",
       "16                    c/Models/ObservableDictionary.cs     864.0       NaN   \n",
       "23             c/UI/Views/Keyboards/Alpha_English.xaml     375.0       NaN   \n",
       "36                                c/UI/Styles/Key.xaml     253.0       NaN   \n",
       "42           c/UI/Views/Keyboards/Publish_English.xaml     149.0       NaN   \n",
       "48                c/UI/Styles/CircularProgressBar.xaml     124.0       NaN   \n",
       "58                     c/UI/Utilities/ThemeSelector.cs      69.0       NaN   \n",
       "61               c/UI/Views/SampleKeyboardView.xaml.cs      55.0       NaN   \n",
       "69                 c/Resources/Themes/Sense_Light.xaml      38.0       NaN   \n",
       "70                  c/Resources/Themes/Sense_Dark.xaml      39.0       NaN   \n",
       "71    c/UI/ValueConverters/DictionaryAndKeyCombiner.cs      33.0       NaN   \n",
       "82           c/UI/ValueConverters/AllValuesAreEqual.cs      20.0       NaN   \n",
       "85              c/UI/Windows/SampleKeyboardWindow.xaml      16.0       NaN   \n",
       "89              c/UI/Behaviours/AlwaysOnTopBehavior.cs      20.0       NaN   \n",
       "91          c/UI/Views/Keyboards/Alpha_English.xaml.cs      15.0       NaN   \n",
       "93        c/UI/Views/Keyboards/Publish_English.xaml.cs      15.0       NaN   \n",
       "94           c/UI/Windows/SampleKeyboardWindow.xaml.cs      15.0       NaN   \n",
       "95               c/Resources/Themes/Colours/Sense.xaml      10.0       NaN   \n",
       "107  c/Observables/TriggerSignalSources/IFixationSo...       6.0       NaN   \n",
       "\n",
       "        _merge  \n",
       "15   left_only  \n",
       "16   left_only  \n",
       "23   left_only  \n",
       "36   left_only  \n",
       "42   left_only  \n",
       "48   left_only  \n",
       "58   left_only  \n",
       "61   left_only  \n",
       "69   left_only  \n",
       "70   left_only  \n",
       "71   left_only  \n",
       "82   left_only  \n",
       "85   left_only  \n",
       "89   left_only  \n",
       "91   left_only  \n",
       "93   left_only  \n",
       "94   left_only  \n",
       "95   left_only  \n",
       "107  left_only  "
      ]
     },
     "execution_count": 15,
     "metadata": {},
     "output_type": "execute_result"
    }
   ],
   "source": [
    "# How to find removals\n",
    "pd.merge(dfs[0], dfs[1], on='id', how='outer', indicator=True).query('_merge==\"left_only\"')"
   ]
  },
  {
   "cell_type": "code",
   "execution_count": 16,
   "metadata": {
    "papermill": {
     "duration": 0.076886,
     "end_time": "2017-11-12T14:20:33.365137",
     "exception": false,
     "start_time": "2017-11-12T14:20:33.288251",
     "status": "completed"
    },
    "tags": []
   },
   "outputs": [
    {
     "data": {
      "text/html": [
       "<div>\n",
       "<style scoped>\n",
       "    .dataframe tbody tr th:only-of-type {\n",
       "        vertical-align: middle;\n",
       "    }\n",
       "\n",
       "    .dataframe tbody tr th {\n",
       "        vertical-align: top;\n",
       "    }\n",
       "\n",
       "    .dataframe thead th {\n",
       "        text-align: right;\n",
       "    }\n",
       "</style>\n",
       "<table border=\"1\" class=\"dataframe\">\n",
       "  <thead>\n",
       "    <tr style=\"text-align: right;\">\n",
       "      <th></th>\n",
       "      <th>id</th>\n",
       "      <th>weight_x</th>\n",
       "      <th>weight_y</th>\n",
       "      <th>_merge</th>\n",
       "    </tr>\n",
       "  </thead>\n",
       "  <tbody>\n",
       "    <tr>\n",
       "      <th>111</th>\n",
       "      <td>c/UI/Views/Keyboards/English/NumericAndSymbols...</td>\n",
       "      <td>NaN</td>\n",
       "      <td>337.0</td>\n",
       "      <td>right_only</td>\n",
       "    </tr>\n",
       "    <tr>\n",
       "      <th>112</th>\n",
       "      <td>c/UI/Views/Keyboards/English/Alpha.xaml</td>\n",
       "      <td>NaN</td>\n",
       "      <td>337.0</td>\n",
       "      <td>right_only</td>\n",
       "    </tr>\n",
       "    <tr>\n",
       "      <th>113</th>\n",
       "      <td>c/UI/Views/Keyboards/English/Symbols2.xaml</td>\n",
       "      <td>NaN</td>\n",
       "      <td>337.0</td>\n",
       "      <td>right_only</td>\n",
       "    </tr>\n",
       "    <tr>\n",
       "      <th>114</th>\n",
       "      <td>c/UI/Views/Keyboards/English/Publish.xaml</td>\n",
       "      <td>NaN</td>\n",
       "      <td>319.0</td>\n",
       "      <td>right_only</td>\n",
       "    </tr>\n",
       "    <tr>\n",
       "      <th>115</th>\n",
       "      <td>c/Resources/Themes/Android_Light.xaml</td>\n",
       "      <td>NaN</td>\n",
       "      <td>325.0</td>\n",
       "      <td>right_only</td>\n",
       "    </tr>\n",
       "    <tr>\n",
       "      <th>116</th>\n",
       "      <td>c/Resources/Themes/Android_Dark.xaml</td>\n",
       "      <td>NaN</td>\n",
       "      <td>326.0</td>\n",
       "      <td>right_only</td>\n",
       "    </tr>\n",
       "    <tr>\n",
       "      <th>117</th>\n",
       "      <td>c/UI/Views/Keyboards/English/Output.xaml</td>\n",
       "      <td>NaN</td>\n",
       "      <td>209.0</td>\n",
       "      <td>right_only</td>\n",
       "    </tr>\n",
       "    <tr>\n",
       "      <th>118</th>\n",
       "      <td>c/Models/KeyEnabledStates.cs</td>\n",
       "      <td>NaN</td>\n",
       "      <td>89.0</td>\n",
       "      <td>right_only</td>\n",
       "    </tr>\n",
       "    <tr>\n",
       "      <th>119</th>\n",
       "      <td>c/Models/KeyValueCollections.cs</td>\n",
       "      <td>NaN</td>\n",
       "      <td>66.0</td>\n",
       "      <td>right_only</td>\n",
       "    </tr>\n",
       "    <tr>\n",
       "      <th>120</th>\n",
       "      <td>c/UI/Behaviours/ScrollViewerBehaviours.cs</td>\n",
       "      <td>NaN</td>\n",
       "      <td>44.0</td>\n",
       "      <td>right_only</td>\n",
       "    </tr>\n",
       "    <tr>\n",
       "      <th>121</th>\n",
       "      <td>c/UI/Behaviours/KeyBehaviours.cs</td>\n",
       "      <td>NaN</td>\n",
       "      <td>42.0</td>\n",
       "      <td>right_only</td>\n",
       "    </tr>\n",
       "    <tr>\n",
       "      <th>122</th>\n",
       "      <td>c/UI/ValueConverters/SuggestionsPaged.cs</td>\n",
       "      <td>NaN</td>\n",
       "      <td>42.0</td>\n",
       "      <td>right_only</td>\n",
       "    </tr>\n",
       "    <tr>\n",
       "      <th>123</th>\n",
       "      <td>c/Models/NotifyingConcurrentDictionary.cs</td>\n",
       "      <td>NaN</td>\n",
       "      <td>38.0</td>\n",
       "      <td>right_only</td>\n",
       "    </tr>\n",
       "    <tr>\n",
       "      <th>124</th>\n",
       "      <td>c/UI/ValueConverters/LengthDividedBySpan.cs</td>\n",
       "      <td>NaN</td>\n",
       "      <td>37.0</td>\n",
       "      <td>right_only</td>\n",
       "    </tr>\n",
       "    <tr>\n",
       "      <th>125</th>\n",
       "      <td>c/Extensions/UiElementExtensions.cs</td>\n",
       "      <td>NaN</td>\n",
       "      <td>29.0</td>\n",
       "      <td>right_only</td>\n",
       "    </tr>\n",
       "    <tr>\n",
       "      <th>126</th>\n",
       "      <td>c/Extensions/PropertyExtensions.cs</td>\n",
       "      <td>NaN</td>\n",
       "      <td>33.0</td>\n",
       "      <td>right_only</td>\n",
       "    </tr>\n",
       "    <tr>\n",
       "      <th>127</th>\n",
       "      <td>c/UI/Views/Keyboards/English/Output.xaml.cs</td>\n",
       "      <td>NaN</td>\n",
       "      <td>27.0</td>\n",
       "      <td>right_only</td>\n",
       "    </tr>\n",
       "    <tr>\n",
       "      <th>128</th>\n",
       "      <td>c/Models/NotifyingProxy.cs</td>\n",
       "      <td>NaN</td>\n",
       "      <td>19.0</td>\n",
       "      <td>right_only</td>\n",
       "    </tr>\n",
       "    <tr>\n",
       "      <th>129</th>\n",
       "      <td>c/Models/IKeyboardStateInfo.cs</td>\n",
       "      <td>NaN</td>\n",
       "      <td>15.0</td>\n",
       "      <td>right_only</td>\n",
       "    </tr>\n",
       "    <tr>\n",
       "      <th>130</th>\n",
       "      <td>c/UI/Behaviours/WindowAlwaysOnTopBehavior.cs</td>\n",
       "      <td>NaN</td>\n",
       "      <td>20.0</td>\n",
       "      <td>right_only</td>\n",
       "    </tr>\n",
       "    <tr>\n",
       "      <th>131</th>\n",
       "      <td>c/Resources/Themes/Colours/Android.xaml</td>\n",
       "      <td>NaN</td>\n",
       "      <td>11.0</td>\n",
       "      <td>right_only</td>\n",
       "    </tr>\n",
       "    <tr>\n",
       "      <th>132</th>\n",
       "      <td>c/UI/Views/Keyboards/English/Alpha.xaml.cs</td>\n",
       "      <td>NaN</td>\n",
       "      <td>15.0</td>\n",
       "      <td>right_only</td>\n",
       "    </tr>\n",
       "    <tr>\n",
       "      <th>133</th>\n",
       "      <td>c/UI/Views/Keyboards/English/Publish.xaml.cs</td>\n",
       "      <td>NaN</td>\n",
       "      <td>15.0</td>\n",
       "      <td>right_only</td>\n",
       "    </tr>\n",
       "    <tr>\n",
       "      <th>134</th>\n",
       "      <td>c/UI/Views/Keyboards/English/Symbols2.xaml.cs</td>\n",
       "      <td>NaN</td>\n",
       "      <td>15.0</td>\n",
       "      <td>right_only</td>\n",
       "    </tr>\n",
       "    <tr>\n",
       "      <th>135</th>\n",
       "      <td>c/UI/Views/Keyboards/English/NumericAndSymbols...</td>\n",
       "      <td>NaN</td>\n",
       "      <td>15.0</td>\n",
       "      <td>right_only</td>\n",
       "    </tr>\n",
       "    <tr>\n",
       "      <th>136</th>\n",
       "      <td>c/Observables/TriggerSignalSources/IFixationTr...</td>\n",
       "      <td>NaN</td>\n",
       "      <td>9.0</td>\n",
       "      <td>right_only</td>\n",
       "    </tr>\n",
       "    <tr>\n",
       "      <th>137</th>\n",
       "      <td>c/UI/UserControls/Scratchpad.cs</td>\n",
       "      <td>NaN</td>\n",
       "      <td>8.0</td>\n",
       "      <td>right_only</td>\n",
       "    </tr>\n",
       "    <tr>\n",
       "      <th>138</th>\n",
       "      <td>c/Models/ThemeResourceDictionary.cs</td>\n",
       "      <td>NaN</td>\n",
       "      <td>8.0</td>\n",
       "      <td>right_only</td>\n",
       "    </tr>\n",
       "  </tbody>\n",
       "</table>\n",
       "</div>"
      ],
      "text/plain": [
       "                                                    id  weight_x  weight_y  \\\n",
       "111  c/UI/Views/Keyboards/English/NumericAndSymbols...       NaN     337.0   \n",
       "112            c/UI/Views/Keyboards/English/Alpha.xaml       NaN     337.0   \n",
       "113         c/UI/Views/Keyboards/English/Symbols2.xaml       NaN     337.0   \n",
       "114          c/UI/Views/Keyboards/English/Publish.xaml       NaN     319.0   \n",
       "115              c/Resources/Themes/Android_Light.xaml       NaN     325.0   \n",
       "116               c/Resources/Themes/Android_Dark.xaml       NaN     326.0   \n",
       "117           c/UI/Views/Keyboards/English/Output.xaml       NaN     209.0   \n",
       "118                       c/Models/KeyEnabledStates.cs       NaN      89.0   \n",
       "119                    c/Models/KeyValueCollections.cs       NaN      66.0   \n",
       "120          c/UI/Behaviours/ScrollViewerBehaviours.cs       NaN      44.0   \n",
       "121                   c/UI/Behaviours/KeyBehaviours.cs       NaN      42.0   \n",
       "122           c/UI/ValueConverters/SuggestionsPaged.cs       NaN      42.0   \n",
       "123          c/Models/NotifyingConcurrentDictionary.cs       NaN      38.0   \n",
       "124        c/UI/ValueConverters/LengthDividedBySpan.cs       NaN      37.0   \n",
       "125                c/Extensions/UiElementExtensions.cs       NaN      29.0   \n",
       "126                 c/Extensions/PropertyExtensions.cs       NaN      33.0   \n",
       "127        c/UI/Views/Keyboards/English/Output.xaml.cs       NaN      27.0   \n",
       "128                         c/Models/NotifyingProxy.cs       NaN      19.0   \n",
       "129                     c/Models/IKeyboardStateInfo.cs       NaN      15.0   \n",
       "130       c/UI/Behaviours/WindowAlwaysOnTopBehavior.cs       NaN      20.0   \n",
       "131            c/Resources/Themes/Colours/Android.xaml       NaN      11.0   \n",
       "132         c/UI/Views/Keyboards/English/Alpha.xaml.cs       NaN      15.0   \n",
       "133       c/UI/Views/Keyboards/English/Publish.xaml.cs       NaN      15.0   \n",
       "134      c/UI/Views/Keyboards/English/Symbols2.xaml.cs       NaN      15.0   \n",
       "135  c/UI/Views/Keyboards/English/NumericAndSymbols...       NaN      15.0   \n",
       "136  c/Observables/TriggerSignalSources/IFixationTr...       NaN       9.0   \n",
       "137                    c/UI/UserControls/Scratchpad.cs       NaN       8.0   \n",
       "138                c/Models/ThemeResourceDictionary.cs       NaN       8.0   \n",
       "\n",
       "         _merge  \n",
       "111  right_only  \n",
       "112  right_only  \n",
       "113  right_only  \n",
       "114  right_only  \n",
       "115  right_only  \n",
       "116  right_only  \n",
       "117  right_only  \n",
       "118  right_only  \n",
       "119  right_only  \n",
       "120  right_only  \n",
       "121  right_only  \n",
       "122  right_only  \n",
       "123  right_only  \n",
       "124  right_only  \n",
       "125  right_only  \n",
       "126  right_only  \n",
       "127  right_only  \n",
       "128  right_only  \n",
       "129  right_only  \n",
       "130  right_only  \n",
       "131  right_only  \n",
       "132  right_only  \n",
       "133  right_only  \n",
       "134  right_only  \n",
       "135  right_only  \n",
       "136  right_only  \n",
       "137  right_only  \n",
       "138  right_only  "
      ]
     },
     "execution_count": 16,
     "metadata": {},
     "output_type": "execute_result"
    }
   ],
   "source": [
    "# How to find additions\n",
    "pd.merge(dfs[0], dfs[1], on='id', how='outer', indicator=True).query('_merge==\"right_only\"')\n",
    "# len(pd.merge...) to get the number of additions/deletions"
   ]
  },
  {
   "cell_type": "code",
   "execution_count": 17,
   "metadata": {
    "papermill": {
     "duration": 1.103049,
     "end_time": "2017-11-12T14:20:34.468439",
     "exception": false,
     "start_time": "2017-11-12T14:20:33.365390",
     "status": "completed"
    },
    "tags": []
   },
   "outputs": [
    {
     "data": {
      "text/plain": [
       "<matplotlib.text.Text at 0x7f86dae60588>"
      ]
     },
     "execution_count": 17,
     "metadata": {},
     "output_type": "execute_result"
    },
    {
     "data": {
      "image/png": "[encoded data removed]",
      "text/plain": [
       "<matplotlib.figure.Figure at 0x7f86d96be748>"
      ]
     },
     "metadata": {},
     "output_type": "display_data"
    }
   ],
   "source": [
    "fig, ax = plt.subplots()\n",
    "\n",
    "n_additions = []\n",
    "n_removals = []\n",
    "for i in range(1, n_revisions):\n",
    "    n_additions.append(\n",
    "        len(pd.merge(dfs[i-1], dfs[i], on='id', how='outer', indicator=True)\n",
    "            .query('_merge==\"right_only\"')))\n",
    "    n_removals.append(\n",
    "        -len(pd.merge(dfs[i-1], dfs[i], on='id', how='outer', indicator=True)\n",
    "            .query('_merge==\"left_only\"')))\n",
    "x = range(0, n_revisions - 1)\n",
    "ax.bar(x ,n_additions, width=1, color='b')\n",
    "ax.bar(x, n_removals, width=1, color='r')\n",
    "\n",
    "fig.suptitle(\"Item change evolution\")\n",
    "plt.ylabel('Removals - Additions')\n",
    "plt.xlabel('Revision')\n",
    "\n"
   ]
  },
  {
   "cell_type": "markdown",
   "metadata": {
    "papermill": {
     "duration": 5e-05,
     "end_time": "2017-11-12T14:20:34.468785",
     "exception": false,
     "start_time": "2017-11-12T14:20:34.468735",
     "status": "completed"
    },
    "tags": []
   },
   "source": [
    "## Sum of cell's change in weight (stability)"
   ]
  },
  {
   "cell_type": "code",
   "execution_count": 18,
   "metadata": {
    "papermill": {
     "duration": 1.024743,
     "end_time": "2017-11-12T14:20:35.513141",
     "exception": false,
     "start_time": "2017-11-12T14:20:34.488398",
     "status": "completed"
    },
    "tags": []
   },
   "outputs": [
    {
     "data": {
      "text/plain": [
       "<matplotlib.text.Text at 0x7f86d95acc50>"
      ]
     },
     "execution_count": 18,
     "metadata": {},
     "output_type": "execute_result"
    },
    {
     "data": {
      "image/png": "[encoded data removed]",
      "text/plain": [
       "<matplotlib.figure.Figure at 0x7f86dae1a898>"
      ]
     },
     "metadata": {},
     "output_type": "display_data"
    }
   ],
   "source": [
    "fig = plt.figure()\n",
    "change = [0.0] * n_revisions\n",
    "for index, row in df_full.fillna(0).iterrows():\n",
    "    for j in range (2, len(row)):\n",
    "        change[j-1] += abs(row[j] - row[j-1])\n",
    "\n",
    "plt.plot(change)\n",
    "fig.suptitle(\"Instability\")\n",
    "plt.ylabel('Weight change')\n",
    "plt.xlabel('Revision')\n",
    "    "
   ]
  }
 ],
 "metadata": {
  "celltoolbar": "Tags",
  "kernelspec": {
   "display_name": "Python 2",
   "language": "python",
   "name": "python2"
  },
  "language_info": {
   "codemirror_mode": {
    "name": "ipython",
    "version": 3
   },
   "file_extension": ".py",
   "mimetype": "text/x-python",
   "name": "python",
   "nbconvert_exporter": "python",
   "pygments_lexer": "ipython3",
   "version": "3.5.2"
  },
  "papermill": {
   "duration": 7.437133,
   "end_time": "2017-11-12T14:20:36.478158",
   "environment_variables": {},
   "exception": false,
   "output_path": "dataset-info/OptiKey.ipynb",
   "parameters": {
    "input_dir": "dataset/OptiKey"
   },
   "start_time": "2017-11-12T14:20:29.041025",
   "version": "0.10.0"
  }
 },
 "nbformat": 4,
 "nbformat_minor": 1
}