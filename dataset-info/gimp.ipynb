{
 "cells": [
  {
   "cell_type": "markdown",
   "metadata": {
    "papermill": {
     "duration": 0.000335,
     "end_time": "2017-11-12T19:44:30.264203",
     "exception": false,
     "start_time": "2017-11-12T19:44:30.263868",
     "status": "completed"
    },
    "tags": []
   },
   "source": [
    "# Dataset analysis\n",
    "To generate results for every dataset in the `dataset` folder, run:\n",
    "```\n",
    "for dataset in $(find dataset/* -maxdepth 0 -type d); do papermill dataset-info/DatasetBase.ipynb dataset-info/$(basename $dataset).ipynb -p input_dir $dataset; done\n",
    "```"
   ]
  },
  {
   "cell_type": "code",
   "execution_count": 1,
   "metadata": {
    "papermill": {
     "duration": 0.60655,
     "end_time": "2017-11-12T19:44:30.887741",
     "exception": false,
     "start_time": "2017-11-12T19:44:30.281191",
     "status": "completed"
    },
    "tags": []
   },
   "outputs": [],
   "source": [
    "import matplotlib.pyplot as plt\n",
    "import re, os\n",
    "import papermill as pm\n",
    "%matplotlib inline"
   ]
  },
  {
   "cell_type": "code",
   "execution_count": 2,
   "metadata": {
    "papermill": {
     "duration": 0.020242,
     "end_time": "2017-11-12T19:44:30.908153",
     "exception": false,
     "start_time": "2017-11-12T19:44:30.887911",
     "status": "completed"
    },
    "tags": [
     "parameters"
    ]
   },
   "outputs": [],
   "source": [
    "# Parameters\n",
    "input_dir = \"dataset/gimp\"\n"
   ]
  },
  {
   "cell_type": "code",
   "execution_count": 3,
   "metadata": {
    "papermill": {
     "duration": 0.017306,
     "end_time": "2017-11-12T19:44:30.925548",
     "exception": false,
     "start_time": "2017-11-12T19:44:30.908242",
     "status": "completed"
    },
    "tags": []
   },
   "outputs": [],
   "source": [
    "# Make a regex to extract dataset name\n",
    "import re\n",
    "\n",
    "matchObj = re.match( r'.*/(.*)', input_dir, re.M|re.I)\n",
    "if matchObj:\n",
    "    dataset_id = matchObj.group(1)\n",
    "    dataset_id"
   ]
  },
  {
   "cell_type": "code",
   "execution_count": 4,
   "metadata": {
    "papermill": {
     "duration": 0.017146,
     "end_time": "2017-11-12T19:44:30.942913",
     "exception": false,
     "start_time": "2017-11-12T19:44:30.925767",
     "status": "completed"
    },
    "tags": []
   },
   "outputs": [],
   "source": [
    "def natural_sort(l):\n",
    "    convert = lambda text: int(text) if text.isdigit() else text.lower()\n",
    "    alphanum_key = lambda key: [convert(c) for c in re.split('([0-9]+)', key)]\n",
    "    return sorted(l, key=alphanum_key)"
   ]
  },
  {
   "cell_type": "code",
   "execution_count": 5,
   "metadata": {
    "papermill": {
     "duration": 0.027321,
     "end_time": "2017-11-12T19:44:30.970316",
     "exception": false,
     "start_time": "2017-11-12T19:44:30.942995",
     "status": "completed"
    },
    "tags": []
   },
   "outputs": [
    {
     "data": {
      "text/plain": [
       "['dataset/gimp/gimp.0.csv',\n",
       " 'dataset/gimp/gimp.1.csv',\n",
       " 'dataset/gimp/gimp.2.csv',\n",
       " 'dataset/gimp/gimp.3.csv',\n",
       " 'dataset/gimp/gimp.4.csv']"
      ]
     },
     "execution_count": 5,
     "metadata": {},
     "output_type": "execute_result"
    }
   ],
   "source": [
    "# List files in input_dir in natural order\n",
    "files = [os.path.join(input_dir, f) for f in os.listdir(input_dir) if os.path.isfile(os.path.join(input_dir, f))]\n",
    "files = natural_sort(files)\n",
    "files[0:5]"
   ]
  },
  {
   "cell_type": "code",
   "execution_count": 6,
   "metadata": {
    "papermill": {
     "duration": 0.311104,
     "end_time": "2017-11-12T19:44:31.281506",
     "exception": false,
     "start_time": "2017-11-12T19:44:30.970402",
     "status": "completed"
    },
    "tags": []
   },
   "outputs": [],
   "source": [
    "import pandas as pd\n",
    "n_revisions = len(files)\n",
    "dfs = [pd.read_csv(file) for file in files]"
   ]
  },
  {
   "cell_type": "code",
   "execution_count": 7,
   "metadata": {
    "papermill": {
     "duration": 0.027158,
     "end_time": "2017-11-12T19:44:31.308834",
     "exception": false,
     "start_time": "2017-11-12T19:44:31.281676",
     "status": "completed"
    },
    "tags": []
   },
   "outputs": [
    {
     "data": {
      "text/html": [
       "<div>\n",
       "<style scoped>\n",
       "    .dataframe tbody tr th:only-of-type {\n",
       "        vertical-align: middle;\n",
       "    }\n",
       "\n",
       "    .dataframe tbody tr th {\n",
       "        vertical-align: top;\n",
       "    }\n",
       "\n",
       "    .dataframe thead th {\n",
       "        text-align: right;\n",
       "    }\n",
       "</style>\n",
       "<table border=\"1\" class=\"dataframe\">\n",
       "  <thead>\n",
       "    <tr style=\"text-align: right;\">\n",
       "      <th></th>\n",
       "      <th>id</th>\n",
       "      <th>weight</th>\n",
       "    </tr>\n",
       "  </thead>\n",
       "  <tbody>\n",
       "    <tr>\n",
       "      <th>0</th>\n",
       "      <td>po-plug-ins/es.po</td>\n",
       "      <td>12601</td>\n",
       "    </tr>\n",
       "    <tr>\n",
       "      <th>1</th>\n",
       "      <td>po-script-fu/es.po</td>\n",
       "      <td>2097</td>\n",
       "    </tr>\n",
       "    <tr>\n",
       "      <th>2</th>\n",
       "      <td>po-libgimp/es.po</td>\n",
       "      <td>252</td>\n",
       "    </tr>\n",
       "  </tbody>\n",
       "</table>\n",
       "</div>"
      ],
      "text/plain": [
       "                   id  weight\n",
       "0   po-plug-ins/es.po   12601\n",
       "1  po-script-fu/es.po    2097\n",
       "2    po-libgimp/es.po     252"
      ]
     },
     "execution_count": 7,
     "metadata": {},
     "output_type": "execute_result"
    }
   ],
   "source": [
    "dfs[0].head()"
   ]
  },
  {
   "cell_type": "code",
   "execution_count": 8,
   "metadata": {
    "papermill": {
     "duration": 0.758826,
     "end_time": "2017-11-12T19:44:32.067782",
     "exception": false,
     "start_time": "2017-11-12T19:44:31.308956",
     "status": "completed"
    },
    "tags": []
   },
   "outputs": [],
   "source": [
    "from functools import reduce\n",
    "# Outer join of files  \n",
    "df_full = reduce((lambda x, y: pd.merge(x, y, how='outer', on='id')), dfs)"
   ]
  },
  {
   "cell_type": "code",
   "execution_count": 9,
   "metadata": {
    "papermill": {
     "duration": 0.022435,
     "end_time": "2017-11-12T19:44:32.090436",
     "exception": false,
     "start_time": "2017-11-12T19:44:32.068001",
     "status": "completed"
    },
    "tags": []
   },
   "outputs": [],
   "source": [
    "# Rename columns\n",
    "df_full.columns = ['id'] + ['t'+str(i) for i in range(df_full.shape[1]-1)]"
   ]
  },
  {
   "cell_type": "code",
   "execution_count": 10,
   "metadata": {
    "papermill": {
     "duration": 0.039219,
     "end_time": "2017-11-12T19:44:32.129756",
     "exception": false,
     "start_time": "2017-11-12T19:44:32.090537",
     "status": "completed"
    },
    "scrolled": true,
    "tags": []
   },
   "outputs": [
    {
     "data": {
      "text/html": [
       "<div>\n",
       "<style scoped>\n",
       "    .dataframe tbody tr th:only-of-type {\n",
       "        vertical-align: middle;\n",
       "    }\n",
       "\n",
       "    .dataframe tbody tr th {\n",
       "        vertical-align: top;\n",
       "    }\n",
       "\n",
       "    .dataframe thead th {\n",
       "        text-align: right;\n",
       "    }\n",
       "</style>\n",
       "<table border=\"1\" class=\"dataframe\">\n",
       "  <thead>\n",
       "    <tr style=\"text-align: right;\">\n",
       "      <th></th>\n",
       "      <th>id</th>\n",
       "      <th>t0</th>\n",
       "      <th>t1</th>\n",
       "      <th>t2</th>\n",
       "      <th>t3</th>\n",
       "      <th>t4</th>\n",
       "      <th>t5</th>\n",
       "      <th>t6</th>\n",
       "      <th>t7</th>\n",
       "      <th>t8</th>\n",
       "      <th>...</th>\n",
       "      <th>t62</th>\n",
       "      <th>t63</th>\n",
       "      <th>t64</th>\n",
       "      <th>t65</th>\n",
       "      <th>t66</th>\n",
       "      <th>t67</th>\n",
       "      <th>t68</th>\n",
       "      <th>t69</th>\n",
       "      <th>t70</th>\n",
       "      <th>t71</th>\n",
       "    </tr>\n",
       "  </thead>\n",
       "  <tbody>\n",
       "    <tr>\n",
       "      <th>0</th>\n",
       "      <td>po-plug-ins/es.po</td>\n",
       "      <td>12601.0</td>\n",
       "      <td>12601.0</td>\n",
       "      <td>12601.0</td>\n",
       "      <td>12601.0</td>\n",
       "      <td>12601.0</td>\n",
       "      <td>12601.0</td>\n",
       "      <td>12601.0</td>\n",
       "      <td>12601.0</td>\n",
       "      <td>12601.0</td>\n",
       "      <td>...</td>\n",
       "      <td>12298.0</td>\n",
       "      <td>12288.0</td>\n",
       "      <td>12288.0</td>\n",
       "      <td>12288.0</td>\n",
       "      <td>12299.0</td>\n",
       "      <td>12299.0</td>\n",
       "      <td>12497.0</td>\n",
       "      <td>12497.0</td>\n",
       "      <td>12497.0</td>\n",
       "      <td>12497.0</td>\n",
       "    </tr>\n",
       "    <tr>\n",
       "      <th>1</th>\n",
       "      <td>po-script-fu/es.po</td>\n",
       "      <td>2097.0</td>\n",
       "      <td>2097.0</td>\n",
       "      <td>2097.0</td>\n",
       "      <td>2097.0</td>\n",
       "      <td>2097.0</td>\n",
       "      <td>2097.0</td>\n",
       "      <td>2097.0</td>\n",
       "      <td>2097.0</td>\n",
       "      <td>2097.0</td>\n",
       "      <td>...</td>\n",
       "      <td>2991.0</td>\n",
       "      <td>2991.0</td>\n",
       "      <td>2991.0</td>\n",
       "      <td>2991.0</td>\n",
       "      <td>2991.0</td>\n",
       "      <td>2991.0</td>\n",
       "      <td>2881.0</td>\n",
       "      <td>2881.0</td>\n",
       "      <td>2881.0</td>\n",
       "      <td>2881.0</td>\n",
       "    </tr>\n",
       "    <tr>\n",
       "      <th>2</th>\n",
       "      <td>po-libgimp/es.po</td>\n",
       "      <td>252.0</td>\n",
       "      <td>252.0</td>\n",
       "      <td>252.0</td>\n",
       "      <td>252.0</td>\n",
       "      <td>252.0</td>\n",
       "      <td>252.0</td>\n",
       "      <td>252.0</td>\n",
       "      <td>252.0</td>\n",
       "      <td>252.0</td>\n",
       "      <td>...</td>\n",
       "      <td>1864.0</td>\n",
       "      <td>1864.0</td>\n",
       "      <td>1864.0</td>\n",
       "      <td>1864.0</td>\n",
       "      <td>1864.0</td>\n",
       "      <td>1864.0</td>\n",
       "      <td>1844.0</td>\n",
       "      <td>1844.0</td>\n",
       "      <td>1844.0</td>\n",
       "      <td>1844.0</td>\n",
       "    </tr>\n",
       "    <tr>\n",
       "      <th>3</th>\n",
       "      <td>plug-ins/gfig/gfig.c</td>\n",
       "      <td>NaN</td>\n",
       "      <td>12693.0</td>\n",
       "      <td>12721.0</td>\n",
       "      <td>12882.0</td>\n",
       "      <td>12819.0</td>\n",
       "      <td>12873.0</td>\n",
       "      <td>12875.0</td>\n",
       "      <td>12857.0</td>\n",
       "      <td>12857.0</td>\n",
       "      <td>...</td>\n",
       "      <td>809.0</td>\n",
       "      <td>809.0</td>\n",
       "      <td>809.0</td>\n",
       "      <td>809.0</td>\n",
       "      <td>809.0</td>\n",
       "      <td>809.0</td>\n",
       "      <td>809.0</td>\n",
       "      <td>809.0</td>\n",
       "      <td>809.0</td>\n",
       "      <td>809.0</td>\n",
       "    </tr>\n",
       "    <tr>\n",
       "      <th>4</th>\n",
       "      <td>plug-ins/flame/cmap.c</td>\n",
       "      <td>NaN</td>\n",
       "      <td>5732.0</td>\n",
       "      <td>5734.0</td>\n",
       "      <td>5734.0</td>\n",
       "      <td>5734.0</td>\n",
       "      <td>5734.0</td>\n",
       "      <td>5734.0</td>\n",
       "      <td>5734.0</td>\n",
       "      <td>5734.0</td>\n",
       "      <td>...</td>\n",
       "      <td>5730.0</td>\n",
       "      <td>5730.0</td>\n",
       "      <td>5730.0</td>\n",
       "      <td>5730.0</td>\n",
       "      <td>5777.0</td>\n",
       "      <td>5777.0</td>\n",
       "      <td>5777.0</td>\n",
       "      <td>5777.0</td>\n",
       "      <td>5777.0</td>\n",
       "      <td>5777.0</td>\n",
       "    </tr>\n",
       "  </tbody>\n",
       "</table>\n",
       "<p>5 rows × 73 columns</p>\n",
       "</div>"
      ],
      "text/plain": [
       "                      id       t0       t1       t2       t3       t4  \\\n",
       "0      po-plug-ins/es.po  12601.0  12601.0  12601.0  12601.0  12601.0   \n",
       "1     po-script-fu/es.po   2097.0   2097.0   2097.0   2097.0   2097.0   \n",
       "2       po-libgimp/es.po    252.0    252.0    252.0    252.0    252.0   \n",
       "3   plug-ins/gfig/gfig.c      NaN  12693.0  12721.0  12882.0  12819.0   \n",
       "4  plug-ins/flame/cmap.c      NaN   5732.0   5734.0   5734.0   5734.0   \n",
       "\n",
       "        t5       t6       t7       t8   ...         t62      t63      t64  \\\n",
       "0  12601.0  12601.0  12601.0  12601.0   ...     12298.0  12288.0  12288.0   \n",
       "1   2097.0   2097.0   2097.0   2097.0   ...      2991.0   2991.0   2991.0   \n",
       "2    252.0    252.0    252.0    252.0   ...      1864.0   1864.0   1864.0   \n",
       "3  12873.0  12875.0  12857.0  12857.0   ...       809.0    809.0    809.0   \n",
       "4   5734.0   5734.0   5734.0   5734.0   ...      5730.0   5730.0   5730.0   \n",
       "\n",
       "       t65      t66      t67      t68      t69      t70      t71  \n",
       "0  12288.0  12299.0  12299.0  12497.0  12497.0  12497.0  12497.0  \n",
       "1   2991.0   2991.0   2991.0   2881.0   2881.0   2881.0   2881.0  \n",
       "2   1864.0   1864.0   1864.0   1844.0   1844.0   1844.0   1844.0  \n",
       "3    809.0    809.0    809.0    809.0    809.0    809.0    809.0  \n",
       "4   5730.0   5777.0   5777.0   5777.0   5777.0   5777.0   5777.0  \n",
       "\n",
       "[5 rows x 73 columns]"
      ]
     },
     "execution_count": 10,
     "metadata": {},
     "output_type": "execute_result"
    }
   ],
   "source": [
    "df_full.head()"
   ]
  },
  {
   "cell_type": "code",
   "execution_count": 11,
   "metadata": {
    "papermill": {
     "duration": 0.25128,
     "end_time": "2017-11-12T19:44:32.381132",
     "exception": false,
     "start_time": "2017-11-12T19:44:32.129852",
     "status": "completed"
    },
    "tags": []
   },
   "outputs": [],
   "source": [
    "from collections import defaultdict\n",
    "import networkx as nx\n",
    "\n",
    "FILE_MARKER = '<files>'\n",
    "\n",
    "def attach(branch, trunk):\n",
    "    parts = branch.split('/', 1)\n",
    "    if len(parts) == 1:  # branch is a file\n",
    "        trunk[FILE_MARKER].append(parts[0])\n",
    "    else:\n",
    "        node, others = parts\n",
    "        if node not in trunk:\n",
    "            trunk[node] = defaultdict(dict, ((FILE_MARKER, []),))\n",
    "        attach(others, trunk[node])\n",
    "\n",
    "def build_adjacency_list(d, id, result):\n",
    "    for key in d.keys():\n",
    "        if key != FILE_MARKER:\n",
    "            result.append((id, id + key))\n",
    "            build_adjacency_list(d[key], id + key, result)\n",
    "        else:\n",
    "            for file in d[key]:\n",
    "                result.append((id, id + file))\n",
    "\n",
    "        \n",
    "def plot_tree(id_list):\n",
    "    \n",
    "    keys = sorted(id_list)\n",
    "\n",
    "    main_dict = defaultdict(dict, ((FILE_MARKER, []),))\n",
    "    for line in keys:\n",
    "        attach(line, main_dict)\n",
    "\n",
    "    # _create adjacency list\n",
    "    result = []\n",
    "    build_adjacency_list(main_dict, \"ROOT\", result)\n",
    "\n",
    "    G = nx.DiGraph()\n",
    "    G.add_edges_from(result)\n",
    "    # write dot file to use with graphviz\n",
    "    # run \"dot -_tpng test.dot >test.png\"\n",
    "    # nx.nx_agraph.write_dot(_g, 'test.dot')\n",
    "\n",
    "    # same layout using matplotlib with no labels\n",
    "    pos = nx.nx_agraph.graphviz_layout(G, prog='dot')\n",
    "    nx.draw(G, pos, with_labels=False, arrows=False, node_size=2)\n",
    "\n"
   ]
  },
  {
   "cell_type": "markdown",
   "metadata": {
    "papermill": {
     "duration": 3.2e-05,
     "end_time": "2017-11-12T19:44:32.381366",
     "exception": false,
     "start_time": "2017-11-12T19:44:32.381334",
     "status": "completed"
    },
    "tags": []
   },
   "source": [
    "## Union tree of all revisions"
   ]
  },
  {
   "cell_type": "code",
   "execution_count": 12,
   "metadata": {
    "papermill": {
     "duration": 45.797377,
     "end_time": "2017-11-12T19:45:18.194458",
     "exception": false,
     "start_time": "2017-11-12T19:44:32.397081",
     "status": "completed"
    },
    "scrolled": true,
    "tags": []
   },
   "outputs": [
    {
     "data": {
      "image/png": "[encoded data removed]",
      "text/plain": [
       "<matplotlib.figure.Figure at 0x7f1aa975a3c8>"
      ]
     },
     "metadata": {},
     "output_type": "display_data"
    }
   ],
   "source": [
    "tree_fig = plt.figure(0)\n",
    "tree_fig.suptitle(dataset_id)\n",
    "plt.axis('off')\n",
    "plot_tree(df_full['id'].tolist())\n",
    "#pm.display('tree', tree_fig)\n",
    "\n"
   ]
  },
  {
   "cell_type": "markdown",
   "metadata": {
    "papermill": {
     "duration": 1.5e-05,
     "end_time": "2017-11-12T19:45:18.194656",
     "exception": false,
     "start_time": "2017-11-12T19:45:18.194641",
     "status": "completed"
    },
    "tags": []
   },
   "source": [
    "# Evolution"
   ]
  },
  {
   "cell_type": "markdown",
   "metadata": {
    "papermill": {
     "duration": 2.9e-05,
     "end_time": "2017-11-12T19:45:18.209820",
     "exception": false,
     "start_time": "2017-11-12T19:45:18.209791",
     "status": "completed"
    },
    "tags": []
   },
   "source": [
    "## Items count"
   ]
  },
  {
   "cell_type": "code",
   "execution_count": 13,
   "metadata": {
    "papermill": {
     "duration": 0.1714,
     "end_time": "2017-11-12T19:45:18.397490",
     "exception": false,
     "start_time": "2017-11-12T19:45:18.226090",
     "status": "completed"
    },
    "tags": []
   },
   "outputs": [
    {
     "data": {
      "image/png": "[encoded data removed]",
      "text/plain": [
       "<matplotlib.figure.Figure at 0x7f1aa5041a20>"
      ]
     },
     "metadata": {},
     "output_type": "display_data"
    }
   ],
   "source": [
    "def plot_item_count():\n",
    "    n_items = [len(df) for df in dfs]\n",
    "    plt.plot(n_items)\n",
    "\n",
    "fig = plt.figure()\n",
    "fig.suptitle(\"Item count\")\n",
    "plt.ylabel('Number of items')\n",
    "plt.xlabel('Revision')\n",
    "\n",
    "plot_item_count()"
   ]
  },
  {
   "cell_type": "markdown",
   "metadata": {
    "papermill": {
     "duration": 1.4e-05,
     "end_time": "2017-11-12T19:45:18.397679",
     "exception": false,
     "start_time": "2017-11-12T19:45:18.397665",
     "status": "completed"
    },
    "tags": []
   },
   "source": [
    "## Weight count"
   ]
  },
  {
   "cell_type": "code",
   "execution_count": 14,
   "metadata": {
    "papermill": {
     "duration": 0.179054,
     "end_time": "2017-11-12T19:45:18.596564",
     "exception": false,
     "start_time": "2017-11-12T19:45:18.417510",
     "status": "completed"
    },
    "tags": []
   },
   "outputs": [
    {
     "data": {
      "image/png": "[encoded data removed]",
      "text/plain": [
       "<matplotlib.figure.Figure at 0x7f1aa3477748>"
      ]
     },
     "metadata": {},
     "output_type": "display_data"
    }
   ],
   "source": [
    "def plot_weight():\n",
    "    total_weight = [sum(df['weight']) for df in dfs]\n",
    "    plt.plot(total_weight)\n",
    "\n",
    "fig = plt.figure()\n",
    "fig.suptitle(\"Weight evolution\")\n",
    "plt.ylabel('Total weight')\n",
    "plt.xlabel('Revision')\n",
    "plot_weight()"
   ]
  },
  {
   "cell_type": "markdown",
   "metadata": {
    "papermill": {
     "duration": 1.3e-05,
     "end_time": "2017-11-12T19:45:18.596753",
     "exception": false,
     "start_time": "2017-11-12T19:45:18.596740",
     "status": "completed"
    },
    "tags": []
   },
   "source": [
    "## Addition and removal of items"
   ]
  },
  {
   "cell_type": "code",
   "execution_count": 15,
   "metadata": {
    "papermill": {
     "duration": 0.042284,
     "end_time": "2017-11-12T19:45:18.656710",
     "exception": false,
     "start_time": "2017-11-12T19:45:18.614426",
     "status": "completed"
    },
    "tags": []
   },
   "outputs": [
    {
     "data": {
      "text/html": [
       "<div>\n",
       "<style scoped>\n",
       "    .dataframe tbody tr th:only-of-type {\n",
       "        vertical-align: middle;\n",
       "    }\n",
       "\n",
       "    .dataframe tbody tr th {\n",
       "        vertical-align: top;\n",
       "    }\n",
       "\n",
       "    .dataframe thead th {\n",
       "        text-align: right;\n",
       "    }\n",
       "</style>\n",
       "<table border=\"1\" class=\"dataframe\">\n",
       "  <thead>\n",
       "    <tr style=\"text-align: right;\">\n",
       "      <th></th>\n",
       "      <th>id</th>\n",
       "      <th>weight_x</th>\n",
       "      <th>weight_y</th>\n",
       "      <th>_merge</th>\n",
       "    </tr>\n",
       "  </thead>\n",
       "  <tbody>\n",
       "  </tbody>\n",
       "</table>\n",
       "</div>"
      ],
      "text/plain": [
       "Empty DataFrame\n",
       "Columns: [id, weight_x, weight_y, _merge]\n",
       "Index: []"
      ]
     },
     "execution_count": 15,
     "metadata": {},
     "output_type": "execute_result"
    }
   ],
   "source": [
    "# How to find removals\n",
    "pd.merge(dfs[0], dfs[1], on='id', how='outer', indicator=True).query('_merge==\"left_only\"')"
   ]
  },
  {
   "cell_type": "code",
   "execution_count": 16,
   "metadata": {
    "papermill": {
     "duration": 0.060428,
     "end_time": "2017-11-12T19:45:18.717232",
     "exception": false,
     "start_time": "2017-11-12T19:45:18.656804",
     "status": "completed"
    },
    "tags": []
   },
   "outputs": [
    {
     "data": {
      "text/html": [
       "<div>\n",
       "<style scoped>\n",
       "    .dataframe tbody tr th:only-of-type {\n",
       "        vertical-align: middle;\n",
       "    }\n",
       "\n",
       "    .dataframe tbody tr th {\n",
       "        vertical-align: top;\n",
       "    }\n",
       "\n",
       "    .dataframe thead th {\n",
       "        text-align: right;\n",
       "    }\n",
       "</style>\n",
       "<table border=\"1\" class=\"dataframe\">\n",
       "  <thead>\n",
       "    <tr style=\"text-align: right;\">\n",
       "      <th></th>\n",
       "      <th>id</th>\n",
       "      <th>weight_x</th>\n",
       "      <th>weight_y</th>\n",
       "      <th>_merge</th>\n",
       "    </tr>\n",
       "  </thead>\n",
       "  <tbody>\n",
       "    <tr>\n",
       "      <th>3</th>\n",
       "      <td>plug-ins/gfig/gfig.c</td>\n",
       "      <td>NaN</td>\n",
       "      <td>12693</td>\n",
       "      <td>right_only</td>\n",
       "    </tr>\n",
       "    <tr>\n",
       "      <th>4</th>\n",
       "      <td>plug-ins/flame/cmap.c</td>\n",
       "      <td>NaN</td>\n",
       "      <td>5732</td>\n",
       "      <td>right_only</td>\n",
       "    </tr>\n",
       "    <tr>\n",
       "      <th>5</th>\n",
       "      <td>app/widgets/gimpgradienteditor.c</td>\n",
       "      <td>NaN</td>\n",
       "      <td>6201</td>\n",
       "      <td>right_only</td>\n",
       "    </tr>\n",
       "    <tr>\n",
       "      <th>6</th>\n",
       "      <td>app/paint_funcs.c</td>\n",
       "      <td>NaN</td>\n",
       "      <td>4428</td>\n",
       "      <td>right_only</td>\n",
       "    </tr>\n",
       "    <tr>\n",
       "      <th>7</th>\n",
       "      <td>plug-ins/script-fu/siod/slib.c</td>\n",
       "      <td>NaN</td>\n",
       "      <td>3718</td>\n",
       "      <td>right_only</td>\n",
       "    </tr>\n",
       "    <tr>\n",
       "      <th>8</th>\n",
       "      <td>app/layers_dialog.c</td>\n",
       "      <td>NaN</td>\n",
       "      <td>3887</td>\n",
       "      <td>right_only</td>\n",
       "    </tr>\n",
       "    <tr>\n",
       "      <th>9</th>\n",
       "      <td>plug-ins/script-fu/siod/sliba.c</td>\n",
       "      <td>NaN</td>\n",
       "      <td>2898</td>\n",
       "      <td>right_only</td>\n",
       "    </tr>\n",
       "    <tr>\n",
       "      <th>10</th>\n",
       "      <td>docs/texinfo.tex</td>\n",
       "      <td>NaN</td>\n",
       "      <td>4692</td>\n",
       "      <td>right_only</td>\n",
       "    </tr>\n",
       "    <tr>\n",
       "      <th>11</th>\n",
       "      <td>plug-ins/common/CML_explorer.c</td>\n",
       "      <td>NaN</td>\n",
       "      <td>3100</td>\n",
       "      <td>right_only</td>\n",
       "    </tr>\n",
       "    <tr>\n",
       "      <th>12</th>\n",
       "      <td>app/gimage_cmds.c</td>\n",
       "      <td>NaN</td>\n",
       "      <td>3419</td>\n",
       "      <td>right_only</td>\n",
       "    </tr>\n",
       "    <tr>\n",
       "      <th>13</th>\n",
       "      <td>plug-ins/script-fu/script-fu.h</td>\n",
       "      <td>NaN</td>\n",
       "      <td>2522</td>\n",
       "      <td>right_only</td>\n",
       "    </tr>\n",
       "    <tr>\n",
       "      <th>14</th>\n",
       "      <td>plug-ins/mosaic/mosaic_logo.h</td>\n",
       "      <td>NaN</td>\n",
       "      <td>2499</td>\n",
       "      <td>right_only</td>\n",
       "    </tr>\n",
       "    <tr>\n",
       "      <th>15</th>\n",
       "      <td>app/plug_in.c</td>\n",
       "      <td>NaN</td>\n",
       "      <td>2957</td>\n",
       "      <td>right_only</td>\n",
       "    </tr>\n",
       "    <tr>\n",
       "      <th>16</th>\n",
       "      <td>plug-ins/libgck/gck/gckcolor.c</td>\n",
       "      <td>NaN</td>\n",
       "      <td>3021</td>\n",
       "      <td>right_only</td>\n",
       "    </tr>\n",
       "    <tr>\n",
       "      <th>17</th>\n",
       "      <td>app/gimpimage-convert.c</td>\n",
       "      <td>NaN</td>\n",
       "      <td>3091</td>\n",
       "      <td>right_only</td>\n",
       "    </tr>\n",
       "    <tr>\n",
       "      <th>18</th>\n",
       "      <td>plug-ins/ifscompose/ifscompose.c</td>\n",
       "      <td>NaN</td>\n",
       "      <td>2747</td>\n",
       "      <td>right_only</td>\n",
       "    </tr>\n",
       "    <tr>\n",
       "      <th>19</th>\n",
       "      <td>plug-ins/video/video.c</td>\n",
       "      <td>NaN</td>\n",
       "      <td>2450</td>\n",
       "      <td>right_only</td>\n",
       "    </tr>\n",
       "    <tr>\n",
       "      <th>20</th>\n",
       "      <td>app/gimage.c</td>\n",
       "      <td>NaN</td>\n",
       "      <td>2993</td>\n",
       "      <td>right_only</td>\n",
       "    </tr>\n",
       "    <tr>\n",
       "      <th>21</th>\n",
       "      <td>plug-ins/mosaic/mosaic.c</td>\n",
       "      <td>NaN</td>\n",
       "      <td>2640</td>\n",
       "      <td>right_only</td>\n",
       "    </tr>\n",
       "    <tr>\n",
       "      <th>22</th>\n",
       "      <td>app/tools/text_tool.c</td>\n",
       "      <td>NaN</td>\n",
       "      <td>2595</td>\n",
       "      <td>right_only</td>\n",
       "    </tr>\n",
       "    <tr>\n",
       "      <th>23</th>\n",
       "      <td>plug-ins/gif/gif.c</td>\n",
       "      <td>NaN</td>\n",
       "      <td>3250</td>\n",
       "      <td>right_only</td>\n",
       "    </tr>\n",
       "    <tr>\n",
       "      <th>24</th>\n",
       "      <td>app/tools/iscissors.c</td>\n",
       "      <td>NaN</td>\n",
       "      <td>2805</td>\n",
       "      <td>right_only</td>\n",
       "    </tr>\n",
       "    <tr>\n",
       "      <th>25</th>\n",
       "      <td>app/image_render.c</td>\n",
       "      <td>NaN</td>\n",
       "      <td>2481</td>\n",
       "      <td>right_only</td>\n",
       "    </tr>\n",
       "    <tr>\n",
       "      <th>26</th>\n",
       "      <td>app/gui/help-commands.c</td>\n",
       "      <td>NaN</td>\n",
       "      <td>2556</td>\n",
       "      <td>right_only</td>\n",
       "    </tr>\n",
       "    <tr>\n",
       "      <th>27</th>\n",
       "      <td>plug-ins/ps/ps.c</td>\n",
       "      <td>NaN</td>\n",
       "      <td>2459</td>\n",
       "      <td>right_only</td>\n",
       "    </tr>\n",
       "    <tr>\n",
       "      <th>28</th>\n",
       "      <td>ltmain.sh</td>\n",
       "      <td>NaN</td>\n",
       "      <td>2457</td>\n",
       "      <td>right_only</td>\n",
       "    </tr>\n",
       "    <tr>\n",
       "      <th>29</th>\n",
       "      <td>app/xcf/xcf.c</td>\n",
       "      <td>NaN</td>\n",
       "      <td>2272</td>\n",
       "      <td>right_only</td>\n",
       "    </tr>\n",
       "    <tr>\n",
       "      <th>30</th>\n",
       "      <td>plug-ins/xwd/xwd.c</td>\n",
       "      <td>NaN</td>\n",
       "      <td>2071</td>\n",
       "      <td>right_only</td>\n",
       "    </tr>\n",
       "    <tr>\n",
       "      <th>31</th>\n",
       "      <td>libgimpwidgets/gimpcolorselect.c</td>\n",
       "      <td>NaN</td>\n",
       "      <td>1863</td>\n",
       "      <td>right_only</td>\n",
       "    </tr>\n",
       "    <tr>\n",
       "      <th>32</th>\n",
       "      <td>app/gimprc.c</td>\n",
       "      <td>NaN</td>\n",
       "      <td>1874</td>\n",
       "      <td>right_only</td>\n",
       "    </tr>\n",
       "    <tr>\n",
       "      <th>...</th>\n",
       "      <td>...</td>\n",
       "      <td>...</td>\n",
       "      <td>...</td>\n",
       "      <td>...</td>\n",
       "    </tr>\n",
       "    <tr>\n",
       "      <th>681</th>\n",
       "      <td>app/frac.h</td>\n",
       "      <td>NaN</td>\n",
       "      <td>13</td>\n",
       "      <td>right_only</td>\n",
       "    </tr>\n",
       "    <tr>\n",
       "      <th>682</th>\n",
       "      <td>app/tools/gimpblendtool.h</td>\n",
       "      <td>NaN</td>\n",
       "      <td>30</td>\n",
       "      <td>right_only</td>\n",
       "    </tr>\n",
       "    <tr>\n",
       "      <th>683</th>\n",
       "      <td>app/tools/move.h</td>\n",
       "      <td>NaN</td>\n",
       "      <td>31</td>\n",
       "      <td>right_only</td>\n",
       "    </tr>\n",
       "    <tr>\n",
       "      <th>684</th>\n",
       "      <td>app/tile_cache.h</td>\n",
       "      <td>NaN</td>\n",
       "      <td>13</td>\n",
       "      <td>right_only</td>\n",
       "    </tr>\n",
       "    <tr>\n",
       "      <th>685</th>\n",
       "      <td>app/info_window.h</td>\n",
       "      <td>NaN</td>\n",
       "      <td>28</td>\n",
       "      <td>right_only</td>\n",
       "    </tr>\n",
       "    <tr>\n",
       "      <th>686</th>\n",
       "      <td>plug-ins/script-fu/script-fu-scripts.h</td>\n",
       "      <td>NaN</td>\n",
       "      <td>28</td>\n",
       "      <td>right_only</td>\n",
       "    </tr>\n",
       "    <tr>\n",
       "      <th>687</th>\n",
       "      <td>app/tools/bezier_select.h</td>\n",
       "      <td>NaN</td>\n",
       "      <td>29</td>\n",
       "      <td>right_only</td>\n",
       "    </tr>\n",
       "    <tr>\n",
       "      <th>688</th>\n",
       "      <td>app/tools/magnify.h</td>\n",
       "      <td>NaN</td>\n",
       "      <td>30</td>\n",
       "      <td>right_only</td>\n",
       "    </tr>\n",
       "    <tr>\n",
       "      <th>689</th>\n",
       "      <td>app/floating_sel_cmds.h</td>\n",
       "      <td>NaN</td>\n",
       "      <td>27</td>\n",
       "      <td>right_only</td>\n",
       "    </tr>\n",
       "    <tr>\n",
       "      <th>690</th>\n",
       "      <td>app/undo_cmds.h</td>\n",
       "      <td>NaN</td>\n",
       "      <td>26</td>\n",
       "      <td>right_only</td>\n",
       "    </tr>\n",
       "    <tr>\n",
       "      <th>691</th>\n",
       "      <td>app/transform_tool.h</td>\n",
       "      <td>NaN</td>\n",
       "      <td>26</td>\n",
       "      <td>right_only</td>\n",
       "    </tr>\n",
       "    <tr>\n",
       "      <th>692</th>\n",
       "      <td>app/gimpdrawable-equalize.h</td>\n",
       "      <td>NaN</td>\n",
       "      <td>29</td>\n",
       "      <td>right_only</td>\n",
       "    </tr>\n",
       "    <tr>\n",
       "      <th>693</th>\n",
       "      <td>app/gimpdrawable-desaturate.h</td>\n",
       "      <td>NaN</td>\n",
       "      <td>29</td>\n",
       "      <td>right_only</td>\n",
       "    </tr>\n",
       "    <tr>\n",
       "      <th>694</th>\n",
       "      <td>app/indexed_palette.h</td>\n",
       "      <td>NaN</td>\n",
       "      <td>26</td>\n",
       "      <td>right_only</td>\n",
       "    </tr>\n",
       "    <tr>\n",
       "      <th>695</th>\n",
       "      <td>app/layer_select.h</td>\n",
       "      <td>NaN</td>\n",
       "      <td>26</td>\n",
       "      <td>right_only</td>\n",
       "    </tr>\n",
       "    <tr>\n",
       "      <th>696</th>\n",
       "      <td>app/tools/iscissors.h</td>\n",
       "      <td>NaN</td>\n",
       "      <td>25</td>\n",
       "      <td>right_only</td>\n",
       "    </tr>\n",
       "    <tr>\n",
       "      <th>697</th>\n",
       "      <td>app/errors.h</td>\n",
       "      <td>NaN</td>\n",
       "      <td>25</td>\n",
       "      <td>right_only</td>\n",
       "    </tr>\n",
       "    <tr>\n",
       "      <th>698</th>\n",
       "      <td>app/gimpimage-duplicate.h</td>\n",
       "      <td>NaN</td>\n",
       "      <td>29</td>\n",
       "      <td>right_only</td>\n",
       "    </tr>\n",
       "    <tr>\n",
       "      <th>699</th>\n",
       "      <td>app/invert.h</td>\n",
       "      <td>NaN</td>\n",
       "      <td>29</td>\n",
       "      <td>right_only</td>\n",
       "    </tr>\n",
       "    <tr>\n",
       "      <th>700</th>\n",
       "      <td>app/user_install.h</td>\n",
       "      <td>NaN</td>\n",
       "      <td>27</td>\n",
       "      <td>right_only</td>\n",
       "    </tr>\n",
       "    <tr>\n",
       "      <th>701</th>\n",
       "      <td>libgimp/gimpui.h</td>\n",
       "      <td>NaN</td>\n",
       "      <td>26</td>\n",
       "      <td>right_only</td>\n",
       "    </tr>\n",
       "    <tr>\n",
       "      <th>702</th>\n",
       "      <td>app/gui/channels-dialog.h</td>\n",
       "      <td>NaN</td>\n",
       "      <td>24</td>\n",
       "      <td>right_only</td>\n",
       "    </tr>\n",
       "    <tr>\n",
       "      <th>703</th>\n",
       "      <td>app/widgets/gimpcursor.h</td>\n",
       "      <td>NaN</td>\n",
       "      <td>24</td>\n",
       "      <td>right_only</td>\n",
       "    </tr>\n",
       "    <tr>\n",
       "      <th>704</th>\n",
       "      <td>app/tips_dialog.h</td>\n",
       "      <td>NaN</td>\n",
       "      <td>8</td>\n",
       "      <td>right_only</td>\n",
       "    </tr>\n",
       "    <tr>\n",
       "      <th>705</th>\n",
       "      <td>app/gui/about-dialog.h</td>\n",
       "      <td>NaN</td>\n",
       "      <td>8</td>\n",
       "      <td>right_only</td>\n",
       "    </tr>\n",
       "    <tr>\n",
       "      <th>706</th>\n",
       "      <td>app/internal_procs.h</td>\n",
       "      <td>NaN</td>\n",
       "      <td>24</td>\n",
       "      <td>right_only</td>\n",
       "    </tr>\n",
       "    <tr>\n",
       "      <th>707</th>\n",
       "      <td>app/batch.h</td>\n",
       "      <td>NaN</td>\n",
       "      <td>8</td>\n",
       "      <td>right_only</td>\n",
       "    </tr>\n",
       "    <tr>\n",
       "      <th>708</th>\n",
       "      <td>debian/prerm</td>\n",
       "      <td>NaN</td>\n",
       "      <td>4</td>\n",
       "      <td>right_only</td>\n",
       "    </tr>\n",
       "    <tr>\n",
       "      <th>709</th>\n",
       "      <td>plug-ins/flame/flame.h</td>\n",
       "      <td>NaN</td>\n",
       "      <td>22</td>\n",
       "      <td>right_only</td>\n",
       "    </tr>\n",
       "    <tr>\n",
       "      <th>710</th>\n",
       "      <td>debian/postinst</td>\n",
       "      <td>NaN</td>\n",
       "      <td>4</td>\n",
       "      <td>right_only</td>\n",
       "    </tr>\n",
       "  </tbody>\n",
       "</table>\n",
       "<p>708 rows × 4 columns</p>\n",
       "</div>"
      ],
      "text/plain": [
       "                                         id  weight_x  weight_y      _merge\n",
       "3                      plug-ins/gfig/gfig.c       NaN     12693  right_only\n",
       "4                     plug-ins/flame/cmap.c       NaN      5732  right_only\n",
       "5          app/widgets/gimpgradienteditor.c       NaN      6201  right_only\n",
       "6                         app/paint_funcs.c       NaN      4428  right_only\n",
       "7            plug-ins/script-fu/siod/slib.c       NaN      3718  right_only\n",
       "8                       app/layers_dialog.c       NaN      3887  right_only\n",
       "9           plug-ins/script-fu/siod/sliba.c       NaN      2898  right_only\n",
       "10                         docs/texinfo.tex       NaN      4692  right_only\n",
       "11           plug-ins/common/CML_explorer.c       NaN      3100  right_only\n",
       "12                        app/gimage_cmds.c       NaN      3419  right_only\n",
       "13           plug-ins/script-fu/script-fu.h       NaN      2522  right_only\n",
       "14            plug-ins/mosaic/mosaic_logo.h       NaN      2499  right_only\n",
       "15                            app/plug_in.c       NaN      2957  right_only\n",
       "16           plug-ins/libgck/gck/gckcolor.c       NaN      3021  right_only\n",
       "17                  app/gimpimage-convert.c       NaN      3091  right_only\n",
       "18         plug-ins/ifscompose/ifscompose.c       NaN      2747  right_only\n",
       "19                   plug-ins/video/video.c       NaN      2450  right_only\n",
       "20                             app/gimage.c       NaN      2993  right_only\n",
       "21                 plug-ins/mosaic/mosaic.c       NaN      2640  right_only\n",
       "22                    app/tools/text_tool.c       NaN      2595  right_only\n",
       "23                       plug-ins/gif/gif.c       NaN      3250  right_only\n",
       "24                    app/tools/iscissors.c       NaN      2805  right_only\n",
       "25                       app/image_render.c       NaN      2481  right_only\n",
       "26                  app/gui/help-commands.c       NaN      2556  right_only\n",
       "27                         plug-ins/ps/ps.c       NaN      2459  right_only\n",
       "28                                ltmain.sh       NaN      2457  right_only\n",
       "29                            app/xcf/xcf.c       NaN      2272  right_only\n",
       "30                       plug-ins/xwd/xwd.c       NaN      2071  right_only\n",
       "31         libgimpwidgets/gimpcolorselect.c       NaN      1863  right_only\n",
       "32                             app/gimprc.c       NaN      1874  right_only\n",
       "..                                      ...       ...       ...         ...\n",
       "681                              app/frac.h       NaN        13  right_only\n",
       "682               app/tools/gimpblendtool.h       NaN        30  right_only\n",
       "683                        app/tools/move.h       NaN        31  right_only\n",
       "684                        app/tile_cache.h       NaN        13  right_only\n",
       "685                       app/info_window.h       NaN        28  right_only\n",
       "686  plug-ins/script-fu/script-fu-scripts.h       NaN        28  right_only\n",
       "687               app/tools/bezier_select.h       NaN        29  right_only\n",
       "688                     app/tools/magnify.h       NaN        30  right_only\n",
       "689                 app/floating_sel_cmds.h       NaN        27  right_only\n",
       "690                         app/undo_cmds.h       NaN        26  right_only\n",
       "691                    app/transform_tool.h       NaN        26  right_only\n",
       "692             app/gimpdrawable-equalize.h       NaN        29  right_only\n",
       "693           app/gimpdrawable-desaturate.h       NaN        29  right_only\n",
       "694                   app/indexed_palette.h       NaN        26  right_only\n",
       "695                      app/layer_select.h       NaN        26  right_only\n",
       "696                   app/tools/iscissors.h       NaN        25  right_only\n",
       "697                            app/errors.h       NaN        25  right_only\n",
       "698               app/gimpimage-duplicate.h       NaN        29  right_only\n",
       "699                            app/invert.h       NaN        29  right_only\n",
       "700                      app/user_install.h       NaN        27  right_only\n",
       "701                        libgimp/gimpui.h       NaN        26  right_only\n",
       "702               app/gui/channels-dialog.h       NaN        24  right_only\n",
       "703                app/widgets/gimpcursor.h       NaN        24  right_only\n",
       "704                       app/tips_dialog.h       NaN         8  right_only\n",
       "705                  app/gui/about-dialog.h       NaN         8  right_only\n",
       "706                    app/internal_procs.h       NaN        24  right_only\n",
       "707                             app/batch.h       NaN         8  right_only\n",
       "708                            debian/prerm       NaN         4  right_only\n",
       "709                  plug-ins/flame/flame.h       NaN        22  right_only\n",
       "710                         debian/postinst       NaN         4  right_only\n",
       "\n",
       "[708 rows x 4 columns]"
      ]
     },
     "execution_count": 16,
     "metadata": {},
     "output_type": "execute_result"
    }
   ],
   "source": [
    "# How to find additions\n",
    "pd.merge(dfs[0], dfs[1], on='id', how='outer', indicator=True).query('_merge==\"right_only\"')\n",
    "# len(pd.merge...) to get the number of additions/deletions"
   ]
  },
  {
   "cell_type": "code",
   "execution_count": 17,
   "metadata": {
    "papermill": {
     "duration": 2.040678,
     "end_time": "2017-11-12T19:45:20.758184",
     "exception": false,
     "start_time": "2017-11-12T19:45:18.717506",
     "status": "completed"
    },
    "tags": []
   },
   "outputs": [
    {
     "data": {
      "text/plain": [
       "<matplotlib.text.Text at 0x7f1aa360ec88>"
      ]
     },
     "execution_count": 17,
     "metadata": {},
     "output_type": "execute_result"
    },
    {
     "data": {
      "image/png": "[encoded data removed]",
      "text/plain": [
       "<matplotlib.figure.Figure at 0x7f1aa4ddf940>"
      ]
     },
     "metadata": {},
     "output_type": "display_data"
    }
   ],
   "source": [
    "fig, ax = plt.subplots()\n",
    "\n",
    "n_additions = []\n",
    "n_removals = []\n",
    "for i in range(1, n_revisions):\n",
    "    n_additions.append(\n",
    "        len(pd.merge(dfs[i-1], dfs[i], on='id', how='outer', indicator=True)\n",
    "            .query('_merge==\"right_only\"')))\n",
    "    n_removals.append(\n",
    "        -len(pd.merge(dfs[i-1], dfs[i], on='id', how='outer', indicator=True)\n",
    "            .query('_merge==\"left_only\"')))\n",
    "x = range(0, n_revisions - 1)\n",
    "ax.bar(x ,n_additions, width=1, color='b')\n",
    "ax.bar(x, n_removals, width=1, color='r')\n",
    "\n",
    "fig.suptitle(\"Item change evolution\")\n",
    "plt.ylabel('Removals - Additions')\n",
    "plt.xlabel('Revision')\n",
    "\n"
   ]
  },
  {
   "cell_type": "markdown",
   "metadata": {
    "papermill": {
     "duration": 1.2e-05,
     "end_time": "2017-11-12T19:45:20.758287",
     "exception": false,
     "start_time": "2017-11-12T19:45:20.758275",
     "status": "completed"
    },
    "tags": []
   },
   "source": [
    "## Sum of cell's change in weight (stability)"
   ]
  },
  {
   "cell_type": "code",
   "execution_count": 18,
   "metadata": {
    "papermill": {
     "duration": 10.90785,
     "end_time": "2017-11-12T19:45:31.687395",
     "exception": false,
     "start_time": "2017-11-12T19:45:20.779545",
     "status": "completed"
    },
    "tags": []
   },
   "outputs": [
    {
     "data": {
      "text/plain": [
       "<matplotlib.text.Text at 0x7f1aa4ebad30>"
      ]
     },
     "execution_count": 18,
     "metadata": {},
     "output_type": "execute_result"
    },
    {
     "data": {
      "image/png": "[encoded data removed]",
      "text/plain": [
       "<matplotlib.figure.Figure at 0x7f1aa3617b00>"
      ]
     },
     "metadata": {},
     "output_type": "display_data"
    }
   ],
   "source": [
    "fig = plt.figure()\n",
    "change = [0.0] * n_revisions\n",
    "for index, row in df_full.fillna(0).iterrows():\n",
    "    for j in range (2, len(row)):\n",
    "        change[j-1] += abs(row[j] - row[j-1])\n",
    "\n",
    "plt.plot(change)\n",
    "fig.suptitle(\"Instability\")\n",
    "plt.ylabel('Weight change')\n",
    "plt.xlabel('Revision')\n",
    "    "
   ]
  }
 ],
 "metadata": {
  "celltoolbar": "Tags",
  "kernelspec": {
   "display_name": "Python 2",
   "language": "python",
   "name": "python2"
  },
  "language_info": {
   "codemirror_mode": {
    "name": "ipython",
    "version": 3
   },
   "file_extension": ".py",
   "mimetype": "text/x-python",
   "name": "python",
   "nbconvert_exporter": "python",
   "pygments_lexer": "ipython3",
   "version": "3.5.2"
  },
  "papermill": {
   "duration": 63.60567,
   "end_time": "2017-11-12T19:45:32.977099",
   "environment_variables": {},
   "exception": false,
   "output_path": "dataset-info/gimp.ipynb",
   "parameters": {
    "input_dir": "dataset/gimp"
   },
   "start_time": "2017-11-12T19:44:29.371429",
   "version": "0.10.0"
  }
 },
 "nbformat": 4,
 "nbformat_minor": 1
}