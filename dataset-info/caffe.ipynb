{
 "cells": [
  {
   "cell_type": "markdown",
   "metadata": {
    "papermill": {
     "duration": 0.000235,
     "end_time": "2017-11-12T19:41:08.066264",
     "exception": false,
     "start_time": "2017-11-12T19:41:08.066029",
     "status": "completed"
    },
    "tags": []
   },
   "source": [
    "# Dataset analysis\n",
    "To generate results for every dataset in the `dataset` folder, run:\n",
    "```\n",
    "for dataset in $(find dataset/* -maxdepth 0 -type d); do papermill dataset-info/DatasetBase.ipynb dataset-info/$(basename $dataset).ipynb -p input_dir $dataset; done\n",
    "```"
   ]
  },
  {
   "cell_type": "code",
   "execution_count": 1,
   "metadata": {
    "papermill": {
     "duration": 0.573848,
     "end_time": "2017-11-12T19:41:08.649432",
     "exception": false,
     "start_time": "2017-11-12T19:41:08.075584",
     "status": "completed"
    },
    "tags": []
   },
   "outputs": [],
   "source": [
    "import matplotlib.pyplot as plt\n",
    "import re, os\n",
    "import papermill as pm\n",
    "%matplotlib inline"
   ]
  },
  {
   "cell_type": "code",
   "execution_count": 2,
   "metadata": {
    "papermill": {
     "duration": 0.020066,
     "end_time": "2017-11-12T19:41:08.669682",
     "exception": false,
     "start_time": "2017-11-12T19:41:08.649616",
     "status": "completed"
    },
    "tags": [
     "parameters"
    ]
   },
   "outputs": [],
   "source": [
    "# Parameters\n",
    "input_dir = \"dataset/caffe\"\n"
   ]
  },
  {
   "cell_type": "code",
   "execution_count": 3,
   "metadata": {
    "papermill": {
     "duration": 0.021459,
     "end_time": "2017-11-12T19:41:08.691254",
     "exception": false,
     "start_time": "2017-11-12T19:41:08.669795",
     "status": "completed"
    },
    "tags": []
   },
   "outputs": [],
   "source": [
    "# Make a regex to extract dataset name\n",
    "import re\n",
    "\n",
    "matchObj = re.match( r'.*/(.*)', input_dir, re.M|re.I)\n",
    "if matchObj:\n",
    "    dataset_id = matchObj.group(1)\n",
    "    dataset_id"
   ]
  },
  {
   "cell_type": "code",
   "execution_count": 4,
   "metadata": {
    "papermill": {
     "duration": 0.023284,
     "end_time": "2017-11-12T19:41:08.714643",
     "exception": false,
     "start_time": "2017-11-12T19:41:08.691359",
     "status": "completed"
    },
    "tags": []
   },
   "outputs": [],
   "source": [
    "def natural_sort(l):\n",
    "    convert = lambda text: int(text) if text.isdigit() else text.lower()\n",
    "    alphanum_key = lambda key: [convert(c) for c in re.split('([0-9]+)', key)]\n",
    "    return sorted(l, key=alphanum_key)"
   ]
  },
  {
   "cell_type": "code",
   "execution_count": 5,
   "metadata": {
    "papermill": {
     "duration": 0.019363,
     "end_time": "2017-11-12T19:41:08.734130",
     "exception": false,
     "start_time": "2017-11-12T19:41:08.714767",
     "status": "completed"
    },
    "tags": []
   },
   "outputs": [
    {
     "data": {
      "text/plain": [
       "['dataset/caffe/2013_09_30_5b79183483036cbd1c9a5f1c583ae3ad50844254.csv',\n",
       " 'dataset/caffe/2013_10_31_fb9968f0b513a318c1522c06a2085ba667db88c6.csv',\n",
       " 'dataset/caffe/2013_11_28_eb38091b4e525e28cc6210985c8a2d189e7f91b7.csv',\n",
       " 'dataset/caffe/2013_12_22_3213bd87ea70b5596b950f2fe200d5a06b90b00b.csv',\n",
       " 'dataset/caffe/2014_01_31_3190ce709156a2b8c4bd79b50dd33b57a0ac874b.csv']"
      ]
     },
     "execution_count": 5,
     "metadata": {},
     "output_type": "execute_result"
    }
   ],
   "source": [
    "# List files in input_dir in natural order\n",
    "files = [os.path.join(input_dir, f) for f in os.listdir(input_dir) if os.path.isfile(os.path.join(input_dir, f))]\n",
    "files = natural_sort(files)\n",
    "files[0:5]"
   ]
  },
  {
   "cell_type": "code",
   "execution_count": 6,
   "metadata": {
    "papermill": {
     "duration": 0.094747,
     "end_time": "2017-11-12T19:41:08.828972",
     "exception": false,
     "start_time": "2017-11-12T19:41:08.734225",
     "status": "completed"
    },
    "tags": []
   },
   "outputs": [],
   "source": [
    "import pandas as pd\n",
    "n_revisions = len(files)\n",
    "dfs = [pd.read_csv(file) for file in files]"
   ]
  },
  {
   "cell_type": "code",
   "execution_count": 7,
   "metadata": {
    "papermill": {
     "duration": 0.024765,
     "end_time": "2017-11-12T19:41:08.853908",
     "exception": false,
     "start_time": "2017-11-12T19:41:08.829143",
     "status": "completed"
    },
    "tags": []
   },
   "outputs": [
    {
     "data": {
      "text/html": [
       "<div>\n",
       "<style scoped>\n",
       "    .dataframe tbody tr th:only-of-type {\n",
       "        vertical-align: middle;\n",
       "    }\n",
       "\n",
       "    .dataframe tbody tr th {\n",
       "        vertical-align: top;\n",
       "    }\n",
       "\n",
       "    .dataframe thead th {\n",
       "        text-align: right;\n",
       "    }\n",
       "</style>\n",
       "<table border=\"1\" class=\"dataframe\">\n",
       "  <thead>\n",
       "    <tr style=\"text-align: right;\">\n",
       "      <th></th>\n",
       "      <th>id</th>\n",
       "      <th>weight</th>\n",
       "    </tr>\n",
       "  </thead>\n",
       "  <tbody>\n",
       "    <tr>\n",
       "      <th>0</th>\n",
       "      <td>c/gtest/gtest.h</td>\n",
       "      <td>19537</td>\n",
       "    </tr>\n",
       "    <tr>\n",
       "      <th>1</th>\n",
       "      <td>c/gtest/gtest-all.cpp</td>\n",
       "      <td>9118</td>\n",
       "    </tr>\n",
       "    <tr>\n",
       "      <th>2</th>\n",
       "      <td>c/caffe/vision_layers.hpp</td>\n",
       "      <td>350</td>\n",
       "    </tr>\n",
       "    <tr>\n",
       "      <th>3</th>\n",
       "      <td>c/caffe/util/math_functions.cpp</td>\n",
       "      <td>284</td>\n",
       "    </tr>\n",
       "    <tr>\n",
       "      <th>4</th>\n",
       "      <td>c/caffe/layers/conv_layer.cpp</td>\n",
       "      <td>245</td>\n",
       "    </tr>\n",
       "  </tbody>\n",
       "</table>\n",
       "</div>"
      ],
      "text/plain": [
       "                                id  weight\n",
       "0                  c/gtest/gtest.h   19537\n",
       "1            c/gtest/gtest-all.cpp    9118\n",
       "2        c/caffe/vision_layers.hpp     350\n",
       "3  c/caffe/util/math_functions.cpp     284\n",
       "4    c/caffe/layers/conv_layer.cpp     245"
      ]
     },
     "execution_count": 7,
     "metadata": {},
     "output_type": "execute_result"
    }
   ],
   "source": [
    "dfs[0].head()"
   ]
  },
  {
   "cell_type": "code",
   "execution_count": 8,
   "metadata": {
    "papermill": {
     "duration": 0.217568,
     "end_time": "2017-11-12T19:41:09.071561",
     "exception": false,
     "start_time": "2017-11-12T19:41:08.853993",
     "status": "completed"
    },
    "tags": []
   },
   "outputs": [],
   "source": [
    "from functools import reduce\n",
    "# Outer join of files  \n",
    "df_full = reduce((lambda x, y: pd.merge(x, y, how='outer', on='id')), dfs)"
   ]
  },
  {
   "cell_type": "code",
   "execution_count": 9,
   "metadata": {
    "papermill": {
     "duration": 0.022406,
     "end_time": "2017-11-12T19:41:09.094169",
     "exception": false,
     "start_time": "2017-11-12T19:41:09.071763",
     "status": "completed"
    },
    "tags": []
   },
   "outputs": [],
   "source": [
    "# Rename columns\n",
    "df_full.columns = ['id'] + ['t'+str(i) for i in range(df_full.shape[1]-1)]"
   ]
  },
  {
   "cell_type": "code",
   "execution_count": 10,
   "metadata": {
    "papermill": {
     "duration": 0.048608,
     "end_time": "2017-11-12T19:41:09.142871",
     "exception": false,
     "start_time": "2017-11-12T19:41:09.094263",
     "status": "completed"
    },
    "scrolled": true,
    "tags": []
   },
   "outputs": [
    {
     "data": {
      "text/html": [
       "<div>\n",
       "<style scoped>\n",
       "    .dataframe tbody tr th:only-of-type {\n",
       "        vertical-align: middle;\n",
       "    }\n",
       "\n",
       "    .dataframe tbody tr th {\n",
       "        vertical-align: top;\n",
       "    }\n",
       "\n",
       "    .dataframe thead th {\n",
       "        text-align: right;\n",
       "    }\n",
       "</style>\n",
       "<table border=\"1\" class=\"dataframe\">\n",
       "  <thead>\n",
       "    <tr style=\"text-align: right;\">\n",
       "      <th></th>\n",
       "      <th>id</th>\n",
       "      <th>t0</th>\n",
       "      <th>t1</th>\n",
       "      <th>t2</th>\n",
       "      <th>t3</th>\n",
       "      <th>t4</th>\n",
       "      <th>t5</th>\n",
       "      <th>t6</th>\n",
       "      <th>t7</th>\n",
       "      <th>t8</th>\n",
       "      <th>...</th>\n",
       "      <th>t34</th>\n",
       "      <th>t35</th>\n",
       "      <th>t36</th>\n",
       "      <th>t37</th>\n",
       "      <th>t38</th>\n",
       "      <th>t39</th>\n",
       "      <th>t40</th>\n",
       "      <th>t41</th>\n",
       "      <th>t42</th>\n",
       "      <th>t43</th>\n",
       "    </tr>\n",
       "  </thead>\n",
       "  <tbody>\n",
       "    <tr>\n",
       "      <th>0</th>\n",
       "      <td>c/gtest/gtest.h</td>\n",
       "      <td>19537.0</td>\n",
       "      <td>19537.0</td>\n",
       "      <td>19537.0</td>\n",
       "      <td>19537.0</td>\n",
       "      <td>19537.0</td>\n",
       "      <td>19537.0</td>\n",
       "      <td>19537.0</td>\n",
       "      <td>19537.0</td>\n",
       "      <td>19537.0</td>\n",
       "      <td>...</td>\n",
       "      <td>19537.0</td>\n",
       "      <td>19537.0</td>\n",
       "      <td>19537.0</td>\n",
       "      <td>19537.0</td>\n",
       "      <td>19537.0</td>\n",
       "      <td>19537.0</td>\n",
       "      <td>19537.0</td>\n",
       "      <td>19537.0</td>\n",
       "      <td>19537.0</td>\n",
       "      <td>19537.0</td>\n",
       "    </tr>\n",
       "    <tr>\n",
       "      <th>1</th>\n",
       "      <td>c/gtest/gtest-all.cpp</td>\n",
       "      <td>9118.0</td>\n",
       "      <td>9118.0</td>\n",
       "      <td>9118.0</td>\n",
       "      <td>9118.0</td>\n",
       "      <td>9118.0</td>\n",
       "      <td>9118.0</td>\n",
       "      <td>9118.0</td>\n",
       "      <td>9118.0</td>\n",
       "      <td>9118.0</td>\n",
       "      <td>...</td>\n",
       "      <td>9117.0</td>\n",
       "      <td>9117.0</td>\n",
       "      <td>9117.0</td>\n",
       "      <td>9117.0</td>\n",
       "      <td>9117.0</td>\n",
       "      <td>9117.0</td>\n",
       "      <td>9117.0</td>\n",
       "      <td>9117.0</td>\n",
       "      <td>9117.0</td>\n",
       "      <td>9117.0</td>\n",
       "    </tr>\n",
       "    <tr>\n",
       "      <th>2</th>\n",
       "      <td>c/caffe/vision_layers.hpp</td>\n",
       "      <td>350.0</td>\n",
       "      <td>NaN</td>\n",
       "      <td>NaN</td>\n",
       "      <td>NaN</td>\n",
       "      <td>NaN</td>\n",
       "      <td>NaN</td>\n",
       "      <td>NaN</td>\n",
       "      <td>NaN</td>\n",
       "      <td>NaN</td>\n",
       "      <td>...</td>\n",
       "      <td>NaN</td>\n",
       "      <td>NaN</td>\n",
       "      <td>NaN</td>\n",
       "      <td>NaN</td>\n",
       "      <td>NaN</td>\n",
       "      <td>NaN</td>\n",
       "      <td>NaN</td>\n",
       "      <td>NaN</td>\n",
       "      <td>NaN</td>\n",
       "      <td>NaN</td>\n",
       "    </tr>\n",
       "    <tr>\n",
       "      <th>3</th>\n",
       "      <td>c/caffe/util/math_functions.cpp</td>\n",
       "      <td>284.0</td>\n",
       "      <td>296.0</td>\n",
       "      <td>296.0</td>\n",
       "      <td>296.0</td>\n",
       "      <td>296.0</td>\n",
       "      <td>296.0</td>\n",
       "      <td>445.0</td>\n",
       "      <td>480.0</td>\n",
       "      <td>493.0</td>\n",
       "      <td>...</td>\n",
       "      <td>375.0</td>\n",
       "      <td>375.0</td>\n",
       "      <td>375.0</td>\n",
       "      <td>375.0</td>\n",
       "      <td>375.0</td>\n",
       "      <td>375.0</td>\n",
       "      <td>375.0</td>\n",
       "      <td>375.0</td>\n",
       "      <td>375.0</td>\n",
       "      <td>385.0</td>\n",
       "    </tr>\n",
       "    <tr>\n",
       "      <th>4</th>\n",
       "      <td>c/caffe/layers/conv_layer.cpp</td>\n",
       "      <td>245.0</td>\n",
       "      <td>254.0</td>\n",
       "      <td>254.0</td>\n",
       "      <td>254.0</td>\n",
       "      <td>254.0</td>\n",
       "      <td>167.0</td>\n",
       "      <td>168.0</td>\n",
       "      <td>168.0</td>\n",
       "      <td>168.0</td>\n",
       "      <td>...</td>\n",
       "      <td>81.0</td>\n",
       "      <td>81.0</td>\n",
       "      <td>81.0</td>\n",
       "      <td>81.0</td>\n",
       "      <td>81.0</td>\n",
       "      <td>81.0</td>\n",
       "      <td>81.0</td>\n",
       "      <td>81.0</td>\n",
       "      <td>81.0</td>\n",
       "      <td>81.0</td>\n",
       "    </tr>\n",
       "  </tbody>\n",
       "</table>\n",
       "<p>5 rows × 45 columns</p>\n",
       "</div>"
      ],
      "text/plain": [
       "                                id       t0       t1       t2       t3  \\\n",
       "0                  c/gtest/gtest.h  19537.0  19537.0  19537.0  19537.0   \n",
       "1            c/gtest/gtest-all.cpp   9118.0   9118.0   9118.0   9118.0   \n",
       "2        c/caffe/vision_layers.hpp    350.0      NaN      NaN      NaN   \n",
       "3  c/caffe/util/math_functions.cpp    284.0    296.0    296.0    296.0   \n",
       "4    c/caffe/layers/conv_layer.cpp    245.0    254.0    254.0    254.0   \n",
       "\n",
       "        t4       t5       t6       t7       t8   ...         t34      t35  \\\n",
       "0  19537.0  19537.0  19537.0  19537.0  19537.0   ...     19537.0  19537.0   \n",
       "1   9118.0   9118.0   9118.0   9118.0   9118.0   ...      9117.0   9117.0   \n",
       "2      NaN      NaN      NaN      NaN      NaN   ...         NaN      NaN   \n",
       "3    296.0    296.0    445.0    480.0    493.0   ...       375.0    375.0   \n",
       "4    254.0    167.0    168.0    168.0    168.0   ...        81.0     81.0   \n",
       "\n",
       "       t36      t37      t38      t39      t40      t41      t42      t43  \n",
       "0  19537.0  19537.0  19537.0  19537.0  19537.0  19537.0  19537.0  19537.0  \n",
       "1   9117.0   9117.0   9117.0   9117.0   9117.0   9117.0   9117.0   9117.0  \n",
       "2      NaN      NaN      NaN      NaN      NaN      NaN      NaN      NaN  \n",
       "3    375.0    375.0    375.0    375.0    375.0    375.0    375.0    385.0  \n",
       "4     81.0     81.0     81.0     81.0     81.0     81.0     81.0     81.0  \n",
       "\n",
       "[5 rows x 45 columns]"
      ]
     },
     "execution_count": 10,
     "metadata": {},
     "output_type": "execute_result"
    }
   ],
   "source": [
    "df_full.head()"
   ]
  },
  {
   "cell_type": "code",
   "execution_count": 11,
   "metadata": {
    "papermill": {
     "duration": 0.275759,
     "end_time": "2017-11-12T19:41:09.418717",
     "exception": false,
     "start_time": "2017-11-12T19:41:09.142958",
     "status": "completed"
    },
    "tags": []
   },
   "outputs": [],
   "source": [
    "from collections import defaultdict\n",
    "import networkx as nx\n",
    "\n",
    "FILE_MARKER = '<files>'\n",
    "\n",
    "def attach(branch, trunk):\n",
    "    parts = branch.split('/', 1)\n",
    "    if len(parts) == 1:  # branch is a file\n",
    "        trunk[FILE_MARKER].append(parts[0])\n",
    "    else:\n",
    "        node, others = parts\n",
    "        if node not in trunk:\n",
    "            trunk[node] = defaultdict(dict, ((FILE_MARKER, []),))\n",
    "        attach(others, trunk[node])\n",
    "\n",
    "def build_adjacency_list(d, id, result):\n",
    "    for key in d.keys():\n",
    "        if key != FILE_MARKER:\n",
    "            result.append((id, id + key))\n",
    "            build_adjacency_list(d[key], id + key, result)\n",
    "        else:\n",
    "            for file in d[key]:\n",
    "                result.append((id, id + file))\n",
    "\n",
    "        \n",
    "def plot_tree(id_list):\n",
    "    \n",
    "    keys = sorted(id_list)\n",
    "\n",
    "    main_dict = defaultdict(dict, ((FILE_MARKER, []),))\n",
    "    for line in keys:\n",
    "        attach(line, main_dict)\n",
    "\n",
    "    # _create adjacency list\n",
    "    result = []\n",
    "    build_adjacency_list(main_dict, \"ROOT\", result)\n",
    "\n",
    "    G = nx.DiGraph()\n",
    "    G.add_edges_from(result)\n",
    "    # write dot file to use with graphviz\n",
    "    # run \"dot -_tpng test.dot >test.png\"\n",
    "    # nx.nx_agraph.write_dot(_g, 'test.dot')\n",
    "\n",
    "    # same layout using matplotlib with no labels\n",
    "    pos = nx.nx_agraph.graphviz_layout(G, prog='dot')\n",
    "    nx.draw(G, pos, with_labels=False, arrows=False, node_size=2)\n",
    "\n"
   ]
  },
  {
   "cell_type": "markdown",
   "metadata": {
    "papermill": {
     "duration": 1.7e-05,
     "end_time": "2017-11-12T19:41:09.418903",
     "exception": false,
     "start_time": "2017-11-12T19:41:09.418886",
     "status": "completed"
    },
    "tags": []
   },
   "source": [
    "## Union tree of all revisions"
   ]
  },
  {
   "cell_type": "code",
   "execution_count": 12,
   "metadata": {
    "papermill": {
     "duration": 0.363209,
     "end_time": "2017-11-12T19:41:09.798840",
     "exception": false,
     "start_time": "2017-11-12T19:41:09.435631",
     "status": "completed"
    },
    "scrolled": true,
    "tags": []
   },
   "outputs": [
    {
     "data": {
      "image/png": "[encoded data removed]",
      "text/plain": [
       "<matplotlib.figure.Figure at 0x7f6c823b0978>"
      ]
     },
     "metadata": {},
     "output_type": "display_data"
    }
   ],
   "source": [
    "tree_fig = plt.figure(0)\n",
    "tree_fig.suptitle(dataset_id)\n",
    "plt.axis('off')\n",
    "plot_tree(df_full['id'].tolist())\n",
    "#pm.display('tree', tree_fig)\n",
    "\n"
   ]
  },
  {
   "cell_type": "markdown",
   "metadata": {
    "papermill": {
     "duration": 1.7e-05,
     "end_time": "2017-11-12T19:41:09.799030",
     "exception": false,
     "start_time": "2017-11-12T19:41:09.799013",
     "status": "completed"
    },
    "tags": []
   },
   "source": [
    "# Evolution"
   ]
  },
  {
   "cell_type": "markdown",
   "metadata": {
    "papermill": {
     "duration": 2.3e-05,
     "end_time": "2017-11-12T19:41:09.814856",
     "exception": false,
     "start_time": "2017-11-12T19:41:09.814833",
     "status": "completed"
    },
    "tags": []
   },
   "source": [
    "## Items count"
   ]
  },
  {
   "cell_type": "code",
   "execution_count": 13,
   "metadata": {
    "papermill": {
     "duration": 0.175636,
     "end_time": "2017-11-12T19:41:10.008641",
     "exception": false,
     "start_time": "2017-11-12T19:41:09.833005",
     "status": "completed"
    },
    "tags": []
   },
   "outputs": [
    {
     "data": {
      "image/png": "[encoded data removed]",
      "text/plain": [
       "<matplotlib.figure.Figure at 0x7f6c7e036978>"
      ]
     },
     "metadata": {},
     "output_type": "display_data"
    }
   ],
   "source": [
    "def plot_item_count():\n",
    "    n_items = [len(df) for df in dfs]\n",
    "    plt.plot(n_items)\n",
    "\n",
    "fig = plt.figure()\n",
    "fig.suptitle(\"Item count\")\n",
    "plt.ylabel('Number of items')\n",
    "plt.xlabel('Revision')\n",
    "\n",
    "plot_item_count()"
   ]
  },
  {
   "cell_type": "markdown",
   "metadata": {
    "papermill": {
     "duration": 1.6e-05,
     "end_time": "2017-11-12T19:41:10.008828",
     "exception": false,
     "start_time": "2017-11-12T19:41:10.008812",
     "status": "completed"
    },
    "tags": []
   },
   "source": [
    "## Weight count"
   ]
  },
  {
   "cell_type": "code",
   "execution_count": 14,
   "metadata": {
    "papermill": {
     "duration": 0.176634,
     "end_time": "2017-11-12T19:41:10.201912",
     "exception": false,
     "start_time": "2017-11-12T19:41:10.025278",
     "status": "completed"
    },
    "tags": []
   },
   "outputs": [
    {
     "data": {
      "image/png": "[encoded data removed]",
      "text/plain": [
       "<matplotlib.figure.Figure at 0x7f6c7c8f7ac8>"
      ]
     },
     "metadata": {},
     "output_type": "display_data"
    }
   ],
   "source": [
    "def plot_weight():\n",
    "    total_weight = [sum(df['weight']) for df in dfs]\n",
    "    plt.plot(total_weight)\n",
    "\n",
    "fig = plt.figure()\n",
    "fig.suptitle(\"Weight evolution\")\n",
    "plt.ylabel('Total weight')\n",
    "plt.xlabel('Revision')\n",
    "plot_weight()"
   ]
  },
  {
   "cell_type": "markdown",
   "metadata": {
    "papermill": {
     "duration": 1.7e-05,
     "end_time": "2017-11-12T19:41:10.202105",
     "exception": false,
     "start_time": "2017-11-12T19:41:10.202088",
     "status": "completed"
    },
    "tags": []
   },
   "source": [
    "## Addition and removal of items"
   ]
  },
  {
   "cell_type": "code",
   "execution_count": 15,
   "metadata": {
    "papermill": {
     "duration": 0.048247,
     "end_time": "2017-11-12T19:41:10.268075",
     "exception": false,
     "start_time": "2017-11-12T19:41:10.219828",
     "status": "completed"
    },
    "tags": []
   },
   "outputs": [
    {
     "data": {
      "text/html": [
       "<div>\n",
       "<style scoped>\n",
       "    .dataframe tbody tr th:only-of-type {\n",
       "        vertical-align: middle;\n",
       "    }\n",
       "\n",
       "    .dataframe tbody tr th {\n",
       "        vertical-align: top;\n",
       "    }\n",
       "\n",
       "    .dataframe thead th {\n",
       "        text-align: right;\n",
       "    }\n",
       "</style>\n",
       "<table border=\"1\" class=\"dataframe\">\n",
       "  <thead>\n",
       "    <tr style=\"text-align: right;\">\n",
       "      <th></th>\n",
       "      <th>id</th>\n",
       "      <th>weight_x</th>\n",
       "      <th>weight_y</th>\n",
       "      <th>_merge</th>\n",
       "    </tr>\n",
       "  </thead>\n",
       "  <tbody>\n",
       "    <tr>\n",
       "      <th>2</th>\n",
       "      <td>c/caffe/vision_layers.hpp</td>\n",
       "      <td>350.0</td>\n",
       "      <td>NaN</td>\n",
       "      <td>left_only</td>\n",
       "    </tr>\n",
       "    <tr>\n",
       "      <th>13</th>\n",
       "      <td>c/caffe/optimization/solver.cpp</td>\n",
       "      <td>138.0</td>\n",
       "      <td>NaN</td>\n",
       "      <td>left_only</td>\n",
       "    </tr>\n",
       "    <tr>\n",
       "      <th>14</th>\n",
       "      <td>c/caffe/filler.hpp</td>\n",
       "      <td>150.0</td>\n",
       "      <td>NaN</td>\n",
       "      <td>left_only</td>\n",
       "    </tr>\n",
       "    <tr>\n",
       "      <th>23</th>\n",
       "      <td>c/caffe/layer.hpp</td>\n",
       "      <td>121.0</td>\n",
       "      <td>NaN</td>\n",
       "      <td>left_only</td>\n",
       "    </tr>\n",
       "    <tr>\n",
       "      <th>26</th>\n",
       "      <td>c/caffe/test/test_solver_mnist.cpp</td>\n",
       "      <td>108.0</td>\n",
       "      <td>NaN</td>\n",
       "      <td>left_only</td>\n",
       "    </tr>\n",
       "    <tr>\n",
       "      <th>30</th>\n",
       "      <td>c/caffe/layers/softmax_layer.cpp</td>\n",
       "      <td>91.0</td>\n",
       "      <td>NaN</td>\n",
       "      <td>left_only</td>\n",
       "    </tr>\n",
       "    <tr>\n",
       "      <th>31</th>\n",
       "      <td>c/caffe/util/math_functions.hpp</td>\n",
       "      <td>100.0</td>\n",
       "      <td>NaN</td>\n",
       "      <td>left_only</td>\n",
       "    </tr>\n",
       "    <tr>\n",
       "      <th>33</th>\n",
       "      <td>c/caffe/blob.hpp</td>\n",
       "      <td>73.0</td>\n",
       "      <td>NaN</td>\n",
       "      <td>left_only</td>\n",
       "    </tr>\n",
       "    <tr>\n",
       "      <th>35</th>\n",
       "      <td>c/caffe/test/test_solver_linear_regression.cpp</td>\n",
       "      <td>76.0</td>\n",
       "      <td>NaN</td>\n",
       "      <td>left_only</td>\n",
       "    </tr>\n",
       "    <tr>\n",
       "      <th>36</th>\n",
       "      <td>c/caffe/common.hpp</td>\n",
       "      <td>94.0</td>\n",
       "      <td>NaN</td>\n",
       "      <td>left_only</td>\n",
       "    </tr>\n",
       "    <tr>\n",
       "      <th>38</th>\n",
       "      <td>c/Makefile</td>\n",
       "      <td>78.0</td>\n",
       "      <td>NaN</td>\n",
       "      <td>left_only</td>\n",
       "    </tr>\n",
       "    <tr>\n",
       "      <th>40</th>\n",
       "      <td>c/caffe/net.hpp</td>\n",
       "      <td>87.0</td>\n",
       "      <td>NaN</td>\n",
       "      <td>left_only</td>\n",
       "    </tr>\n",
       "    <tr>\n",
       "      <th>44</th>\n",
       "      <td>c/caffe/test/test_net_proto.cpp</td>\n",
       "      <td>64.0</td>\n",
       "      <td>NaN</td>\n",
       "      <td>left_only</td>\n",
       "    </tr>\n",
       "    <tr>\n",
       "      <th>45</th>\n",
       "      <td>c/caffe/util/io.hpp</td>\n",
       "      <td>63.0</td>\n",
       "      <td>NaN</td>\n",
       "      <td>left_only</td>\n",
       "    </tr>\n",
       "    <tr>\n",
       "      <th>46</th>\n",
       "      <td>c/caffe/layer_factory.hpp</td>\n",
       "      <td>58.0</td>\n",
       "      <td>NaN</td>\n",
       "      <td>left_only</td>\n",
       "    </tr>\n",
       "    <tr>\n",
       "      <th>47</th>\n",
       "      <td>c/caffe/test/test_simple_conv.cpp</td>\n",
       "      <td>54.0</td>\n",
       "      <td>NaN</td>\n",
       "      <td>left_only</td>\n",
       "    </tr>\n",
       "    <tr>\n",
       "      <th>50</th>\n",
       "      <td>c/caffe/optimization/solver.hpp</td>\n",
       "      <td>41.0</td>\n",
       "      <td>NaN</td>\n",
       "      <td>left_only</td>\n",
       "    </tr>\n",
       "    <tr>\n",
       "      <th>51</th>\n",
       "      <td>c/caffe/syncedmem.hpp</td>\n",
       "      <td>35.0</td>\n",
       "      <td>NaN</td>\n",
       "      <td>left_only</td>\n",
       "    </tr>\n",
       "    <tr>\n",
       "      <th>53</th>\n",
       "      <td>c/caffe/test/data/mnist.py</td>\n",
       "      <td>30.0</td>\n",
       "      <td>NaN</td>\n",
       "      <td>left_only</td>\n",
       "    </tr>\n",
       "    <tr>\n",
       "      <th>54</th>\n",
       "      <td>c/caffe/util/im2col.hpp</td>\n",
       "      <td>30.0</td>\n",
       "      <td>NaN</td>\n",
       "      <td>left_only</td>\n",
       "    </tr>\n",
       "    <tr>\n",
       "      <th>57</th>\n",
       "      <td>c/caffe/test/data/simple_linear_regression_dat...</td>\n",
       "      <td>16.0</td>\n",
       "      <td>NaN</td>\n",
       "      <td>left_only</td>\n",
       "    </tr>\n",
       "    <tr>\n",
       "      <th>58</th>\n",
       "      <td>c/caffe/caffe.hpp</td>\n",
       "      <td>16.0</td>\n",
       "      <td>NaN</td>\n",
       "      <td>left_only</td>\n",
       "    </tr>\n",
       "  </tbody>\n",
       "</table>\n",
       "</div>"
      ],
      "text/plain": [
       "                                                   id  weight_x  weight_y  \\\n",
       "2                           c/caffe/vision_layers.hpp     350.0       NaN   \n",
       "13                    c/caffe/optimization/solver.cpp     138.0       NaN   \n",
       "14                                 c/caffe/filler.hpp     150.0       NaN   \n",
       "23                                  c/caffe/layer.hpp     121.0       NaN   \n",
       "26                 c/caffe/test/test_solver_mnist.cpp     108.0       NaN   \n",
       "30                   c/caffe/layers/softmax_layer.cpp      91.0       NaN   \n",
       "31                    c/caffe/util/math_functions.hpp     100.0       NaN   \n",
       "33                                   c/caffe/blob.hpp      73.0       NaN   \n",
       "35     c/caffe/test/test_solver_linear_regression.cpp      76.0       NaN   \n",
       "36                                 c/caffe/common.hpp      94.0       NaN   \n",
       "38                                         c/Makefile      78.0       NaN   \n",
       "40                                    c/caffe/net.hpp      87.0       NaN   \n",
       "44                    c/caffe/test/test_net_proto.cpp      64.0       NaN   \n",
       "45                                c/caffe/util/io.hpp      63.0       NaN   \n",
       "46                          c/caffe/layer_factory.hpp      58.0       NaN   \n",
       "47                  c/caffe/test/test_simple_conv.cpp      54.0       NaN   \n",
       "50                    c/caffe/optimization/solver.hpp      41.0       NaN   \n",
       "51                              c/caffe/syncedmem.hpp      35.0       NaN   \n",
       "53                         c/caffe/test/data/mnist.py      30.0       NaN   \n",
       "54                            c/caffe/util/im2col.hpp      30.0       NaN   \n",
       "57  c/caffe/test/data/simple_linear_regression_dat...      16.0       NaN   \n",
       "58                                  c/caffe/caffe.hpp      16.0       NaN   \n",
       "\n",
       "       _merge  \n",
       "2   left_only  \n",
       "13  left_only  \n",
       "14  left_only  \n",
       "23  left_only  \n",
       "26  left_only  \n",
       "30  left_only  \n",
       "31  left_only  \n",
       "33  left_only  \n",
       "35  left_only  \n",
       "36  left_only  \n",
       "38  left_only  \n",
       "40  left_only  \n",
       "44  left_only  \n",
       "45  left_only  \n",
       "46  left_only  \n",
       "47  left_only  \n",
       "50  left_only  \n",
       "51  left_only  \n",
       "53  left_only  \n",
       "54  left_only  \n",
       "57  left_only  \n",
       "58  left_only  "
      ]
     },
     "execution_count": 15,
     "metadata": {},
     "output_type": "execute_result"
    }
   ],
   "source": [
    "# How to find removals\n",
    "pd.merge(dfs[0], dfs[1], on='id', how='outer', indicator=True).query('_merge==\"left_only\"')"
   ]
  },
  {
   "cell_type": "code",
   "execution_count": 16,
   "metadata": {
    "papermill": {
     "duration": 0.043519,
     "end_time": "2017-11-12T19:41:10.311680",
     "exception": false,
     "start_time": "2017-11-12T19:41:10.268161",
     "status": "completed"
    },
    "tags": []
   },
   "outputs": [
    {
     "data": {
      "text/html": [
       "<div>\n",
       "<style scoped>\n",
       "    .dataframe tbody tr th:only-of-type {\n",
       "        vertical-align: middle;\n",
       "    }\n",
       "\n",
       "    .dataframe tbody tr th {\n",
       "        vertical-align: top;\n",
       "    }\n",
       "\n",
       "    .dataframe thead th {\n",
       "        text-align: right;\n",
       "    }\n",
       "</style>\n",
       "<table border=\"1\" class=\"dataframe\">\n",
       "  <thead>\n",
       "    <tr style=\"text-align: right;\">\n",
       "      <th></th>\n",
       "      <th>id</th>\n",
       "      <th>weight_x</th>\n",
       "      <th>weight_y</th>\n",
       "      <th>_merge</th>\n",
       "    </tr>\n",
       "  </thead>\n",
       "  <tbody>\n",
       "    <tr>\n",
       "      <th>60</th>\n",
       "      <td>clude/caffe/vision_layers.hpp</td>\n",
       "      <td>NaN</td>\n",
       "      <td>426.0</td>\n",
       "      <td>right_only</td>\n",
       "    </tr>\n",
       "    <tr>\n",
       "      <th>61</th>\n",
       "      <td>c/caffe/solver.cpp</td>\n",
       "      <td>NaN</td>\n",
       "      <td>276.0</td>\n",
       "      <td>right_only</td>\n",
       "    </tr>\n",
       "    <tr>\n",
       "      <th>62</th>\n",
       "      <td>c/caffe/test/test_stochastic_pooing.cpp</td>\n",
       "      <td>NaN</td>\n",
       "      <td>162.0</td>\n",
       "      <td>right_only</td>\n",
       "    </tr>\n",
       "    <tr>\n",
       "      <th>63</th>\n",
       "      <td>clude/caffe/filler.hpp</td>\n",
       "      <td>NaN</td>\n",
       "      <td>147.0</td>\n",
       "      <td>right_only</td>\n",
       "    </tr>\n",
       "    <tr>\n",
       "      <th>64</th>\n",
       "      <td>clude/caffe/layer.hpp</td>\n",
       "      <td>NaN</td>\n",
       "      <td>136.0</td>\n",
       "      <td>right_only</td>\n",
       "    </tr>\n",
       "    <tr>\n",
       "      <th>65</th>\n",
       "      <td>amples/convert_cifar_data.cpp</td>\n",
       "      <td>NaN</td>\n",
       "      <td>110.0</td>\n",
       "      <td>right_only</td>\n",
       "    </tr>\n",
       "    <tr>\n",
       "      <th>66</th>\n",
       "      <td>amples/convert_mnist_data.cpp</td>\n",
       "      <td>NaN</td>\n",
       "      <td>106.0</td>\n",
       "      <td>right_only</td>\n",
       "    </tr>\n",
       "    <tr>\n",
       "      <th>67</th>\n",
       "      <td>kefile</td>\n",
       "      <td>NaN</td>\n",
       "      <td>111.0</td>\n",
       "      <td>right_only</td>\n",
       "    </tr>\n",
       "    <tr>\n",
       "      <th>68</th>\n",
       "      <td>clude/caffe/util/math_functions.hpp</td>\n",
       "      <td>NaN</td>\n",
       "      <td>106.0</td>\n",
       "      <td>right_only</td>\n",
       "    </tr>\n",
       "    <tr>\n",
       "      <th>69</th>\n",
       "      <td>clude/caffe/common.hpp</td>\n",
       "      <td>NaN</td>\n",
       "      <td>120.0</td>\n",
       "      <td>right_only</td>\n",
       "    </tr>\n",
       "    <tr>\n",
       "      <th>70</th>\n",
       "      <td>amples/convert_imageset.cpp</td>\n",
       "      <td>NaN</td>\n",
       "      <td>85.0</td>\n",
       "      <td>right_only</td>\n",
       "    </tr>\n",
       "    <tr>\n",
       "      <th>71</th>\n",
       "      <td>clude/caffe/net.hpp</td>\n",
       "      <td>NaN</td>\n",
       "      <td>104.0</td>\n",
       "      <td>right_only</td>\n",
       "    </tr>\n",
       "    <tr>\n",
       "      <th>72</th>\n",
       "      <td>c/caffe/test/test_softmax_with_loss_layer.cpp</td>\n",
       "      <td>NaN</td>\n",
       "      <td>72.0</td>\n",
       "      <td>right_only</td>\n",
       "    </tr>\n",
       "    <tr>\n",
       "      <th>73</th>\n",
       "      <td>clude/caffe/blob.hpp</td>\n",
       "      <td>NaN</td>\n",
       "      <td>73.0</td>\n",
       "      <td>right_only</td>\n",
       "    </tr>\n",
       "    <tr>\n",
       "      <th>74</th>\n",
       "      <td>amples/demo_compute_image_mean.cpp</td>\n",
       "      <td>NaN</td>\n",
       "      <td>67.0</td>\n",
       "      <td>right_only</td>\n",
       "    </tr>\n",
       "    <tr>\n",
       "      <th>75</th>\n",
       "      <td>amples/dump_network.cpp</td>\n",
       "      <td>NaN</td>\n",
       "      <td>81.0</td>\n",
       "      <td>right_only</td>\n",
       "    </tr>\n",
       "    <tr>\n",
       "      <th>76</th>\n",
       "      <td>c/caffe/pyutil/drawnet.py</td>\n",
       "      <td>NaN</td>\n",
       "      <td>78.0</td>\n",
       "      <td>right_only</td>\n",
       "    </tr>\n",
       "    <tr>\n",
       "      <th>77</th>\n",
       "      <td>clude/caffe/syncedmem.hpp</td>\n",
       "      <td>NaN</td>\n",
       "      <td>76.0</td>\n",
       "      <td>right_only</td>\n",
       "    </tr>\n",
       "    <tr>\n",
       "      <th>78</th>\n",
       "      <td>amples/net_speed_benchmark.cpp</td>\n",
       "      <td>NaN</td>\n",
       "      <td>62.0</td>\n",
       "      <td>right_only</td>\n",
       "    </tr>\n",
       "    <tr>\n",
       "      <th>79</th>\n",
       "      <td>c/caffe/layer_factory.cpp</td>\n",
       "      <td>NaN</td>\n",
       "      <td>64.0</td>\n",
       "      <td>right_only</td>\n",
       "    </tr>\n",
       "    <tr>\n",
       "      <th>80</th>\n",
       "      <td>c/caffe/pyutil/translator/registerer.py</td>\n",
       "      <td>NaN</td>\n",
       "      <td>82.0</td>\n",
       "      <td>right_only</td>\n",
       "    </tr>\n",
       "    <tr>\n",
       "      <th>81</th>\n",
       "      <td>c/caffe/pyutil/imagenet/script_write_leveldb.py</td>\n",
       "      <td>NaN</td>\n",
       "      <td>70.0</td>\n",
       "      <td>right_only</td>\n",
       "    </tr>\n",
       "    <tr>\n",
       "      <th>82</th>\n",
       "      <td>clude/caffe/solver.hpp</td>\n",
       "      <td>NaN</td>\n",
       "      <td>69.0</td>\n",
       "      <td>right_only</td>\n",
       "    </tr>\n",
       "    <tr>\n",
       "      <th>83</th>\n",
       "      <td>amples/test_net.cpp</td>\n",
       "      <td>NaN</td>\n",
       "      <td>57.0</td>\n",
       "      <td>right_only</td>\n",
       "    </tr>\n",
       "    <tr>\n",
       "      <th>84</th>\n",
       "      <td>c/caffe/pyutil/imagenet/script_reshape_imagene...</td>\n",
       "      <td>NaN</td>\n",
       "      <td>41.0</td>\n",
       "      <td>right_only</td>\n",
       "    </tr>\n",
       "    <tr>\n",
       "      <th>85</th>\n",
       "      <td>c/caffe/pyutil/translator/translator_conv.py</td>\n",
       "      <td>NaN</td>\n",
       "      <td>43.0</td>\n",
       "      <td>right_only</td>\n",
       "    </tr>\n",
       "    <tr>\n",
       "      <th>86</th>\n",
       "      <td>clude/caffe/util/io.hpp</td>\n",
       "      <td>NaN</td>\n",
       "      <td>47.0</td>\n",
       "      <td>right_only</td>\n",
       "    </tr>\n",
       "    <tr>\n",
       "      <th>87</th>\n",
       "      <td>c/caffe/pyutil/translator/translator_pool.py</td>\n",
       "      <td>NaN</td>\n",
       "      <td>31.0</td>\n",
       "      <td>right_only</td>\n",
       "    </tr>\n",
       "    <tr>\n",
       "      <th>88</th>\n",
       "      <td>amples/test_read_imagenet.cpp</td>\n",
       "      <td>NaN</td>\n",
       "      <td>33.0</td>\n",
       "      <td>right_only</td>\n",
       "    </tr>\n",
       "    <tr>\n",
       "      <th>89</th>\n",
       "      <td>amples/train_net.cpp</td>\n",
       "      <td>NaN</td>\n",
       "      <td>40.0</td>\n",
       "      <td>right_only</td>\n",
       "    </tr>\n",
       "    <tr>\n",
       "      <th>90</th>\n",
       "      <td>clude/caffe/util/im2col.hpp</td>\n",
       "      <td>NaN</td>\n",
       "      <td>30.0</td>\n",
       "      <td>right_only</td>\n",
       "    </tr>\n",
       "    <tr>\n",
       "      <th>91</th>\n",
       "      <td>c/caffe/pyutil/translator/translator_fc.py</td>\n",
       "      <td>NaN</td>\n",
       "      <td>25.0</td>\n",
       "      <td>right_only</td>\n",
       "    </tr>\n",
       "    <tr>\n",
       "      <th>92</th>\n",
       "      <td>c/caffe/pyutil/translator/translator_neuron.py</td>\n",
       "      <td>NaN</td>\n",
       "      <td>25.0</td>\n",
       "      <td>right_only</td>\n",
       "    </tr>\n",
       "    <tr>\n",
       "      <th>93</th>\n",
       "      <td>clude/caffe/caffe.hpp</td>\n",
       "      <td>NaN</td>\n",
       "      <td>19.0</td>\n",
       "      <td>right_only</td>\n",
       "    </tr>\n",
       "    <tr>\n",
       "      <th>94</th>\n",
       "      <td>ta/get_mnist.sh</td>\n",
       "      <td>NaN</td>\n",
       "      <td>18.0</td>\n",
       "      <td>right_only</td>\n",
       "    </tr>\n",
       "    <tr>\n",
       "      <th>95</th>\n",
       "      <td>c/caffe/pyutil/translator/translator_cmrnorm.py</td>\n",
       "      <td>NaN</td>\n",
       "      <td>20.0</td>\n",
       "      <td>right_only</td>\n",
       "    </tr>\n",
       "    <tr>\n",
       "      <th>96</th>\n",
       "      <td>c/caffe/pyutil/translator/translator_softmax.py</td>\n",
       "      <td>NaN</td>\n",
       "      <td>13.0</td>\n",
       "      <td>right_only</td>\n",
       "    </tr>\n",
       "    <tr>\n",
       "      <th>97</th>\n",
       "      <td>c/caffe/pyutil/translator/__init__.py</td>\n",
       "      <td>NaN</td>\n",
       "      <td>18.0</td>\n",
       "      <td>right_only</td>\n",
       "    </tr>\n",
       "    <tr>\n",
       "      <th>98</th>\n",
       "      <td>ta/get_cifar.sh</td>\n",
       "      <td>NaN</td>\n",
       "      <td>12.0</td>\n",
       "      <td>right_only</td>\n",
       "    </tr>\n",
       "  </tbody>\n",
       "</table>\n",
       "</div>"
      ],
      "text/plain": [
       "                                                   id  weight_x  weight_y  \\\n",
       "60                      clude/caffe/vision_layers.hpp       NaN     426.0   \n",
       "61                                 c/caffe/solver.cpp       NaN     276.0   \n",
       "62            c/caffe/test/test_stochastic_pooing.cpp       NaN     162.0   \n",
       "63                             clude/caffe/filler.hpp       NaN     147.0   \n",
       "64                              clude/caffe/layer.hpp       NaN     136.0   \n",
       "65                      amples/convert_cifar_data.cpp       NaN     110.0   \n",
       "66                      amples/convert_mnist_data.cpp       NaN     106.0   \n",
       "67                                             kefile       NaN     111.0   \n",
       "68                clude/caffe/util/math_functions.hpp       NaN     106.0   \n",
       "69                             clude/caffe/common.hpp       NaN     120.0   \n",
       "70                        amples/convert_imageset.cpp       NaN      85.0   \n",
       "71                                clude/caffe/net.hpp       NaN     104.0   \n",
       "72      c/caffe/test/test_softmax_with_loss_layer.cpp       NaN      72.0   \n",
       "73                               clude/caffe/blob.hpp       NaN      73.0   \n",
       "74                 amples/demo_compute_image_mean.cpp       NaN      67.0   \n",
       "75                            amples/dump_network.cpp       NaN      81.0   \n",
       "76                          c/caffe/pyutil/drawnet.py       NaN      78.0   \n",
       "77                          clude/caffe/syncedmem.hpp       NaN      76.0   \n",
       "78                     amples/net_speed_benchmark.cpp       NaN      62.0   \n",
       "79                          c/caffe/layer_factory.cpp       NaN      64.0   \n",
       "80            c/caffe/pyutil/translator/registerer.py       NaN      82.0   \n",
       "81    c/caffe/pyutil/imagenet/script_write_leveldb.py       NaN      70.0   \n",
       "82                             clude/caffe/solver.hpp       NaN      69.0   \n",
       "83                                amples/test_net.cpp       NaN      57.0   \n",
       "84  c/caffe/pyutil/imagenet/script_reshape_imagene...       NaN      41.0   \n",
       "85       c/caffe/pyutil/translator/translator_conv.py       NaN      43.0   \n",
       "86                            clude/caffe/util/io.hpp       NaN      47.0   \n",
       "87       c/caffe/pyutil/translator/translator_pool.py       NaN      31.0   \n",
       "88                      amples/test_read_imagenet.cpp       NaN      33.0   \n",
       "89                               amples/train_net.cpp       NaN      40.0   \n",
       "90                        clude/caffe/util/im2col.hpp       NaN      30.0   \n",
       "91         c/caffe/pyutil/translator/translator_fc.py       NaN      25.0   \n",
       "92     c/caffe/pyutil/translator/translator_neuron.py       NaN      25.0   \n",
       "93                              clude/caffe/caffe.hpp       NaN      19.0   \n",
       "94                                    ta/get_mnist.sh       NaN      18.0   \n",
       "95    c/caffe/pyutil/translator/translator_cmrnorm.py       NaN      20.0   \n",
       "96    c/caffe/pyutil/translator/translator_softmax.py       NaN      13.0   \n",
       "97              c/caffe/pyutil/translator/__init__.py       NaN      18.0   \n",
       "98                                    ta/get_cifar.sh       NaN      12.0   \n",
       "\n",
       "        _merge  \n",
       "60  right_only  \n",
       "61  right_only  \n",
       "62  right_only  \n",
       "63  right_only  \n",
       "64  right_only  \n",
       "65  right_only  \n",
       "66  right_only  \n",
       "67  right_only  \n",
       "68  right_only  \n",
       "69  right_only  \n",
       "70  right_only  \n",
       "71  right_only  \n",
       "72  right_only  \n",
       "73  right_only  \n",
       "74  right_only  \n",
       "75  right_only  \n",
       "76  right_only  \n",
       "77  right_only  \n",
       "78  right_only  \n",
       "79  right_only  \n",
       "80  right_only  \n",
       "81  right_only  \n",
       "82  right_only  \n",
       "83  right_only  \n",
       "84  right_only  \n",
       "85  right_only  \n",
       "86  right_only  \n",
       "87  right_only  \n",
       "88  right_only  \n",
       "89  right_only  \n",
       "90  right_only  \n",
       "91  right_only  \n",
       "92  right_only  \n",
       "93  right_only  \n",
       "94  right_only  \n",
       "95  right_only  \n",
       "96  right_only  \n",
       "97  right_only  \n",
       "98  right_only  "
      ]
     },
     "execution_count": 16,
     "metadata": {},
     "output_type": "execute_result"
    }
   ],
   "source": [
    "# How to find additions\n",
    "pd.merge(dfs[0], dfs[1], on='id', how='outer', indicator=True).query('_merge==\"right_only\"')\n",
    "# len(pd.merge...) to get the number of additions/deletions"
   ]
  },
  {
   "cell_type": "code",
   "execution_count": 17,
   "metadata": {
    "papermill": {
     "duration": 1.162651,
     "end_time": "2017-11-12T19:41:11.474503",
     "exception": false,
     "start_time": "2017-11-12T19:41:10.311852",
     "status": "completed"
    },
    "tags": []
   },
   "outputs": [
    {
     "data": {
      "text/plain": [
       "<matplotlib.text.Text at 0x7f6c7c83de48>"
      ]
     },
     "execution_count": 17,
     "metadata": {},
     "output_type": "execute_result"
    },
    {
     "data": {
      "image/png": "[encoded data removed]",
      "text/plain": [
       "<matplotlib.figure.Figure at 0x7f6c7c867c18>"
      ]
     },
     "metadata": {},
     "output_type": "display_data"
    }
   ],
   "source": [
    "fig, ax = plt.subplots()\n",
    "\n",
    "n_additions = []\n",
    "n_removals = []\n",
    "for i in range(1, n_revisions):\n",
    "    n_additions.append(\n",
    "        len(pd.merge(dfs[i-1], dfs[i], on='id', how='outer', indicator=True)\n",
    "            .query('_merge==\"right_only\"')))\n",
    "    n_removals.append(\n",
    "        -len(pd.merge(dfs[i-1], dfs[i], on='id', how='outer', indicator=True)\n",
    "            .query('_merge==\"left_only\"')))\n",
    "x = range(0, n_revisions - 1)\n",
    "ax.bar(x ,n_additions, width=1, color='b')\n",
    "ax.bar(x, n_removals, width=1, color='r')\n",
    "\n",
    "fig.suptitle(\"Item change evolution\")\n",
    "plt.ylabel('Removals - Additions')\n",
    "plt.xlabel('Revision')\n",
    "\n"
   ]
  },
  {
   "cell_type": "markdown",
   "metadata": {
    "papermill": {
     "duration": 1.2e-05,
     "end_time": "2017-11-12T19:41:11.474608",
     "exception": false,
     "start_time": "2017-11-12T19:41:11.474596",
     "status": "completed"
    },
    "tags": []
   },
   "source": [
    "## Sum of cell's change in weight (stability)"
   ]
  },
  {
   "cell_type": "code",
   "execution_count": 18,
   "metadata": {
    "papermill": {
     "duration": 0.866283,
     "end_time": "2017-11-12T19:41:12.364068",
     "exception": false,
     "start_time": "2017-11-12T19:41:11.497785",
     "status": "completed"
    },
    "tags": []
   },
   "outputs": [
    {
     "data": {
      "text/plain": [
       "<matplotlib.text.Text at 0x7f6c7c79aa90>"
      ]
     },
     "execution_count": 18,
     "metadata": {},
     "output_type": "execute_result"
    },
    {
     "data": {
      "image/png": "[encoded data removed]",
      "text/plain": [
       "<matplotlib.figure.Figure at 0x7f6c7c86a898>"
      ]
     },
     "metadata": {},
     "output_type": "display_data"
    }
   ],
   "source": [
    "fig = plt.figure()\n",
    "change = [0.0] * n_revisions\n",
    "for index, row in df_full.fillna(0).iterrows():\n",
    "    for j in range (2, len(row)):\n",
    "        change[j-1] += abs(row[j] - row[j-1])\n",
    "\n",
    "plt.plot(change)\n",
    "fig.suptitle(\"Instability\")\n",
    "plt.ylabel('Weight change')\n",
    "plt.xlabel('Revision')\n",
    "    "
   ]
  }
 ],
 "metadata": {
  "celltoolbar": "Tags",
  "kernelspec": {
   "display_name": "Python 2",
   "language": "python",
   "name": "python2"
  },
  "language_info": {
   "codemirror_mode": {
    "name": "ipython",
    "version": 3
   },
   "file_extension": ".py",
   "mimetype": "text/x-python",
   "name": "python",
   "nbconvert_exporter": "python",
   "pygments_lexer": "ipython3",
   "version": "3.5.2"
  },
  "papermill": {
   "duration": 6.433446,
   "end_time": "2017-11-12T19:41:13.703916",
   "environment_variables": {},
   "exception": false,
   "output_path": "dataset-info/caffe.ipynb",
   "parameters": {
    "input_dir": "dataset/caffe"
   },
   "start_time": "2017-11-12T19:41:07.270470",
   "version": "0.10.0"
  }
 },
 "nbformat": 4,
 "nbformat_minor": 1
}