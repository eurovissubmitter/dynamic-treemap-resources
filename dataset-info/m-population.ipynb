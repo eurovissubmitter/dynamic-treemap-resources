{
 "cells": [
  {
   "cell_type": "markdown",
   "metadata": {
    "papermill": {
     "duration": 0.00058,
     "end_time": "2017-11-12T19:47:23.981993",
     "exception": false,
     "start_time": "2017-11-12T19:47:23.981413",
     "status": "completed"
    },
    "tags": []
   },
   "source": [
    "# Dataset analysis\n",
    "To generate results for every dataset in the `dataset` folder, run:\n",
    "```\n",
    "for dataset in $(find dataset/* -maxdepth 0 -type d); do papermill dataset-info/DatasetBase.ipynb dataset-info/$(basename $dataset).ipynb -p input_dir $dataset; done\n",
    "```"
   ]
  },
  {
   "cell_type": "code",
   "execution_count": 1,
   "metadata": {
    "papermill": {
     "duration": 0.623795,
     "end_time": "2017-11-12T19:47:24.615540",
     "exception": false,
     "start_time": "2017-11-12T19:47:23.991745",
     "status": "completed"
    },
    "tags": []
   },
   "outputs": [],
   "source": [
    "import matplotlib.pyplot as plt\n",
    "import re, os\n",
    "import papermill as pm\n",
    "%matplotlib inline"
   ]
  },
  {
   "cell_type": "code",
   "execution_count": 2,
   "metadata": {
    "papermill": {
     "duration": 0.01798,
     "end_time": "2017-11-12T19:47:24.633722",
     "exception": false,
     "start_time": "2017-11-12T19:47:24.615742",
     "status": "completed"
    },
    "tags": [
     "parameters"
    ]
   },
   "outputs": [],
   "source": [
    "# Parameters\n",
    "input_dir = \"dataset/m-population\"\n"
   ]
  },
  {
   "cell_type": "code",
   "execution_count": 3,
   "metadata": {
    "papermill": {
     "duration": 0.023873,
     "end_time": "2017-11-12T19:47:24.657693",
     "exception": false,
     "start_time": "2017-11-12T19:47:24.633820",
     "status": "completed"
    },
    "tags": []
   },
   "outputs": [],
   "source": [
    "# Make a regex to extract dataset name\n",
    "import re\n",
    "\n",
    "matchObj = re.match( r'.*/(.*)', input_dir, re.M|re.I)\n",
    "if matchObj:\n",
    "    dataset_id = matchObj.group(1)\n",
    "    dataset_id"
   ]
  },
  {
   "cell_type": "code",
   "execution_count": 4,
   "metadata": {
    "papermill": {
     "duration": 0.021121,
     "end_time": "2017-11-12T19:47:24.678905",
     "exception": false,
     "start_time": "2017-11-12T19:47:24.657784",
     "status": "completed"
    },
    "tags": []
   },
   "outputs": [],
   "source": [
    "def natural_sort(l):\n",
    "    convert = lambda text: int(text) if text.isdigit() else text.lower()\n",
    "    alphanum_key = lambda key: [convert(c) for c in re.split('([0-9]+)', key)]\n",
    "    return sorted(l, key=alphanum_key)"
   ]
  },
  {
   "cell_type": "code",
   "execution_count": 5,
   "metadata": {
    "papermill": {
     "duration": 0.030152,
     "end_time": "2017-11-12T19:47:24.709198",
     "exception": false,
     "start_time": "2017-11-12T19:47:24.679046",
     "status": "completed"
    },
    "tags": []
   },
   "outputs": [
    {
     "data": {
      "text/plain": [
       "['dataset/m-population/population.1.csv',\n",
       " 'dataset/m-population/population.2.csv',\n",
       " 'dataset/m-population/population.3.csv',\n",
       " 'dataset/m-population/population.4.csv',\n",
       " 'dataset/m-population/population.5.csv']"
      ]
     },
     "execution_count": 5,
     "metadata": {},
     "output_type": "execute_result"
    }
   ],
   "source": [
    "# List files in input_dir in natural order\n",
    "files = [os.path.join(input_dir, f) for f in os.listdir(input_dir) if os.path.isfile(os.path.join(input_dir, f))]\n",
    "files = natural_sort(files)\n",
    "files[0:5]"
   ]
  },
  {
   "cell_type": "code",
   "execution_count": 6,
   "metadata": {
    "papermill": {
     "duration": 0.052058,
     "end_time": "2017-11-12T19:47:24.761351",
     "exception": false,
     "start_time": "2017-11-12T19:47:24.709293",
     "status": "completed"
    },
    "tags": []
   },
   "outputs": [],
   "source": [
    "import pandas as pd\n",
    "n_revisions = len(files)\n",
    "dfs = [pd.read_csv(file) for file in files]"
   ]
  },
  {
   "cell_type": "code",
   "execution_count": 7,
   "metadata": {
    "papermill": {
     "duration": 0.036646,
     "end_time": "2017-11-12T19:47:24.798180",
     "exception": false,
     "start_time": "2017-11-12T19:47:24.761534",
     "status": "completed"
    },
    "tags": []
   },
   "outputs": [
    {
     "data": {
      "text/html": [
       "<div>\n",
       "<style scoped>\n",
       "    .dataframe tbody tr th:only-of-type {\n",
       "        vertical-align: middle;\n",
       "    }\n",
       "\n",
       "    .dataframe tbody tr th {\n",
       "        vertical-align: top;\n",
       "    }\n",
       "\n",
       "    .dataframe thead th {\n",
       "        text-align: right;\n",
       "    }\n",
       "</style>\n",
       "<table border=\"1\" class=\"dataframe\">\n",
       "  <thead>\n",
       "    <tr style=\"text-align: right;\">\n",
       "      <th></th>\n",
       "      <th>id</th>\n",
       "      <th>weight</th>\n",
       "    </tr>\n",
       "  </thead>\n",
       "  <tbody>\n",
       "    <tr>\n",
       "      <th>0</th>\n",
       "      <td>Albania</td>\n",
       "      <td>3.289483</td>\n",
       "    </tr>\n",
       "    <tr>\n",
       "      <th>1</th>\n",
       "      <td>Armenia</td>\n",
       "      <td>3.544695</td>\n",
       "    </tr>\n",
       "    <tr>\n",
       "      <th>2</th>\n",
       "      <td>Austria</td>\n",
       "      <td>7.670513</td>\n",
       "    </tr>\n",
       "    <tr>\n",
       "      <th>3</th>\n",
       "      <td>Azerbaijan</td>\n",
       "      <td>7.211692</td>\n",
       "    </tr>\n",
       "    <tr>\n",
       "      <th>4</th>\n",
       "      <td>Belgium</td>\n",
       "      <td>9.949019</td>\n",
       "    </tr>\n",
       "  </tbody>\n",
       "</table>\n",
       "</div>"
      ],
      "text/plain": [
       "           id    weight\n",
       "0     Albania  3.289483\n",
       "1     Armenia  3.544695\n",
       "2     Austria  7.670513\n",
       "3  Azerbaijan  7.211692\n",
       "4     Belgium  9.949019"
      ]
     },
     "execution_count": 7,
     "metadata": {},
     "output_type": "execute_result"
    }
   ],
   "source": [
    "dfs[0].head()"
   ]
  },
  {
   "cell_type": "code",
   "execution_count": 8,
   "metadata": {
    "papermill": {
     "duration": 0.092194,
     "end_time": "2017-11-12T19:47:24.890476",
     "exception": false,
     "start_time": "2017-11-12T19:47:24.798282",
     "status": "completed"
    },
    "tags": []
   },
   "outputs": [],
   "source": [
    "from functools import reduce\n",
    "# Outer join of files  \n",
    "df_full = reduce((lambda x, y: pd.merge(x, y, how='outer', on='id')), dfs)"
   ]
  },
  {
   "cell_type": "code",
   "execution_count": 9,
   "metadata": {
    "papermill": {
     "duration": 0.032139,
     "end_time": "2017-11-12T19:47:24.922885",
     "exception": false,
     "start_time": "2017-11-12T19:47:24.890746",
     "status": "completed"
    },
    "tags": []
   },
   "outputs": [],
   "source": [
    "# Rename columns\n",
    "df_full.columns = ['id'] + ['t'+str(i) for i in range(df_full.shape[1]-1)]"
   ]
  },
  {
   "cell_type": "code",
   "execution_count": 10,
   "metadata": {
    "papermill": {
     "duration": 0.043652,
     "end_time": "2017-11-12T19:47:24.966628",
     "exception": false,
     "start_time": "2017-11-12T19:47:24.922976",
     "status": "completed"
    },
    "scrolled": true,
    "tags": []
   },
   "outputs": [
    {
     "data": {
      "text/html": [
       "<div>\n",
       "<style scoped>\n",
       "    .dataframe tbody tr th:only-of-type {\n",
       "        vertical-align: middle;\n",
       "    }\n",
       "\n",
       "    .dataframe tbody tr th {\n",
       "        vertical-align: top;\n",
       "    }\n",
       "\n",
       "    .dataframe thead th {\n",
       "        text-align: right;\n",
       "    }\n",
       "</style>\n",
       "<table border=\"1\" class=\"dataframe\">\n",
       "  <thead>\n",
       "    <tr style=\"text-align: right;\">\n",
       "      <th></th>\n",
       "      <th>id</th>\n",
       "      <th>t0</th>\n",
       "      <th>t1</th>\n",
       "      <th>t2</th>\n",
       "      <th>t3</th>\n",
       "      <th>t4</th>\n",
       "      <th>t5</th>\n",
       "      <th>t6</th>\n",
       "      <th>t7</th>\n",
       "      <th>t8</th>\n",
       "      <th>...</th>\n",
       "      <th>t12</th>\n",
       "      <th>t13</th>\n",
       "      <th>t14</th>\n",
       "      <th>t15</th>\n",
       "      <th>t16</th>\n",
       "      <th>t17</th>\n",
       "      <th>t18</th>\n",
       "      <th>t19</th>\n",
       "      <th>t20</th>\n",
       "      <th>t21</th>\n",
       "    </tr>\n",
       "  </thead>\n",
       "  <tbody>\n",
       "    <tr>\n",
       "      <th>0</th>\n",
       "      <td>Albania</td>\n",
       "      <td>3.289483</td>\n",
       "      <td>3.291695</td>\n",
       "      <td>3.266983</td>\n",
       "      <td>3.224901</td>\n",
       "      <td>3.179442</td>\n",
       "      <td>3.141102</td>\n",
       "      <td>3.112597</td>\n",
       "      <td>3.091902</td>\n",
       "      <td>3.079037</td>\n",
       "      <td>...</td>\n",
       "      <td>3.089778</td>\n",
       "      <td>3.106701</td>\n",
       "      <td>3.124861</td>\n",
       "      <td>3.141800</td>\n",
       "      <td>3.156607</td>\n",
       "      <td>3.169665</td>\n",
       "      <td>3.181397</td>\n",
       "      <td>3.192723</td>\n",
       "      <td>3.204284</td>\n",
       "      <td>3.215988</td>\n",
       "    </tr>\n",
       "    <tr>\n",
       "      <th>1</th>\n",
       "      <td>Armenia</td>\n",
       "      <td>3.544695</td>\n",
       "      <td>3.512051</td>\n",
       "      <td>3.449940</td>\n",
       "      <td>3.370373</td>\n",
       "      <td>3.290540</td>\n",
       "      <td>3.223173</td>\n",
       "      <td>3.172185</td>\n",
       "      <td>3.134836</td>\n",
       "      <td>3.109101</td>\n",
       "      <td>...</td>\n",
       "      <td>3.061067</td>\n",
       "      <td>3.060554</td>\n",
       "      <td>3.062612</td>\n",
       "      <td>3.065954</td>\n",
       "      <td>3.069844</td>\n",
       "      <td>3.074181</td>\n",
       "      <td>3.079087</td>\n",
       "      <td>3.084979</td>\n",
       "      <td>3.092072</td>\n",
       "      <td>3.100236</td>\n",
       "    </tr>\n",
       "    <tr>\n",
       "      <th>2</th>\n",
       "      <td>Austria</td>\n",
       "      <td>7.670513</td>\n",
       "      <td>7.719577</td>\n",
       "      <td>7.778255</td>\n",
       "      <td>7.839625</td>\n",
       "      <td>7.894229</td>\n",
       "      <td>7.935624</td>\n",
       "      <td>7.960464</td>\n",
       "      <td>7.971553</td>\n",
       "      <td>7.976117</td>\n",
       "      <td>...</td>\n",
       "      <td>8.083059</td>\n",
       "      <td>8.134235</td>\n",
       "      <td>8.185553</td>\n",
       "      <td>8.232196</td>\n",
       "      <td>8.273208</td>\n",
       "      <td>8.309783</td>\n",
       "      <td>8.341806</td>\n",
       "      <td>8.369639</td>\n",
       "      <td>8.393644</td>\n",
       "      <td>8.413429</td>\n",
       "    </tr>\n",
       "    <tr>\n",
       "      <th>3</th>\n",
       "      <td>Azerbaijan</td>\n",
       "      <td>7.211692</td>\n",
       "      <td>7.327570</td>\n",
       "      <td>7.445925</td>\n",
       "      <td>7.562075</td>\n",
       "      <td>7.669735</td>\n",
       "      <td>7.764798</td>\n",
       "      <td>7.845310</td>\n",
       "      <td>7.913692</td>\n",
       "      <td>7.975648</td>\n",
       "      <td>...</td>\n",
       "      <td>8.280252</td>\n",
       "      <td>8.376733</td>\n",
       "      <td>8.479668</td>\n",
       "      <td>8.587902</td>\n",
       "      <td>8.701719</td>\n",
       "      <td>8.821012</td>\n",
       "      <td>8.943600</td>\n",
       "      <td>9.066604</td>\n",
       "      <td>9.187783</td>\n",
       "      <td>9.306023</td>\n",
       "    </tr>\n",
       "    <tr>\n",
       "      <th>4</th>\n",
       "      <td>Belgium</td>\n",
       "      <td>9.949019</td>\n",
       "      <td>9.976325</td>\n",
       "      <td>10.004469</td>\n",
       "      <td>10.032084</td>\n",
       "      <td>10.057529</td>\n",
       "      <td>10.079873</td>\n",
       "      <td>10.098192</td>\n",
       "      <td>10.113392</td>\n",
       "      <td>10.128653</td>\n",
       "      <td>...</td>\n",
       "      <td>10.254025</td>\n",
       "      <td>10.303108</td>\n",
       "      <td>10.356993</td>\n",
       "      <td>10.414209</td>\n",
       "      <td>10.474993</td>\n",
       "      <td>10.538758</td>\n",
       "      <td>10.602167</td>\n",
       "      <td>10.660938</td>\n",
       "      <td>10.712066</td>\n",
       "      <td>10.754056</td>\n",
       "    </tr>\n",
       "  </tbody>\n",
       "</table>\n",
       "<p>5 rows × 23 columns</p>\n",
       "</div>"
      ],
      "text/plain": [
       "           id        t0        t1         t2         t3         t4         t5  \\\n",
       "0     Albania  3.289483  3.291695   3.266983   3.224901   3.179442   3.141102   \n",
       "1     Armenia  3.544695  3.512051   3.449940   3.370373   3.290540   3.223173   \n",
       "2     Austria  7.670513  7.719577   7.778255   7.839625   7.894229   7.935624   \n",
       "3  Azerbaijan  7.211692  7.327570   7.445925   7.562075   7.669735   7.764798   \n",
       "4     Belgium  9.949019  9.976325  10.004469  10.032084  10.057529  10.079873   \n",
       "\n",
       "          t6         t7         t8    ...            t12        t13  \\\n",
       "0   3.112597   3.091902   3.079037    ...       3.089778   3.106701   \n",
       "1   3.172185   3.134836   3.109101    ...       3.061067   3.060554   \n",
       "2   7.960464   7.971553   7.976117    ...       8.083059   8.134235   \n",
       "3   7.845310   7.913692   7.975648    ...       8.280252   8.376733   \n",
       "4  10.098192  10.113392  10.128653    ...      10.254025  10.303108   \n",
       "\n",
       "         t14        t15        t16        t17        t18        t19  \\\n",
       "0   3.124861   3.141800   3.156607   3.169665   3.181397   3.192723   \n",
       "1   3.062612   3.065954   3.069844   3.074181   3.079087   3.084979   \n",
       "2   8.185553   8.232196   8.273208   8.309783   8.341806   8.369639   \n",
       "3   8.479668   8.587902   8.701719   8.821012   8.943600   9.066604   \n",
       "4  10.356993  10.414209  10.474993  10.538758  10.602167  10.660938   \n",
       "\n",
       "         t20        t21  \n",
       "0   3.204284   3.215988  \n",
       "1   3.092072   3.100236  \n",
       "2   8.393644   8.413429  \n",
       "3   9.187783   9.306023  \n",
       "4  10.712066  10.754056  \n",
       "\n",
       "[5 rows x 23 columns]"
      ]
     },
     "execution_count": 10,
     "metadata": {},
     "output_type": "execute_result"
    }
   ],
   "source": [
    "df_full.head()"
   ]
  },
  {
   "cell_type": "code",
   "execution_count": 11,
   "metadata": {
    "papermill": {
     "duration": 0.318702,
     "end_time": "2017-11-12T19:47:25.285419",
     "exception": false,
     "start_time": "2017-11-12T19:47:24.966717",
     "status": "completed"
    },
    "tags": []
   },
   "outputs": [],
   "source": [
    "from collections import defaultdict\n",
    "import networkx as nx\n",
    "\n",
    "FILE_MARKER = '<files>'\n",
    "\n",
    "def attach(branch, trunk):\n",
    "    parts = branch.split('/', 1)\n",
    "    if len(parts) == 1:  # branch is a file\n",
    "        trunk[FILE_MARKER].append(parts[0])\n",
    "    else:\n",
    "        node, others = parts\n",
    "        if node not in trunk:\n",
    "            trunk[node] = defaultdict(dict, ((FILE_MARKER, []),))\n",
    "        attach(others, trunk[node])\n",
    "\n",
    "def build_adjacency_list(d, id, result):\n",
    "    for key in d.keys():\n",
    "        if key != FILE_MARKER:\n",
    "            result.append((id, id + key))\n",
    "            build_adjacency_list(d[key], id + key, result)\n",
    "        else:\n",
    "            for file in d[key]:\n",
    "                result.append((id, id + file))\n",
    "\n",
    "        \n",
    "def plot_tree(id_list):\n",
    "    \n",
    "    keys = sorted(id_list)\n",
    "\n",
    "    main_dict = defaultdict(dict, ((FILE_MARKER, []),))\n",
    "    for line in keys:\n",
    "        attach(line, main_dict)\n",
    "\n",
    "    # _create adjacency list\n",
    "    result = []\n",
    "    build_adjacency_list(main_dict, \"ROOT\", result)\n",
    "\n",
    "    G = nx.DiGraph()\n",
    "    G.add_edges_from(result)\n",
    "    # write dot file to use with graphviz\n",
    "    # run \"dot -_tpng test.dot >test.png\"\n",
    "    # nx.nx_agraph.write_dot(_g, 'test.dot')\n",
    "\n",
    "    # same layout using matplotlib with no labels\n",
    "    pos = nx.nx_agraph.graphviz_layout(G, prog='dot')\n",
    "    nx.draw(G, pos, with_labels=False, arrows=False, node_size=2)\n",
    "\n"
   ]
  },
  {
   "cell_type": "markdown",
   "metadata": {
    "papermill": {
     "duration": 2.9e-05,
     "end_time": "2017-11-12T19:47:25.285849",
     "exception": false,
     "start_time": "2017-11-12T19:47:25.285820",
     "status": "completed"
    },
    "tags": []
   },
   "source": [
    "## Union tree of all revisions"
   ]
  },
  {
   "cell_type": "code",
   "execution_count": 12,
   "metadata": {
    "papermill": {
     "duration": 0.195284,
     "end_time": "2017-11-12T19:47:25.496156",
     "exception": false,
     "start_time": "2017-11-12T19:47:25.300872",
     "status": "completed"
    },
    "scrolled": true,
    "tags": []
   },
   "outputs": [
    {
     "data": {
      "image/png": "[encoded data removed]",
      "text/plain": [
       "<matplotlib.figure.Figure at 0x7ff03a1652b0>"
      ]
     },
     "metadata": {},
     "output_type": "display_data"
    }
   ],
   "source": [
    "tree_fig = plt.figure(0)\n",
    "tree_fig.suptitle(dataset_id)\n",
    "plt.axis('off')\n",
    "plot_tree(df_full['id'].tolist())\n",
    "#pm.display('tree', tree_fig)\n",
    "\n"
   ]
  },
  {
   "cell_type": "markdown",
   "metadata": {
    "papermill": {
     "duration": 1.4e-05,
     "end_time": "2017-11-12T19:47:25.496350",
     "exception": false,
     "start_time": "2017-11-12T19:47:25.496336",
     "status": "completed"
    },
    "tags": []
   },
   "source": [
    "# Evolution"
   ]
  },
  {
   "cell_type": "markdown",
   "metadata": {
    "papermill": {
     "duration": 3.9e-05,
     "end_time": "2017-11-12T19:47:25.512369",
     "exception": false,
     "start_time": "2017-11-12T19:47:25.512330",
     "status": "completed"
    },
    "tags": []
   },
   "source": [
    "## Items count"
   ]
  },
  {
   "cell_type": "code",
   "execution_count": 13,
   "metadata": {
    "papermill": {
     "duration": 0.168623,
     "end_time": "2017-11-12T19:47:25.698381",
     "exception": false,
     "start_time": "2017-11-12T19:47:25.529758",
     "status": "completed"
    },
    "tags": []
   },
   "outputs": [
    {
     "data": {
      "image/png": "[encoded data removed]",
      "text/plain": [
       "<matplotlib.figure.Figure at 0x7ff034720b00>"
      ]
     },
     "metadata": {},
     "output_type": "display_data"
    }
   ],
   "source": [
    "def plot_item_count():\n",
    "    n_items = [len(df) for df in dfs]\n",
    "    plt.plot(n_items)\n",
    "\n",
    "fig = plt.figure()\n",
    "fig.suptitle(\"Item count\")\n",
    "plt.ylabel('Number of items')\n",
    "plt.xlabel('Revision')\n",
    "\n",
    "plot_item_count()"
   ]
  },
  {
   "cell_type": "markdown",
   "metadata": {
    "papermill": {
     "duration": 3.2e-05,
     "end_time": "2017-11-12T19:47:25.698619",
     "exception": false,
     "start_time": "2017-11-12T19:47:25.698587",
     "status": "completed"
    },
    "tags": []
   },
   "source": [
    "## Weight count"
   ]
  },
  {
   "cell_type": "code",
   "execution_count": 14,
   "metadata": {
    "papermill": {
     "duration": 0.179392,
     "end_time": "2017-11-12T19:47:25.894795",
     "exception": false,
     "start_time": "2017-11-12T19:47:25.715403",
     "status": "completed"
    },
    "tags": []
   },
   "outputs": [
    {
     "data": {
      "image/png": "[encoded data removed]",
      "text/plain": [
       "<matplotlib.figure.Figure at 0x7ff03474b8d0>"
      ]
     },
     "metadata": {},
     "output_type": "display_data"
    }
   ],
   "source": [
    "def plot_weight():\n",
    "    total_weight = [sum(df['weight']) for df in dfs]\n",
    "    plt.plot(total_weight)\n",
    "\n",
    "fig = plt.figure()\n",
    "fig.suptitle(\"Weight evolution\")\n",
    "plt.ylabel('Total weight')\n",
    "plt.xlabel('Revision')\n",
    "plot_weight()"
   ]
  },
  {
   "cell_type": "markdown",
   "metadata": {
    "papermill": {
     "duration": 1.3e-05,
     "end_time": "2017-11-12T19:47:25.894984",
     "exception": false,
     "start_time": "2017-11-12T19:47:25.894971",
     "status": "completed"
    },
    "tags": []
   },
   "source": [
    "## Addition and removal of items"
   ]
  },
  {
   "cell_type": "code",
   "execution_count": 15,
   "metadata": {
    "papermill": {
     "duration": 0.05202,
     "end_time": "2017-11-12T19:47:25.964633",
     "exception": false,
     "start_time": "2017-11-12T19:47:25.912613",
     "status": "completed"
    },
    "tags": []
   },
   "outputs": [
    {
     "data": {
      "text/html": [
       "<div>\n",
       "<style scoped>\n",
       "    .dataframe tbody tr th:only-of-type {\n",
       "        vertical-align: middle;\n",
       "    }\n",
       "\n",
       "    .dataframe tbody tr th {\n",
       "        vertical-align: top;\n",
       "    }\n",
       "\n",
       "    .dataframe thead th {\n",
       "        text-align: right;\n",
       "    }\n",
       "</style>\n",
       "<table border=\"1\" class=\"dataframe\">\n",
       "  <thead>\n",
       "    <tr style=\"text-align: right;\">\n",
       "      <th></th>\n",
       "      <th>id</th>\n",
       "      <th>weight_x</th>\n",
       "      <th>weight_y</th>\n",
       "      <th>_merge</th>\n",
       "    </tr>\n",
       "  </thead>\n",
       "  <tbody>\n",
       "  </tbody>\n",
       "</table>\n",
       "</div>"
      ],
      "text/plain": [
       "Empty DataFrame\n",
       "Columns: [id, weight_x, weight_y, _merge]\n",
       "Index: []"
      ]
     },
     "execution_count": 15,
     "metadata": {},
     "output_type": "execute_result"
    }
   ],
   "source": [
    "# How to find removals\n",
    "pd.merge(dfs[0], dfs[1], on='id', how='outer', indicator=True).query('_merge==\"left_only\"')"
   ]
  },
  {
   "cell_type": "code",
   "execution_count": 16,
   "metadata": {
    "papermill": {
     "duration": 0.057067,
     "end_time": "2017-11-12T19:47:26.021847",
     "exception": false,
     "start_time": "2017-11-12T19:47:25.964780",
     "status": "completed"
    },
    "tags": []
   },
   "outputs": [
    {
     "data": {
      "text/html": [
       "<div>\n",
       "<style scoped>\n",
       "    .dataframe tbody tr th:only-of-type {\n",
       "        vertical-align: middle;\n",
       "    }\n",
       "\n",
       "    .dataframe tbody tr th {\n",
       "        vertical-align: top;\n",
       "    }\n",
       "\n",
       "    .dataframe thead th {\n",
       "        text-align: right;\n",
       "    }\n",
       "</style>\n",
       "<table border=\"1\" class=\"dataframe\">\n",
       "  <thead>\n",
       "    <tr style=\"text-align: right;\">\n",
       "      <th></th>\n",
       "      <th>id</th>\n",
       "      <th>weight_x</th>\n",
       "      <th>weight_y</th>\n",
       "      <th>_merge</th>\n",
       "    </tr>\n",
       "  </thead>\n",
       "  <tbody>\n",
       "  </tbody>\n",
       "</table>\n",
       "</div>"
      ],
      "text/plain": [
       "Empty DataFrame\n",
       "Columns: [id, weight_x, weight_y, _merge]\n",
       "Index: []"
      ]
     },
     "execution_count": 16,
     "metadata": {},
     "output_type": "execute_result"
    }
   ],
   "source": [
    "# How to find additions\n",
    "pd.merge(dfs[0], dfs[1], on='id', how='outer', indicator=True).query('_merge==\"right_only\"')\n",
    "# len(pd.merge...) to get the number of additions/deletions"
   ]
  },
  {
   "cell_type": "code",
   "execution_count": 17,
   "metadata": {
    "papermill": {
     "duration": 0.787221,
     "end_time": "2017-11-12T19:47:26.810048",
     "exception": false,
     "start_time": "2017-11-12T19:47:26.022827",
     "status": "completed"
    },
    "tags": []
   },
   "outputs": [
    {
     "data": {
      "text/plain": [
       "<matplotlib.text.Text at 0x7ff03462b3c8>"
      ]
     },
     "execution_count": 17,
     "metadata": {},
     "output_type": "execute_result"
    },
    {
     "data": {
      "image/png": "[encoded data removed]",
      "text/plain": [
       "<matplotlib.figure.Figure at 0x7ff034684b70>"
      ]
     },
     "metadata": {},
     "output_type": "display_data"
    }
   ],
   "source": [
    "fig, ax = plt.subplots()\n",
    "\n",
    "n_additions = []\n",
    "n_removals = []\n",
    "for i in range(1, n_revisions):\n",
    "    n_additions.append(\n",
    "        len(pd.merge(dfs[i-1], dfs[i], on='id', how='outer', indicator=True)\n",
    "            .query('_merge==\"right_only\"')))\n",
    "    n_removals.append(\n",
    "        -len(pd.merge(dfs[i-1], dfs[i], on='id', how='outer', indicator=True)\n",
    "            .query('_merge==\"left_only\"')))\n",
    "x = range(0, n_revisions - 1)\n",
    "ax.bar(x ,n_additions, width=1, color='b')\n",
    "ax.bar(x, n_removals, width=1, color='r')\n",
    "\n",
    "fig.suptitle(\"Item change evolution\")\n",
    "plt.ylabel('Removals - Additions')\n",
    "plt.xlabel('Revision')\n",
    "\n"
   ]
  },
  {
   "cell_type": "markdown",
   "metadata": {
    "papermill": {
     "duration": 1.2e-05,
     "end_time": "2017-11-12T19:47:26.810152",
     "exception": false,
     "start_time": "2017-11-12T19:47:26.810140",
     "status": "completed"
    },
    "tags": []
   },
   "source": [
    "## Sum of cell's change in weight (stability)"
   ]
  },
  {
   "cell_type": "code",
   "execution_count": 18,
   "metadata": {
    "papermill": {
     "duration": 0.297831,
     "end_time": "2017-11-12T19:47:27.126970",
     "exception": false,
     "start_time": "2017-11-12T19:47:26.829139",
     "status": "completed"
    },
    "tags": []
   },
   "outputs": [
    {
     "data": {
      "text/plain": [
       "<matplotlib.text.Text at 0x7ff034521e48>"
      ]
     },
     "execution_count": 18,
     "metadata": {},
     "output_type": "execute_result"
    },
    {
     "data": {
      "image/png": "[encoded data removed]",
      "text/plain": [
       "<matplotlib.figure.Figure at 0x7ff03461f9e8>"
      ]
     },
     "metadata": {},
     "output_type": "display_data"
    }
   ],
   "source": [
    "fig = plt.figure()\n",
    "change = [0.0] * n_revisions\n",
    "for index, row in df_full.fillna(0).iterrows():\n",
    "    for j in range (2, len(row)):\n",
    "        change[j-1] += abs(row[j] - row[j-1])\n",
    "\n",
    "plt.plot(change)\n",
    "fig.suptitle(\"Instability\")\n",
    "plt.ylabel('Weight change')\n",
    "plt.xlabel('Revision')\n",
    "    "
   ]
  }
 ],
 "metadata": {
  "celltoolbar": "Tags",
  "kernelspec": {
   "display_name": "Python 2",
   "language": "python",
   "name": "python2"
  },
  "language_info": {
   "codemirror_mode": {
    "name": "ipython",
    "version": 3
   },
   "file_extension": ".py",
   "mimetype": "text/x-python",
   "name": "python",
   "nbconvert_exporter": "python",
   "pygments_lexer": "ipython3",
   "version": "3.5.2"
  },
  "papermill": {
   "duration": 5.432798,
   "end_time": "2017-11-12T19:47:28.529514",
   "environment_variables": {},
   "exception": false,
   "output_path": "dataset-info/m-population.ipynb",
   "parameters": {
    "input_dir": "dataset/m-population"
   },
   "start_time": "2017-11-12T19:47:23.096716",
   "version": "0.10.0"
  }
 },
 "nbformat": 4,
 "nbformat_minor": 1
}