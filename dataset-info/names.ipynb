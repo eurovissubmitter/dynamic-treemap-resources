{
 "cells": [
  {
   "cell_type": "markdown",
   "metadata": {
    "papermill": {
     "duration": 0.001472,
     "end_time": "2017-11-12T19:47:36.161198",
     "exception": false,
     "start_time": "2017-11-12T19:47:36.159726",
     "status": "completed"
    },
    "tags": []
   },
   "source": [
    "# Dataset analysis\n",
    "To generate results for every dataset in the `dataset` folder, run:\n",
    "```\n",
    "for dataset in $(find dataset/* -maxdepth 0 -type d); do papermill dataset-info/DatasetBase.ipynb dataset-info/$(basename $dataset).ipynb -p input_dir $dataset; done\n",
    "```"
   ]
  },
  {
   "cell_type": "code",
   "execution_count": 1,
   "metadata": {
    "papermill": {
     "duration": 0.674079,
     "end_time": "2017-11-12T19:47:36.855437",
     "exception": false,
     "start_time": "2017-11-12T19:47:36.181358",
     "status": "completed"
    },
    "tags": []
   },
   "outputs": [],
   "source": [
    "import matplotlib.pyplot as plt\n",
    "import re, os\n",
    "import papermill as pm\n",
    "%matplotlib inline"
   ]
  },
  {
   "cell_type": "code",
   "execution_count": 2,
   "metadata": {
    "papermill": {
     "duration": 0.016177,
     "end_time": "2017-11-12T19:47:36.871779",
     "exception": false,
     "start_time": "2017-11-12T19:47:36.855602",
     "status": "completed"
    },
    "tags": [
     "parameters"
    ]
   },
   "outputs": [],
   "source": [
    "# Parameters\n",
    "input_dir = \"dataset/names\"\n"
   ]
  },
  {
   "cell_type": "code",
   "execution_count": 3,
   "metadata": {
    "papermill": {
     "duration": 0.019008,
     "end_time": "2017-11-12T19:47:36.891260",
     "exception": false,
     "start_time": "2017-11-12T19:47:36.872252",
     "status": "completed"
    },
    "tags": []
   },
   "outputs": [],
   "source": [
    "# Make a regex to extract dataset name\n",
    "import re\n",
    "\n",
    "matchObj = re.match( r'.*/(.*)', input_dir, re.M|re.I)\n",
    "if matchObj:\n",
    "    dataset_id = matchObj.group(1)\n",
    "    dataset_id"
   ]
  },
  {
   "cell_type": "code",
   "execution_count": 4,
   "metadata": {
    "papermill": {
     "duration": 0.017923,
     "end_time": "2017-11-12T19:47:36.909269",
     "exception": false,
     "start_time": "2017-11-12T19:47:36.891346",
     "status": "completed"
    },
    "tags": []
   },
   "outputs": [],
   "source": [
    "def natural_sort(l):\n",
    "    convert = lambda text: int(text) if text.isdigit() else text.lower()\n",
    "    alphanum_key = lambda key: [convert(c) for c in re.split('([0-9]+)', key)]\n",
    "    return sorted(l, key=alphanum_key)"
   ]
  },
  {
   "cell_type": "code",
   "execution_count": 5,
   "metadata": {
    "papermill": {
     "duration": 0.026277,
     "end_time": "2017-11-12T19:47:36.935712",
     "exception": false,
     "start_time": "2017-11-12T19:47:36.909435",
     "status": "completed"
    },
    "tags": []
   },
   "outputs": [
    {
     "data": {
      "text/plain": [
       "['dataset/names/names.1.csv',\n",
       " 'dataset/names/names.2.csv',\n",
       " 'dataset/names/names.3.csv',\n",
       " 'dataset/names/names.4.csv',\n",
       " 'dataset/names/names.5.csv']"
      ]
     },
     "execution_count": 5,
     "metadata": {},
     "output_type": "execute_result"
    }
   ],
   "source": [
    "# List files in input_dir in natural order\n",
    "files = [os.path.join(input_dir, f) for f in os.listdir(input_dir) if os.path.isfile(os.path.join(input_dir, f))]\n",
    "files = natural_sort(files)\n",
    "files[0:5]"
   ]
  },
  {
   "cell_type": "code",
   "execution_count": 6,
   "metadata": {
    "papermill": {
     "duration": 0.062879,
     "end_time": "2017-11-12T19:47:36.998678",
     "exception": false,
     "start_time": "2017-11-12T19:47:36.935799",
     "status": "completed"
    },
    "tags": []
   },
   "outputs": [],
   "source": [
    "import pandas as pd\n",
    "n_revisions = len(files)\n",
    "dfs = [pd.read_csv(file) for file in files]"
   ]
  },
  {
   "cell_type": "code",
   "execution_count": 7,
   "metadata": {
    "papermill": {
     "duration": 0.023427,
     "end_time": "2017-11-12T19:47:37.022283",
     "exception": false,
     "start_time": "2017-11-12T19:47:36.998856",
     "status": "completed"
    },
    "tags": []
   },
   "outputs": [
    {
     "data": {
      "text/html": [
       "<div>\n",
       "<style scoped>\n",
       "    .dataframe tbody tr th:only-of-type {\n",
       "        vertical-align: middle;\n",
       "    }\n",
       "\n",
       "    .dataframe tbody tr th {\n",
       "        vertical-align: top;\n",
       "    }\n",
       "\n",
       "    .dataframe thead th {\n",
       "        text-align: right;\n",
       "    }\n",
       "</style>\n",
       "<table border=\"1\" class=\"dataframe\">\n",
       "  <thead>\n",
       "    <tr style=\"text-align: right;\">\n",
       "      <th></th>\n",
       "      <th>id</th>\n",
       "      <th>weight</th>\n",
       "    </tr>\n",
       "  </thead>\n",
       "  <tbody>\n",
       "    <tr>\n",
       "      <th>0</th>\n",
       "      <td>Anne</td>\n",
       "      <td>318.0</td>\n",
       "    </tr>\n",
       "    <tr>\n",
       "      <th>1</th>\n",
       "      <td>Anouk</td>\n",
       "      <td>169.0</td>\n",
       "    </tr>\n",
       "    <tr>\n",
       "      <th>2</th>\n",
       "      <td>Bas</td>\n",
       "      <td>220.0</td>\n",
       "    </tr>\n",
       "    <tr>\n",
       "      <th>3</th>\n",
       "      <td>Bram</td>\n",
       "      <td>730.0</td>\n",
       "    </tr>\n",
       "    <tr>\n",
       "      <th>4</th>\n",
       "      <td>Charlotte</td>\n",
       "      <td>210.0</td>\n",
       "    </tr>\n",
       "  </tbody>\n",
       "</table>\n",
       "</div>"
      ],
      "text/plain": [
       "          id  weight\n",
       "0       Anne   318.0\n",
       "1      Anouk   169.0\n",
       "2        Bas   220.0\n",
       "3       Bram   730.0\n",
       "4  Charlotte   210.0"
      ]
     },
     "execution_count": 7,
     "metadata": {},
     "output_type": "execute_result"
    }
   ],
   "source": [
    "dfs[0].head()"
   ]
  },
  {
   "cell_type": "code",
   "execution_count": 8,
   "metadata": {
    "papermill": {
     "duration": 0.077484,
     "end_time": "2017-11-12T19:47:37.099859",
     "exception": false,
     "start_time": "2017-11-12T19:47:37.022375",
     "status": "completed"
    },
    "tags": []
   },
   "outputs": [],
   "source": [
    "from functools import reduce\n",
    "# Outer join of files  \n",
    "df_full = reduce((lambda x, y: pd.merge(x, y, how='outer', on='id')), dfs)"
   ]
  },
  {
   "cell_type": "code",
   "execution_count": 9,
   "metadata": {
    "papermill": {
     "duration": 0.018831,
     "end_time": "2017-11-12T19:47:37.118879",
     "exception": false,
     "start_time": "2017-11-12T19:47:37.100048",
     "status": "completed"
    },
    "tags": []
   },
   "outputs": [],
   "source": [
    "# Rename columns\n",
    "df_full.columns = ['id'] + ['t'+str(i) for i in range(df_full.shape[1]-1)]"
   ]
  },
  {
   "cell_type": "code",
   "execution_count": 10,
   "metadata": {
    "papermill": {
     "duration": 0.056292,
     "end_time": "2017-11-12T19:47:37.176359",
     "exception": false,
     "start_time": "2017-11-12T19:47:37.120067",
     "status": "completed"
    },
    "scrolled": true,
    "tags": []
   },
   "outputs": [
    {
     "data": {
      "text/html": [
       "<div>\n",
       "<style scoped>\n",
       "    .dataframe tbody tr th:only-of-type {\n",
       "        vertical-align: middle;\n",
       "    }\n",
       "\n",
       "    .dataframe tbody tr th {\n",
       "        vertical-align: top;\n",
       "    }\n",
       "\n",
       "    .dataframe thead th {\n",
       "        text-align: right;\n",
       "    }\n",
       "</style>\n",
       "<table border=\"1\" class=\"dataframe\">\n",
       "  <thead>\n",
       "    <tr style=\"text-align: right;\">\n",
       "      <th></th>\n",
       "      <th>id</th>\n",
       "      <th>t0</th>\n",
       "      <th>t1</th>\n",
       "      <th>t2</th>\n",
       "      <th>t3</th>\n",
       "      <th>t4</th>\n",
       "      <th>t5</th>\n",
       "      <th>t6</th>\n",
       "      <th>t7</th>\n",
       "      <th>t8</th>\n",
       "      <th>...</th>\n",
       "      <th>t11</th>\n",
       "      <th>t12</th>\n",
       "      <th>t13</th>\n",
       "      <th>t14</th>\n",
       "      <th>t15</th>\n",
       "      <th>t16</th>\n",
       "      <th>t17</th>\n",
       "      <th>t18</th>\n",
       "      <th>t19</th>\n",
       "      <th>t20</th>\n",
       "    </tr>\n",
       "  </thead>\n",
       "  <tbody>\n",
       "    <tr>\n",
       "      <th>0</th>\n",
       "      <td>Anne</td>\n",
       "      <td>318.0</td>\n",
       "      <td>353.0</td>\n",
       "      <td>385.0</td>\n",
       "      <td>431.0</td>\n",
       "      <td>477.0</td>\n",
       "      <td>531.0</td>\n",
       "      <td>565.0</td>\n",
       "      <td>520.0</td>\n",
       "      <td>596.0</td>\n",
       "      <td>...</td>\n",
       "      <td>787.0</td>\n",
       "      <td>868.0</td>\n",
       "      <td>949.0</td>\n",
       "      <td>968.0</td>\n",
       "      <td>976.0</td>\n",
       "      <td>915.0</td>\n",
       "      <td>927.0</td>\n",
       "      <td>953.0</td>\n",
       "      <td>921.0</td>\n",
       "      <td>901.0</td>\n",
       "    </tr>\n",
       "    <tr>\n",
       "      <th>1</th>\n",
       "      <td>Anouk</td>\n",
       "      <td>169.0</td>\n",
       "      <td>209.0</td>\n",
       "      <td>256.0</td>\n",
       "      <td>329.0</td>\n",
       "      <td>397.0</td>\n",
       "      <td>446.0</td>\n",
       "      <td>492.0</td>\n",
       "      <td>491.0</td>\n",
       "      <td>596.0</td>\n",
       "      <td>...</td>\n",
       "      <td>648.0</td>\n",
       "      <td>652.0</td>\n",
       "      <td>655.0</td>\n",
       "      <td>870.0</td>\n",
       "      <td>955.0</td>\n",
       "      <td>960.0</td>\n",
       "      <td>613.0</td>\n",
       "      <td>602.0</td>\n",
       "      <td>595.0</td>\n",
       "      <td>655.0</td>\n",
       "    </tr>\n",
       "    <tr>\n",
       "      <th>2</th>\n",
       "      <td>Bas</td>\n",
       "      <td>220.0</td>\n",
       "      <td>219.0</td>\n",
       "      <td>241.0</td>\n",
       "      <td>242.0</td>\n",
       "      <td>291.0</td>\n",
       "      <td>304.0</td>\n",
       "      <td>325.0</td>\n",
       "      <td>335.0</td>\n",
       "      <td>438.0</td>\n",
       "      <td>...</td>\n",
       "      <td>539.0</td>\n",
       "      <td>543.0</td>\n",
       "      <td>619.0</td>\n",
       "      <td>655.0</td>\n",
       "      <td>618.0</td>\n",
       "      <td>623.0</td>\n",
       "      <td>646.0</td>\n",
       "      <td>631.0</td>\n",
       "      <td>593.0</td>\n",
       "      <td>578.0</td>\n",
       "    </tr>\n",
       "    <tr>\n",
       "      <th>3</th>\n",
       "      <td>Bram</td>\n",
       "      <td>730.0</td>\n",
       "      <td>746.0</td>\n",
       "      <td>835.0</td>\n",
       "      <td>636.0</td>\n",
       "      <td>625.0</td>\n",
       "      <td>644.0</td>\n",
       "      <td>598.0</td>\n",
       "      <td>607.0</td>\n",
       "      <td>609.0</td>\n",
       "      <td>...</td>\n",
       "      <td>795.0</td>\n",
       "      <td>721.0</td>\n",
       "      <td>771.0</td>\n",
       "      <td>764.0</td>\n",
       "      <td>727.0</td>\n",
       "      <td>741.0</td>\n",
       "      <td>618.0</td>\n",
       "      <td>552.0</td>\n",
       "      <td>529.0</td>\n",
       "      <td>507.0</td>\n",
       "    </tr>\n",
       "    <tr>\n",
       "      <th>4</th>\n",
       "      <td>Charlotte</td>\n",
       "      <td>210.0</td>\n",
       "      <td>228.0</td>\n",
       "      <td>276.0</td>\n",
       "      <td>314.0</td>\n",
       "      <td>289.0</td>\n",
       "      <td>254.0</td>\n",
       "      <td>275.0</td>\n",
       "      <td>295.0</td>\n",
       "      <td>270.0</td>\n",
       "      <td>...</td>\n",
       "      <td>342.0</td>\n",
       "      <td>358.0</td>\n",
       "      <td>409.0</td>\n",
       "      <td>414.0</td>\n",
       "      <td>425.0</td>\n",
       "      <td>406.0</td>\n",
       "      <td>439.0</td>\n",
       "      <td>468.0</td>\n",
       "      <td>491.0</td>\n",
       "      <td>505.0</td>\n",
       "    </tr>\n",
       "  </tbody>\n",
       "</table>\n",
       "<p>5 rows × 22 columns</p>\n",
       "</div>"
      ],
      "text/plain": [
       "          id     t0     t1     t2     t3     t4     t5     t6     t7     t8  \\\n",
       "0       Anne  318.0  353.0  385.0  431.0  477.0  531.0  565.0  520.0  596.0   \n",
       "1      Anouk  169.0  209.0  256.0  329.0  397.0  446.0  492.0  491.0  596.0   \n",
       "2        Bas  220.0  219.0  241.0  242.0  291.0  304.0  325.0  335.0  438.0   \n",
       "3       Bram  730.0  746.0  835.0  636.0  625.0  644.0  598.0  607.0  609.0   \n",
       "4  Charlotte  210.0  228.0  276.0  314.0  289.0  254.0  275.0  295.0  270.0   \n",
       "\n",
       "   ...      t11    t12    t13    t14    t15    t16    t17    t18    t19    t20  \n",
       "0  ...    787.0  868.0  949.0  968.0  976.0  915.0  927.0  953.0  921.0  901.0  \n",
       "1  ...    648.0  652.0  655.0  870.0  955.0  960.0  613.0  602.0  595.0  655.0  \n",
       "2  ...    539.0  543.0  619.0  655.0  618.0  623.0  646.0  631.0  593.0  578.0  \n",
       "3  ...    795.0  721.0  771.0  764.0  727.0  741.0  618.0  552.0  529.0  507.0  \n",
       "4  ...    342.0  358.0  409.0  414.0  425.0  406.0  439.0  468.0  491.0  505.0  \n",
       "\n",
       "[5 rows x 22 columns]"
      ]
     },
     "execution_count": 10,
     "metadata": {},
     "output_type": "execute_result"
    }
   ],
   "source": [
    "df_full.head()"
   ]
  },
  {
   "cell_type": "code",
   "execution_count": 11,
   "metadata": {
    "papermill": {
     "duration": 0.303859,
     "end_time": "2017-11-12T19:47:37.480304",
     "exception": false,
     "start_time": "2017-11-12T19:47:37.176445",
     "status": "completed"
    },
    "tags": []
   },
   "outputs": [],
   "source": [
    "from collections import defaultdict\n",
    "import networkx as nx\n",
    "\n",
    "FILE_MARKER = '<files>'\n",
    "\n",
    "def attach(branch, trunk):\n",
    "    parts = branch.split('/', 1)\n",
    "    if len(parts) == 1:  # branch is a file\n",
    "        trunk[FILE_MARKER].append(parts[0])\n",
    "    else:\n",
    "        node, others = parts\n",
    "        if node not in trunk:\n",
    "            trunk[node] = defaultdict(dict, ((FILE_MARKER, []),))\n",
    "        attach(others, trunk[node])\n",
    "\n",
    "def build_adjacency_list(d, id, result):\n",
    "    for key in d.keys():\n",
    "        if key != FILE_MARKER:\n",
    "            result.append((id, id + key))\n",
    "            build_adjacency_list(d[key], id + key, result)\n",
    "        else:\n",
    "            for file in d[key]:\n",
    "                result.append((id, id + file))\n",
    "\n",
    "        \n",
    "def plot_tree(id_list):\n",
    "    \n",
    "    keys = sorted(id_list)\n",
    "\n",
    "    main_dict = defaultdict(dict, ((FILE_MARKER, []),))\n",
    "    for line in keys:\n",
    "        attach(line, main_dict)\n",
    "\n",
    "    # _create adjacency list\n",
    "    result = []\n",
    "    build_adjacency_list(main_dict, \"ROOT\", result)\n",
    "\n",
    "    G = nx.DiGraph()\n",
    "    G.add_edges_from(result)\n",
    "    # write dot file to use with graphviz\n",
    "    # run \"dot -_tpng test.dot >test.png\"\n",
    "    # nx.nx_agraph.write_dot(_g, 'test.dot')\n",
    "\n",
    "    # same layout using matplotlib with no labels\n",
    "    pos = nx.nx_agraph.graphviz_layout(G, prog='dot')\n",
    "    nx.draw(G, pos, with_labels=False, arrows=False, node_size=2)\n",
    "\n"
   ]
  },
  {
   "cell_type": "markdown",
   "metadata": {
    "papermill": {
     "duration": 1.6e-05,
     "end_time": "2017-11-12T19:47:37.480485",
     "exception": false,
     "start_time": "2017-11-12T19:47:37.480469",
     "status": "completed"
    },
    "tags": []
   },
   "source": [
    "## Union tree of all revisions"
   ]
  },
  {
   "cell_type": "code",
   "execution_count": 12,
   "metadata": {
    "papermill": {
     "duration": 0.210902,
     "end_time": "2017-11-12T19:47:37.705956",
     "exception": false,
     "start_time": "2017-11-12T19:47:37.495054",
     "status": "completed"
    },
    "scrolled": true,
    "tags": []
   },
   "outputs": [
    {
     "data": {
      "image/png": "[encoded data removed]",
      "text/plain": [
       "<matplotlib.figure.Figure at 0x7f0668cd0518>"
      ]
     },
     "metadata": {},
     "output_type": "display_data"
    }
   ],
   "source": [
    "tree_fig = plt.figure(0)\n",
    "tree_fig.suptitle(dataset_id)\n",
    "plt.axis('off')\n",
    "plot_tree(df_full['id'].tolist())\n",
    "#pm.display('tree', tree_fig)\n",
    "\n"
   ]
  },
  {
   "cell_type": "markdown",
   "metadata": {
    "papermill": {
     "duration": 1.5e-05,
     "end_time": "2017-11-12T19:47:37.706149",
     "exception": false,
     "start_time": "2017-11-12T19:47:37.706134",
     "status": "completed"
    },
    "tags": []
   },
   "source": [
    "# Evolution"
   ]
  },
  {
   "cell_type": "markdown",
   "metadata": {
    "papermill": {
     "duration": 1.8e-05,
     "end_time": "2017-11-12T19:47:37.723313",
     "exception": false,
     "start_time": "2017-11-12T19:47:37.723295",
     "status": "completed"
    },
    "tags": []
   },
   "source": [
    "## Items count"
   ]
  },
  {
   "cell_type": "code",
   "execution_count": 13,
   "metadata": {
    "papermill": {
     "duration": 0.174818,
     "end_time": "2017-11-12T19:47:37.921754",
     "exception": false,
     "start_time": "2017-11-12T19:47:37.746936",
     "status": "completed"
    },
    "tags": []
   },
   "outputs": [
    {
     "data": {
      "image/png": "[encoded data removed]",
      "text/plain": [
       "<matplotlib.figure.Figure at 0x7f0664922c18>"
      ]
     },
     "metadata": {},
     "output_type": "display_data"
    }
   ],
   "source": [
    "def plot_item_count():\n",
    "    n_items = [len(df) for df in dfs]\n",
    "    plt.plot(n_items)\n",
    "\n",
    "fig = plt.figure()\n",
    "fig.suptitle(\"Item count\")\n",
    "plt.ylabel('Number of items')\n",
    "plt.xlabel('Revision')\n",
    "\n",
    "plot_item_count()"
   ]
  },
  {
   "cell_type": "markdown",
   "metadata": {
    "papermill": {
     "duration": 1.8e-05,
     "end_time": "2017-11-12T19:47:37.921937",
     "exception": false,
     "start_time": "2017-11-12T19:47:37.921919",
     "status": "completed"
    },
    "tags": []
   },
   "source": [
    "## Weight count"
   ]
  },
  {
   "cell_type": "code",
   "execution_count": 14,
   "metadata": {
    "papermill": {
     "duration": 0.193482,
     "end_time": "2017-11-12T19:47:38.131597",
     "exception": false,
     "start_time": "2017-11-12T19:47:37.938115",
     "status": "completed"
    },
    "tags": []
   },
   "outputs": [
    {
     "data": {
      "image/png": "[encoded data removed]",
      "text/plain": [
       "<matplotlib.figure.Figure at 0x7f0662a0f240>"
      ]
     },
     "metadata": {},
     "output_type": "display_data"
    }
   ],
   "source": [
    "def plot_weight():\n",
    "    total_weight = [sum(df['weight']) for df in dfs]\n",
    "    plt.plot(total_weight)\n",
    "\n",
    "fig = plt.figure()\n",
    "fig.suptitle(\"Weight evolution\")\n",
    "plt.ylabel('Total weight')\n",
    "plt.xlabel('Revision')\n",
    "plot_weight()"
   ]
  },
  {
   "cell_type": "markdown",
   "metadata": {
    "papermill": {
     "duration": 2.3e-05,
     "end_time": "2017-11-12T19:47:38.131819",
     "exception": false,
     "start_time": "2017-11-12T19:47:38.131796",
     "status": "completed"
    },
    "tags": []
   },
   "source": [
    "## Addition and removal of items"
   ]
  },
  {
   "cell_type": "code",
   "execution_count": 15,
   "metadata": {
    "papermill": {
     "duration": 0.040279,
     "end_time": "2017-11-12T19:47:38.189843",
     "exception": false,
     "start_time": "2017-11-12T19:47:38.149564",
     "status": "completed"
    },
    "tags": []
   },
   "outputs": [
    {
     "data": {
      "text/html": [
       "<div>\n",
       "<style scoped>\n",
       "    .dataframe tbody tr th:only-of-type {\n",
       "        vertical-align: middle;\n",
       "    }\n",
       "\n",
       "    .dataframe tbody tr th {\n",
       "        vertical-align: top;\n",
       "    }\n",
       "\n",
       "    .dataframe thead th {\n",
       "        text-align: right;\n",
       "    }\n",
       "</style>\n",
       "<table border=\"1\" class=\"dataframe\">\n",
       "  <thead>\n",
       "    <tr style=\"text-align: right;\">\n",
       "      <th></th>\n",
       "      <th>id</th>\n",
       "      <th>weight_x</th>\n",
       "      <th>weight_y</th>\n",
       "      <th>_merge</th>\n",
       "    </tr>\n",
       "  </thead>\n",
       "  <tbody>\n",
       "  </tbody>\n",
       "</table>\n",
       "</div>"
      ],
      "text/plain": [
       "Empty DataFrame\n",
       "Columns: [id, weight_x, weight_y, _merge]\n",
       "Index: []"
      ]
     },
     "execution_count": 15,
     "metadata": {},
     "output_type": "execute_result"
    }
   ],
   "source": [
    "# How to find removals\n",
    "pd.merge(dfs[0], dfs[1], on='id', how='outer', indicator=True).query('_merge==\"left_only\"')"
   ]
  },
  {
   "cell_type": "code",
   "execution_count": 16,
   "metadata": {
    "papermill": {
     "duration": 0.035278,
     "end_time": "2017-11-12T19:47:38.225207",
     "exception": false,
     "start_time": "2017-11-12T19:47:38.189929",
     "status": "completed"
    },
    "tags": []
   },
   "outputs": [
    {
     "data": {
      "text/html": [
       "<div>\n",
       "<style scoped>\n",
       "    .dataframe tbody tr th:only-of-type {\n",
       "        vertical-align: middle;\n",
       "    }\n",
       "\n",
       "    .dataframe tbody tr th {\n",
       "        vertical-align: top;\n",
       "    }\n",
       "\n",
       "    .dataframe thead th {\n",
       "        text-align: right;\n",
       "    }\n",
       "</style>\n",
       "<table border=\"1\" class=\"dataframe\">\n",
       "  <thead>\n",
       "    <tr style=\"text-align: right;\">\n",
       "      <th></th>\n",
       "      <th>id</th>\n",
       "      <th>weight_x</th>\n",
       "      <th>weight_y</th>\n",
       "      <th>_merge</th>\n",
       "    </tr>\n",
       "  </thead>\n",
       "  <tbody>\n",
       "  </tbody>\n",
       "</table>\n",
       "</div>"
      ],
      "text/plain": [
       "Empty DataFrame\n",
       "Columns: [id, weight_x, weight_y, _merge]\n",
       "Index: []"
      ]
     },
     "execution_count": 16,
     "metadata": {},
     "output_type": "execute_result"
    }
   ],
   "source": [
    "# How to find additions\n",
    "pd.merge(dfs[0], dfs[1], on='id', how='outer', indicator=True).query('_merge==\"right_only\"')\n",
    "# len(pd.merge...) to get the number of additions/deletions"
   ]
  },
  {
   "cell_type": "code",
   "execution_count": 17,
   "metadata": {
    "papermill": {
     "duration": 0.614046,
     "end_time": "2017-11-12T19:47:38.839339",
     "exception": false,
     "start_time": "2017-11-12T19:47:38.225293",
     "status": "completed"
    },
    "tags": []
   },
   "outputs": [
    {
     "data": {
      "text/plain": [
       "<matplotlib.text.Text at 0x7f0662a08ac8>"
      ]
     },
     "execution_count": 17,
     "metadata": {},
     "output_type": "execute_result"
    },
    {
     "data": {
      "image/png": "[encoded data removed]",
      "text/plain": [
       "<matplotlib.figure.Figure at 0x7f0662a0f9b0>"
      ]
     },
     "metadata": {},
     "output_type": "display_data"
    }
   ],
   "source": [
    "fig, ax = plt.subplots()\n",
    "\n",
    "n_additions = []\n",
    "n_removals = []\n",
    "for i in range(1, n_revisions):\n",
    "    n_additions.append(\n",
    "        len(pd.merge(dfs[i-1], dfs[i], on='id', how='outer', indicator=True)\n",
    "            .query('_merge==\"right_only\"')))\n",
    "    n_removals.append(\n",
    "        -len(pd.merge(dfs[i-1], dfs[i], on='id', how='outer', indicator=True)\n",
    "            .query('_merge==\"left_only\"')))\n",
    "x = range(0, n_revisions - 1)\n",
    "ax.bar(x ,n_additions, width=1, color='b')\n",
    "ax.bar(x, n_removals, width=1, color='r')\n",
    "\n",
    "fig.suptitle(\"Item change evolution\")\n",
    "plt.ylabel('Removals - Additions')\n",
    "plt.xlabel('Revision')\n",
    "\n"
   ]
  },
  {
   "cell_type": "markdown",
   "metadata": {
    "papermill": {
     "duration": 1.6e-05,
     "end_time": "2017-11-12T19:47:38.839548",
     "exception": false,
     "start_time": "2017-11-12T19:47:38.839532",
     "status": "completed"
    },
    "tags": []
   },
   "source": [
    "## Sum of cell's change in weight (stability)"
   ]
  },
  {
   "cell_type": "code",
   "execution_count": 18,
   "metadata": {
    "papermill": {
     "duration": 0.20852,
     "end_time": "2017-11-12T19:47:39.067805",
     "exception": false,
     "start_time": "2017-11-12T19:47:38.859285",
     "status": "completed"
    },
    "tags": []
   },
   "outputs": [
    {
     "data": {
      "text/plain": [
       "<matplotlib.text.Text at 0x7f066287a8d0>"
      ]
     },
     "execution_count": 18,
     "metadata": {},
     "output_type": "execute_result"
    },
    {
     "data": {
      "image/png": "[encoded data removed]",
      "text/plain": [
       "<matplotlib.figure.Figure at 0x7f06629f4278>"
      ]
     },
     "metadata": {},
     "output_type": "display_data"
    }
   ],
   "source": [
    "fig = plt.figure()\n",
    "change = [0.0] * n_revisions\n",
    "for index, row in df_full.fillna(0).iterrows():\n",
    "    for j in range (2, len(row)):\n",
    "        change[j-1] += abs(row[j] - row[j-1])\n",
    "\n",
    "plt.plot(change)\n",
    "fig.suptitle(\"Instability\")\n",
    "plt.ylabel('Weight change')\n",
    "plt.xlabel('Revision')\n",
    "    "
   ]
  }
 ],
 "metadata": {
  "celltoolbar": "Tags",
  "kernelspec": {
   "display_name": "Python 2",
   "language": "python",
   "name": "python2"
  },
  "language_info": {
   "codemirror_mode": {
    "name": "ipython",
    "version": 3
   },
   "file_extension": ".py",
   "mimetype": "text/x-python",
   "name": "python",
   "nbconvert_exporter": "python",
   "pygments_lexer": "ipython3",
   "version": "3.5.2"
  },
  "papermill": {
   "duration": 4.42887,
   "end_time": "2017-11-12T19:47:39.770362",
   "environment_variables": {},
   "exception": false,
   "output_path": "dataset-info/names.ipynb",
   "parameters": {
    "input_dir": "dataset/names"
   },
   "start_time": "2017-11-12T19:47:35.341492",
   "version": "0.10.0"
  }
 },
 "nbformat": 4,
 "nbformat_minor": 1
}