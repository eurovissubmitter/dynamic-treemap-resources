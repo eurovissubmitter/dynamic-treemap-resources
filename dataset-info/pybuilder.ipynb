{
 "cells": [
  {
   "cell_type": "markdown",
   "metadata": {
    "papermill": {
     "duration": 0.000231,
     "end_time": "2017-11-12T19:48:04.733413",
     "exception": false,
     "start_time": "2017-11-12T19:48:04.733182",
     "status": "completed"
    },
    "tags": []
   },
   "source": [
    "# Dataset analysis\n",
    "To generate results for every dataset in the `dataset` folder, run:\n",
    "```\n",
    "for dataset in $(find dataset/* -maxdepth 0 -type d); do papermill dataset-info/DatasetBase.ipynb dataset-info/$(basename $dataset).ipynb -p input_dir $dataset; done\n",
    "```"
   ]
  },
  {
   "cell_type": "code",
   "execution_count": 1,
   "metadata": {
    "papermill": {
     "duration": 0.59406,
     "end_time": "2017-11-12T19:48:05.336893",
     "exception": false,
     "start_time": "2017-11-12T19:48:04.742833",
     "status": "completed"
    },
    "tags": []
   },
   "outputs": [],
   "source": [
    "import matplotlib.pyplot as plt\n",
    "import re, os\n",
    "import papermill as pm\n",
    "%matplotlib inline"
   ]
  },
  {
   "cell_type": "code",
   "execution_count": 2,
   "metadata": {
    "papermill": {
     "duration": 0.018545,
     "end_time": "2017-11-12T19:48:05.355620",
     "exception": false,
     "start_time": "2017-11-12T19:48:05.337075",
     "status": "completed"
    },
    "tags": [
     "parameters"
    ]
   },
   "outputs": [],
   "source": [
    "# Parameters\n",
    "input_dir = \"dataset/pybuilder\"\n"
   ]
  },
  {
   "cell_type": "code",
   "execution_count": 3,
   "metadata": {
    "papermill": {
     "duration": 0.019293,
     "end_time": "2017-11-12T19:48:05.375315",
     "exception": false,
     "start_time": "2017-11-12T19:48:05.356022",
     "status": "completed"
    },
    "tags": []
   },
   "outputs": [],
   "source": [
    "# Make a regex to extract dataset name\n",
    "import re\n",
    "\n",
    "matchObj = re.match( r'.*/(.*)', input_dir, re.M|re.I)\n",
    "if matchObj:\n",
    "    dataset_id = matchObj.group(1)\n",
    "    dataset_id"
   ]
  },
  {
   "cell_type": "code",
   "execution_count": 4,
   "metadata": {
    "papermill": {
     "duration": 0.024979,
     "end_time": "2017-11-12T19:48:05.400387",
     "exception": false,
     "start_time": "2017-11-12T19:48:05.375408",
     "status": "completed"
    },
    "tags": []
   },
   "outputs": [],
   "source": [
    "def natural_sort(l):\n",
    "    convert = lambda text: int(text) if text.isdigit() else text.lower()\n",
    "    alphanum_key = lambda key: [convert(c) for c in re.split('([0-9]+)', key)]\n",
    "    return sorted(l, key=alphanum_key)"
   ]
  },
  {
   "cell_type": "code",
   "execution_count": 5,
   "metadata": {
    "papermill": {
     "duration": 0.027682,
     "end_time": "2017-11-12T19:48:05.428170",
     "exception": false,
     "start_time": "2017-11-12T19:48:05.400488",
     "status": "completed"
    },
    "tags": []
   },
   "outputs": [
    {
     "data": {
      "text/plain": [
       "['dataset/pybuilder/2012_07_28_140d4e5bb0d671709404d5fce6c5b438ee95cd52.csv',\n",
       " 'dataset/pybuilder/2012_08_30_fabae97a7f0be639b261319e532dfe36407ad92c.csv',\n",
       " 'dataset/pybuilder/2012_09_27_6d56b2a9c175a79297dd093301225353c9f1b680.csv',\n",
       " 'dataset/pybuilder/2012_11_30_9ec7d697a14911b1ef54379ad786fafc7332d2e5.csv',\n",
       " 'dataset/pybuilder/2012_12_24_c8c4504a4363ab804b9d7552e40aef08cac736f8.csv']"
      ]
     },
     "execution_count": 5,
     "metadata": {},
     "output_type": "execute_result"
    }
   ],
   "source": [
    "# List files in input_dir in natural order\n",
    "files = [os.path.join(input_dir, f) for f in os.listdir(input_dir) if os.path.isfile(os.path.join(input_dir, f))]\n",
    "files = natural_sort(files)\n",
    "files[0:5]"
   ]
  },
  {
   "cell_type": "code",
   "execution_count": 6,
   "metadata": {
    "papermill": {
     "duration": 0.126516,
     "end_time": "2017-11-12T19:48:05.554770",
     "exception": false,
     "start_time": "2017-11-12T19:48:05.428254",
     "status": "completed"
    },
    "tags": []
   },
   "outputs": [],
   "source": [
    "import pandas as pd\n",
    "n_revisions = len(files)\n",
    "dfs = [pd.read_csv(file) for file in files]"
   ]
  },
  {
   "cell_type": "code",
   "execution_count": 7,
   "metadata": {
    "papermill": {
     "duration": 0.025453,
     "end_time": "2017-11-12T19:48:05.580396",
     "exception": false,
     "start_time": "2017-11-12T19:48:05.554943",
     "status": "completed"
    },
    "tags": []
   },
   "outputs": [
    {
     "data": {
      "text/html": [
       "<div>\n",
       "<style scoped>\n",
       "    .dataframe tbody tr th:only-of-type {\n",
       "        vertical-align: middle;\n",
       "    }\n",
       "\n",
       "    .dataframe tbody tr th {\n",
       "        vertical-align: top;\n",
       "    }\n",
       "\n",
       "    .dataframe thead th {\n",
       "        text-align: right;\n",
       "    }\n",
       "</style>\n",
       "<table border=\"1\" class=\"dataframe\">\n",
       "  <thead>\n",
       "    <tr style=\"text-align: right;\">\n",
       "      <th></th>\n",
       "      <th>id</th>\n",
       "      <th>weight</th>\n",
       "    </tr>\n",
       "  </thead>\n",
       "  <tbody>\n",
       "    <tr>\n",
       "      <th>0</th>\n",
       "      <td>c/unittest/python/execution_tests.py</td>\n",
       "      <td>440</td>\n",
       "    </tr>\n",
       "    <tr>\n",
       "      <th>1</th>\n",
       "      <td>c/main/python/pythonbuilder/core.py</td>\n",
       "      <td>305</td>\n",
       "    </tr>\n",
       "    <tr>\n",
       "      <th>2</th>\n",
       "      <td>c/unittest/python/reactor_tests.py</td>\n",
       "      <td>292</td>\n",
       "    </tr>\n",
       "    <tr>\n",
       "      <th>3</th>\n",
       "      <td>c/unittest/python/core_tests.py</td>\n",
       "      <td>281</td>\n",
       "    </tr>\n",
       "    <tr>\n",
       "      <th>4</th>\n",
       "      <td>c/main/python/pythonbuilder/execution.py</td>\n",
       "      <td>261</td>\n",
       "    </tr>\n",
       "  </tbody>\n",
       "</table>\n",
       "</div>"
      ],
      "text/plain": [
       "                                         id  weight\n",
       "0      c/unittest/python/execution_tests.py     440\n",
       "1       c/main/python/pythonbuilder/core.py     305\n",
       "2        c/unittest/python/reactor_tests.py     292\n",
       "3           c/unittest/python/core_tests.py     281\n",
       "4  c/main/python/pythonbuilder/execution.py     261"
      ]
     },
     "execution_count": 7,
     "metadata": {},
     "output_type": "execute_result"
    }
   ],
   "source": [
    "dfs[0].head()"
   ]
  },
  {
   "cell_type": "code",
   "execution_count": 8,
   "metadata": {
    "papermill": {
     "duration": 0.236454,
     "end_time": "2017-11-12T19:48:05.817019",
     "exception": false,
     "start_time": "2017-11-12T19:48:05.580565",
     "status": "completed"
    },
    "tags": []
   },
   "outputs": [],
   "source": [
    "from functools import reduce\n",
    "# Outer join of files  \n",
    "df_full = reduce((lambda x, y: pd.merge(x, y, how='outer', on='id')), dfs)"
   ]
  },
  {
   "cell_type": "code",
   "execution_count": 9,
   "metadata": {
    "papermill": {
     "duration": 0.027503,
     "end_time": "2017-11-12T19:48:05.844707",
     "exception": false,
     "start_time": "2017-11-12T19:48:05.817204",
     "status": "completed"
    },
    "tags": []
   },
   "outputs": [],
   "source": [
    "# Rename columns\n",
    "df_full.columns = ['id'] + ['t'+str(i) for i in range(df_full.shape[1]-1)]"
   ]
  },
  {
   "cell_type": "code",
   "execution_count": 10,
   "metadata": {
    "papermill": {
     "duration": 0.046611,
     "end_time": "2017-11-12T19:48:05.891591",
     "exception": false,
     "start_time": "2017-11-12T19:48:05.844980",
     "status": "completed"
    },
    "scrolled": true,
    "tags": []
   },
   "outputs": [
    {
     "data": {
      "text/html": [
       "<div>\n",
       "<style scoped>\n",
       "    .dataframe tbody tr th:only-of-type {\n",
       "        vertical-align: middle;\n",
       "    }\n",
       "\n",
       "    .dataframe tbody tr th {\n",
       "        vertical-align: top;\n",
       "    }\n",
       "\n",
       "    .dataframe thead th {\n",
       "        text-align: right;\n",
       "    }\n",
       "</style>\n",
       "<table border=\"1\" class=\"dataframe\">\n",
       "  <thead>\n",
       "    <tr style=\"text-align: right;\">\n",
       "      <th></th>\n",
       "      <th>id</th>\n",
       "      <th>t0</th>\n",
       "      <th>t1</th>\n",
       "      <th>t2</th>\n",
       "      <th>t3</th>\n",
       "      <th>t4</th>\n",
       "      <th>t5</th>\n",
       "      <th>t6</th>\n",
       "      <th>t7</th>\n",
       "      <th>t8</th>\n",
       "      <th>...</th>\n",
       "      <th>t43</th>\n",
       "      <th>t44</th>\n",
       "      <th>t45</th>\n",
       "      <th>t46</th>\n",
       "      <th>t47</th>\n",
       "      <th>t48</th>\n",
       "      <th>t49</th>\n",
       "      <th>t50</th>\n",
       "      <th>t51</th>\n",
       "      <th>t52</th>\n",
       "    </tr>\n",
       "  </thead>\n",
       "  <tbody>\n",
       "    <tr>\n",
       "      <th>0</th>\n",
       "      <td>c/unittest/python/execution_tests.py</td>\n",
       "      <td>440.0</td>\n",
       "      <td>438.0</td>\n",
       "      <td>519.0</td>\n",
       "      <td>519.0</td>\n",
       "      <td>519.0</td>\n",
       "      <td>519.0</td>\n",
       "      <td>519.0</td>\n",
       "      <td>519.0</td>\n",
       "      <td>519.0</td>\n",
       "      <td>...</td>\n",
       "      <td>959.0</td>\n",
       "      <td>959.0</td>\n",
       "      <td>959.0</td>\n",
       "      <td>959.0</td>\n",
       "      <td>959.0</td>\n",
       "      <td>959.0</td>\n",
       "      <td>959.0</td>\n",
       "      <td>959.0</td>\n",
       "      <td>959.0</td>\n",
       "      <td>959.0</td>\n",
       "    </tr>\n",
       "    <tr>\n",
       "      <th>1</th>\n",
       "      <td>c/main/python/pythonbuilder/core.py</td>\n",
       "      <td>305.0</td>\n",
       "      <td>317.0</td>\n",
       "      <td>385.0</td>\n",
       "      <td>385.0</td>\n",
       "      <td>385.0</td>\n",
       "      <td>385.0</td>\n",
       "      <td>1.0</td>\n",
       "      <td>1.0</td>\n",
       "      <td>1.0</td>\n",
       "      <td>...</td>\n",
       "      <td>NaN</td>\n",
       "      <td>NaN</td>\n",
       "      <td>NaN</td>\n",
       "      <td>NaN</td>\n",
       "      <td>NaN</td>\n",
       "      <td>NaN</td>\n",
       "      <td>NaN</td>\n",
       "      <td>NaN</td>\n",
       "      <td>NaN</td>\n",
       "      <td>NaN</td>\n",
       "    </tr>\n",
       "    <tr>\n",
       "      <th>2</th>\n",
       "      <td>c/unittest/python/reactor_tests.py</td>\n",
       "      <td>292.0</td>\n",
       "      <td>292.0</td>\n",
       "      <td>316.0</td>\n",
       "      <td>316.0</td>\n",
       "      <td>316.0</td>\n",
       "      <td>316.0</td>\n",
       "      <td>316.0</td>\n",
       "      <td>316.0</td>\n",
       "      <td>316.0</td>\n",
       "      <td>...</td>\n",
       "      <td>494.0</td>\n",
       "      <td>494.0</td>\n",
       "      <td>494.0</td>\n",
       "      <td>494.0</td>\n",
       "      <td>494.0</td>\n",
       "      <td>514.0</td>\n",
       "      <td>514.0</td>\n",
       "      <td>523.0</td>\n",
       "      <td>523.0</td>\n",
       "      <td>523.0</td>\n",
       "    </tr>\n",
       "    <tr>\n",
       "      <th>3</th>\n",
       "      <td>c/unittest/python/core_tests.py</td>\n",
       "      <td>281.0</td>\n",
       "      <td>281.0</td>\n",
       "      <td>400.0</td>\n",
       "      <td>400.0</td>\n",
       "      <td>400.0</td>\n",
       "      <td>400.0</td>\n",
       "      <td>400.0</td>\n",
       "      <td>400.0</td>\n",
       "      <td>400.0</td>\n",
       "      <td>...</td>\n",
       "      <td>624.0</td>\n",
       "      <td>624.0</td>\n",
       "      <td>624.0</td>\n",
       "      <td>624.0</td>\n",
       "      <td>624.0</td>\n",
       "      <td>624.0</td>\n",
       "      <td>624.0</td>\n",
       "      <td>624.0</td>\n",
       "      <td>624.0</td>\n",
       "      <td>624.0</td>\n",
       "    </tr>\n",
       "    <tr>\n",
       "      <th>4</th>\n",
       "      <td>c/main/python/pythonbuilder/execution.py</td>\n",
       "      <td>261.0</td>\n",
       "      <td>260.0</td>\n",
       "      <td>274.0</td>\n",
       "      <td>274.0</td>\n",
       "      <td>274.0</td>\n",
       "      <td>274.0</td>\n",
       "      <td>NaN</td>\n",
       "      <td>NaN</td>\n",
       "      <td>NaN</td>\n",
       "      <td>...</td>\n",
       "      <td>NaN</td>\n",
       "      <td>NaN</td>\n",
       "      <td>NaN</td>\n",
       "      <td>NaN</td>\n",
       "      <td>NaN</td>\n",
       "      <td>NaN</td>\n",
       "      <td>NaN</td>\n",
       "      <td>NaN</td>\n",
       "      <td>NaN</td>\n",
       "      <td>NaN</td>\n",
       "    </tr>\n",
       "  </tbody>\n",
       "</table>\n",
       "<p>5 rows × 54 columns</p>\n",
       "</div>"
      ],
      "text/plain": [
       "                                         id     t0     t1     t2     t3  \\\n",
       "0      c/unittest/python/execution_tests.py  440.0  438.0  519.0  519.0   \n",
       "1       c/main/python/pythonbuilder/core.py  305.0  317.0  385.0  385.0   \n",
       "2        c/unittest/python/reactor_tests.py  292.0  292.0  316.0  316.0   \n",
       "3           c/unittest/python/core_tests.py  281.0  281.0  400.0  400.0   \n",
       "4  c/main/python/pythonbuilder/execution.py  261.0  260.0  274.0  274.0   \n",
       "\n",
       "      t4     t5     t6     t7     t8  ...      t43    t44    t45    t46  \\\n",
       "0  519.0  519.0  519.0  519.0  519.0  ...    959.0  959.0  959.0  959.0   \n",
       "1  385.0  385.0    1.0    1.0    1.0  ...      NaN    NaN    NaN    NaN   \n",
       "2  316.0  316.0  316.0  316.0  316.0  ...    494.0  494.0  494.0  494.0   \n",
       "3  400.0  400.0  400.0  400.0  400.0  ...    624.0  624.0  624.0  624.0   \n",
       "4  274.0  274.0    NaN    NaN    NaN  ...      NaN    NaN    NaN    NaN   \n",
       "\n",
       "     t47    t48    t49    t50    t51    t52  \n",
       "0  959.0  959.0  959.0  959.0  959.0  959.0  \n",
       "1    NaN    NaN    NaN    NaN    NaN    NaN  \n",
       "2  494.0  514.0  514.0  523.0  523.0  523.0  \n",
       "3  624.0  624.0  624.0  624.0  624.0  624.0  \n",
       "4    NaN    NaN    NaN    NaN    NaN    NaN  \n",
       "\n",
       "[5 rows x 54 columns]"
      ]
     },
     "execution_count": 10,
     "metadata": {},
     "output_type": "execute_result"
    }
   ],
   "source": [
    "df_full.head()"
   ]
  },
  {
   "cell_type": "code",
   "execution_count": 11,
   "metadata": {
    "papermill": {
     "duration": 0.330135,
     "end_time": "2017-11-12T19:48:06.221870",
     "exception": false,
     "start_time": "2017-11-12T19:48:05.891735",
     "status": "completed"
    },
    "tags": []
   },
   "outputs": [],
   "source": [
    "from collections import defaultdict\n",
    "import networkx as nx\n",
    "\n",
    "FILE_MARKER = '<files>'\n",
    "\n",
    "def attach(branch, trunk):\n",
    "    parts = branch.split('/', 1)\n",
    "    if len(parts) == 1:  # branch is a file\n",
    "        trunk[FILE_MARKER].append(parts[0])\n",
    "    else:\n",
    "        node, others = parts\n",
    "        if node not in trunk:\n",
    "            trunk[node] = defaultdict(dict, ((FILE_MARKER, []),))\n",
    "        attach(others, trunk[node])\n",
    "\n",
    "def build_adjacency_list(d, id, result):\n",
    "    for key in d.keys():\n",
    "        if key != FILE_MARKER:\n",
    "            result.append((id, id + key))\n",
    "            build_adjacency_list(d[key], id + key, result)\n",
    "        else:\n",
    "            for file in d[key]:\n",
    "                result.append((id, id + file))\n",
    "\n",
    "        \n",
    "def plot_tree(id_list):\n",
    "    \n",
    "    keys = sorted(id_list)\n",
    "\n",
    "    main_dict = defaultdict(dict, ((FILE_MARKER, []),))\n",
    "    for line in keys:\n",
    "        attach(line, main_dict)\n",
    "\n",
    "    # _create adjacency list\n",
    "    result = []\n",
    "    build_adjacency_list(main_dict, \"ROOT\", result)\n",
    "\n",
    "    G = nx.DiGraph()\n",
    "    G.add_edges_from(result)\n",
    "    # write dot file to use with graphviz\n",
    "    # run \"dot -_tpng test.dot >test.png\"\n",
    "    # nx.nx_agraph.write_dot(_g, 'test.dot')\n",
    "\n",
    "    # same layout using matplotlib with no labels\n",
    "    pos = nx.nx_agraph.graphviz_layout(G, prog='dot')\n",
    "    nx.draw(G, pos, with_labels=False, arrows=False, node_size=2)\n",
    "\n"
   ]
  },
  {
   "cell_type": "markdown",
   "metadata": {
    "papermill": {
     "duration": 1.4e-05,
     "end_time": "2017-11-12T19:48:06.222056",
     "exception": false,
     "start_time": "2017-11-12T19:48:06.222042",
     "status": "completed"
    },
    "tags": []
   },
   "source": [
    "## Union tree of all revisions"
   ]
  },
  {
   "cell_type": "code",
   "execution_count": 12,
   "metadata": {
    "papermill": {
     "duration": 0.230904,
     "end_time": "2017-11-12T19:48:06.468058",
     "exception": false,
     "start_time": "2017-11-12T19:48:06.237154",
     "status": "completed"
    },
    "scrolled": true,
    "tags": []
   },
   "outputs": [
    {
     "data": {
      "image/png": "[encoded data removed]",
      "text/plain": [
       "<matplotlib.figure.Figure at 0x7fea97132240>"
      ]
     },
     "metadata": {},
     "output_type": "display_data"
    }
   ],
   "source": [
    "tree_fig = plt.figure(0)\n",
    "tree_fig.suptitle(dataset_id)\n",
    "plt.axis('off')\n",
    "plot_tree(df_full['id'].tolist())\n",
    "#pm.display('tree', tree_fig)\n",
    "\n"
   ]
  },
  {
   "cell_type": "markdown",
   "metadata": {
    "papermill": {
     "duration": 1.4e-05,
     "end_time": "2017-11-12T19:48:06.468240",
     "exception": false,
     "start_time": "2017-11-12T19:48:06.468226",
     "status": "completed"
    },
    "tags": []
   },
   "source": [
    "# Evolution"
   ]
  },
  {
   "cell_type": "markdown",
   "metadata": {
    "papermill": {
     "duration": 2.7e-05,
     "end_time": "2017-11-12T19:48:06.484305",
     "exception": false,
     "start_time": "2017-11-12T19:48:06.484278",
     "status": "completed"
    },
    "tags": []
   },
   "source": [
    "## Items count"
   ]
  },
  {
   "cell_type": "code",
   "execution_count": 13,
   "metadata": {
    "papermill": {
     "duration": 0.167216,
     "end_time": "2017-11-12T19:48:06.668705",
     "exception": false,
     "start_time": "2017-11-12T19:48:06.501489",
     "status": "completed"
    },
    "tags": []
   },
   "outputs": [
    {
     "data": {
      "image/png": "[encoded data removed]",
      "text/plain": [
       "<matplotlib.figure.Figure at 0x7fea91710b00>"
      ]
     },
     "metadata": {},
     "output_type": "display_data"
    }
   ],
   "source": [
    "def plot_item_count():\n",
    "    n_items = [len(df) for df in dfs]\n",
    "    plt.plot(n_items)\n",
    "\n",
    "fig = plt.figure()\n",
    "fig.suptitle(\"Item count\")\n",
    "plt.ylabel('Number of items')\n",
    "plt.xlabel('Revision')\n",
    "\n",
    "plot_item_count()"
   ]
  },
  {
   "cell_type": "markdown",
   "metadata": {
    "papermill": {
     "duration": 1.4e-05,
     "end_time": "2017-11-12T19:48:06.668901",
     "exception": false,
     "start_time": "2017-11-12T19:48:06.668887",
     "status": "completed"
    },
    "tags": []
   },
   "source": [
    "## Weight count"
   ]
  },
  {
   "cell_type": "code",
   "execution_count": 14,
   "metadata": {
    "papermill": {
     "duration": 0.17854,
     "end_time": "2017-11-12T19:48:06.870545",
     "exception": false,
     "start_time": "2017-11-12T19:48:06.692005",
     "status": "completed"
    },
    "tags": []
   },
   "outputs": [
    {
     "data": {
      "image/png": "[encoded data removed]",
      "text/plain": [
       "<matplotlib.figure.Figure at 0x7fea91677128>"
      ]
     },
     "metadata": {},
     "output_type": "display_data"
    }
   ],
   "source": [
    "def plot_weight():\n",
    "    total_weight = [sum(df['weight']) for df in dfs]\n",
    "    plt.plot(total_weight)\n",
    "\n",
    "fig = plt.figure()\n",
    "fig.suptitle(\"Weight evolution\")\n",
    "plt.ylabel('Total weight')\n",
    "plt.xlabel('Revision')\n",
    "plot_weight()"
   ]
  },
  {
   "cell_type": "markdown",
   "metadata": {
    "papermill": {
     "duration": 1.5e-05,
     "end_time": "2017-11-12T19:48:06.870739",
     "exception": false,
     "start_time": "2017-11-12T19:48:06.870724",
     "status": "completed"
    },
    "tags": []
   },
   "source": [
    "## Addition and removal of items"
   ]
  },
  {
   "cell_type": "code",
   "execution_count": 15,
   "metadata": {
    "papermill": {
     "duration": 0.049247,
     "end_time": "2017-11-12T19:48:06.938654",
     "exception": false,
     "start_time": "2017-11-12T19:48:06.889407",
     "status": "completed"
    },
    "tags": []
   },
   "outputs": [
    {
     "data": {
      "text/html": [
       "<div>\n",
       "<style scoped>\n",
       "    .dataframe tbody tr th:only-of-type {\n",
       "        vertical-align: middle;\n",
       "    }\n",
       "\n",
       "    .dataframe tbody tr th {\n",
       "        vertical-align: top;\n",
       "    }\n",
       "\n",
       "    .dataframe thead th {\n",
       "        text-align: right;\n",
       "    }\n",
       "</style>\n",
       "<table border=\"1\" class=\"dataframe\">\n",
       "  <thead>\n",
       "    <tr style=\"text-align: right;\">\n",
       "      <th></th>\n",
       "      <th>id</th>\n",
       "      <th>weight_x</th>\n",
       "      <th>weight_y</th>\n",
       "      <th>_merge</th>\n",
       "    </tr>\n",
       "  </thead>\n",
       "  <tbody>\n",
       "    <tr>\n",
       "      <th>24</th>\n",
       "      <td>c/main/python/pythonbuilder/plugins/python/sna...</td>\n",
       "      <td>60.0</td>\n",
       "      <td>NaN</td>\n",
       "      <td>left_only</td>\n",
       "    </tr>\n",
       "    <tr>\n",
       "      <th>56</th>\n",
       "      <td>c/main/python/pythonbuilder/plugins/__init__.py</td>\n",
       "      <td>15.0</td>\n",
       "      <td>NaN</td>\n",
       "      <td>left_only</td>\n",
       "    </tr>\n",
       "  </tbody>\n",
       "</table>\n",
       "</div>"
      ],
      "text/plain": [
       "                                                   id  weight_x  weight_y  \\\n",
       "24  c/main/python/pythonbuilder/plugins/python/sna...      60.0       NaN   \n",
       "56    c/main/python/pythonbuilder/plugins/__init__.py      15.0       NaN   \n",
       "\n",
       "       _merge  \n",
       "24  left_only  \n",
       "56  left_only  "
      ]
     },
     "execution_count": 15,
     "metadata": {},
     "output_type": "execute_result"
    }
   ],
   "source": [
    "# How to find removals\n",
    "pd.merge(dfs[0], dfs[1], on='id', how='outer', indicator=True).query('_merge==\"left_only\"')"
   ]
  },
  {
   "cell_type": "code",
   "execution_count": 16,
   "metadata": {
    "papermill": {
     "duration": 0.028328,
     "end_time": "2017-11-12T19:48:06.967069",
     "exception": false,
     "start_time": "2017-11-12T19:48:06.938741",
     "status": "completed"
    },
    "tags": []
   },
   "outputs": [
    {
     "data": {
      "text/html": [
       "<div>\n",
       "<style scoped>\n",
       "    .dataframe tbody tr th:only-of-type {\n",
       "        vertical-align: middle;\n",
       "    }\n",
       "\n",
       "    .dataframe tbody tr th {\n",
       "        vertical-align: top;\n",
       "    }\n",
       "\n",
       "    .dataframe thead th {\n",
       "        text-align: right;\n",
       "    }\n",
       "</style>\n",
       "<table border=\"1\" class=\"dataframe\">\n",
       "  <thead>\n",
       "    <tr style=\"text-align: right;\">\n",
       "      <th></th>\n",
       "      <th>id</th>\n",
       "      <th>weight_x</th>\n",
       "      <th>weight_y</th>\n",
       "      <th>_merge</th>\n",
       "    </tr>\n",
       "  </thead>\n",
       "  <tbody>\n",
       "    <tr>\n",
       "      <th>57</th>\n",
       "      <td>c/main/python/pythonbuilder/plugins/python/ins...</td>\n",
       "      <td>NaN</td>\n",
       "      <td>70.0</td>\n",
       "      <td>right_only</td>\n",
       "    </tr>\n",
       "    <tr>\n",
       "      <th>58</th>\n",
       "      <td>it-travis-like-ve</td>\n",
       "      <td>NaN</td>\n",
       "      <td>9.0</td>\n",
       "      <td>right_only</td>\n",
       "    </tr>\n",
       "    <tr>\n",
       "      <th>59</th>\n",
       "      <td>c/unittest/python/plugins/python/__init__.py</td>\n",
       "      <td>NaN</td>\n",
       "      <td>15.0</td>\n",
       "      <td>right_only</td>\n",
       "    </tr>\n",
       "  </tbody>\n",
       "</table>\n",
       "</div>"
      ],
      "text/plain": [
       "                                                   id  weight_x  weight_y  \\\n",
       "57  c/main/python/pythonbuilder/plugins/python/ins...       NaN      70.0   \n",
       "58                                  it-travis-like-ve       NaN       9.0   \n",
       "59       c/unittest/python/plugins/python/__init__.py       NaN      15.0   \n",
       "\n",
       "        _merge  \n",
       "57  right_only  \n",
       "58  right_only  \n",
       "59  right_only  "
      ]
     },
     "execution_count": 16,
     "metadata": {},
     "output_type": "execute_result"
    }
   ],
   "source": [
    "# How to find additions\n",
    "pd.merge(dfs[0], dfs[1], on='id', how='outer', indicator=True).query('_merge==\"right_only\"')\n",
    "# len(pd.merge...) to get the number of additions/deletions"
   ]
  },
  {
   "cell_type": "code",
   "execution_count": 17,
   "metadata": {
    "papermill": {
     "duration": 1.355287,
     "end_time": "2017-11-12T19:48:08.322442",
     "exception": false,
     "start_time": "2017-11-12T19:48:06.967155",
     "status": "completed"
    },
    "tags": []
   },
   "outputs": [
    {
     "data": {
      "text/plain": [
       "<matplotlib.text.Text at 0x7fea916a1048>"
      ]
     },
     "execution_count": 17,
     "metadata": {},
     "output_type": "execute_result"
    },
    {
     "data": {
      "image/png": "[encoded data removed]",
      "text/plain": [
       "<matplotlib.figure.Figure at 0x7fea91722be0>"
      ]
     },
     "metadata": {},
     "output_type": "display_data"
    }
   ],
   "source": [
    "fig, ax = plt.subplots()\n",
    "\n",
    "n_additions = []\n",
    "n_removals = []\n",
    "for i in range(1, n_revisions):\n",
    "    n_additions.append(\n",
    "        len(pd.merge(dfs[i-1], dfs[i], on='id', how='outer', indicator=True)\n",
    "            .query('_merge==\"right_only\"')))\n",
    "    n_removals.append(\n",
    "        -len(pd.merge(dfs[i-1], dfs[i], on='id', how='outer', indicator=True)\n",
    "            .query('_merge==\"left_only\"')))\n",
    "x = range(0, n_revisions - 1)\n",
    "ax.bar(x ,n_additions, width=1, color='b')\n",
    "ax.bar(x, n_removals, width=1, color='r')\n",
    "\n",
    "fig.suptitle(\"Item change evolution\")\n",
    "plt.ylabel('Removals - Additions')\n",
    "plt.xlabel('Revision')\n",
    "\n"
   ]
  },
  {
   "cell_type": "markdown",
   "metadata": {
    "papermill": {
     "duration": 3.5e-05,
     "end_time": "2017-11-12T19:48:08.322689",
     "exception": false,
     "start_time": "2017-11-12T19:48:08.322654",
     "status": "completed"
    },
    "tags": []
   },
   "source": [
    "## Sum of cell's change in weight (stability)"
   ]
  },
  {
   "cell_type": "code",
   "execution_count": 18,
   "metadata": {
    "papermill": {
     "duration": 0.402282,
     "end_time": "2017-11-12T19:48:08.746561",
     "exception": false,
     "start_time": "2017-11-12T19:48:08.344279",
     "status": "completed"
    },
    "tags": []
   },
   "outputs": [
    {
     "data": {
      "text/plain": [
       "<matplotlib.text.Text at 0x7fea914b8d30>"
      ]
     },
     "execution_count": 18,
     "metadata": {},
     "output_type": "execute_result"
    },
    {
     "data": {
      "image/png": "[encoded data removed]",
      "text/plain": [
       "<matplotlib.figure.Figure at 0x7fea9152b400>"
      ]
     },
     "metadata": {},
     "output_type": "display_data"
    }
   ],
   "source": [
    "fig = plt.figure()\n",
    "change = [0.0] * n_revisions\n",
    "for index, row in df_full.fillna(0).iterrows():\n",
    "    for j in range (2, len(row)):\n",
    "        change[j-1] += abs(row[j] - row[j-1])\n",
    "\n",
    "plt.plot(change)\n",
    "fig.suptitle(\"Instability\")\n",
    "plt.ylabel('Weight change')\n",
    "plt.xlabel('Revision')\n",
    "    "
   ]
  }
 ],
 "metadata": {
  "celltoolbar": "Tags",
  "kernelspec": {
   "display_name": "Python 2",
   "language": "python",
   "name": "python2"
  },
  "language_info": {
   "codemirror_mode": {
    "name": "ipython",
    "version": 3
   },
   "file_extension": ".py",
   "mimetype": "text/x-python",
   "name": "python",
   "nbconvert_exporter": "python",
   "pygments_lexer": "ipython3",
   "version": "3.5.2"
  },
  "papermill": {
   "duration": 5.432524,
   "end_time": "2017-11-12T19:48:09.292451",
   "environment_variables": {},
   "exception": false,
   "output_path": "dataset-info/pybuilder.ipynb",
   "parameters": {
    "input_dir": "dataset/pybuilder"
   },
   "start_time": "2017-11-12T19:48:03.859927",
   "version": "0.10.0"
  }
 },
 "nbformat": 4,
 "nbformat_minor": 1
}