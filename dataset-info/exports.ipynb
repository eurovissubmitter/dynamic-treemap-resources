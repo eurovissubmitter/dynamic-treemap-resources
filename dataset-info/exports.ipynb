{
 "cells": [
  {
   "cell_type": "markdown",
   "metadata": {
    "papermill": {
     "duration": 0.000233,
     "end_time": "2017-11-12T19:44:12.137681",
     "exception": false,
     "start_time": "2017-11-12T19:44:12.137448",
     "status": "completed"
    },
    "tags": []
   },
   "source": [
    "# Dataset analysis\n",
    "To generate results for every dataset in the `dataset` folder, run:\n",
    "```\n",
    "for dataset in $(find dataset/* -maxdepth 0 -type d); do papermill dataset-info/DatasetBase.ipynb dataset-info/$(basename $dataset).ipynb -p input_dir $dataset; done\n",
    "```"
   ]
  },
  {
   "cell_type": "code",
   "execution_count": 1,
   "metadata": {
    "papermill": {
     "duration": 0.569413,
     "end_time": "2017-11-12T19:44:12.716107",
     "exception": false,
     "start_time": "2017-11-12T19:44:12.146694",
     "status": "completed"
    },
    "tags": []
   },
   "outputs": [],
   "source": [
    "import matplotlib.pyplot as plt\n",
    "import re, os\n",
    "import papermill as pm\n",
    "%matplotlib inline"
   ]
  },
  {
   "cell_type": "code",
   "execution_count": 2,
   "metadata": {
    "papermill": {
     "duration": 0.016609,
     "end_time": "2017-11-12T19:44:12.732934",
     "exception": false,
     "start_time": "2017-11-12T19:44:12.716325",
     "status": "completed"
    },
    "tags": [
     "parameters"
    ]
   },
   "outputs": [],
   "source": [
    "# Parameters\n",
    "input_dir = \"dataset/exports\"\n"
   ]
  },
  {
   "cell_type": "code",
   "execution_count": 3,
   "metadata": {
    "papermill": {
     "duration": 0.021987,
     "end_time": "2017-11-12T19:44:12.755006",
     "exception": false,
     "start_time": "2017-11-12T19:44:12.733019",
     "status": "completed"
    },
    "tags": []
   },
   "outputs": [],
   "source": [
    "# Make a regex to extract dataset name\n",
    "import re\n",
    "\n",
    "matchObj = re.match( r'.*/(.*)', input_dir, re.M|re.I)\n",
    "if matchObj:\n",
    "    dataset_id = matchObj.group(1)\n",
    "    dataset_id"
   ]
  },
  {
   "cell_type": "code",
   "execution_count": 4,
   "metadata": {
    "papermill": {
     "duration": 0.0205,
     "end_time": "2017-11-12T19:44:12.775597",
     "exception": false,
     "start_time": "2017-11-12T19:44:12.755097",
     "status": "completed"
    },
    "tags": []
   },
   "outputs": [],
   "source": [
    "def natural_sort(l):\n",
    "    convert = lambda text: int(text) if text.isdigit() else text.lower()\n",
    "    alphanum_key = lambda key: [convert(c) for c in re.split('([0-9]+)', key)]\n",
    "    return sorted(l, key=alphanum_key)"
   ]
  },
  {
   "cell_type": "code",
   "execution_count": 5,
   "metadata": {
    "papermill": {
     "duration": 0.02786,
     "end_time": "2017-11-12T19:44:12.803848",
     "exception": false,
     "start_time": "2017-11-12T19:44:12.775988",
     "status": "completed"
    },
    "tags": []
   },
   "outputs": [
    {
     "data": {
      "text/plain": [
       "['dataset/exports/exports.1.csv',\n",
       " 'dataset/exports/exports.2.csv',\n",
       " 'dataset/exports/exports.3.csv',\n",
       " 'dataset/exports/exports.4.csv',\n",
       " 'dataset/exports/exports.5.csv']"
      ]
     },
     "execution_count": 5,
     "metadata": {},
     "output_type": "execute_result"
    }
   ],
   "source": [
    "# List files in input_dir in natural order\n",
    "files = [os.path.join(input_dir, f) for f in os.listdir(input_dir) if os.path.isfile(os.path.join(input_dir, f))]\n",
    "files = natural_sort(files)\n",
    "files[0:5]"
   ]
  },
  {
   "cell_type": "code",
   "execution_count": 6,
   "metadata": {
    "papermill": {
     "duration": 0.132664,
     "end_time": "2017-11-12T19:44:12.936603",
     "exception": false,
     "start_time": "2017-11-12T19:44:12.803939",
     "status": "completed"
    },
    "tags": []
   },
   "outputs": [],
   "source": [
    "import pandas as pd\n",
    "n_revisions = len(files)\n",
    "dfs = [pd.read_csv(file) for file in files]"
   ]
  },
  {
   "cell_type": "code",
   "execution_count": 7,
   "metadata": {
    "papermill": {
     "duration": 0.029279,
     "end_time": "2017-11-12T19:44:12.966055",
     "exception": false,
     "start_time": "2017-11-12T19:44:12.936776",
     "status": "completed"
    },
    "tags": []
   },
   "outputs": [
    {
     "data": {
      "text/html": [
       "<div>\n",
       "<style scoped>\n",
       "    .dataframe tbody tr th:only-of-type {\n",
       "        vertical-align: middle;\n",
       "    }\n",
       "\n",
       "    .dataframe tbody tr th {\n",
       "        vertical-align: top;\n",
       "    }\n",
       "\n",
       "    .dataframe thead th {\n",
       "        text-align: right;\n",
       "    }\n",
       "</style>\n",
       "<table border=\"1\" class=\"dataframe\">\n",
       "  <thead>\n",
       "    <tr style=\"text-align: right;\">\n",
       "      <th></th>\n",
       "      <th>id</th>\n",
       "      <th>weight</th>\n",
       "    </tr>\n",
       "  </thead>\n",
       "  <tbody>\n",
       "    <tr>\n",
       "      <th>0</th>\n",
       "      <td>South Asia/Afghanistan</td>\n",
       "      <td>4.132233</td>\n",
       "    </tr>\n",
       "    <tr>\n",
       "      <th>1</th>\n",
       "      <td>South Asia/Bangladesh</td>\n",
       "      <td>9.996685</td>\n",
       "    </tr>\n",
       "    <tr>\n",
       "      <th>2</th>\n",
       "      <td>South Asia/Bhutan</td>\n",
       "      <td>0.000000</td>\n",
       "    </tr>\n",
       "    <tr>\n",
       "      <th>3</th>\n",
       "      <td>South Asia/India</td>\n",
       "      <td>4.386235</td>\n",
       "    </tr>\n",
       "    <tr>\n",
       "      <th>4</th>\n",
       "      <td>South Asia/Maldives</td>\n",
       "      <td>0.000000</td>\n",
       "    </tr>\n",
       "  </tbody>\n",
       "</table>\n",
       "</div>"
      ],
      "text/plain": [
       "                       id    weight\n",
       "0  South Asia/Afghanistan  4.132233\n",
       "1   South Asia/Bangladesh  9.996685\n",
       "2       South Asia/Bhutan  0.000000\n",
       "3        South Asia/India  4.386235\n",
       "4     South Asia/Maldives  0.000000"
      ]
     },
     "execution_count": 7,
     "metadata": {},
     "output_type": "execute_result"
    }
   ],
   "source": [
    "dfs[0].head()"
   ]
  },
  {
   "cell_type": "code",
   "execution_count": 8,
   "metadata": {
    "papermill": {
     "duration": 0.173726,
     "end_time": "2017-11-12T19:44:13.139934",
     "exception": false,
     "start_time": "2017-11-12T19:44:12.966208",
     "status": "completed"
    },
    "tags": []
   },
   "outputs": [],
   "source": [
    "from functools import reduce\n",
    "# Outer join of files  \n",
    "df_full = reduce((lambda x, y: pd.merge(x, y, how='outer', on='id')), dfs)"
   ]
  },
  {
   "cell_type": "code",
   "execution_count": 9,
   "metadata": {
    "papermill": {
     "duration": 0.016946,
     "end_time": "2017-11-12T19:44:13.157052",
     "exception": false,
     "start_time": "2017-11-12T19:44:13.140106",
     "status": "completed"
    },
    "tags": []
   },
   "outputs": [],
   "source": [
    "# Rename columns\n",
    "df_full.columns = ['id'] + ['t'+str(i) for i in range(df_full.shape[1]-1)]"
   ]
  },
  {
   "cell_type": "code",
   "execution_count": 10,
   "metadata": {
    "papermill": {
     "duration": 0.038368,
     "end_time": "2017-11-12T19:44:13.195690",
     "exception": false,
     "start_time": "2017-11-12T19:44:13.157322",
     "status": "completed"
    },
    "scrolled": true,
    "tags": []
   },
   "outputs": [
    {
     "data": {
      "text/html": [
       "<div>\n",
       "<style scoped>\n",
       "    .dataframe tbody tr th:only-of-type {\n",
       "        vertical-align: middle;\n",
       "    }\n",
       "\n",
       "    .dataframe tbody tr th {\n",
       "        vertical-align: top;\n",
       "    }\n",
       "\n",
       "    .dataframe thead th {\n",
       "        text-align: right;\n",
       "    }\n",
       "</style>\n",
       "<table border=\"1\" class=\"dataframe\">\n",
       "  <thead>\n",
       "    <tr style=\"text-align: right;\">\n",
       "      <th></th>\n",
       "      <th>id</th>\n",
       "      <th>t0</th>\n",
       "      <th>t1</th>\n",
       "      <th>t2</th>\n",
       "      <th>t3</th>\n",
       "      <th>t4</th>\n",
       "      <th>t5</th>\n",
       "      <th>t6</th>\n",
       "      <th>t7</th>\n",
       "      <th>t8</th>\n",
       "      <th>...</th>\n",
       "      <th>t46</th>\n",
       "      <th>t47</th>\n",
       "      <th>t48</th>\n",
       "      <th>t49</th>\n",
       "      <th>t50</th>\n",
       "      <th>t51</th>\n",
       "      <th>t52</th>\n",
       "      <th>t53</th>\n",
       "      <th>t54</th>\n",
       "      <th>t55</th>\n",
       "    </tr>\n",
       "  </thead>\n",
       "  <tbody>\n",
       "    <tr>\n",
       "      <th>0</th>\n",
       "      <td>South Asia/Afghanistan</td>\n",
       "      <td>4.132233</td>\n",
       "      <td>4.453443</td>\n",
       "      <td>4.878051</td>\n",
       "      <td>9.171601</td>\n",
       "      <td>8.888893</td>\n",
       "      <td>11.258279</td>\n",
       "      <td>8.571429</td>\n",
       "      <td>6.772908</td>\n",
       "      <td>8.899677</td>\n",
       "      <td>...</td>\n",
       "      <td>26.470293</td>\n",
       "      <td>17.823714</td>\n",
       "      <td>17.992975</td>\n",
       "      <td>14.707589</td>\n",
       "      <td>10.023850</td>\n",
       "      <td>6.107274</td>\n",
       "      <td>5.516850</td>\n",
       "      <td>6.307895</td>\n",
       "      <td>6.634452</td>\n",
       "      <td>7.149601</td>\n",
       "    </tr>\n",
       "    <tr>\n",
       "      <th>1</th>\n",
       "      <td>South Asia/Bangladesh</td>\n",
       "      <td>9.996685</td>\n",
       "      <td>10.782353</td>\n",
       "      <td>10.746751</td>\n",
       "      <td>9.983485</td>\n",
       "      <td>10.028412</td>\n",
       "      <td>9.662716</td>\n",
       "      <td>10.284281</td>\n",
       "      <td>9.306142</td>\n",
       "      <td>8.330809</td>\n",
       "      <td>...</td>\n",
       "      <td>16.353464</td>\n",
       "      <td>16.995335</td>\n",
       "      <td>17.658858</td>\n",
       "      <td>16.940133</td>\n",
       "      <td>16.024113</td>\n",
       "      <td>19.922075</td>\n",
       "      <td>20.161589</td>\n",
       "      <td>19.537874</td>\n",
       "      <td>18.989660</td>\n",
       "      <td>17.336675</td>\n",
       "    </tr>\n",
       "    <tr>\n",
       "      <th>2</th>\n",
       "      <td>South Asia/Bhutan</td>\n",
       "      <td>0.000000</td>\n",
       "      <td>0.000000</td>\n",
       "      <td>0.000000</td>\n",
       "      <td>0.000000</td>\n",
       "      <td>0.000000</td>\n",
       "      <td>0.000000</td>\n",
       "      <td>0.000000</td>\n",
       "      <td>0.000000</td>\n",
       "      <td>0.000000</td>\n",
       "      <td>...</td>\n",
       "      <td>62.608052</td>\n",
       "      <td>41.651386</td>\n",
       "      <td>48.790260</td>\n",
       "      <td>44.701981</td>\n",
       "      <td>42.452791</td>\n",
       "      <td>41.205415</td>\n",
       "      <td>38.725334</td>\n",
       "      <td>40.459904</td>\n",
       "      <td>36.284637</td>\n",
       "      <td>32.884411</td>\n",
       "    </tr>\n",
       "    <tr>\n",
       "      <th>3</th>\n",
       "      <td>South Asia/India</td>\n",
       "      <td>4.386235</td>\n",
       "      <td>4.229415</td>\n",
       "      <td>4.097124</td>\n",
       "      <td>4.206730</td>\n",
       "      <td>3.661342</td>\n",
       "      <td>3.250470</td>\n",
       "      <td>4.071155</td>\n",
       "      <td>3.964913</td>\n",
       "      <td>3.969164</td>\n",
       "      <td>...</td>\n",
       "      <td>21.069475</td>\n",
       "      <td>21.008290</td>\n",
       "      <td>24.268237</td>\n",
       "      <td>20.616243</td>\n",
       "      <td>22.591195</td>\n",
       "      <td>24.541225</td>\n",
       "      <td>24.516356</td>\n",
       "      <td>25.323983</td>\n",
       "      <td>22.910146</td>\n",
       "      <td>19.938679</td>\n",
       "    </tr>\n",
       "    <tr>\n",
       "      <th>4</th>\n",
       "      <td>South Asia/Maldives</td>\n",
       "      <td>0.000000</td>\n",
       "      <td>0.000000</td>\n",
       "      <td>0.000000</td>\n",
       "      <td>0.000000</td>\n",
       "      <td>0.000000</td>\n",
       "      <td>0.000000</td>\n",
       "      <td>0.000000</td>\n",
       "      <td>0.000000</td>\n",
       "      <td>0.000000</td>\n",
       "      <td>...</td>\n",
       "      <td>52.696166</td>\n",
       "      <td>103.315146</td>\n",
       "      <td>93.354845</td>\n",
       "      <td>79.664605</td>\n",
       "      <td>86.400716</td>\n",
       "      <td>105.588821</td>\n",
       "      <td>99.039676</td>\n",
       "      <td>104.803653</td>\n",
       "      <td>107.683701</td>\n",
       "      <td>91.694714</td>\n",
       "    </tr>\n",
       "  </tbody>\n",
       "</table>\n",
       "<p>5 rows × 57 columns</p>\n",
       "</div>"
      ],
      "text/plain": [
       "                       id        t0         t1         t2        t3  \\\n",
       "0  South Asia/Afghanistan  4.132233   4.453443   4.878051  9.171601   \n",
       "1   South Asia/Bangladesh  9.996685  10.782353  10.746751  9.983485   \n",
       "2       South Asia/Bhutan  0.000000   0.000000   0.000000  0.000000   \n",
       "3        South Asia/India  4.386235   4.229415   4.097124  4.206730   \n",
       "4     South Asia/Maldives  0.000000   0.000000   0.000000  0.000000   \n",
       "\n",
       "          t4         t5         t6        t7        t8    ...            t46  \\\n",
       "0   8.888893  11.258279   8.571429  6.772908  8.899677    ...      26.470293   \n",
       "1  10.028412   9.662716  10.284281  9.306142  8.330809    ...      16.353464   \n",
       "2   0.000000   0.000000   0.000000  0.000000  0.000000    ...      62.608052   \n",
       "3   3.661342   3.250470   4.071155  3.964913  3.969164    ...      21.069475   \n",
       "4   0.000000   0.000000   0.000000  0.000000  0.000000    ...      52.696166   \n",
       "\n",
       "          t47        t48        t49        t50         t51        t52  \\\n",
       "0   17.823714  17.992975  14.707589  10.023850    6.107274   5.516850   \n",
       "1   16.995335  17.658858  16.940133  16.024113   19.922075  20.161589   \n",
       "2   41.651386  48.790260  44.701981  42.452791   41.205415  38.725334   \n",
       "3   21.008290  24.268237  20.616243  22.591195   24.541225  24.516356   \n",
       "4  103.315146  93.354845  79.664605  86.400716  105.588821  99.039676   \n",
       "\n",
       "          t53         t54        t55  \n",
       "0    6.307895    6.634452   7.149601  \n",
       "1   19.537874   18.989660  17.336675  \n",
       "2   40.459904   36.284637  32.884411  \n",
       "3   25.323983   22.910146  19.938679  \n",
       "4  104.803653  107.683701  91.694714  \n",
       "\n",
       "[5 rows x 57 columns]"
      ]
     },
     "execution_count": 10,
     "metadata": {},
     "output_type": "execute_result"
    }
   ],
   "source": [
    "df_full.head()"
   ]
  },
  {
   "cell_type": "code",
   "execution_count": 11,
   "metadata": {
    "papermill": {
     "duration": 0.273894,
     "end_time": "2017-11-12T19:44:13.469674",
     "exception": false,
     "start_time": "2017-11-12T19:44:13.195780",
     "status": "completed"
    },
    "tags": []
   },
   "outputs": [],
   "source": [
    "from collections import defaultdict\n",
    "import networkx as nx\n",
    "\n",
    "FILE_MARKER = '<files>'\n",
    "\n",
    "def attach(branch, trunk):\n",
    "    parts = branch.split('/', 1)\n",
    "    if len(parts) == 1:  # branch is a file\n",
    "        trunk[FILE_MARKER].append(parts[0])\n",
    "    else:\n",
    "        node, others = parts\n",
    "        if node not in trunk:\n",
    "            trunk[node] = defaultdict(dict, ((FILE_MARKER, []),))\n",
    "        attach(others, trunk[node])\n",
    "\n",
    "def build_adjacency_list(d, id, result):\n",
    "    for key in d.keys():\n",
    "        if key != FILE_MARKER:\n",
    "            result.append((id, id + key))\n",
    "            build_adjacency_list(d[key], id + key, result)\n",
    "        else:\n",
    "            for file in d[key]:\n",
    "                result.append((id, id + file))\n",
    "\n",
    "        \n",
    "def plot_tree(id_list):\n",
    "    \n",
    "    keys = sorted(id_list)\n",
    "\n",
    "    main_dict = defaultdict(dict, ((FILE_MARKER, []),))\n",
    "    for line in keys:\n",
    "        attach(line, main_dict)\n",
    "\n",
    "    # _create adjacency list\n",
    "    result = []\n",
    "    build_adjacency_list(main_dict, \"ROOT\", result)\n",
    "\n",
    "    G = nx.DiGraph()\n",
    "    G.add_edges_from(result)\n",
    "    # write dot file to use with graphviz\n",
    "    # run \"dot -_tpng test.dot >test.png\"\n",
    "    # nx.nx_agraph.write_dot(_g, 'test.dot')\n",
    "\n",
    "    # same layout using matplotlib with no labels\n",
    "    pos = nx.nx_agraph.graphviz_layout(G, prog='dot')\n",
    "    nx.draw(G, pos, with_labels=False, arrows=False, node_size=2)\n",
    "\n"
   ]
  },
  {
   "cell_type": "markdown",
   "metadata": {
    "papermill": {
     "duration": 1.6e-05,
     "end_time": "2017-11-12T19:44:13.469865",
     "exception": false,
     "start_time": "2017-11-12T19:44:13.469849",
     "status": "completed"
    },
    "tags": []
   },
   "source": [
    "## Union tree of all revisions"
   ]
  },
  {
   "cell_type": "code",
   "execution_count": 12,
   "metadata": {
    "papermill": {
     "duration": 0.23609,
     "end_time": "2017-11-12T19:44:13.720126",
     "exception": false,
     "start_time": "2017-11-12T19:44:13.484036",
     "status": "completed"
    },
    "scrolled": true,
    "tags": []
   },
   "outputs": [
    {
     "data": {
      "image/png": "[encoded data removed]",
      "text/plain": [
       "<matplotlib.figure.Figure at 0x7f61ca21a160>"
      ]
     },
     "metadata": {},
     "output_type": "display_data"
    }
   ],
   "source": [
    "tree_fig = plt.figure(0)\n",
    "tree_fig.suptitle(dataset_id)\n",
    "plt.axis('off')\n",
    "plot_tree(df_full['id'].tolist())\n",
    "#pm.display('tree', tree_fig)\n",
    "\n"
   ]
  },
  {
   "cell_type": "markdown",
   "metadata": {
    "papermill": {
     "duration": 2.4e-05,
     "end_time": "2017-11-12T19:44:13.720334",
     "exception": false,
     "start_time": "2017-11-12T19:44:13.720310",
     "status": "completed"
    },
    "tags": []
   },
   "source": [
    "# Evolution"
   ]
  },
  {
   "cell_type": "markdown",
   "metadata": {
    "papermill": {
     "duration": 2.1e-05,
     "end_time": "2017-11-12T19:44:13.735951",
     "exception": false,
     "start_time": "2017-11-12T19:44:13.735930",
     "status": "completed"
    },
    "tags": []
   },
   "source": [
    "## Items count"
   ]
  },
  {
   "cell_type": "code",
   "execution_count": 13,
   "metadata": {
    "papermill": {
     "duration": 0.15338,
     "end_time": "2017-11-12T19:44:13.904976",
     "exception": false,
     "start_time": "2017-11-12T19:44:13.751596",
     "status": "completed"
    },
    "tags": []
   },
   "outputs": [
    {
     "data": {
      "image/png": "[encoded data removed]",
      "text/plain": [
       "<matplotlib.figure.Figure at 0x7f61c5ec22e8>"
      ]
     },
     "metadata": {},
     "output_type": "display_data"
    }
   ],
   "source": [
    "def plot_item_count():\n",
    "    n_items = [len(df) for df in dfs]\n",
    "    plt.plot(n_items)\n",
    "\n",
    "fig = plt.figure()\n",
    "fig.suptitle(\"Item count\")\n",
    "plt.ylabel('Number of items')\n",
    "plt.xlabel('Revision')\n",
    "\n",
    "plot_item_count()"
   ]
  },
  {
   "cell_type": "markdown",
   "metadata": {
    "papermill": {
     "duration": 2.3e-05,
     "end_time": "2017-11-12T19:44:13.905182",
     "exception": false,
     "start_time": "2017-11-12T19:44:13.905159",
     "status": "completed"
    },
    "tags": []
   },
   "source": [
    "## Weight count"
   ]
  },
  {
   "cell_type": "code",
   "execution_count": 14,
   "metadata": {
    "papermill": {
     "duration": 0.16406,
     "end_time": "2017-11-12T19:44:14.085084",
     "exception": false,
     "start_time": "2017-11-12T19:44:13.921024",
     "status": "completed"
    },
    "tags": []
   },
   "outputs": [
    {
     "data": {
      "image/png": "[encoded data removed]",
      "text/plain": [
       "<matplotlib.figure.Figure at 0x7f61c4802278>"
      ]
     },
     "metadata": {},
     "output_type": "display_data"
    }
   ],
   "source": [
    "def plot_weight():\n",
    "    total_weight = [sum(df['weight']) for df in dfs]\n",
    "    plt.plot(total_weight)\n",
    "\n",
    "fig = plt.figure()\n",
    "fig.suptitle(\"Weight evolution\")\n",
    "plt.ylabel('Total weight')\n",
    "plt.xlabel('Revision')\n",
    "plot_weight()"
   ]
  },
  {
   "cell_type": "markdown",
   "metadata": {
    "papermill": {
     "duration": 1.4e-05,
     "end_time": "2017-11-12T19:44:14.085272",
     "exception": false,
     "start_time": "2017-11-12T19:44:14.085258",
     "status": "completed"
    },
    "tags": []
   },
   "source": [
    "## Addition and removal of items"
   ]
  },
  {
   "cell_type": "code",
   "execution_count": 15,
   "metadata": {
    "papermill": {
     "duration": 0.041435,
     "end_time": "2017-11-12T19:44:14.144065",
     "exception": false,
     "start_time": "2017-11-12T19:44:14.102630",
     "status": "completed"
    },
    "tags": []
   },
   "outputs": [
    {
     "data": {
      "text/html": [
       "<div>\n",
       "<style scoped>\n",
       "    .dataframe tbody tr th:only-of-type {\n",
       "        vertical-align: middle;\n",
       "    }\n",
       "\n",
       "    .dataframe tbody tr th {\n",
       "        vertical-align: top;\n",
       "    }\n",
       "\n",
       "    .dataframe thead th {\n",
       "        text-align: right;\n",
       "    }\n",
       "</style>\n",
       "<table border=\"1\" class=\"dataframe\">\n",
       "  <thead>\n",
       "    <tr style=\"text-align: right;\">\n",
       "      <th></th>\n",
       "      <th>id</th>\n",
       "      <th>weight_x</th>\n",
       "      <th>weight_y</th>\n",
       "      <th>_merge</th>\n",
       "    </tr>\n",
       "  </thead>\n",
       "  <tbody>\n",
       "  </tbody>\n",
       "</table>\n",
       "</div>"
      ],
      "text/plain": [
       "Empty DataFrame\n",
       "Columns: [id, weight_x, weight_y, _merge]\n",
       "Index: []"
      ]
     },
     "execution_count": 15,
     "metadata": {},
     "output_type": "execute_result"
    }
   ],
   "source": [
    "# How to find removals\n",
    "pd.merge(dfs[0], dfs[1], on='id', how='outer', indicator=True).query('_merge==\"left_only\"')"
   ]
  },
  {
   "cell_type": "code",
   "execution_count": 16,
   "metadata": {
    "papermill": {
     "duration": 0.046124,
     "end_time": "2017-11-12T19:44:14.190275",
     "exception": false,
     "start_time": "2017-11-12T19:44:14.144151",
     "status": "completed"
    },
    "tags": []
   },
   "outputs": [
    {
     "data": {
      "text/html": [
       "<div>\n",
       "<style scoped>\n",
       "    .dataframe tbody tr th:only-of-type {\n",
       "        vertical-align: middle;\n",
       "    }\n",
       "\n",
       "    .dataframe tbody tr th {\n",
       "        vertical-align: top;\n",
       "    }\n",
       "\n",
       "    .dataframe thead th {\n",
       "        text-align: right;\n",
       "    }\n",
       "</style>\n",
       "<table border=\"1\" class=\"dataframe\">\n",
       "  <thead>\n",
       "    <tr style=\"text-align: right;\">\n",
       "      <th></th>\n",
       "      <th>id</th>\n",
       "      <th>weight_x</th>\n",
       "      <th>weight_y</th>\n",
       "      <th>_merge</th>\n",
       "    </tr>\n",
       "  </thead>\n",
       "  <tbody>\n",
       "  </tbody>\n",
       "</table>\n",
       "</div>"
      ],
      "text/plain": [
       "Empty DataFrame\n",
       "Columns: [id, weight_x, weight_y, _merge]\n",
       "Index: []"
      ]
     },
     "execution_count": 16,
     "metadata": {},
     "output_type": "execute_result"
    }
   ],
   "source": [
    "# How to find additions\n",
    "pd.merge(dfs[0], dfs[1], on='id', how='outer', indicator=True).query('_merge==\"right_only\"')\n",
    "# len(pd.merge...) to get the number of additions/deletions"
   ]
  },
  {
   "cell_type": "code",
   "execution_count": 17,
   "metadata": {
    "papermill": {
     "duration": 1.412896,
     "end_time": "2017-11-12T19:44:15.603511",
     "exception": false,
     "start_time": "2017-11-12T19:44:14.190615",
     "status": "completed"
    },
    "tags": []
   },
   "outputs": [
    {
     "data": {
      "text/plain": [
       "<matplotlib.text.Text at 0x7f61c46f74e0>"
      ]
     },
     "execution_count": 17,
     "metadata": {},
     "output_type": "execute_result"
    },
    {
     "data": {
      "image/png": "[encoded data removed]",
      "text/plain": [
       "<matplotlib.figure.Figure at 0x7f61c472ff98>"
      ]
     },
     "metadata": {},
     "output_type": "display_data"
    }
   ],
   "source": [
    "fig, ax = plt.subplots()\n",
    "\n",
    "n_additions = []\n",
    "n_removals = []\n",
    "for i in range(1, n_revisions):\n",
    "    n_additions.append(\n",
    "        len(pd.merge(dfs[i-1], dfs[i], on='id', how='outer', indicator=True)\n",
    "            .query('_merge==\"right_only\"')))\n",
    "    n_removals.append(\n",
    "        -len(pd.merge(dfs[i-1], dfs[i], on='id', how='outer', indicator=True)\n",
    "            .query('_merge==\"left_only\"')))\n",
    "x = range(0, n_revisions - 1)\n",
    "ax.bar(x ,n_additions, width=1, color='b')\n",
    "ax.bar(x, n_removals, width=1, color='r')\n",
    "\n",
    "fig.suptitle(\"Item change evolution\")\n",
    "plt.ylabel('Removals - Additions')\n",
    "plt.xlabel('Revision')\n",
    "\n"
   ]
  },
  {
   "cell_type": "markdown",
   "metadata": {
    "papermill": {
     "duration": 1.7e-05,
     "end_time": "2017-11-12T19:44:15.603615",
     "exception": false,
     "start_time": "2017-11-12T19:44:15.603598",
     "status": "completed"
    },
    "tags": []
   },
   "source": [
    "## Sum of cell's change in weight (stability)"
   ]
  },
  {
   "cell_type": "code",
   "execution_count": 18,
   "metadata": {
    "papermill": {
     "duration": 0.470429,
     "end_time": "2017-11-12T19:44:16.093129",
     "exception": false,
     "start_time": "2017-11-12T19:44:15.622700",
     "status": "completed"
    },
    "tags": []
   },
   "outputs": [
    {
     "data": {
      "text/plain": [
       "<matplotlib.text.Text at 0x7f61ca21ae10>"
      ]
     },
     "execution_count": 18,
     "metadata": {},
     "output_type": "execute_result"
    },
    {
     "data": {
      "image/png": "[encoded data removed]",
      "text/plain": [
       "<matplotlib.figure.Figure at 0x7f61c47a4be0>"
      ]
     },
     "metadata": {},
     "output_type": "display_data"
    }
   ],
   "source": [
    "fig = plt.figure()\n",
    "change = [0.0] * n_revisions\n",
    "for index, row in df_full.fillna(0).iterrows():\n",
    "    for j in range (2, len(row)):\n",
    "        change[j-1] += abs(row[j] - row[j-1])\n",
    "\n",
    "plt.plot(change)\n",
    "fig.suptitle(\"Instability\")\n",
    "plt.ylabel('Weight change')\n",
    "plt.xlabel('Revision')\n",
    "    "
   ]
  }
 ],
 "metadata": {
  "celltoolbar": "Tags",
  "kernelspec": {
   "display_name": "Python 2",
   "language": "python",
   "name": "python2"
  },
  "language_info": {
   "codemirror_mode": {
    "name": "ipython",
    "version": 3
   },
   "file_extension": ".py",
   "mimetype": "text/x-python",
   "name": "python",
   "nbconvert_exporter": "python",
   "pygments_lexer": "ipython3",
   "version": "3.5.2"
  },
  "papermill": {
   "duration": 5.432171,
   "end_time": "2017-11-12T19:44:16.751657",
   "environment_variables": {},
   "exception": false,
   "output_path": "dataset-info/exports.ipynb",
   "parameters": {
    "input_dir": "dataset/exports"
   },
   "start_time": "2017-11-12T19:44:11.319486",
   "version": "0.10.0"
  }
 },
 "nbformat": 4,
 "nbformat_minor": 1
}