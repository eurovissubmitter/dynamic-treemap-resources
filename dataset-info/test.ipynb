{
 "cells": [
  {
   "cell_type": "markdown",
   "metadata": {
    "papermill": {
     "duration": 0.000321,
     "end_time": "2017-11-12T19:49:08.036055",
     "exception": false,
     "start_time": "2017-11-12T19:49:08.035734",
     "status": "completed"
    },
    "tags": []
   },
   "source": [
    "# Dataset analysis\n",
    "To generate results for every dataset in the `dataset` folder, run:\n",
    "```\n",
    "for dataset in $(find dataset/* -maxdepth 0 -type d); do papermill dataset-info/DatasetBase.ipynb dataset-info/$(basename $dataset).ipynb -p input_dir $dataset; done\n",
    "```"
   ]
  },
  {
   "cell_type": "code",
   "execution_count": 1,
   "metadata": {
    "papermill": {
     "duration": 0.597211,
     "end_time": "2017-11-12T19:49:08.654610",
     "exception": false,
     "start_time": "2017-11-12T19:49:08.057399",
     "status": "completed"
    },
    "tags": []
   },
   "outputs": [],
   "source": [
    "import matplotlib.pyplot as plt\n",
    "import re, os\n",
    "import papermill as pm\n",
    "%matplotlib inline"
   ]
  },
  {
   "cell_type": "code",
   "execution_count": 2,
   "metadata": {
    "papermill": {
     "duration": 0.019778,
     "end_time": "2017-11-12T19:49:08.674559",
     "exception": false,
     "start_time": "2017-11-12T19:49:08.654781",
     "status": "completed"
    },
    "tags": [
     "parameters"
    ]
   },
   "outputs": [],
   "source": [
    "# Parameters\n",
    "input_dir = \"dataset/test\"\n"
   ]
  },
  {
   "cell_type": "code",
   "execution_count": 3,
   "metadata": {
    "papermill": {
     "duration": 0.022249,
     "end_time": "2017-11-12T19:49:08.696915",
     "exception": false,
     "start_time": "2017-11-12T19:49:08.674666",
     "status": "completed"
    },
    "tags": []
   },
   "outputs": [],
   "source": [
    "# Make a regex to extract dataset name\n",
    "import re\n",
    "\n",
    "matchObj = re.match( r'.*/(.*)', input_dir, re.M|re.I)\n",
    "if matchObj:\n",
    "    dataset_id = matchObj.group(1)\n",
    "    dataset_id"
   ]
  },
  {
   "cell_type": "code",
   "execution_count": 4,
   "metadata": {
    "papermill": {
     "duration": 0.022202,
     "end_time": "2017-11-12T19:49:08.719210",
     "exception": false,
     "start_time": "2017-11-12T19:49:08.697008",
     "status": "completed"
    },
    "tags": []
   },
   "outputs": [],
   "source": [
    "def natural_sort(l):\n",
    "    convert = lambda text: int(text) if text.isdigit() else text.lower()\n",
    "    alphanum_key = lambda key: [convert(c) for c in re.split('([0-9]+)', key)]\n",
    "    return sorted(l, key=alphanum_key)"
   ]
  },
  {
   "cell_type": "code",
   "execution_count": 5,
   "metadata": {
    "papermill": {
     "duration": 0.025907,
     "end_time": "2017-11-12T19:49:08.745207",
     "exception": false,
     "start_time": "2017-11-12T19:49:08.719300",
     "status": "completed"
    },
    "tags": []
   },
   "outputs": [
    {
     "data": {
      "text/plain": [
       "['dataset/test/t.0.csv', 'dataset/test/t.1.csv', 'dataset/test/t.2.csv']"
      ]
     },
     "execution_count": 5,
     "metadata": {},
     "output_type": "execute_result"
    }
   ],
   "source": [
    "# List files in input_dir in natural order\n",
    "files = [os.path.join(input_dir, f) for f in os.listdir(input_dir) if os.path.isfile(os.path.join(input_dir, f))]\n",
    "files = natural_sort(files)\n",
    "files[0:5]"
   ]
  },
  {
   "cell_type": "code",
   "execution_count": 6,
   "metadata": {
    "papermill": {
     "duration": 0.033141,
     "end_time": "2017-11-12T19:49:08.778439",
     "exception": false,
     "start_time": "2017-11-12T19:49:08.745298",
     "status": "completed"
    },
    "tags": []
   },
   "outputs": [],
   "source": [
    "import pandas as pd\n",
    "n_revisions = len(files)\n",
    "dfs = [pd.read_csv(file) for file in files]"
   ]
  },
  {
   "cell_type": "code",
   "execution_count": 7,
   "metadata": {
    "papermill": {
     "duration": 0.027104,
     "end_time": "2017-11-12T19:49:08.805782",
     "exception": false,
     "start_time": "2017-11-12T19:49:08.778678",
     "status": "completed"
    },
    "tags": []
   },
   "outputs": [
    {
     "data": {
      "text/html": [
       "<div>\n",
       "<style scoped>\n",
       "    .dataframe tbody tr th:only-of-type {\n",
       "        vertical-align: middle;\n",
       "    }\n",
       "\n",
       "    .dataframe tbody tr th {\n",
       "        vertical-align: top;\n",
       "    }\n",
       "\n",
       "    .dataframe thead th {\n",
       "        text-align: right;\n",
       "    }\n",
       "</style>\n",
       "<table border=\"1\" class=\"dataframe\">\n",
       "  <thead>\n",
       "    <tr style=\"text-align: right;\">\n",
       "      <th></th>\n",
       "      <th>id</th>\n",
       "      <th>weight</th>\n",
       "    </tr>\n",
       "  </thead>\n",
       "  <tbody>\n",
       "    <tr>\n",
       "      <th>0</th>\n",
       "      <td>x</td>\n",
       "      <td>3</td>\n",
       "    </tr>\n",
       "    <tr>\n",
       "      <th>1</th>\n",
       "      <td>a</td>\n",
       "      <td>10</td>\n",
       "    </tr>\n",
       "    <tr>\n",
       "      <th>2</th>\n",
       "      <td>b</td>\n",
       "      <td>5</td>\n",
       "    </tr>\n",
       "  </tbody>\n",
       "</table>\n",
       "</div>"
      ],
      "text/plain": [
       "  id  weight\n",
       "0  x       3\n",
       "1  a      10\n",
       "2  b       5"
      ]
     },
     "execution_count": 7,
     "metadata": {},
     "output_type": "execute_result"
    }
   ],
   "source": [
    "dfs[0].head()"
   ]
  },
  {
   "cell_type": "code",
   "execution_count": 8,
   "metadata": {
    "papermill": {
     "duration": 0.033054,
     "end_time": "2017-11-12T19:49:08.838926",
     "exception": false,
     "start_time": "2017-11-12T19:49:08.805872",
     "status": "completed"
    },
    "tags": []
   },
   "outputs": [],
   "source": [
    "from functools import reduce\n",
    "# Outer join of files  \n",
    "df_full = reduce((lambda x, y: pd.merge(x, y, how='outer', on='id')), dfs)"
   ]
  },
  {
   "cell_type": "code",
   "execution_count": 9,
   "metadata": {
    "papermill": {
     "duration": 0.024536,
     "end_time": "2017-11-12T19:49:08.863556",
     "exception": false,
     "start_time": "2017-11-12T19:49:08.839020",
     "status": "completed"
    },
    "tags": []
   },
   "outputs": [],
   "source": [
    "# Rename columns\n",
    "df_full.columns = ['id'] + ['t'+str(i) for i in range(df_full.shape[1]-1)]"
   ]
  },
  {
   "cell_type": "code",
   "execution_count": 10,
   "metadata": {
    "papermill": {
     "duration": 0.021798,
     "end_time": "2017-11-12T19:49:08.886112",
     "exception": false,
     "start_time": "2017-11-12T19:49:08.864314",
     "status": "completed"
    },
    "scrolled": true,
    "tags": []
   },
   "outputs": [
    {
     "data": {
      "text/html": [
       "<div>\n",
       "<style scoped>\n",
       "    .dataframe tbody tr th:only-of-type {\n",
       "        vertical-align: middle;\n",
       "    }\n",
       "\n",
       "    .dataframe tbody tr th {\n",
       "        vertical-align: top;\n",
       "    }\n",
       "\n",
       "    .dataframe thead th {\n",
       "        text-align: right;\n",
       "    }\n",
       "</style>\n",
       "<table border=\"1\" class=\"dataframe\">\n",
       "  <thead>\n",
       "    <tr style=\"text-align: right;\">\n",
       "      <th></th>\n",
       "      <th>id</th>\n",
       "      <th>t0</th>\n",
       "      <th>t1</th>\n",
       "      <th>t2</th>\n",
       "    </tr>\n",
       "  </thead>\n",
       "  <tbody>\n",
       "    <tr>\n",
       "      <th>0</th>\n",
       "      <td>x</td>\n",
       "      <td>3.0</td>\n",
       "      <td>NaN</td>\n",
       "      <td>NaN</td>\n",
       "    </tr>\n",
       "    <tr>\n",
       "      <th>1</th>\n",
       "      <td>a</td>\n",
       "      <td>10.0</td>\n",
       "      <td>10.0</td>\n",
       "      <td>NaN</td>\n",
       "    </tr>\n",
       "    <tr>\n",
       "      <th>2</th>\n",
       "      <td>b</td>\n",
       "      <td>5.0</td>\n",
       "      <td>5.0</td>\n",
       "      <td>NaN</td>\n",
       "    </tr>\n",
       "    <tr>\n",
       "      <th>3</th>\n",
       "      <td>c</td>\n",
       "      <td>NaN</td>\n",
       "      <td>3.0</td>\n",
       "      <td>3.0</td>\n",
       "    </tr>\n",
       "    <tr>\n",
       "      <th>4</th>\n",
       "      <td>d</td>\n",
       "      <td>NaN</td>\n",
       "      <td>4.0</td>\n",
       "      <td>4.0</td>\n",
       "    </tr>\n",
       "  </tbody>\n",
       "</table>\n",
       "</div>"
      ],
      "text/plain": [
       "  id    t0    t1   t2\n",
       "0  x   3.0   NaN  NaN\n",
       "1  a  10.0  10.0  NaN\n",
       "2  b   5.0   5.0  NaN\n",
       "3  c   NaN   3.0  3.0\n",
       "4  d   NaN   4.0  4.0"
      ]
     },
     "execution_count": 10,
     "metadata": {},
     "output_type": "execute_result"
    }
   ],
   "source": [
    "df_full.head()"
   ]
  },
  {
   "cell_type": "code",
   "execution_count": 11,
   "metadata": {
    "papermill": {
     "duration": 0.309514,
     "end_time": "2017-11-12T19:49:09.195795",
     "exception": false,
     "start_time": "2017-11-12T19:49:08.886281",
     "status": "completed"
    },
    "tags": []
   },
   "outputs": [],
   "source": [
    "from collections import defaultdict\n",
    "import networkx as nx\n",
    "\n",
    "FILE_MARKER = '<files>'\n",
    "\n",
    "def attach(branch, trunk):\n",
    "    parts = branch.split('/', 1)\n",
    "    if len(parts) == 1:  # branch is a file\n",
    "        trunk[FILE_MARKER].append(parts[0])\n",
    "    else:\n",
    "        node, others = parts\n",
    "        if node not in trunk:\n",
    "            trunk[node] = defaultdict(dict, ((FILE_MARKER, []),))\n",
    "        attach(others, trunk[node])\n",
    "\n",
    "def build_adjacency_list(d, id, result):\n",
    "    for key in d.keys():\n",
    "        if key != FILE_MARKER:\n",
    "            result.append((id, id + key))\n",
    "            build_adjacency_list(d[key], id + key, result)\n",
    "        else:\n",
    "            for file in d[key]:\n",
    "                result.append((id, id + file))\n",
    "\n",
    "        \n",
    "def plot_tree(id_list):\n",
    "    \n",
    "    keys = sorted(id_list)\n",
    "\n",
    "    main_dict = defaultdict(dict, ((FILE_MARKER, []),))\n",
    "    for line in keys:\n",
    "        attach(line, main_dict)\n",
    "\n",
    "    # _create adjacency list\n",
    "    result = []\n",
    "    build_adjacency_list(main_dict, \"ROOT\", result)\n",
    "\n",
    "    G = nx.DiGraph()\n",
    "    G.add_edges_from(result)\n",
    "    # write dot file to use with graphviz\n",
    "    # run \"dot -_tpng test.dot >test.png\"\n",
    "    # nx.nx_agraph.write_dot(_g, 'test.dot')\n",
    "\n",
    "    # same layout using matplotlib with no labels\n",
    "    pos = nx.nx_agraph.graphviz_layout(G, prog='dot')\n",
    "    nx.draw(G, pos, with_labels=False, arrows=False, node_size=2)\n",
    "\n"
   ]
  },
  {
   "cell_type": "markdown",
   "metadata": {
    "papermill": {
     "duration": 1.7e-05,
     "end_time": "2017-11-12T19:49:09.195900",
     "exception": false,
     "start_time": "2017-11-12T19:49:09.195883",
     "status": "completed"
    },
    "tags": []
   },
   "source": [
    "## Union tree of all revisions"
   ]
  },
  {
   "cell_type": "code",
   "execution_count": 12,
   "metadata": {
    "papermill": {
     "duration": 0.173046,
     "end_time": "2017-11-12T19:49:09.383320",
     "exception": false,
     "start_time": "2017-11-12T19:49:09.210274",
     "status": "completed"
    },
    "scrolled": true,
    "tags": []
   },
   "outputs": [
    {
     "data": {
      "image/png": "[encoded data removed]",
      "text/plain": [
       "<matplotlib.figure.Figure at 0x7fcc70cddf60>"
      ]
     },
     "metadata": {},
     "output_type": "display_data"
    }
   ],
   "source": [
    "tree_fig = plt.figure(0)\n",
    "tree_fig.suptitle(dataset_id)\n",
    "plt.axis('off')\n",
    "plot_tree(df_full['id'].tolist())\n",
    "#pm.display('tree', tree_fig)\n",
    "\n"
   ]
  },
  {
   "cell_type": "markdown",
   "metadata": {
    "papermill": {
     "duration": 1.8e-05,
     "end_time": "2017-11-12T19:49:09.383571",
     "exception": false,
     "start_time": "2017-11-12T19:49:09.383553",
     "status": "completed"
    },
    "tags": []
   },
   "source": [
    "# Evolution"
   ]
  },
  {
   "cell_type": "markdown",
   "metadata": {
    "papermill": {
     "duration": 4.1e-05,
     "end_time": "2017-11-12T19:49:09.399167",
     "exception": false,
     "start_time": "2017-11-12T19:49:09.399126",
     "status": "completed"
    },
    "tags": []
   },
   "source": [
    "## Items count"
   ]
  },
  {
   "cell_type": "code",
   "execution_count": 13,
   "metadata": {
    "papermill": {
     "duration": 0.165828,
     "end_time": "2017-11-12T19:49:09.580731",
     "exception": false,
     "start_time": "2017-11-12T19:49:09.414903",
     "status": "completed"
    },
    "tags": []
   },
   "outputs": [
    {
     "data": {
      "image/png": "[encoded data removed]",
      "text/plain": [
       "<matplotlib.figure.Figure at 0x7fcc6c8cf6d8>"
      ]
     },
     "metadata": {},
     "output_type": "display_data"
    }
   ],
   "source": [
    "def plot_item_count():\n",
    "    n_items = [len(df) for df in dfs]\n",
    "    plt.plot(n_items)\n",
    "\n",
    "fig = plt.figure()\n",
    "fig.suptitle(\"Item count\")\n",
    "plt.ylabel('Number of items')\n",
    "plt.xlabel('Revision')\n",
    "\n",
    "plot_item_count()"
   ]
  },
  {
   "cell_type": "markdown",
   "metadata": {
    "papermill": {
     "duration": 1.4e-05,
     "end_time": "2017-11-12T19:49:09.580914",
     "exception": false,
     "start_time": "2017-11-12T19:49:09.580900",
     "status": "completed"
    },
    "tags": []
   },
   "source": [
    "## Weight count"
   ]
  },
  {
   "cell_type": "code",
   "execution_count": 14,
   "metadata": {
    "papermill": {
     "duration": 0.240842,
     "end_time": "2017-11-12T19:49:09.844026",
     "exception": false,
     "start_time": "2017-11-12T19:49:09.603184",
     "status": "completed"
    },
    "tags": []
   },
   "outputs": [
    {
     "data": {
      "image/png": "[encoded data removed]",
      "text/plain": [
       "<matplotlib.figure.Figure at 0x7fcc6b21c5f8>"
      ]
     },
     "metadata": {},
     "output_type": "display_data"
    }
   ],
   "source": [
    "def plot_weight():\n",
    "    total_weight = [sum(df['weight']) for df in dfs]\n",
    "    plt.plot(total_weight)\n",
    "\n",
    "fig = plt.figure()\n",
    "fig.suptitle(\"Weight evolution\")\n",
    "plt.ylabel('Total weight')\n",
    "plt.xlabel('Revision')\n",
    "plot_weight()"
   ]
  },
  {
   "cell_type": "markdown",
   "metadata": {
    "papermill": {
     "duration": 2.5e-05,
     "end_time": "2017-11-12T19:49:09.844330",
     "exception": false,
     "start_time": "2017-11-12T19:49:09.844305",
     "status": "completed"
    },
    "tags": []
   },
   "source": [
    "## Addition and removal of items"
   ]
  },
  {
   "cell_type": "code",
   "execution_count": 15,
   "metadata": {
    "papermill": {
     "duration": 0.073218,
     "end_time": "2017-11-12T19:49:09.948222",
     "exception": false,
     "start_time": "2017-11-12T19:49:09.875004",
     "status": "completed"
    },
    "tags": []
   },
   "outputs": [
    {
     "data": {
      "text/html": [
       "<div>\n",
       "<style scoped>\n",
       "    .dataframe tbody tr th:only-of-type {\n",
       "        vertical-align: middle;\n",
       "    }\n",
       "\n",
       "    .dataframe tbody tr th {\n",
       "        vertical-align: top;\n",
       "    }\n",
       "\n",
       "    .dataframe thead th {\n",
       "        text-align: right;\n",
       "    }\n",
       "</style>\n",
       "<table border=\"1\" class=\"dataframe\">\n",
       "  <thead>\n",
       "    <tr style=\"text-align: right;\">\n",
       "      <th></th>\n",
       "      <th>id</th>\n",
       "      <th>weight_x</th>\n",
       "      <th>weight_y</th>\n",
       "      <th>_merge</th>\n",
       "    </tr>\n",
       "  </thead>\n",
       "  <tbody>\n",
       "    <tr>\n",
       "      <th>0</th>\n",
       "      <td>x</td>\n",
       "      <td>3.0</td>\n",
       "      <td>NaN</td>\n",
       "      <td>left_only</td>\n",
       "    </tr>\n",
       "  </tbody>\n",
       "</table>\n",
       "</div>"
      ],
      "text/plain": [
       "  id  weight_x  weight_y     _merge\n",
       "0  x       3.0       NaN  left_only"
      ]
     },
     "execution_count": 15,
     "metadata": {},
     "output_type": "execute_result"
    }
   ],
   "source": [
    "# How to find removals\n",
    "pd.merge(dfs[0], dfs[1], on='id', how='outer', indicator=True).query('_merge==\"left_only\"')"
   ]
  },
  {
   "cell_type": "code",
   "execution_count": 16,
   "metadata": {
    "papermill": {
     "duration": 0.056076,
     "end_time": "2017-11-12T19:49:10.004562",
     "exception": false,
     "start_time": "2017-11-12T19:49:09.948486",
     "status": "completed"
    },
    "tags": []
   },
   "outputs": [
    {
     "data": {
      "text/html": [
       "<div>\n",
       "<style scoped>\n",
       "    .dataframe tbody tr th:only-of-type {\n",
       "        vertical-align: middle;\n",
       "    }\n",
       "\n",
       "    .dataframe tbody tr th {\n",
       "        vertical-align: top;\n",
       "    }\n",
       "\n",
       "    .dataframe thead th {\n",
       "        text-align: right;\n",
       "    }\n",
       "</style>\n",
       "<table border=\"1\" class=\"dataframe\">\n",
       "  <thead>\n",
       "    <tr style=\"text-align: right;\">\n",
       "      <th></th>\n",
       "      <th>id</th>\n",
       "      <th>weight_x</th>\n",
       "      <th>weight_y</th>\n",
       "      <th>_merge</th>\n",
       "    </tr>\n",
       "  </thead>\n",
       "  <tbody>\n",
       "    <tr>\n",
       "      <th>3</th>\n",
       "      <td>c</td>\n",
       "      <td>NaN</td>\n",
       "      <td>3.0</td>\n",
       "      <td>right_only</td>\n",
       "    </tr>\n",
       "    <tr>\n",
       "      <th>4</th>\n",
       "      <td>d</td>\n",
       "      <td>NaN</td>\n",
       "      <td>4.0</td>\n",
       "      <td>right_only</td>\n",
       "    </tr>\n",
       "    <tr>\n",
       "      <th>5</th>\n",
       "      <td>e</td>\n",
       "      <td>NaN</td>\n",
       "      <td>13.0</td>\n",
       "      <td>right_only</td>\n",
       "    </tr>\n",
       "    <tr>\n",
       "      <th>6</th>\n",
       "      <td>f</td>\n",
       "      <td>NaN</td>\n",
       "      <td>1.0</td>\n",
       "      <td>right_only</td>\n",
       "    </tr>\n",
       "    <tr>\n",
       "      <th>7</th>\n",
       "      <td>g</td>\n",
       "      <td>NaN</td>\n",
       "      <td>3.0</td>\n",
       "      <td>right_only</td>\n",
       "    </tr>\n",
       "  </tbody>\n",
       "</table>\n",
       "</div>"
      ],
      "text/plain": [
       "  id  weight_x  weight_y      _merge\n",
       "3  c       NaN       3.0  right_only\n",
       "4  d       NaN       4.0  right_only\n",
       "5  e       NaN      13.0  right_only\n",
       "6  f       NaN       1.0  right_only\n",
       "7  g       NaN       3.0  right_only"
      ]
     },
     "execution_count": 16,
     "metadata": {},
     "output_type": "execute_result"
    }
   ],
   "source": [
    "# How to find additions\n",
    "pd.merge(dfs[0], dfs[1], on='id', how='outer', indicator=True).query('_merge==\"right_only\"')\n",
    "# len(pd.merge...) to get the number of additions/deletions"
   ]
  },
  {
   "cell_type": "code",
   "execution_count": 17,
   "metadata": {
    "papermill": {
     "duration": 0.342834,
     "end_time": "2017-11-12T19:49:10.347537",
     "exception": false,
     "start_time": "2017-11-12T19:49:10.004703",
     "status": "completed"
    },
    "tags": []
   },
   "outputs": [
    {
     "data": {
      "text/plain": [
       "<matplotlib.text.Text at 0x7fcc6b0fd080>"
      ]
     },
     "execution_count": 17,
     "metadata": {},
     "output_type": "execute_result"
    },
    {
     "data": {
      "image/png": "[encoded data removed]",
      "text/plain": [
       "<matplotlib.figure.Figure at 0x7fcc6b14f128>"
      ]
     },
     "metadata": {},
     "output_type": "display_data"
    }
   ],
   "source": [
    "fig, ax = plt.subplots()\n",
    "\n",
    "n_additions = []\n",
    "n_removals = []\n",
    "for i in range(1, n_revisions):\n",
    "    n_additions.append(\n",
    "        len(pd.merge(dfs[i-1], dfs[i], on='id', how='outer', indicator=True)\n",
    "            .query('_merge==\"right_only\"')))\n",
    "    n_removals.append(\n",
    "        -len(pd.merge(dfs[i-1], dfs[i], on='id', how='outer', indicator=True)\n",
    "            .query('_merge==\"left_only\"')))\n",
    "x = range(0, n_revisions - 1)\n",
    "ax.bar(x ,n_additions, width=1, color='b')\n",
    "ax.bar(x, n_removals, width=1, color='r')\n",
    "\n",
    "fig.suptitle(\"Item change evolution\")\n",
    "plt.ylabel('Removals - Additions')\n",
    "plt.xlabel('Revision')\n",
    "\n"
   ]
  },
  {
   "cell_type": "markdown",
   "metadata": {
    "papermill": {
     "duration": 2.8e-05,
     "end_time": "2017-11-12T19:49:10.347933",
     "exception": false,
     "start_time": "2017-11-12T19:49:10.347905",
     "status": "completed"
    },
    "tags": []
   },
   "source": [
    "## Sum of cell's change in weight (stability)"
   ]
  },
  {
   "cell_type": "code",
   "execution_count": 18,
   "metadata": {
    "papermill": {
     "duration": 0.18251,
     "end_time": "2017-11-12T19:49:10.553955",
     "exception": false,
     "start_time": "2017-11-12T19:49:10.371445",
     "status": "completed"
    },
    "tags": []
   },
   "outputs": [
    {
     "data": {
      "text/plain": [
       "<matplotlib.text.Text at 0x7fcc6b0f6a58>"
      ]
     },
     "execution_count": 18,
     "metadata": {},
     "output_type": "execute_result"
    },
    {
     "data": {
      "image/png": "[encoded data removed]",
      "text/plain": [
       "<matplotlib.figure.Figure at 0x7fcc6b13bcc0>"
      ]
     },
     "metadata": {},
     "output_type": "display_data"
    }
   ],
   "source": [
    "fig = plt.figure()\n",
    "change = [0.0] * n_revisions\n",
    "for index, row in df_full.fillna(0).iterrows():\n",
    "    for j in range (2, len(row)):\n",
    "        change[j-1] += abs(row[j] - row[j-1])\n",
    "\n",
    "plt.plot(change)\n",
    "fig.suptitle(\"Instability\")\n",
    "plt.ylabel('Weight change')\n",
    "plt.xlabel('Revision')\n",
    "    "
   ]
  }
 ],
 "metadata": {
  "celltoolbar": "Tags",
  "kernelspec": {
   "display_name": "Python 2",
   "language": "python",
   "name": "python2"
  },
  "language_info": {
   "codemirror_mode": {
    "name": "ipython",
    "version": 3
   },
   "file_extension": ".py",
   "mimetype": "text/x-python",
   "name": "python",
   "nbconvert_exporter": "python",
   "pygments_lexer": "ipython3",
   "version": "3.5.2"
  },
  "papermill": {
   "duration": 4.445933,
   "end_time": "2017-11-12T19:49:11.460419",
   "environment_variables": {},
   "exception": false,
   "output_path": "dataset-info/test.ipynb",
   "parameters": {
    "input_dir": "dataset/test"
   },
   "start_time": "2017-11-12T19:49:07.014486",
   "version": "0.10.0"
  }
 },
 "nbformat": 4,
 "nbformat_minor": 1
}