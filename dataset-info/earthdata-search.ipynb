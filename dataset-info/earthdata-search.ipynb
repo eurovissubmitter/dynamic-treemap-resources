{
 "cells": [
  {
   "cell_type": "markdown",
   "metadata": {
    "papermill": {
     "duration": 0.000376,
     "end_time": "2017-11-12T14:16:47.310071",
     "exception": false,
     "start_time": "2017-11-12T14:16:47.309695",
     "status": "completed"
    },
    "tags": []
   },
   "source": [
    "# Dataset analysis\n",
    "To generate results for every dataset in the `dataset` folder, run:\n",
    "```\n",
    "for dataset in $(find dataset/* -maxdepth 0 -type d); do papermill dataset-info/DatasetBase.ipynb dataset-info/$(basename $dataset).ipynb -p input_dir $dataset; done\n",
    "```"
   ]
  },
  {
   "cell_type": "code",
   "execution_count": 1,
   "metadata": {
    "papermill": {
     "duration": 0.645831,
     "end_time": "2017-11-12T14:16:47.968473",
     "exception": false,
     "start_time": "2017-11-12T14:16:47.322642",
     "status": "completed"
    },
    "tags": []
   },
   "outputs": [],
   "source": [
    "import matplotlib.pyplot as plt\n",
    "import re, os\n",
    "import papermill as pm\n",
    "%matplotlib inline"
   ]
  },
  {
   "cell_type": "code",
   "execution_count": 2,
   "metadata": {
    "papermill": {
     "duration": 0.020579,
     "end_time": "2017-11-12T14:16:47.989233",
     "exception": false,
     "start_time": "2017-11-12T14:16:47.968654",
     "status": "completed"
    },
    "tags": [
     "parameters"
    ]
   },
   "outputs": [],
   "source": [
    "# Parameters\n",
    "input_dir = \"dataset/earthdata-search\"\n"
   ]
  },
  {
   "cell_type": "code",
   "execution_count": 3,
   "metadata": {
    "papermill": {
     "duration": 0.019887,
     "end_time": "2017-11-12T14:16:48.009486",
     "exception": false,
     "start_time": "2017-11-12T14:16:47.989599",
     "status": "completed"
    },
    "tags": []
   },
   "outputs": [],
   "source": [
    "# Make a regex to extract dataset name\n",
    "import re\n",
    "\n",
    "matchObj = re.match( r'.*/(.*)', input_dir, re.M|re.I)\n",
    "if matchObj:\n",
    "    dataset_id = matchObj.group(1)\n",
    "    dataset_id"
   ]
  },
  {
   "cell_type": "code",
   "execution_count": 4,
   "metadata": {
    "papermill": {
     "duration": 0.017399,
     "end_time": "2017-11-12T14:16:48.026983",
     "exception": false,
     "start_time": "2017-11-12T14:16:48.009584",
     "status": "completed"
    },
    "tags": []
   },
   "outputs": [],
   "source": [
    "def natural_sort(l):\n",
    "    convert = lambda text: int(text) if text.isdigit() else text.lower()\n",
    "    alphanum_key = lambda key: [convert(c) for c in re.split('([0-9]+)', key)]\n",
    "    return sorted(l, key=alphanum_key)"
   ]
  },
  {
   "cell_type": "code",
   "execution_count": 5,
   "metadata": {
    "papermill": {
     "duration": 0.017637,
     "end_time": "2017-11-12T14:16:48.044706",
     "exception": false,
     "start_time": "2017-11-12T14:16:48.027069",
     "status": "completed"
    },
    "tags": []
   },
   "outputs": [
    {
     "data": {
      "text/plain": [
       "['dataset/earthdata-search/2013_06_19_c6e549e30f01a70e52015d608c97a8267cb73cfa.csv',\n",
       " 'dataset/earthdata-search/2013_07_30_16c79c7977f617f92e1f2f2cb59b1d0ad775f2f6.csv',\n",
       " 'dataset/earthdata-search/2013_08_01_7c9726d7de88192996e3636f7e8ab74857deabe1.csv',\n",
       " 'dataset/earthdata-search/2013_10_30_233fe7c9a84d2761af727145649a9a20e6b40ffd.csv',\n",
       " 'dataset/earthdata-search/2013_12_31_5e624be15a64ce266bacc892dab372a702b87656.csv']"
      ]
     },
     "execution_count": 5,
     "metadata": {},
     "output_type": "execute_result"
    }
   ],
   "source": [
    "# List files in input_dir in natural order\n",
    "files = [os.path.join(input_dir, f) for f in os.listdir(input_dir) if os.path.isfile(os.path.join(input_dir, f))]\n",
    "files = natural_sort(files)\n",
    "files[0:5]"
   ]
  },
  {
   "cell_type": "code",
   "execution_count": 6,
   "metadata": {
    "papermill": {
     "duration": 0.133442,
     "end_time": "2017-11-12T14:16:48.178367",
     "exception": false,
     "start_time": "2017-11-12T14:16:48.044925",
     "status": "completed"
    },
    "tags": []
   },
   "outputs": [],
   "source": [
    "import pandas as pd\n",
    "n_revisions = len(files)\n",
    "dfs = [pd.read_csv(file) for file in files]"
   ]
  },
  {
   "cell_type": "code",
   "execution_count": 7,
   "metadata": {
    "papermill": {
     "duration": 0.024495,
     "end_time": "2017-11-12T14:16:48.203038",
     "exception": false,
     "start_time": "2017-11-12T14:16:48.178543",
     "status": "completed"
    },
    "tags": []
   },
   "outputs": [
    {
     "data": {
      "text/html": [
       "<div>\n",
       "<style scoped>\n",
       "    .dataframe tbody tr th:only-of-type {\n",
       "        vertical-align: middle;\n",
       "    }\n",
       "\n",
       "    .dataframe tbody tr th {\n",
       "        vertical-align: top;\n",
       "    }\n",
       "\n",
       "    .dataframe thead th {\n",
       "        text-align: right;\n",
       "    }\n",
       "</style>\n",
       "<table border=\"1\" class=\"dataframe\">\n",
       "  <thead>\n",
       "    <tr style=\"text-align: right;\">\n",
       "      <th></th>\n",
       "      <th>id</th>\n",
       "      <th>weight</th>\n",
       "    </tr>\n",
       "  </thead>\n",
       "  <tbody>\n",
       "    <tr>\n",
       "      <th>0</th>\n",
       "      <td>blic/index.html</td>\n",
       "      <td>241</td>\n",
       "    </tr>\n",
       "    <tr>\n",
       "      <th>1</th>\n",
       "      <td>blic/404.html</td>\n",
       "      <td>26</td>\n",
       "    </tr>\n",
       "    <tr>\n",
       "      <th>2</th>\n",
       "      <td>blic/422.html</td>\n",
       "      <td>26</td>\n",
       "    </tr>\n",
       "    <tr>\n",
       "      <th>3</th>\n",
       "      <td>blic/500.html</td>\n",
       "      <td>25</td>\n",
       "    </tr>\n",
       "    <tr>\n",
       "      <th>4</th>\n",
       "      <td>p/assets/stylesheets/modules/doc_example.css.scss</td>\n",
       "      <td>20</td>\n",
       "    </tr>\n",
       "  </tbody>\n",
       "</table>\n",
       "</div>"
      ],
      "text/plain": [
       "                                                  id  weight\n",
       "0                                    blic/index.html     241\n",
       "1                                      blic/404.html      26\n",
       "2                                      blic/422.html      26\n",
       "3                                      blic/500.html      25\n",
       "4  p/assets/stylesheets/modules/doc_example.css.scss      20"
      ]
     },
     "execution_count": 7,
     "metadata": {},
     "output_type": "execute_result"
    }
   ],
   "source": [
    "dfs[0].head()"
   ]
  },
  {
   "cell_type": "code",
   "execution_count": 8,
   "metadata": {
    "papermill": {
     "duration": 0.271998,
     "end_time": "2017-11-12T14:16:48.475121",
     "exception": false,
     "start_time": "2017-11-12T14:16:48.203123",
     "status": "completed"
    },
    "tags": []
   },
   "outputs": [],
   "source": [
    "from functools import reduce\n",
    "# Outer join of files  \n",
    "df_full = reduce((lambda x, y: pd.merge(x, y, how='outer', on='id')), dfs)"
   ]
  },
  {
   "cell_type": "code",
   "execution_count": 9,
   "metadata": {
    "papermill": {
     "duration": 0.021235,
     "end_time": "2017-11-12T14:16:48.496538",
     "exception": false,
     "start_time": "2017-11-12T14:16:48.475303",
     "status": "completed"
    },
    "tags": []
   },
   "outputs": [],
   "source": [
    "# Rename columns\n",
    "df_full.columns = ['id'] + ['t'+str(i) for i in range(df_full.shape[1]-1)]"
   ]
  },
  {
   "cell_type": "code",
   "execution_count": 10,
   "metadata": {
    "papermill": {
     "duration": 0.051225,
     "end_time": "2017-11-12T14:16:48.547853",
     "exception": false,
     "start_time": "2017-11-12T14:16:48.496628",
     "status": "completed"
    },
    "scrolled": true,
    "tags": []
   },
   "outputs": [
    {
     "data": {
      "text/html": [
       "<div>\n",
       "<style scoped>\n",
       "    .dataframe tbody tr th:only-of-type {\n",
       "        vertical-align: middle;\n",
       "    }\n",
       "\n",
       "    .dataframe tbody tr th {\n",
       "        vertical-align: top;\n",
       "    }\n",
       "\n",
       "    .dataframe thead th {\n",
       "        text-align: right;\n",
       "    }\n",
       "</style>\n",
       "<table border=\"1\" class=\"dataframe\">\n",
       "  <thead>\n",
       "    <tr style=\"text-align: right;\">\n",
       "      <th></th>\n",
       "      <th>id</th>\n",
       "      <th>t0</th>\n",
       "      <th>t1</th>\n",
       "      <th>t2</th>\n",
       "      <th>t3</th>\n",
       "      <th>t4</th>\n",
       "      <th>t5</th>\n",
       "      <th>t6</th>\n",
       "      <th>t7</th>\n",
       "      <th>t8</th>\n",
       "      <th>...</th>\n",
       "      <th>t36</th>\n",
       "      <th>t37</th>\n",
       "      <th>t38</th>\n",
       "      <th>t39</th>\n",
       "      <th>t40</th>\n",
       "      <th>t41</th>\n",
       "      <th>t42</th>\n",
       "      <th>t43</th>\n",
       "      <th>t44</th>\n",
       "      <th>t45</th>\n",
       "    </tr>\n",
       "  </thead>\n",
       "  <tbody>\n",
       "    <tr>\n",
       "      <th>0</th>\n",
       "      <td>blic/index.html</td>\n",
       "      <td>241.0</td>\n",
       "      <td>241.0</td>\n",
       "      <td>241.0</td>\n",
       "      <td>NaN</td>\n",
       "      <td>NaN</td>\n",
       "      <td>NaN</td>\n",
       "      <td>NaN</td>\n",
       "      <td>NaN</td>\n",
       "      <td>NaN</td>\n",
       "      <td>...</td>\n",
       "      <td>NaN</td>\n",
       "      <td>NaN</td>\n",
       "      <td>NaN</td>\n",
       "      <td>NaN</td>\n",
       "      <td>NaN</td>\n",
       "      <td>NaN</td>\n",
       "      <td>NaN</td>\n",
       "      <td>NaN</td>\n",
       "      <td>NaN</td>\n",
       "      <td>NaN</td>\n",
       "    </tr>\n",
       "    <tr>\n",
       "      <th>1</th>\n",
       "      <td>blic/404.html</td>\n",
       "      <td>26.0</td>\n",
       "      <td>26.0</td>\n",
       "      <td>26.0</td>\n",
       "      <td>26.0</td>\n",
       "      <td>26.0</td>\n",
       "      <td>26.0</td>\n",
       "      <td>26.0</td>\n",
       "      <td>26.0</td>\n",
       "      <td>26.0</td>\n",
       "      <td>...</td>\n",
       "      <td>26.0</td>\n",
       "      <td>26.0</td>\n",
       "      <td>26.0</td>\n",
       "      <td>26.0</td>\n",
       "      <td>26.0</td>\n",
       "      <td>26.0</td>\n",
       "      <td>26.0</td>\n",
       "      <td>26.0</td>\n",
       "      <td>26.0</td>\n",
       "      <td>26.0</td>\n",
       "    </tr>\n",
       "    <tr>\n",
       "      <th>2</th>\n",
       "      <td>blic/422.html</td>\n",
       "      <td>26.0</td>\n",
       "      <td>26.0</td>\n",
       "      <td>26.0</td>\n",
       "      <td>26.0</td>\n",
       "      <td>26.0</td>\n",
       "      <td>26.0</td>\n",
       "      <td>26.0</td>\n",
       "      <td>26.0</td>\n",
       "      <td>26.0</td>\n",
       "      <td>...</td>\n",
       "      <td>26.0</td>\n",
       "      <td>26.0</td>\n",
       "      <td>26.0</td>\n",
       "      <td>26.0</td>\n",
       "      <td>26.0</td>\n",
       "      <td>26.0</td>\n",
       "      <td>26.0</td>\n",
       "      <td>26.0</td>\n",
       "      <td>26.0</td>\n",
       "      <td>26.0</td>\n",
       "    </tr>\n",
       "    <tr>\n",
       "      <th>3</th>\n",
       "      <td>blic/500.html</td>\n",
       "      <td>25.0</td>\n",
       "      <td>25.0</td>\n",
       "      <td>25.0</td>\n",
       "      <td>25.0</td>\n",
       "      <td>25.0</td>\n",
       "      <td>25.0</td>\n",
       "      <td>25.0</td>\n",
       "      <td>25.0</td>\n",
       "      <td>25.0</td>\n",
       "      <td>...</td>\n",
       "      <td>25.0</td>\n",
       "      <td>25.0</td>\n",
       "      <td>25.0</td>\n",
       "      <td>25.0</td>\n",
       "      <td>25.0</td>\n",
       "      <td>25.0</td>\n",
       "      <td>25.0</td>\n",
       "      <td>25.0</td>\n",
       "      <td>25.0</td>\n",
       "      <td>25.0</td>\n",
       "    </tr>\n",
       "    <tr>\n",
       "      <th>4</th>\n",
       "      <td>p/assets/stylesheets/modules/doc_example.css.scss</td>\n",
       "      <td>20.0</td>\n",
       "      <td>20.0</td>\n",
       "      <td>20.0</td>\n",
       "      <td>20.0</td>\n",
       "      <td>20.0</td>\n",
       "      <td>50.0</td>\n",
       "      <td>50.0</td>\n",
       "      <td>50.0</td>\n",
       "      <td>50.0</td>\n",
       "      <td>...</td>\n",
       "      <td>50.0</td>\n",
       "      <td>50.0</td>\n",
       "      <td>50.0</td>\n",
       "      <td>50.0</td>\n",
       "      <td>50.0</td>\n",
       "      <td>50.0</td>\n",
       "      <td>50.0</td>\n",
       "      <td>50.0</td>\n",
       "      <td>50.0</td>\n",
       "      <td>50.0</td>\n",
       "    </tr>\n",
       "  </tbody>\n",
       "</table>\n",
       "<p>5 rows × 47 columns</p>\n",
       "</div>"
      ],
      "text/plain": [
       "                                                  id     t0     t1     t2  \\\n",
       "0                                    blic/index.html  241.0  241.0  241.0   \n",
       "1                                      blic/404.html   26.0   26.0   26.0   \n",
       "2                                      blic/422.html   26.0   26.0   26.0   \n",
       "3                                      blic/500.html   25.0   25.0   25.0   \n",
       "4  p/assets/stylesheets/modules/doc_example.css.scss   20.0   20.0   20.0   \n",
       "\n",
       "     t3    t4    t5    t6    t7    t8  ...    t36   t37   t38   t39   t40  \\\n",
       "0   NaN   NaN   NaN   NaN   NaN   NaN  ...    NaN   NaN   NaN   NaN   NaN   \n",
       "1  26.0  26.0  26.0  26.0  26.0  26.0  ...   26.0  26.0  26.0  26.0  26.0   \n",
       "2  26.0  26.0  26.0  26.0  26.0  26.0  ...   26.0  26.0  26.0  26.0  26.0   \n",
       "3  25.0  25.0  25.0  25.0  25.0  25.0  ...   25.0  25.0  25.0  25.0  25.0   \n",
       "4  20.0  20.0  50.0  50.0  50.0  50.0  ...   50.0  50.0  50.0  50.0  50.0   \n",
       "\n",
       "    t41   t42   t43   t44   t45  \n",
       "0   NaN   NaN   NaN   NaN   NaN  \n",
       "1  26.0  26.0  26.0  26.0  26.0  \n",
       "2  26.0  26.0  26.0  26.0  26.0  \n",
       "3  25.0  25.0  25.0  25.0  25.0  \n",
       "4  50.0  50.0  50.0  50.0  50.0  \n",
       "\n",
       "[5 rows x 47 columns]"
      ]
     },
     "execution_count": 10,
     "metadata": {},
     "output_type": "execute_result"
    }
   ],
   "source": [
    "df_full.head()"
   ]
  },
  {
   "cell_type": "code",
   "execution_count": 11,
   "metadata": {
    "papermill": {
     "duration": 0.359776,
     "end_time": "2017-11-12T14:16:48.907723",
     "exception": false,
     "start_time": "2017-11-12T14:16:48.547947",
     "status": "completed"
    },
    "tags": []
   },
   "outputs": [],
   "source": [
    "from collections import defaultdict\n",
    "import networkx as nx\n",
    "\n",
    "FILE_MARKER = '<files>'\n",
    "\n",
    "def attach(branch, trunk):\n",
    "    parts = branch.split('/', 1)\n",
    "    if len(parts) == 1:  # branch is a file\n",
    "        trunk[FILE_MARKER].append(parts[0])\n",
    "    else:\n",
    "        node, others = parts\n",
    "        if node not in trunk:\n",
    "            trunk[node] = defaultdict(dict, ((FILE_MARKER, []),))\n",
    "        attach(others, trunk[node])\n",
    "\n",
    "def build_adjacency_list(d, id, result):\n",
    "    for key in d.keys():\n",
    "        if key != FILE_MARKER:\n",
    "            result.append((id, id + key))\n",
    "            build_adjacency_list(d[key], id + key, result)\n",
    "        else:\n",
    "            for file in d[key]:\n",
    "                result.append((id, id + file))\n",
    "\n",
    "        \n",
    "def plot_tree(id_list):\n",
    "    \n",
    "    keys = sorted(id_list)\n",
    "\n",
    "    main_dict = defaultdict(dict, ((FILE_MARKER, []),))\n",
    "    for line in keys:\n",
    "        attach(line, main_dict)\n",
    "\n",
    "    # _create adjacency list\n",
    "    result = []\n",
    "    build_adjacency_list(main_dict, \"ROOT\", result)\n",
    "\n",
    "    G = nx.DiGraph()\n",
    "    G.add_edges_from(result)\n",
    "    # write dot file to use with graphviz\n",
    "    # run \"dot -_tpng test.dot >test.png\"\n",
    "    # nx.nx_agraph.write_dot(_g, 'test.dot')\n",
    "\n",
    "    # same layout using matplotlib with no labels\n",
    "    pos = nx.nx_agraph.graphviz_layout(G, prog='dot')\n",
    "    nx.draw(G, pos, with_labels=False, arrows=False, node_size=2)\n",
    "\n"
   ]
  },
  {
   "cell_type": "markdown",
   "metadata": {
    "papermill": {
     "duration": 1.4e-05,
     "end_time": "2017-11-12T14:16:48.907911",
     "exception": false,
     "start_time": "2017-11-12T14:16:48.907897",
     "status": "completed"
    },
    "tags": []
   },
   "source": [
    "## Union tree of all revisions"
   ]
  },
  {
   "cell_type": "code",
   "execution_count": 12,
   "metadata": {
    "papermill": {
     "duration": 0.62966,
     "end_time": "2017-11-12T14:16:49.552708",
     "exception": false,
     "start_time": "2017-11-12T14:16:48.923048",
     "status": "completed"
    },
    "scrolled": true,
    "tags": []
   },
   "outputs": [
    {
     "data": {
      "image/png": "[encoded data removed]",
      "text/plain": [
       "<matplotlib.figure.Figure at 0x7f80cc176d68>"
      ]
     },
     "metadata": {},
     "output_type": "display_data"
    }
   ],
   "source": [
    "tree_fig = plt.figure(0)\n",
    "tree_fig.suptitle(dataset_id)\n",
    "plt.axis('off')\n",
    "plot_tree(df_full['id'].tolist())\n",
    "#pm.display('tree', tree_fig)\n",
    "\n"
   ]
  },
  {
   "cell_type": "markdown",
   "metadata": {
    "papermill": {
     "duration": 1.4e-05,
     "end_time": "2017-11-12T14:16:49.552899",
     "exception": false,
     "start_time": "2017-11-12T14:16:49.552885",
     "status": "completed"
    },
    "tags": []
   },
   "source": [
    "# Evolution"
   ]
  },
  {
   "cell_type": "markdown",
   "metadata": {
    "papermill": {
     "duration": 2.2e-05,
     "end_time": "2017-11-12T14:16:49.573601",
     "exception": false,
     "start_time": "2017-11-12T14:16:49.573579",
     "status": "completed"
    },
    "tags": []
   },
   "source": [
    "## Items count"
   ]
  },
  {
   "cell_type": "code",
   "execution_count": 13,
   "metadata": {
    "papermill": {
     "duration": 0.192933,
     "end_time": "2017-11-12T14:16:49.787297",
     "exception": false,
     "start_time": "2017-11-12T14:16:49.594364",
     "status": "completed"
    },
    "tags": []
   },
   "outputs": [
    {
     "data": {
      "image/png": "[encoded data removed]",
      "text/plain": [
       "<matplotlib.figure.Figure at 0x7f80c7d45160>"
      ]
     },
     "metadata": {},
     "output_type": "display_data"
    }
   ],
   "source": [
    "def plot_item_count():\n",
    "    n_items = [len(df) for df in dfs]\n",
    "    plt.plot(n_items)\n",
    "\n",
    "fig = plt.figure()\n",
    "fig.suptitle(\"Item count\")\n",
    "plt.ylabel('Number of items')\n",
    "plt.xlabel('Revision')\n",
    "\n",
    "plot_item_count()"
   ]
  },
  {
   "cell_type": "markdown",
   "metadata": {
    "papermill": {
     "duration": 1.3e-05,
     "end_time": "2017-11-12T14:16:49.787479",
     "exception": false,
     "start_time": "2017-11-12T14:16:49.787466",
     "status": "completed"
    },
    "tags": []
   },
   "source": [
    "## Weight count"
   ]
  },
  {
   "cell_type": "code",
   "execution_count": 14,
   "metadata": {
    "papermill": {
     "duration": 0.210184,
     "end_time": "2017-11-12T14:16:50.013889",
     "exception": false,
     "start_time": "2017-11-12T14:16:49.803705",
     "status": "completed"
    },
    "tags": []
   },
   "outputs": [
    {
     "data": {
      "image/png": "[encoded data removed]",
      "text/plain": [
       "<matplotlib.figure.Figure at 0x7f80c66103c8>"
      ]
     },
     "metadata": {},
     "output_type": "display_data"
    }
   ],
   "source": [
    "def plot_weight():\n",
    "    total_weight = [sum(df['weight']) for df in dfs]\n",
    "    plt.plot(total_weight)\n",
    "\n",
    "fig = plt.figure()\n",
    "fig.suptitle(\"Weight evolution\")\n",
    "plt.ylabel('Total weight')\n",
    "plt.xlabel('Revision')\n",
    "plot_weight()"
   ]
  },
  {
   "cell_type": "markdown",
   "metadata": {
    "papermill": {
     "duration": 2.3e-05,
     "end_time": "2017-11-12T14:16:50.014092",
     "exception": false,
     "start_time": "2017-11-12T14:16:50.014069",
     "status": "completed"
    },
    "tags": []
   },
   "source": [
    "## Addition and removal of items"
   ]
  },
  {
   "cell_type": "code",
   "execution_count": 15,
   "metadata": {
    "papermill": {
     "duration": 0.033514,
     "end_time": "2017-11-12T14:16:50.064980",
     "exception": false,
     "start_time": "2017-11-12T14:16:50.031466",
     "status": "completed"
    },
    "tags": []
   },
   "outputs": [
    {
     "data": {
      "text/html": [
       "<div>\n",
       "<style scoped>\n",
       "    .dataframe tbody tr th:only-of-type {\n",
       "        vertical-align: middle;\n",
       "    }\n",
       "\n",
       "    .dataframe tbody tr th {\n",
       "        vertical-align: top;\n",
       "    }\n",
       "\n",
       "    .dataframe thead th {\n",
       "        text-align: right;\n",
       "    }\n",
       "</style>\n",
       "<table border=\"1\" class=\"dataframe\">\n",
       "  <thead>\n",
       "    <tr style=\"text-align: right;\">\n",
       "      <th></th>\n",
       "      <th>id</th>\n",
       "      <th>weight_x</th>\n",
       "      <th>weight_y</th>\n",
       "      <th>_merge</th>\n",
       "    </tr>\n",
       "  </thead>\n",
       "  <tbody>\n",
       "  </tbody>\n",
       "</table>\n",
       "</div>"
      ],
      "text/plain": [
       "Empty DataFrame\n",
       "Columns: [id, weight_x, weight_y, _merge]\n",
       "Index: []"
      ]
     },
     "execution_count": 15,
     "metadata": {},
     "output_type": "execute_result"
    }
   ],
   "source": [
    "# How to find removals\n",
    "pd.merge(dfs[0], dfs[1], on='id', how='outer', indicator=True).query('_merge==\"left_only\"')"
   ]
  },
  {
   "cell_type": "code",
   "execution_count": 16,
   "metadata": {
    "papermill": {
     "duration": 0.033781,
     "end_time": "2017-11-12T14:16:50.098849",
     "exception": false,
     "start_time": "2017-11-12T14:16:50.065068",
     "status": "completed"
    },
    "tags": []
   },
   "outputs": [
    {
     "data": {
      "text/html": [
       "<div>\n",
       "<style scoped>\n",
       "    .dataframe tbody tr th:only-of-type {\n",
       "        vertical-align: middle;\n",
       "    }\n",
       "\n",
       "    .dataframe tbody tr th {\n",
       "        vertical-align: top;\n",
       "    }\n",
       "\n",
       "    .dataframe thead th {\n",
       "        text-align: right;\n",
       "    }\n",
       "</style>\n",
       "<table border=\"1\" class=\"dataframe\">\n",
       "  <thead>\n",
       "    <tr style=\"text-align: right;\">\n",
       "      <th></th>\n",
       "      <th>id</th>\n",
       "      <th>weight_x</th>\n",
       "      <th>weight_y</th>\n",
       "      <th>_merge</th>\n",
       "    </tr>\n",
       "  </thead>\n",
       "  <tbody>\n",
       "    <tr>\n",
       "      <th>14</th>\n",
       "      <td>ec/spec_helper.rb</td>\n",
       "      <td>NaN</td>\n",
       "      <td>66</td>\n",
       "      <td>right_only</td>\n",
       "    </tr>\n",
       "    <tr>\n",
       "      <th>15</th>\n",
       "      <td>ec/javascripts/support/jasmine.yml</td>\n",
       "      <td>NaN</td>\n",
       "      <td>76</td>\n",
       "      <td>right_only</td>\n",
       "    </tr>\n",
       "    <tr>\n",
       "      <th>16</th>\n",
       "      <td>ec/javascripts/helpers/SpecHelper.js</td>\n",
       "      <td>NaN</td>\n",
       "      <td>9</td>\n",
       "      <td>right_only</td>\n",
       "    </tr>\n",
       "    <tr>\n",
       "      <th>17</th>\n",
       "      <td>n/rspec</td>\n",
       "      <td>NaN</td>\n",
       "      <td>16</td>\n",
       "      <td>right_only</td>\n",
       "    </tr>\n",
       "    <tr>\n",
       "      <th>18</th>\n",
       "      <td>n/autospec</td>\n",
       "      <td>NaN</td>\n",
       "      <td>16</td>\n",
       "      <td>right_only</td>\n",
       "    </tr>\n",
       "    <tr>\n",
       "      <th>19</th>\n",
       "      <td>/schema.rb</td>\n",
       "      <td>NaN</td>\n",
       "      <td>16</td>\n",
       "      <td>right_only</td>\n",
       "    </tr>\n",
       "    <tr>\n",
       "      <th>20</th>\n",
       "      <td>ec/javascripts/support/jasmine_helper.rb</td>\n",
       "      <td>NaN</td>\n",
       "      <td>11</td>\n",
       "      <td>right_only</td>\n",
       "    </tr>\n",
       "  </tbody>\n",
       "</table>\n",
       "</div>"
      ],
      "text/plain": [
       "                                          id  weight_x  weight_y      _merge\n",
       "14                         ec/spec_helper.rb       NaN        66  right_only\n",
       "15        ec/javascripts/support/jasmine.yml       NaN        76  right_only\n",
       "16      ec/javascripts/helpers/SpecHelper.js       NaN         9  right_only\n",
       "17                                   n/rspec       NaN        16  right_only\n",
       "18                                n/autospec       NaN        16  right_only\n",
       "19                                /schema.rb       NaN        16  right_only\n",
       "20  ec/javascripts/support/jasmine_helper.rb       NaN        11  right_only"
      ]
     },
     "execution_count": 16,
     "metadata": {},
     "output_type": "execute_result"
    }
   ],
   "source": [
    "# How to find additions\n",
    "pd.merge(dfs[0], dfs[1], on='id', how='outer', indicator=True).query('_merge==\"right_only\"')\n",
    "# len(pd.merge...) to get the number of additions/deletions"
   ]
  },
  {
   "cell_type": "code",
   "execution_count": 17,
   "metadata": {
    "papermill": {
     "duration": 1.363117,
     "end_time": "2017-11-12T14:16:51.462052",
     "exception": false,
     "start_time": "2017-11-12T14:16:50.098935",
     "status": "completed"
    },
    "tags": []
   },
   "outputs": [
    {
     "data": {
      "text/plain": [
       "<matplotlib.text.Text at 0x7f80c66616a0>"
      ]
     },
     "execution_count": 17,
     "metadata": {},
     "output_type": "execute_result"
    },
    {
     "data": {
      "image/png": "[encoded data removed]",
      "text/plain": [
       "<matplotlib.figure.Figure at 0x7f80c6663400>"
      ]
     },
     "metadata": {},
     "output_type": "display_data"
    }
   ],
   "source": [
    "fig, ax = plt.subplots()\n",
    "\n",
    "n_additions = []\n",
    "n_removals = []\n",
    "for i in range(1, n_revisions):\n",
    "    n_additions.append(\n",
    "        len(pd.merge(dfs[i-1], dfs[i], on='id', how='outer', indicator=True)\n",
    "            .query('_merge==\"right_only\"')))\n",
    "    n_removals.append(\n",
    "        -len(pd.merge(dfs[i-1], dfs[i], on='id', how='outer', indicator=True)\n",
    "            .query('_merge==\"left_only\"')))\n",
    "x = range(0, n_revisions - 1)\n",
    "ax.bar(x ,n_additions, width=1, color='b')\n",
    "ax.bar(x, n_removals, width=1, color='r')\n",
    "\n",
    "fig.suptitle(\"Item change evolution\")\n",
    "plt.ylabel('Removals - Additions')\n",
    "plt.xlabel('Revision')\n",
    "\n"
   ]
  },
  {
   "cell_type": "markdown",
   "metadata": {
    "papermill": {
     "duration": 1.3e-05,
     "end_time": "2017-11-12T14:16:51.462237",
     "exception": false,
     "start_time": "2017-11-12T14:16:51.462224",
     "status": "completed"
    },
    "tags": []
   },
   "source": [
    "## Sum of cell's change in weight (stability)"
   ]
  },
  {
   "cell_type": "code",
   "execution_count": 18,
   "metadata": {
    "papermill": {
     "duration": 1.065427,
     "end_time": "2017-11-12T14:16:52.546820",
     "exception": false,
     "start_time": "2017-11-12T14:16:51.481393",
     "status": "completed"
    },
    "tags": []
   },
   "outputs": [
    {
     "data": {
      "text/plain": [
       "<matplotlib.text.Text at 0x7f80c6477b00>"
      ]
     },
     "execution_count": 18,
     "metadata": {},
     "output_type": "execute_result"
    },
    {
     "data": {
      "image/png": "[encoded data removed]",
      "text/plain": [
       "<matplotlib.figure.Figure at 0x7f80c64f0da0>"
      ]
     },
     "metadata": {},
     "output_type": "display_data"
    }
   ],
   "source": [
    "fig = plt.figure()\n",
    "change = [0.0] * n_revisions\n",
    "for index, row in df_full.fillna(0).iterrows():\n",
    "    for j in range (2, len(row)):\n",
    "        change[j-1] += abs(row[j] - row[j-1])\n",
    "\n",
    "plt.plot(change)\n",
    "fig.suptitle(\"Instability\")\n",
    "plt.ylabel('Weight change')\n",
    "plt.xlabel('Revision')\n",
    "    "
   ]
  }
 ],
 "metadata": {
  "celltoolbar": "Tags",
  "kernelspec": {
   "display_name": "Python 2",
   "language": "python",
   "name": "python2"
  },
  "language_info": {
   "codemirror_mode": {
    "name": "ipython",
    "version": 3
   },
   "file_extension": ".py",
   "mimetype": "text/x-python",
   "name": "python",
   "nbconvert_exporter": "python",
   "pygments_lexer": "ipython3",
   "version": "3.5.2"
  },
  "papermill": {
   "duration": 7.646578,
   "end_time": "2017-11-12T14:16:54.009401",
   "environment_variables": {},
   "exception": false,
   "output_path": "dataset-info/earthdata-search.ipynb",
   "parameters": {
    "input_dir": "dataset/earthdata-search"
   },
   "start_time": "2017-11-12T14:16:46.362823",
   "version": "0.10.0"
  }
 },
 "nbformat": 4,
 "nbformat_minor": 1
}