{
 "cells": [
  {
   "cell_type": "markdown",
   "metadata": {},
   "source": [
    "# Dataset analysis"
   ]
  },
  {
   "cell_type": "code",
   "execution_count": 189,
   "metadata": {},
   "outputs": [],
   "source": [
    "import matplotlib.pyplot as plt\n",
    "import re, os\n",
    "%matplotlib inline"
   ]
  },
  {
   "cell_type": "code",
   "execution_count": 190,
   "metadata": {},
   "outputs": [],
   "source": [
    "# This is command line argument\n",
    "input_dir = '/home/eduardo/Desktop/TreemapStability/dataset/exo'"
   ]
  },
  {
   "cell_type": "code",
   "execution_count": 191,
   "metadata": {},
   "outputs": [],
   "source": [
    "def natural_sort(l):\n",
    "    convert = lambda text: int(text) if text.isdigit() else text.lower()\n",
    "    alphanum_key = lambda key: [convert(c) for c in re.split('([0-9]+)', key)]\n",
    "    return sorted(l, key=alphanum_key)"
   ]
  },
  {
   "cell_type": "code",
   "execution_count": 192,
   "metadata": {},
   "outputs": [
    {
     "data": {
      "text/plain": [
       "['/home/eduardo/Desktop/TreemapStability/dataset/exo/exo.0.csv',\n",
       " '/home/eduardo/Desktop/TreemapStability/dataset/exo/exo.1.csv',\n",
       " '/home/eduardo/Desktop/TreemapStability/dataset/exo/exo.2.csv',\n",
       " '/home/eduardo/Desktop/TreemapStability/dataset/exo/exo.3.csv',\n",
       " '/home/eduardo/Desktop/TreemapStability/dataset/exo/exo.4.csv']"
      ]
     },
     "execution_count": 192,
     "metadata": {},
     "output_type": "execute_result"
    }
   ],
   "source": [
    "# List files in input_dir in natural order\n",
    "files = [os.path.join(input_dir, f) for f in os.listdir(input_dir) if os.path.isfile(os.path.join(input_dir, f))]\n",
    "files = natural_sort(files)\n",
    "files[0:5]"
   ]
  },
  {
   "cell_type": "code",
   "execution_count": 193,
   "metadata": {},
   "outputs": [],
   "source": [
    "import pandas as pd\n",
    "n_revisions = len(files)\n",
    "dfs = [pd.read_csv(file) for file in files]"
   ]
  },
  {
   "cell_type": "code",
   "execution_count": 194,
   "metadata": {},
   "outputs": [
    {
     "data": {
      "text/html": [
       "<div>\n",
       "<style scoped>\n",
       "    .dataframe tbody tr th:only-of-type {\n",
       "        vertical-align: middle;\n",
       "    }\n",
       "\n",
       "    .dataframe tbody tr th {\n",
       "        vertical-align: top;\n",
       "    }\n",
       "\n",
       "    .dataframe thead th {\n",
       "        text-align: right;\n",
       "    }\n",
       "</style>\n",
       "<table border=\"1\" class=\"dataframe\">\n",
       "  <thead>\n",
       "    <tr style=\"text-align: right;\">\n",
       "      <th></th>\n",
       "      <th>id</th>\n",
       "      <th>weight</th>\n",
       "    </tr>\n",
       "  </thead>\n",
       "  <tbody>\n",
       "    <tr>\n",
       "      <th>0</th>\n",
       "      <td>library/src/main/java/com/google/android/exopl...</td>\n",
       "      <td>1269</td>\n",
       "    </tr>\n",
       "    <tr>\n",
       "      <th>1</th>\n",
       "      <td>library/src/main/java/com/google/android/exopl...</td>\n",
       "      <td>753</td>\n",
       "    </tr>\n",
       "    <tr>\n",
       "      <th>2</th>\n",
       "      <td>library/src/main/java/com/google/android/exopl...</td>\n",
       "      <td>735</td>\n",
       "    </tr>\n",
       "    <tr>\n",
       "      <th>3</th>\n",
       "      <td>library/src/main/java/com/google/android/exopl...</td>\n",
       "      <td>651</td>\n",
       "    </tr>\n",
       "    <tr>\n",
       "      <th>4</th>\n",
       "      <td>library/src/main/java/com/google/android/exopl...</td>\n",
       "      <td>579</td>\n",
       "    </tr>\n",
       "  </tbody>\n",
       "</table>\n",
       "</div>"
      ],
      "text/plain": [
       "                                                  id  weight\n",
       "0  library/src/main/java/com/google/android/exopl...    1269\n",
       "1  library/src/main/java/com/google/android/exopl...     753\n",
       "2  library/src/main/java/com/google/android/exopl...     735\n",
       "3  library/src/main/java/com/google/android/exopl...     651\n",
       "4  library/src/main/java/com/google/android/exopl...     579"
      ]
     },
     "execution_count": 194,
     "metadata": {},
     "output_type": "execute_result"
    }
   ],
   "source": [
    "dfs[0].head()"
   ]
  },
  {
   "cell_type": "code",
   "execution_count": 195,
   "metadata": {},
   "outputs": [],
   "source": [
    "from functools import reduce\n",
    "# Outer join of files  \n",
    "df_full = reduce((lambda x, y: pd.merge(x, y, how='outer', on='id')), dfs)"
   ]
  },
  {
   "cell_type": "code",
   "execution_count": 196,
   "metadata": {},
   "outputs": [],
   "source": [
    "# Rename columns\n",
    "df_full.columns = ['id'] + ['t'+str(i) for i in range(df.shape[1]-1)]"
   ]
  },
  {
   "cell_type": "code",
   "execution_count": 197,
   "metadata": {
    "scrolled": true
   },
   "outputs": [
    {
     "data": {
      "text/html": [
       "<div>\n",
       "<style scoped>\n",
       "    .dataframe tbody tr th:only-of-type {\n",
       "        vertical-align: middle;\n",
       "    }\n",
       "\n",
       "    .dataframe tbody tr th {\n",
       "        vertical-align: top;\n",
       "    }\n",
       "\n",
       "    .dataframe thead th {\n",
       "        text-align: right;\n",
       "    }\n",
       "</style>\n",
       "<table border=\"1\" class=\"dataframe\">\n",
       "  <thead>\n",
       "    <tr style=\"text-align: right;\">\n",
       "      <th></th>\n",
       "      <th>id</th>\n",
       "      <th>t0</th>\n",
       "      <th>t1</th>\n",
       "      <th>t2</th>\n",
       "      <th>t3</th>\n",
       "      <th>t4</th>\n",
       "      <th>t5</th>\n",
       "      <th>t6</th>\n",
       "      <th>t7</th>\n",
       "      <th>t8</th>\n",
       "      <th>...</th>\n",
       "      <th>t87</th>\n",
       "      <th>t88</th>\n",
       "      <th>t89</th>\n",
       "      <th>t90</th>\n",
       "      <th>t91</th>\n",
       "      <th>t92</th>\n",
       "      <th>t93</th>\n",
       "      <th>t94</th>\n",
       "      <th>t95</th>\n",
       "      <th>t96</th>\n",
       "    </tr>\n",
       "  </thead>\n",
       "  <tbody>\n",
       "    <tr>\n",
       "      <th>0</th>\n",
       "      <td>library/src/main/java/com/google/android/exopl...</td>\n",
       "      <td>1269.0</td>\n",
       "      <td>1289.0</td>\n",
       "      <td>1224.0</td>\n",
       "      <td>1183.0</td>\n",
       "      <td>1183.0</td>\n",
       "      <td>1185.0</td>\n",
       "      <td>1278.0</td>\n",
       "      <td>1278.0</td>\n",
       "      <td>1183.0</td>\n",
       "      <td>...</td>\n",
       "      <td>NaN</td>\n",
       "      <td>NaN</td>\n",
       "      <td>NaN</td>\n",
       "      <td>NaN</td>\n",
       "      <td>NaN</td>\n",
       "      <td>NaN</td>\n",
       "      <td>NaN</td>\n",
       "      <td>NaN</td>\n",
       "      <td>NaN</td>\n",
       "      <td>NaN</td>\n",
       "    </tr>\n",
       "    <tr>\n",
       "      <th>1</th>\n",
       "      <td>library/src/main/java/com/google/android/exopl...</td>\n",
       "      <td>753.0</td>\n",
       "      <td>765.0</td>\n",
       "      <td>778.0</td>\n",
       "      <td>781.0</td>\n",
       "      <td>785.0</td>\n",
       "      <td>808.0</td>\n",
       "      <td>821.0</td>\n",
       "      <td>824.0</td>\n",
       "      <td>808.0</td>\n",
       "      <td>...</td>\n",
       "      <td>NaN</td>\n",
       "      <td>NaN</td>\n",
       "      <td>NaN</td>\n",
       "      <td>NaN</td>\n",
       "      <td>NaN</td>\n",
       "      <td>NaN</td>\n",
       "      <td>NaN</td>\n",
       "      <td>NaN</td>\n",
       "      <td>NaN</td>\n",
       "      <td>NaN</td>\n",
       "    </tr>\n",
       "    <tr>\n",
       "      <th>2</th>\n",
       "      <td>library/src/main/java/com/google/android/exopl...</td>\n",
       "      <td>735.0</td>\n",
       "      <td>738.0</td>\n",
       "      <td>742.0</td>\n",
       "      <td>779.0</td>\n",
       "      <td>779.0</td>\n",
       "      <td>780.0</td>\n",
       "      <td>797.0</td>\n",
       "      <td>798.0</td>\n",
       "      <td>780.0</td>\n",
       "      <td>...</td>\n",
       "      <td>NaN</td>\n",
       "      <td>NaN</td>\n",
       "      <td>NaN</td>\n",
       "      <td>NaN</td>\n",
       "      <td>NaN</td>\n",
       "      <td>NaN</td>\n",
       "      <td>NaN</td>\n",
       "      <td>NaN</td>\n",
       "      <td>NaN</td>\n",
       "      <td>NaN</td>\n",
       "    </tr>\n",
       "    <tr>\n",
       "      <th>3</th>\n",
       "      <td>library/src/main/java/com/google/android/exopl...</td>\n",
       "      <td>651.0</td>\n",
       "      <td>651.0</td>\n",
       "      <td>651.0</td>\n",
       "      <td>690.0</td>\n",
       "      <td>709.0</td>\n",
       "      <td>709.0</td>\n",
       "      <td>709.0</td>\n",
       "      <td>719.0</td>\n",
       "      <td>709.0</td>\n",
       "      <td>...</td>\n",
       "      <td>NaN</td>\n",
       "      <td>NaN</td>\n",
       "      <td>NaN</td>\n",
       "      <td>NaN</td>\n",
       "      <td>NaN</td>\n",
       "      <td>NaN</td>\n",
       "      <td>NaN</td>\n",
       "      <td>NaN</td>\n",
       "      <td>NaN</td>\n",
       "      <td>NaN</td>\n",
       "    </tr>\n",
       "    <tr>\n",
       "      <th>4</th>\n",
       "      <td>library/src/main/java/com/google/android/exopl...</td>\n",
       "      <td>579.0</td>\n",
       "      <td>579.0</td>\n",
       "      <td>579.0</td>\n",
       "      <td>579.0</td>\n",
       "      <td>599.0</td>\n",
       "      <td>601.0</td>\n",
       "      <td>601.0</td>\n",
       "      <td>595.0</td>\n",
       "      <td>601.0</td>\n",
       "      <td>...</td>\n",
       "      <td>NaN</td>\n",
       "      <td>NaN</td>\n",
       "      <td>NaN</td>\n",
       "      <td>NaN</td>\n",
       "      <td>NaN</td>\n",
       "      <td>NaN</td>\n",
       "      <td>NaN</td>\n",
       "      <td>NaN</td>\n",
       "      <td>NaN</td>\n",
       "      <td>NaN</td>\n",
       "    </tr>\n",
       "  </tbody>\n",
       "</table>\n",
       "<p>5 rows × 98 columns</p>\n",
       "</div>"
      ],
      "text/plain": [
       "                                                  id      t0      t1      t2  \\\n",
       "0  library/src/main/java/com/google/android/exopl...  1269.0  1289.0  1224.0   \n",
       "1  library/src/main/java/com/google/android/exopl...   753.0   765.0   778.0   \n",
       "2  library/src/main/java/com/google/android/exopl...   735.0   738.0   742.0   \n",
       "3  library/src/main/java/com/google/android/exopl...   651.0   651.0   651.0   \n",
       "4  library/src/main/java/com/google/android/exopl...   579.0   579.0   579.0   \n",
       "\n",
       "       t3      t4      t5      t6      t7      t8 ...   t87  t88  t89  t90  \\\n",
       "0  1183.0  1183.0  1185.0  1278.0  1278.0  1183.0 ...   NaN  NaN  NaN  NaN   \n",
       "1   781.0   785.0   808.0   821.0   824.0   808.0 ...   NaN  NaN  NaN  NaN   \n",
       "2   779.0   779.0   780.0   797.0   798.0   780.0 ...   NaN  NaN  NaN  NaN   \n",
       "3   690.0   709.0   709.0   709.0   719.0   709.0 ...   NaN  NaN  NaN  NaN   \n",
       "4   579.0   599.0   601.0   601.0   595.0   601.0 ...   NaN  NaN  NaN  NaN   \n",
       "\n",
       "   t91  t92  t93  t94  t95  t96  \n",
       "0  NaN  NaN  NaN  NaN  NaN  NaN  \n",
       "1  NaN  NaN  NaN  NaN  NaN  NaN  \n",
       "2  NaN  NaN  NaN  NaN  NaN  NaN  \n",
       "3  NaN  NaN  NaN  NaN  NaN  NaN  \n",
       "4  NaN  NaN  NaN  NaN  NaN  NaN  \n",
       "\n",
       "[5 rows x 98 columns]"
      ]
     },
     "execution_count": 197,
     "metadata": {},
     "output_type": "execute_result"
    }
   ],
   "source": [
    "df_full.head()"
   ]
  },
  {
   "cell_type": "code",
   "execution_count": 198,
   "metadata": {},
   "outputs": [],
   "source": [
    "from collections import defaultdict\n",
    "import networkx as nx\n",
    "\n",
    "FILE_MARKER = '<files>'\n",
    "\n",
    "def attach(branch, trunk):\n",
    "    parts = branch.split('/', 1)\n",
    "    if len(parts) == 1:  # branch is a file\n",
    "        trunk[FILE_MARKER].append(parts[0])\n",
    "    else:\n",
    "        node, others = parts\n",
    "        if node not in trunk:\n",
    "            trunk[node] = defaultdict(dict, ((FILE_MARKER, []),))\n",
    "        attach(others, trunk[node])\n",
    "\n",
    "def build_adjacency_list(d, id, result):\n",
    "    for key in d.keys():\n",
    "        if key != FILE_MARKER:\n",
    "            result.append((id, id + key))\n",
    "            build_adjacency_list(d[key], id + key, result)\n",
    "        else:\n",
    "            for file in d[key]:\n",
    "                result.append((id, id + file))\n",
    "\n",
    "        \n",
    "def plot_tree(id_list):\n",
    "    \n",
    "    keys = sorted(id_list)\n",
    "\n",
    "    main_dict = defaultdict(dict, ((FILE_MARKER, []),))\n",
    "    for line in keys:\n",
    "        attach(line, main_dict)\n",
    "\n",
    "    # _create adjacency list\n",
    "    result = []\n",
    "    build_adjacency_list(main_dict, \"ROOT\", result)\n",
    "\n",
    "    G = nx.DiGraph()\n",
    "    G.add_edges_from(result)\n",
    "    # write dot file to use with graphviz\n",
    "    # run \"dot -_tpng test.dot >test.png\"\n",
    "    # nx.nx_agraph.write_dot(_g, 'test.dot')\n",
    "\n",
    "    # same layout using matplotlib with no labels\n",
    "    pos = nx.nx_agraph.graphviz_layout(G, prog='dot')\n",
    "    nx.draw(G, pos, with_labels=False, arrows=False, node_size=2)\n",
    "\n"
   ]
  },
  {
   "cell_type": "markdown",
   "metadata": {},
   "source": [
    "## Union tree of all revisions"
   ]
  },
  {
   "cell_type": "code",
   "execution_count": 199,
   "metadata": {
    "scrolled": true
   },
   "outputs": [
    {
     "data": {
      "image/png": "[encoded data removed]",
      "text/plain": [
       "<matplotlib.figure.Figure at 0x7f02bb71aef0>"
      ]
     },
     "metadata": {},
     "output_type": "display_data"
    }
   ],
   "source": [
    "fig = plt.figure(figsize=(5,5))\n",
    "plt.axis('off')\n",
    "plot_tree(df_full['id'].tolist())"
   ]
  },
  {
   "cell_type": "markdown",
   "metadata": {},
   "source": [
    "# Evolution"
   ]
  },
  {
   "cell_type": "markdown",
   "metadata": {},
   "source": [
    "## Items count"
   ]
  },
  {
   "cell_type": "code",
   "execution_count": 200,
   "metadata": {},
   "outputs": [
    {
     "data": {
      "text/plain": [
       "[<matplotlib.lines.Line2D at 0x7f02a7e57668>]"
      ]
     },
     "execution_count": 200,
     "metadata": {},
     "output_type": "execute_result"
    },
    {
     "data": {
      "image/png": "[encoded data removed]",
      "text/plain": [
       "<matplotlib.figure.Figure at 0x7f02bb92d5f8>"
      ]
     },
     "metadata": {},
     "output_type": "display_data"
    }
   ],
   "source": [
    "n_items = [len(df) for df in dfs]\n",
    "plt.plot(n_items)"
   ]
  },
  {
   "cell_type": "markdown",
   "metadata": {},
   "source": [
    "## Weight count"
   ]
  },
  {
   "cell_type": "code",
   "execution_count": 201,
   "metadata": {},
   "outputs": [
    {
     "data": {
      "text/plain": [
       "[<matplotlib.lines.Line2D at 0x7f02bb63b518>]"
      ]
     },
     "execution_count": 201,
     "metadata": {},
     "output_type": "execute_result"
    },
    {
     "data": {
      "image/png": "[encoded data removed]",
      "text/plain": [
       "<matplotlib.figure.Figure at 0x7f02a77d5c88>"
      ]
     },
     "metadata": {},
     "output_type": "display_data"
    }
   ],
   "source": [
    "total_weight = [sum(df['weight']) for df in dfs]\n",
    "plt.plot(total_weight)"
   ]
  },
  {
   "cell_type": "markdown",
   "metadata": {},
   "source": [
    "## Addition and removal of items"
   ]
  },
  {
   "cell_type": "code",
   "execution_count": 202,
   "metadata": {},
   "outputs": [
    {
     "data": {
      "text/html": [
       "<div>\n",
       "<style scoped>\n",
       "    .dataframe tbody tr th:only-of-type {\n",
       "        vertical-align: middle;\n",
       "    }\n",
       "\n",
       "    .dataframe tbody tr th {\n",
       "        vertical-align: top;\n",
       "    }\n",
       "\n",
       "    .dataframe thead th {\n",
       "        text-align: right;\n",
       "    }\n",
       "</style>\n",
       "<table border=\"1\" class=\"dataframe\">\n",
       "  <thead>\n",
       "    <tr style=\"text-align: right;\">\n",
       "      <th></th>\n",
       "      <th>id</th>\n",
       "      <th>weight_x</th>\n",
       "      <th>weight_y</th>\n",
       "      <th>_merge</th>\n",
       "    </tr>\n",
       "  </thead>\n",
       "  <tbody>\n",
       "    <tr>\n",
       "      <th>76</th>\n",
       "      <td>library/src/main/java/com/google/android/exopl...</td>\n",
       "      <td>81.0</td>\n",
       "      <td>NaN</td>\n",
       "      <td>left_only</td>\n",
       "    </tr>\n",
       "    <tr>\n",
       "      <th>100</th>\n",
       "      <td>library/src/main/java/com/google/android/exopl...</td>\n",
       "      <td>49.0</td>\n",
       "      <td>NaN</td>\n",
       "      <td>left_only</td>\n",
       "    </tr>\n",
       "  </tbody>\n",
       "</table>\n",
       "</div>"
      ],
      "text/plain": [
       "                                                    id  weight_x  weight_y  \\\n",
       "76   library/src/main/java/com/google/android/exopl...      81.0       NaN   \n",
       "100  library/src/main/java/com/google/android/exopl...      49.0       NaN   \n",
       "\n",
       "        _merge  \n",
       "76   left_only  \n",
       "100  left_only  "
      ]
     },
     "execution_count": 202,
     "metadata": {},
     "output_type": "execute_result"
    }
   ],
   "source": [
    "# How to find removals\n",
    "pd.merge(dfs[0], dfs[1], on='id', how='outer', indicator=True).query('_merge==\"left_only\"')"
   ]
  },
  {
   "cell_type": "code",
   "execution_count": 203,
   "metadata": {},
   "outputs": [
    {
     "data": {
      "text/html": [
       "<div>\n",
       "<style scoped>\n",
       "    .dataframe tbody tr th:only-of-type {\n",
       "        vertical-align: middle;\n",
       "    }\n",
       "\n",
       "    .dataframe tbody tr th {\n",
       "        vertical-align: top;\n",
       "    }\n",
       "\n",
       "    .dataframe thead th {\n",
       "        text-align: right;\n",
       "    }\n",
       "</style>\n",
       "<table border=\"1\" class=\"dataframe\">\n",
       "  <thead>\n",
       "    <tr style=\"text-align: right;\">\n",
       "      <th></th>\n",
       "      <th>id</th>\n",
       "      <th>weight_x</th>\n",
       "      <th>weight_y</th>\n",
       "      <th>_merge</th>\n",
       "    </tr>\n",
       "  </thead>\n",
       "  <tbody>\n",
       "    <tr>\n",
       "      <th>145</th>\n",
       "      <td>library/src/main/java/com/google/android/exopl...</td>\n",
       "      <td>NaN</td>\n",
       "      <td>558.0</td>\n",
       "      <td>right_only</td>\n",
       "    </tr>\n",
       "    <tr>\n",
       "      <th>146</th>\n",
       "      <td>library/src/main/java/com/google/android/exopl...</td>\n",
       "      <td>NaN</td>\n",
       "      <td>427.0</td>\n",
       "      <td>right_only</td>\n",
       "    </tr>\n",
       "    <tr>\n",
       "      <th>147</th>\n",
       "      <td>library/src/main/java/com/google/android/exopl...</td>\n",
       "      <td>NaN</td>\n",
       "      <td>313.0</td>\n",
       "      <td>right_only</td>\n",
       "    </tr>\n",
       "    <tr>\n",
       "      <th>148</th>\n",
       "      <td>library/src/main/java/com/google/android/exopl...</td>\n",
       "      <td>NaN</td>\n",
       "      <td>164.0</td>\n",
       "      <td>right_only</td>\n",
       "    </tr>\n",
       "    <tr>\n",
       "      <th>149</th>\n",
       "      <td>library/src/main/java/com/google/android/exopl...</td>\n",
       "      <td>NaN</td>\n",
       "      <td>138.0</td>\n",
       "      <td>right_only</td>\n",
       "    </tr>\n",
       "    <tr>\n",
       "      <th>150</th>\n",
       "      <td>library/src/main/java/com/google/android/exopl...</td>\n",
       "      <td>NaN</td>\n",
       "      <td>77.0</td>\n",
       "      <td>right_only</td>\n",
       "    </tr>\n",
       "    <tr>\n",
       "      <th>151</th>\n",
       "      <td>library/src/main/java/com/google/android/exopl...</td>\n",
       "      <td>NaN</td>\n",
       "      <td>120.0</td>\n",
       "      <td>right_only</td>\n",
       "    </tr>\n",
       "    <tr>\n",
       "      <th>152</th>\n",
       "      <td>library/src/main/java/com/google/android/exopl...</td>\n",
       "      <td>NaN</td>\n",
       "      <td>73.0</td>\n",
       "      <td>right_only</td>\n",
       "    </tr>\n",
       "  </tbody>\n",
       "</table>\n",
       "</div>"
      ],
      "text/plain": [
       "                                                    id  weight_x  weight_y  \\\n",
       "145  library/src/main/java/com/google/android/exopl...       NaN     558.0   \n",
       "146  library/src/main/java/com/google/android/exopl...       NaN     427.0   \n",
       "147  library/src/main/java/com/google/android/exopl...       NaN     313.0   \n",
       "148  library/src/main/java/com/google/android/exopl...       NaN     164.0   \n",
       "149  library/src/main/java/com/google/android/exopl...       NaN     138.0   \n",
       "150  library/src/main/java/com/google/android/exopl...       NaN      77.0   \n",
       "151  library/src/main/java/com/google/android/exopl...       NaN     120.0   \n",
       "152  library/src/main/java/com/google/android/exopl...       NaN      73.0   \n",
       "\n",
       "         _merge  \n",
       "145  right_only  \n",
       "146  right_only  \n",
       "147  right_only  \n",
       "148  right_only  \n",
       "149  right_only  \n",
       "150  right_only  \n",
       "151  right_only  \n",
       "152  right_only  "
      ]
     },
     "execution_count": 203,
     "metadata": {},
     "output_type": "execute_result"
    }
   ],
   "source": [
    "# How to find additions\n",
    "pd.merge(dfs[0], dfs[1], on='id', how='outer', indicator=True).query('_merge==\"right_only\"')\n",
    "# len(pd.merge...) to get the number of additions/deletions"
   ]
  },
  {
   "cell_type": "code",
   "execution_count": 204,
   "metadata": {},
   "outputs": [],
   "source": [
    "n_additions = []\n",
    "n_removals = []\n",
    "for i in range(1, n_revisions):\n",
    "    n_additions.append(\n",
    "        len(pd.merge(dfs[i-1], dfs[i], on='id', how='outer', indicator=True)\n",
    "            .query('_merge==\"right_only\"')))\n",
    "    n_removals.append(\n",
    "        -len(pd.merge(dfs[i-1], dfs[i], on='id', how='outer', indicator=True)\n",
    "            .query('_merge==\"left_only\"')))"
   ]
  },
  {
   "cell_type": "code",
   "execution_count": 205,
   "metadata": {},
   "outputs": [
    {
     "data": {
      "text/plain": [
       "<Container object of 96 artists>"
      ]
     },
     "execution_count": 205,
     "metadata": {},
     "output_type": "execute_result"
    },
    {
     "data": {
      "image/png": "[encoded data removed]",
      "text/plain": [
       "<matplotlib.figure.Figure at 0x7f02a79f7c50>"
      ]
     },
     "metadata": {},
     "output_type": "display_data"
    }
   ],
   "source": [
    "fig = plt.figure()\n",
    "ax = plt.subplot()\n",
    "x = range(0, n_revisions - 1)\n",
    "ax.bar(x ,n_additions, width=1, color='b')\n",
    "ax.bar(x, n_removals, width=1, color='r')"
   ]
  },
  {
   "cell_type": "markdown",
   "metadata": {},
   "source": [
    "## Sum of cell's change in weight (stability)"
   ]
  },
  {
   "cell_type": "code",
   "execution_count": 206,
   "metadata": {},
   "outputs": [],
   "source": [
    "# Fill not a number with zeros\n",
    "df_full.fillna(0, inplace=True)"
   ]
  },
  {
   "cell_type": "code",
   "execution_count": 207,
   "metadata": {},
   "outputs": [
    {
     "data": {
      "text/plain": [
       "[<matplotlib.lines.Line2D at 0x7f02a7d0dcc0>]"
      ]
     },
     "execution_count": 207,
     "metadata": {},
     "output_type": "execute_result"
    },
    {
     "data": {
      "image/png": "[encoded data removed]",
      "text/plain": [
       "<matplotlib.figure.Figure at 0x7f02a69a75f8>"
      ]
     },
     "metadata": {},
     "output_type": "display_data"
    }
   ],
   "source": [
    "change = [0.0] * n_revisions\n",
    "for index, row in df_full.iterrows():\n",
    "    for j in range (2, len(row)):\n",
    "        change[j-1] += abs(row[j] - row[j-1])\n",
    "        \n",
    "plt.plot(change)"
   ]
  }
 ],
 "metadata": {
  "kernelspec": {
   "display_name": "Python 2",
   "language": "python",
   "name": "python2"
  },
  "language_info": {
   "codemirror_mode": {
    "name": "ipython",
    "version": 3
   },
   "file_extension": ".py",
   "mimetype": "text/x-python",
   "name": "python",
   "nbconvert_exporter": "python",
   "pygments_lexer": "ipython3",
   "version": "3.5.2"
  }
 },
 "nbformat": 4,
 "nbformat_minor": 1
}
